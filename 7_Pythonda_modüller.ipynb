{
 "cells": [
  {
   "cell_type": "markdown",
   "id": "87fdb576",
   "metadata": {},
   "source": [
    "# Python Modüller"
   ]
  },
  {
   "cell_type": "markdown",
   "id": "ac319ea4",
   "metadata": {},
   "source": [
    "Python'da modüller, belirli işlevleri gerçekleştirmek amacıyla yeniden kullanılabilir kod parçalarını içeren dosyalardır. Python, kodları daha düzenli ve sürdürülebilir hale getirmek amacıyla bu yapıyı desteklemektedir.Modüller  sayesinde bir kez yazılan işlevler, diğer projelerde kullanılabilir. Python, hem yerleşik modülleri (standart kütüphane) hem de dış modülleri destekler."
   ]
  },
  {
   "cell_type": "markdown",
   "id": "92c38a5a",
   "metadata": {},
   "source": [
    "### Modül Nedir?\n",
    "Bir modül, fonksiyonlar, sınıflar ve değişkenler gibi bileşenlerin bir araya getirildiği bir Python dosyasıdır. Bir .py uzantılı dosya, Python’da bir modül olarak kabul edilir. Bu modüller programlara dışarıdan dahil edilerek kullanılır."
   ]
  },
  {
   "cell_type": "markdown",
   "id": "10c65192",
   "metadata": {},
   "source": [
    "## Modül Kullanma (İçeri Aktarma)\n",
    "Bir modülü kullanmak için import ifadesi kullanılır. İstediğiniz modülü projenize dahil ettikten sonra, o modülün içindeki fonksiyonları ve sınıfları kullanabilirsiniz.\n",
    "\n",
    "### Örnek 1: Python'un Standart Modüllerini Kullanma\n",
    "Python, zengin bir standart kütüphaneye sahiptir. Örneğin, math modülü matematiksel işlemleri yapmanızı sağlar."
   ]
  },
  {
   "cell_type": "code",
   "execution_count": 2,
   "id": "f6ebb1b5",
   "metadata": {},
   "outputs": [
    {
     "name": "stdout",
     "output_type": "stream",
     "text": [
      "3.141592653589793\n",
      "4.0\n",
      "6\n"
     ]
    }
   ],
   "source": [
    "import math\n",
    "\n",
    "\n",
    "print(math.pi)         \n",
    "print(math.sqrt(16))   \n",
    "print(math.factorial(3))"
   ]
  },
  {
   "cell_type": "markdown",
   "id": "4fff2fdb",
   "metadata": {},
   "source": [
    "Genellikle python'da modülllerin kullanılması için çağırılması gerekmektedir. Anaconda üzerinde çoğu modül kurulu gelirken pycharm gibi ek uygulamalarda kendiniz modülleri yüklemeniz gerekebilir"
   ]
  },
  {
   "cell_type": "markdown",
   "id": "ea27a522",
   "metadata": {},
   "source": [
    "# Modül Yükleme"
   ]
  },
  {
   "cell_type": "code",
   "execution_count": 3,
   "id": "b38ca5a8",
   "metadata": {},
   "outputs": [
    {
     "name": "stdout",
     "output_type": "stream",
     "text": [
      "Note: you may need to restart the kernel to use updated packages.\n"
     ]
    },
    {
     "name": "stderr",
     "output_type": "stream",
     "text": [
      "ERROR: Could not find a version that satisfies the requirement modul_adi (from versions: none)\n",
      "ERROR: No matching distribution found for modul_adi\n"
     ]
    }
   ],
   "source": [
    "pip install modul_adi"
   ]
  },
  {
   "cell_type": "markdown",
   "id": "7578d824",
   "metadata": {},
   "source": [
    "Modül kurulduktan sonra import etmek amacıyla import paket_modül_adi şeklinde tanımlanmalıdır. "
   ]
  },
  {
   "cell_type": "markdown",
   "id": "255ea106",
   "metadata": {},
   "source": [
    "### PYCHARM ÜZERİNDE MODÜL YÜKLENMESİ"
   ]
  },
  {
   "cell_type": "markdown",
   "id": "82a905c8",
   "metadata": {},
   "source": [
    "file>settings>project intrepreter>sağ taraftaki + işaretine tıklayıp kurulacak modülün adı yazılır ardından modülün kurulum işlemi için install pakage seçeneği seçilir."
   ]
  },
  {
   "cell_type": "markdown",
   "id": "3533394d",
   "metadata": {},
   "source": [
    "#### ÖRNEKLER"
   ]
  },
  {
   "cell_type": "code",
   "execution_count": 5,
   "id": "e7b744c8",
   "metadata": {},
   "outputs": [
    {
     "data": {
      "text/plain": [
       "2.0"
      ]
     },
     "execution_count": 5,
     "metadata": {},
     "output_type": "execute_result"
    }
   ],
   "source": [
    "import math\n",
    "math.log10(100)"
   ]
  },
  {
   "cell_type": "code",
   "execution_count": 6,
   "id": "f5a66861",
   "metadata": {},
   "outputs": [
    {
     "data": {
      "text/plain": [
       "2.0"
      ]
     },
     "execution_count": 6,
     "metadata": {},
     "output_type": "execute_result"
    }
   ],
   "source": [
    "import math as mt\n",
    "mt.log10(100)"
   ]
  },
  {
   "cell_type": "code",
   "execution_count": 7,
   "id": "7986272a",
   "metadata": {},
   "outputs": [],
   "source": [
    "from math import log10 as lg"
   ]
  },
  {
   "cell_type": "code",
   "execution_count": 8,
   "id": "fdbf8ef1",
   "metadata": {},
   "outputs": [
    {
     "data": {
      "text/plain": [
       "4.301029995663981"
      ]
     },
     "execution_count": 8,
     "metadata": {},
     "output_type": "execute_result"
    }
   ],
   "source": [
    "lg(100)+lg(200)"
   ]
  },
  {
   "cell_type": "markdown",
   "id": "f6625bab",
   "metadata": {},
   "source": [
    "### Kendi Modülünüzü Yazmak"
   ]
  },
  {
   "cell_type": "markdown",
   "id": "7a78dd2f",
   "metadata": {},
   "source": [
    "Kendi modüllerinizi yazmak da mümkündür. Bunun için, başka bir .py dosyası oluşturup, içerisinde fonksiyonlar ve sınıflar tanımlayabilirsiniz.\n",
    "\n"
   ]
  },
  {
   "cell_type": "markdown",
   "id": "859d76c1",
   "metadata": {},
   "source": [
    "### Örnek: Kendi Modülünüzü Yazmak\n",
    "hesaplama.py isimli bir modül dosyası oluşturalım:"
   ]
  },
  {
   "cell_type": "code",
   "execution_count": 12,
   "id": "ddf2ce1d",
   "metadata": {},
   "outputs": [],
   "source": [
    "# hesaplama.py\n",
    "def topla(a, b):\n",
    "    return a + b\n",
    "\n",
    "def carp(a, b):\n",
    "    return a * b\n"
   ]
  },
  {
   "cell_type": "raw",
   "id": "3c44a96b",
   "metadata": {},
   "source": [
    "import hesaplama\n",
    "\n",
    "print(hesaplama.topla(3, 5))\n",
    "print(hesaplama.carp(4, 6)) "
   ]
  },
  {
   "cell_type": "markdown",
   "id": "915b70c9",
   "metadata": {},
   "source": [
    "### Örnek"
   ]
  },
  {
   "cell_type": "markdown",
   "id": "163dfb51",
   "metadata": {},
   "source": [
    "kuvvetler.py adlı bir dosya oluşturalım"
   ]
  },
  {
   "cell_type": "code",
   "execution_count": 14,
   "id": "6eb5827b",
   "metadata": {},
   "outputs": [],
   "source": [
    "def kare(x):\n",
    "    return x**2\n",
    "def kup(x):\n",
    "    return x**3\n",
    "def kok(x):\n",
    "    return x**0.5\n",
    "def us(x,y):\n",
    "    return(x,y)"
   ]
  },
  {
   "cell_type": "raw",
   "id": "914aed45",
   "metadata": {},
   "source": [
    "import kuvvetler\n",
    "kareAl(4)"
   ]
  },
  {
   "cell_type": "markdown",
   "id": "f821c3bc",
   "metadata": {},
   "source": [
    "# Python Standart Modülleri\n",
    "Python'un standart kütüphanesi birçok modül içerir. İşte yaygın kullanılan birkaç modül:\n",
    "\n",
    "### math:\n",
    "Matematiksel işlemler.\n",
    "### random: \n",
    "Rastgele sayı üretimi.\n",
    "### datetime: \n",
    "Tarih ve saat işlemleri.\n",
    "### os: \n",
    "İşletim sistemi ile ilgili işlemler.\n",
    "### sys: \n",
    "Python yorumlayıcısı ile ilgili işlemler.\n",
    "### json: \n",
    "JSON formatında veri işleme."
   ]
  },
  {
   "cell_type": "code",
   "execution_count": null,
   "id": "33d8ad4f",
   "metadata": {},
   "outputs": [],
   "source": []
  }
 ],
 "metadata": {
  "kernelspec": {
   "display_name": "Python 3 (ipykernel)",
   "language": "python",
   "name": "python3"
  },
  "language_info": {
   "codemirror_mode": {
    "name": "ipython",
    "version": 3
   },
   "file_extension": ".py",
   "mimetype": "text/x-python",
   "name": "python",
   "nbconvert_exporter": "python",
   "pygments_lexer": "ipython3",
   "version": "3.9.13"
  }
 },
 "nbformat": 4,
 "nbformat_minor": 5
}
