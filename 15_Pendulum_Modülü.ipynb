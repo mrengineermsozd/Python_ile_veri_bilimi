{
 "cells": [
  {
   "cell_type": "markdown",
   "id": "25ff00d7",
   "metadata": {},
   "source": [
    "# Pendulum Modülü"
   ]
  },
  {
   "cell_type": "markdown",
   "id": "c27e3bef",
   "metadata": {},
   "source": [
    "Pendulum, Python'un datetime modülüne alternatif olarak geliştirilmiş, zaman ve tarih işlemlerini daha kolay ve kullanışlı bir şekilde gerçekleştiren bir kütüphanedir. Özellikle zaman dilimi (timezone) işlemleri ve zaman farkı hesaplamalarında oldukça kullanışlıdır."
   ]
  },
  {
   "cell_type": "markdown",
   "id": "48bff7d0",
   "metadata": {},
   "source": [
    "## Özellikleri:\n",
    "### 1)Zaman Dilimi Yönetimi:\n",
    "Kolayca farklı zaman dilimlerine göre zaman oluşturabilir ve çevrim yapabilirsiniz.\n",
    "### 2)Doğal Dil Formatlama:\n",
    "Tarihleri ve zamanları insan okuyabilir şekilde biçimlendirme imkânı sunar.\n",
    "### 3)Zengin Fonksiyonellik:\n",
    "Saat farkı hesaplama, ileri/geri tarih oluşturma gibi işlevleri içerir.\n",
    "### 4)Tarihsel Doğruluk:\n",
    "Yaz saati (daylight saving time) gibi durumları otomatik olarak ele alır."
   ]
  },
  {
   "cell_type": "markdown",
   "id": "423b82d6",
   "metadata": {},
   "source": [
    "## Pendulum ile Temel İşlemler\n",
    "### 1. Kurulum\n",
    "Pendulum kütüphanesini yüklemek için:"
   ]
  },
  {
   "cell_type": "code",
   "execution_count": 1,
   "id": "d1a2e928",
   "metadata": {},
   "outputs": [
    {
     "name": "stdout",
     "output_type": "stream",
     "text": [
      "Collecting pendulum\n",
      "  Downloading pendulum-3.0.0-cp39-none-win_amd64.whl (293 kB)\n",
      "     -------------------------------------- 293.7/293.7 kB 1.3 MB/s eta 0:00:00\n",
      "Requirement already satisfied: python-dateutil>=2.6 in c:\\users\\asus\\anaconda3\\lib\\site-packages (from pendulum) (2.8.2)\n",
      "Collecting time-machine>=2.6.0\n",
      "  Downloading time_machine-2.16.0-cp39-cp39-win_amd64.whl (19 kB)\n",
      "Collecting tzdata>=2020.1\n",
      "  Downloading tzdata-2024.2-py2.py3-none-any.whl (346 kB)\n",
      "     -------------------------------------- 346.6/346.6 kB 2.4 MB/s eta 0:00:00\n",
      "Requirement already satisfied: six>=1.5 in c:\\users\\asus\\anaconda3\\lib\\site-packages (from python-dateutil>=2.6->pendulum) (1.16.0)\n",
      "Installing collected packages: tzdata, time-machine, pendulum\n",
      "Successfully installed pendulum-3.0.0 time-machine-2.16.0 tzdata-2024.2\n",
      "Note: you may need to restart the kernel to use updated packages.\n"
     ]
    }
   ],
   "source": [
    "pip install pendulum"
   ]
  },
  {
   "cell_type": "markdown",
   "id": "75ded416",
   "metadata": {},
   "source": [
    "### 2. Pendulum ile Zaman ve Tarih İşlemleri\n",
    "## Örnekler:\n",
    "\n",
    "Şu Anki Zamanı Almak"
   ]
  },
  {
   "cell_type": "code",
   "execution_count": 2,
   "id": "dd13f66c",
   "metadata": {},
   "outputs": [
    {
     "name": "stdout",
     "output_type": "stream",
     "text": [
      "Şu an: 2024-11-19 20:16:41.806378+03:00\n"
     ]
    }
   ],
   "source": [
    "import pendulum\n",
    "\n",
    "# Şu anki zamanı al\n",
    "now = pendulum.now()\n",
    "print(f\"Şu an: {now}\")"
   ]
  },
  {
   "cell_type": "markdown",
   "id": "a644f343",
   "metadata": {},
   "source": [
    "Belirli Bir Zaman Diliminde Zaman Oluşturmak\n"
   ]
  },
  {
   "cell_type": "code",
   "execution_count": 6,
   "id": "a7920598",
   "metadata": {},
   "outputs": [
    {
     "name": "stdout",
     "output_type": "stream",
     "text": [
      "Tokyo: 2024-11-20 02:19:41.166874+09:00\n",
      "Londra: 2024-11-19 17:19:41.166874+00:00\n"
     ]
    }
   ],
   "source": [
    "tokyo_time=pendulum.now(\"Asia/Tokyo\")\n",
    "london_time=pendulum.now(\"Europe/London\")\n",
    "\n",
    "print(f\"Tokyo: {tokyo_time}\")\n",
    "print(f\"Londra: {london_time}\")"
   ]
  },
  {
   "cell_type": "markdown",
   "id": "725a672f",
   "metadata": {},
   "source": [
    "İki Zaman Arasındaki Farkı Hesaplamak"
   ]
  },
  {
   "cell_type": "code",
   "execution_count": 7,
   "id": "3c1ec6c5",
   "metadata": {},
   "outputs": [
    {
     "name": "stdout",
     "output_type": "stream",
     "text": [
      "Saat farkı: 0 saat\n"
     ]
    }
   ],
   "source": [
    "zaman_farki = tokyo_time - london_time\n",
    "print(f\"Saat farkı: {zaman_farki.in_hours()} saat\")"
   ]
  },
  {
   "cell_type": "markdown",
   "id": "17b7b5b5",
   "metadata": {},
   "source": [
    "Zaman ekleme ve çıkarma"
   ]
  },
  {
   "cell_type": "code",
   "execution_count": 10,
   "id": "f09581b4",
   "metadata": {},
   "outputs": [
    {
     "name": "stdout",
     "output_type": "stream",
     "text": [
      "5 gün sonra 2024-11-24 20:22:04.506620+03:00\n"
     ]
    }
   ],
   "source": [
    "gelecek=pendulum.now().add(days=5)\n",
    "print(f\"5 gün sonra {gelecek}\")"
   ]
  },
  {
   "cell_type": "code",
   "execution_count": 11,
   "id": "99e1cf9a",
   "metadata": {},
   "outputs": [
    {
     "name": "stdout",
     "output_type": "stream",
     "text": [
      "4 gün 2 saat ömce: 2024-11-15 18:23:07.513151+03:00\n"
     ]
    }
   ],
   "source": [
    "gecmis=pendulum.now().subtract(days=4,hours=2)\n",
    "print(f\"4 gün 2 saat ömce: {gecmis}\")"
   ]
  },
  {
   "cell_type": "markdown",
   "id": "836b99f4",
   "metadata": {},
   "source": [
    "İnsan okuyabilir biçimde gösterim"
   ]
  },
  {
   "cell_type": "code",
   "execution_count": 13,
   "id": "fc146c31",
   "metadata": {},
   "outputs": [
    {
     "name": "stdout",
     "output_type": "stream",
     "text": [
      "in 1 day\n"
     ]
    }
   ],
   "source": [
    "gelecek=pendulum.now().add(days=1)\n",
    "print(gelecek.diff_for_humans())"
   ]
  },
  {
   "cell_type": "markdown",
   "id": "5e4f2ceb",
   "metadata": {},
   "source": [
    "# Pendulum'da .timezone"
   ]
  },
  {
   "cell_type": "markdown",
   "id": "17743527",
   "metadata": {},
   "source": [
    "Pendulum, zaman dilimi işlemlerini oldukça kolaylaştırır ve .timezone ile bir Pendulum nesnesine atanmış zaman dilimini döndürebilir."
   ]
  },
  {
   "cell_type": "markdown",
   "id": "82d2536b",
   "metadata": {},
   "source": [
    "### 1. Zaman Dilimini Belirleme"
   ]
  },
  {
   "cell_type": "code",
   "execution_count": 14,
   "id": "795c6534",
   "metadata": {},
   "outputs": [
    {
     "name": "stdout",
     "output_type": "stream",
     "text": [
      "Asia/Tokyo\n"
     ]
    }
   ],
   "source": [
    "tokyo_time=pendulum.now(\"Asia/Tokyo\")\n",
    "print(tokyo_time.timezone.name)"
   ]
  },
  {
   "cell_type": "markdown",
   "id": "57ce4a84",
   "metadata": {},
   "source": [
    "### 2. Varsayılan Zaman Dilimini Değiştirme"
   ]
  },
  {
   "cell_type": "markdown",
   "id": "74b326e3",
   "metadata": {},
   "source": [
    "Pendulum’da bir zaman dilimi atanmışsa, otomatik olarak işlemler bu zaman dilimine göre yapılır:"
   ]
  },
  {
   "cell_type": "code",
   "execution_count": 17,
   "id": "3cb48cab",
   "metadata": {},
   "outputs": [
    {
     "ename": "TypeError",
     "evalue": "tzinfo argument must be None or of a tzinfo subclass, not type 'str'",
     "output_type": "error",
     "traceback": [
      "\u001b[1;31m---------------------------------------------------------------------------\u001b[0m",
      "\u001b[1;31mTypeError\u001b[0m                                 Traceback (most recent call last)",
      "\u001b[1;32m~\\AppData\\Local\\Temp\\ipykernel_13296\\2594559590.py\u001b[0m in \u001b[0;36m<module>\u001b[1;34m\u001b[0m\n\u001b[0;32m      1\u001b[0m \u001b[0mpendulum\u001b[0m\u001b[1;33m.\u001b[0m\u001b[0mset_local_timezone\u001b[0m\u001b[1;33m(\u001b[0m\u001b[1;34m\"Europe/Istanbul\"\u001b[0m\u001b[1;33m)\u001b[0m\u001b[1;33m\u001b[0m\u001b[1;33m\u001b[0m\u001b[0m\n\u001b[1;32m----> 2\u001b[1;33m \u001b[0mistanbul_time\u001b[0m \u001b[1;33m=\u001b[0m \u001b[0mpendulum\u001b[0m\u001b[1;33m.\u001b[0m\u001b[0mnow\u001b[0m\u001b[1;33m(\u001b[0m\u001b[1;33m)\u001b[0m\u001b[1;33m\u001b[0m\u001b[1;33m\u001b[0m\u001b[0m\n\u001b[0m\u001b[0;32m      3\u001b[0m \u001b[0mprint\u001b[0m\u001b[1;33m(\u001b[0m\u001b[0mistanbul_time\u001b[0m\u001b[1;33m)\u001b[0m\u001b[1;33m\u001b[0m\u001b[1;33m\u001b[0m\u001b[0m\n\u001b[0;32m      4\u001b[0m \u001b[0mprint\u001b[0m\u001b[1;33m(\u001b[0m\u001b[0mistanbul_time\u001b[0m\u001b[1;33m.\u001b[0m\u001b[0mtimezone\u001b[0m\u001b[1;33m.\u001b[0m\u001b[0mname\u001b[0m\u001b[1;33m)\u001b[0m  \u001b[1;31m# \"Europe/Istanbul\"\u001b[0m\u001b[1;33m\u001b[0m\u001b[1;33m\u001b[0m\u001b[0m\n",
      "\u001b[1;32m~\\anaconda3\\lib\\site-packages\\pendulum\\__init__.py\u001b[0m in \u001b[0;36mnow\u001b[1;34m(tz)\u001b[0m\n\u001b[0;32m    249\u001b[0m     \u001b[0mGet\u001b[0m \u001b[0ma\u001b[0m \u001b[0mDateTime\u001b[0m \u001b[0minstance\u001b[0m \u001b[1;32mfor\u001b[0m \u001b[0mthe\u001b[0m \u001b[0mcurrent\u001b[0m \u001b[0mdate\u001b[0m \u001b[1;32mand\u001b[0m \u001b[0mtime\u001b[0m\u001b[1;33m.\u001b[0m\u001b[1;33m\u001b[0m\u001b[1;33m\u001b[0m\u001b[0m\n\u001b[0;32m    250\u001b[0m     \"\"\"\n\u001b[1;32m--> 251\u001b[1;33m     \u001b[1;32mreturn\u001b[0m \u001b[0mDateTime\u001b[0m\u001b[1;33m.\u001b[0m\u001b[0mnow\u001b[0m\u001b[1;33m(\u001b[0m\u001b[0mtz\u001b[0m\u001b[1;33m)\u001b[0m\u001b[1;33m\u001b[0m\u001b[1;33m\u001b[0m\u001b[0m\n\u001b[0m\u001b[0;32m    252\u001b[0m \u001b[1;33m\u001b[0m\u001b[0m\n\u001b[0;32m    253\u001b[0m \u001b[1;33m\u001b[0m\u001b[0m\n",
      "\u001b[1;32m~\\anaconda3\\lib\\site-packages\\pendulum\\datetime.py\u001b[0m in \u001b[0;36mnow\u001b[1;34m(cls, tz)\u001b[0m\n\u001b[0;32m    163\u001b[0m         \"\"\"\n\u001b[0;32m    164\u001b[0m         \u001b[1;32mif\u001b[0m \u001b[0mtz\u001b[0m \u001b[1;32mis\u001b[0m \u001b[1;32mNone\u001b[0m \u001b[1;32mor\u001b[0m \u001b[0mtz\u001b[0m \u001b[1;33m==\u001b[0m \u001b[1;34m\"local\"\u001b[0m\u001b[1;33m:\u001b[0m\u001b[1;33m\u001b[0m\u001b[1;33m\u001b[0m\u001b[0m\n\u001b[1;32m--> 165\u001b[1;33m             \u001b[0mdt\u001b[0m \u001b[1;33m=\u001b[0m \u001b[0mdatetime\u001b[0m\u001b[1;33m.\u001b[0m\u001b[0mdatetime\u001b[0m\u001b[1;33m.\u001b[0m\u001b[0mnow\u001b[0m\u001b[1;33m(\u001b[0m\u001b[0mlocal_timezone\u001b[0m\u001b[1;33m(\u001b[0m\u001b[1;33m)\u001b[0m\u001b[1;33m)\u001b[0m\u001b[1;33m\u001b[0m\u001b[1;33m\u001b[0m\u001b[0m\n\u001b[0m\u001b[0;32m    166\u001b[0m         \u001b[1;32melif\u001b[0m \u001b[0mtz\u001b[0m \u001b[1;32mis\u001b[0m \u001b[0mUTC\u001b[0m \u001b[1;32mor\u001b[0m \u001b[0mtz\u001b[0m \u001b[1;33m==\u001b[0m \u001b[1;34m\"UTC\"\u001b[0m\u001b[1;33m:\u001b[0m\u001b[1;33m\u001b[0m\u001b[1;33m\u001b[0m\u001b[0m\n\u001b[0;32m    167\u001b[0m             \u001b[0mdt\u001b[0m \u001b[1;33m=\u001b[0m \u001b[0mdatetime\u001b[0m\u001b[1;33m.\u001b[0m\u001b[0mdatetime\u001b[0m\u001b[1;33m.\u001b[0m\u001b[0mnow\u001b[0m\u001b[1;33m(\u001b[0m\u001b[0mUTC\u001b[0m\u001b[1;33m)\u001b[0m\u001b[1;33m\u001b[0m\u001b[1;33m\u001b[0m\u001b[0m\n",
      "\u001b[1;31mTypeError\u001b[0m: tzinfo argument must be None or of a tzinfo subclass, not type 'str'"
     ]
    }
   ],
   "source": [
    "pendulum.set_local_timezone(\"Europe/Istanbul\")\n",
    "istanbul_time = pendulum.now()\n",
    "print(istanbul_time)\n",
    "print(istanbul_time.timezone.name)  # \"Europe/Istanbul\""
   ]
  },
  {
   "cell_type": "code",
   "execution_count": 32,
   "id": "7bc03eab",
   "metadata": {},
   "outputs": [
    {
     "name": "stdout",
     "output_type": "stream",
     "text": [
      "[DateTime(2022, 12, 12, 0, 0, 0, tzinfo=Timezone('Europe/Istanbul')), DateTime(2021, 12, 12, 0, 0, 0, tzinfo=Timezone('Europe/Istanbul')), DateTime(2023, 12, 12, 0, 0, 0, tzinfo=Timezone('Europe/Istanbul'))]\n",
      "2022-12-11 22:00:00+01:00\n",
      "2021-12-11 22:00:00+01:00\n",
      "2023-12-11 22:00:00+01:00\n"
     ]
    }
   ],
   "source": [
    "tarih_listesi = [ '2022-12-12',\n",
    "                  '2021-12-12',\n",
    "                  '2023-12-12' ]\n",
    "import pendulum\n",
    "\n",
    "pendulum_liste = []\n",
    "\n",
    "for tarih in tarih_listesi:\n",
    "      tar = pendulum.parse(tarih, tz = 'Europe/Istanbul')\n",
    "      pendulum_liste.append(tar)\n",
    "print(pendulum_liste)\n",
    "\n",
    "for pend_tarih in pendulum_liste:\n",
    "      print(pend_tarih.in_timezone('Europe/Paris'))"
   ]
  },
  {
   "cell_type": "code",
   "execution_count": 33,
   "id": "76b50dab",
   "metadata": {},
   "outputs": [
    {
     "name": "stdout",
     "output_type": "stream",
     "text": [
      "2022-12-12 00:00:00+03:00 2023-12-12 00:00:00+03:00\n"
     ]
    }
   ],
   "source": [
    "tarih1=pendulum_liste[0]\n",
    "tarih2=pendulum_liste[2]\n",
    "print(tarih1,tarih2)"
   ]
  },
  {
   "cell_type": "code",
   "execution_count": 34,
   "id": "24c10663",
   "metadata": {},
   "outputs": [
    {
     "name": "stdout",
     "output_type": "stream",
     "text": [
      "<Interval [2022-12-12 00:00:00+03:00 -> 2023-12-12 00:00:00+03:00]>\n"
     ]
    }
   ],
   "source": [
    "fark=tarih2-tarih1\n",
    "print(fark)"
   ]
  },
  {
   "cell_type": "code",
   "execution_count": 35,
   "id": "cebdf805",
   "metadata": {},
   "outputs": [
    {
     "name": "stdout",
     "output_type": "stream",
     "text": [
      "8760\n"
     ]
    }
   ],
   "source": [
    "print(fark.in_hours())"
   ]
  },
  {
   "cell_type": "code",
   "execution_count": 36,
   "id": "8d1f3221",
   "metadata": {},
   "outputs": [
    {
     "name": "stdout",
     "output_type": "stream",
     "text": [
      "365\n"
     ]
    }
   ],
   "source": [
    "print(fark.in_days())"
   ]
  },
  {
   "cell_type": "code",
   "execution_count": 37,
   "id": "94d11bdf",
   "metadata": {},
   "outputs": [
    {
     "name": "stdout",
     "output_type": "stream",
     "text": [
      "52\n"
     ]
    }
   ],
   "source": [
    "print(fark.in_weeks())"
   ]
  },
  {
   "cell_type": "code",
   "execution_count": 38,
   "id": "995fb399",
   "metadata": {},
   "outputs": [
    {
     "name": "stdout",
     "output_type": "stream",
     "text": [
      "12\n"
     ]
    }
   ],
   "source": [
    "print(fark.in_months())"
   ]
  },
  {
   "cell_type": "code",
   "execution_count": 40,
   "id": "babda90d",
   "metadata": {},
   "outputs": [
    {
     "name": "stdout",
     "output_type": "stream",
     "text": [
      "525600\n"
     ]
    }
   ],
   "source": [
    "print(fark.in_minutes())"
   ]
  },
  {
   "cell_type": "code",
   "execution_count": 41,
   "id": "5271c62e",
   "metadata": {},
   "outputs": [
    {
     "name": "stdout",
     "output_type": "stream",
     "text": [
      "1 year\n"
     ]
    }
   ],
   "source": [
    "print(fark.in_words())"
   ]
  },
  {
   "cell_type": "code",
   "execution_count": 42,
   "id": "2f3bde6e",
   "metadata": {},
   "outputs": [
    {
     "name": "stdout",
     "output_type": "stream",
     "text": [
      "31536000\n"
     ]
    }
   ],
   "source": [
    "print(fark.in_seconds())"
   ]
  },
  {
   "cell_type": "code",
   "execution_count": 44,
   "id": "2cfeaec0",
   "metadata": {},
   "outputs": [
    {
     "name": "stdout",
     "output_type": "stream",
     "text": [
      "Collecting yfinance\n",
      "  Downloading yfinance-0.2.49-py2.py3-none-any.whl (101 kB)\n",
      "     ------------------------------------ 101.1/101.1 kB 966.2 kB/s eta 0:00:00\n",
      "Requirement already satisfied: beautifulsoup4>=4.11.1 in c:\\users\\asus\\anaconda3\\lib\\site-packages (from yfinance) (4.11.1)\n",
      "Collecting peewee>=3.16.2\n",
      "  Downloading peewee-3.17.8.tar.gz (948 kB)\n",
      "     -------------------------------------- 948.2/948.2 kB 3.2 MB/s eta 0:00:00\n",
      "  Installing build dependencies: started\n",
      "  Installing build dependencies: finished with status 'done'\n",
      "  Getting requirements to build wheel: started\n",
      "  Getting requirements to build wheel: finished with status 'done'\n",
      "  Preparing metadata (pyproject.toml): started\n",
      "  Preparing metadata (pyproject.toml): finished with status 'done'\n",
      "Collecting pytz>=2022.5\n",
      "  Using cached pytz-2024.2-py2.py3-none-any.whl (508 kB)\n",
      "Collecting frozendict>=2.3.4\n",
      "  Downloading frozendict-2.4.6-cp39-cp39-win_amd64.whl (37 kB)\n",
      "Requirement already satisfied: requests>=2.31 in c:\\users\\asus\\anaconda3\\lib\\site-packages (from yfinance) (2.32.3)\n",
      "Requirement already satisfied: lxml>=4.9.1 in c:\\users\\asus\\anaconda3\\lib\\site-packages (from yfinance) (4.9.1)\n",
      "Requirement already satisfied: platformdirs>=2.0.0 in c:\\users\\asus\\anaconda3\\lib\\site-packages (from yfinance) (2.5.2)\n",
      "Collecting html5lib>=1.1\n",
      "  Using cached html5lib-1.1-py2.py3-none-any.whl (112 kB)\n",
      "Requirement already satisfied: pandas>=1.3.0 in c:\\users\\asus\\anaconda3\\lib\\site-packages (from yfinance) (1.4.4)\n",
      "Requirement already satisfied: numpy>=1.16.5 in c:\\users\\asus\\anaconda3\\lib\\site-packages (from yfinance) (1.21.5)\n",
      "Collecting multitasking>=0.0.7\n",
      "  Downloading multitasking-0.0.11-py3-none-any.whl (8.5 kB)\n",
      "Requirement already satisfied: soupsieve>1.2 in c:\\users\\asus\\anaconda3\\lib\\site-packages (from beautifulsoup4>=4.11.1->yfinance) (2.3.1)\n",
      "Requirement already satisfied: webencodings in c:\\users\\asus\\anaconda3\\lib\\site-packages (from html5lib>=1.1->yfinance) (0.5.1)\n",
      "Requirement already satisfied: six>=1.9 in c:\\users\\asus\\anaconda3\\lib\\site-packages (from html5lib>=1.1->yfinance) (1.16.0)\n",
      "Requirement already satisfied: python-dateutil>=2.8.1 in c:\\users\\asus\\anaconda3\\lib\\site-packages (from pandas>=1.3.0->yfinance) (2.8.2)\n",
      "Requirement already satisfied: charset-normalizer<4,>=2 in c:\\users\\asus\\anaconda3\\lib\\site-packages (from requests>=2.31->yfinance) (2.0.4)\n",
      "Requirement already satisfied: certifi>=2017.4.17 in c:\\users\\asus\\anaconda3\\lib\\site-packages (from requests>=2.31->yfinance) (2022.9.24)\n",
      "Requirement already satisfied: urllib3<3,>=1.21.1 in c:\\users\\asus\\anaconda3\\lib\\site-packages (from requests>=2.31->yfinance) (1.22)\n",
      "Requirement already satisfied: idna<4,>=2.5 in c:\\users\\asus\\anaconda3\\lib\\site-packages (from requests>=2.31->yfinance) (2.6)\n",
      "Building wheels for collected packages: peewee\n",
      "  Building wheel for peewee (pyproject.toml): started\n",
      "  Building wheel for peewee (pyproject.toml): finished with status 'done'\n",
      "  Created wheel for peewee: filename=peewee-3.17.8-py3-none-any.whl size=139013 sha256=19e3ffd7381535d7722bb54c4ef7544717abbd884cef913403f995e11211c7ec\n",
      "  Stored in directory: c:\\users\\asus\\appdata\\local\\pip\\cache\\wheels\\06\\b3\\7f\\ed42a7c83ad89f578928833f5789212c694a015b8bd6a407a1\n",
      "Successfully built peewee\n",
      "Installing collected packages: pytz, peewee, multitasking, html5lib, frozendict, yfinance\n",
      "  Attempting uninstall: pytz\n",
      "    Found existing installation: pytz 2022.1\n",
      "    Uninstalling pytz-2022.1:\n",
      "      Successfully uninstalled pytz-2022.1\n",
      "Successfully installed frozendict-2.4.6 html5lib-1.1 multitasking-0.0.11 peewee-3.17.8 pytz-2024.2 yfinance-0.2.49\n",
      "Note: you may need to restart the kernel to use updated packages.\n"
     ]
    },
    {
     "name": "stderr",
     "output_type": "stream",
     "text": [
      "ERROR: pip's dependency resolver does not currently take into account all the packages that are installed. This behaviour is the source of the following dependency conflicts.\n",
      "conda-repo-cli 1.0.20 requires clyent==1.2.1, but you have clyent 1.2.2 which is incompatible.\n",
      "conda-repo-cli 1.0.20 requires nbformat==5.4.0, but you have nbformat 5.5.0 which is incompatible.\n",
      "conda-repo-cli 1.0.20 requires requests==2.28.1, but you have requests 2.32.3 which is incompatible.\n",
      "anaconda-client 1.11.0 requires urllib3>=1.26.4, but you have urllib3 1.22 which is incompatible.\n"
     ]
    }
   ],
   "source": [
    "pip install yfinance"
   ]
  },
  {
   "cell_type": "markdown",
   "id": "422d334a",
   "metadata": {},
   "source": [
    "# Pandas ile Tarih işlemleri"
   ]
  },
  {
   "cell_type": "code",
   "execution_count": 1,
   "id": "8b4a14b9",
   "metadata": {},
   "outputs": [
    {
     "name": "stdout",
     "output_type": "stream",
     "text": [
      "Tesla verileri CSV dosyası olarak kaydedildi.\n"
     ]
    }
   ],
   "source": [
    "import yfinance as yf\n",
    "\n",
    "\n",
    "# Tesla'nın simgesi (ticker) 'TSLA'\n",
    "tesla = yf.Ticker(\"TSLA\")\n",
    "\n",
    "# Verileri belirli bir tarih aralığında çekme (örn: 2023 yılı)\n",
    "data = tesla.history(period=\"1y\")  # Son bir yılın verileri\n",
    "\n",
    "# CSV olarak kaydetme\n",
    "data.to_csv(\"tesla_data.csv\")\n",
    "\n",
    "print(\"Tesla verileri CSV dosyası olarak kaydedildi.\")"
   ]
  },
  {
   "cell_type": "code",
   "execution_count": 2,
   "id": "fe6f3846",
   "metadata": {},
   "outputs": [],
   "source": [
    "import pandas as pd\n",
    "tesla=pd.read_csv(\"tesla_data.csv\")"
   ]
  },
  {
   "cell_type": "code",
   "execution_count": 3,
   "id": "13b94cf2",
   "metadata": {},
   "outputs": [
    {
     "data": {
      "text/html": [
       "<div>\n",
       "<style scoped>\n",
       "    .dataframe tbody tr th:only-of-type {\n",
       "        vertical-align: middle;\n",
       "    }\n",
       "\n",
       "    .dataframe tbody tr th {\n",
       "        vertical-align: top;\n",
       "    }\n",
       "\n",
       "    .dataframe thead th {\n",
       "        text-align: right;\n",
       "    }\n",
       "</style>\n",
       "<table border=\"1\" class=\"dataframe\">\n",
       "  <thead>\n",
       "    <tr style=\"text-align: right;\">\n",
       "      <th></th>\n",
       "      <th>Date</th>\n",
       "      <th>Open</th>\n",
       "      <th>High</th>\n",
       "      <th>Low</th>\n",
       "      <th>Close</th>\n",
       "      <th>Volume</th>\n",
       "      <th>Dividends</th>\n",
       "      <th>Stock Splits</th>\n",
       "    </tr>\n",
       "  </thead>\n",
       "  <tbody>\n",
       "    <tr>\n",
       "      <th>0</th>\n",
       "      <td>2023-11-20 00:00:00-05:00</td>\n",
       "      <td>234.039993</td>\n",
       "      <td>237.100006</td>\n",
       "      <td>231.020004</td>\n",
       "      <td>235.600006</td>\n",
       "      <td>116320100</td>\n",
       "      <td>0.0</td>\n",
       "      <td>0.0</td>\n",
       "    </tr>\n",
       "    <tr>\n",
       "      <th>1</th>\n",
       "      <td>2023-11-21 00:00:00-05:00</td>\n",
       "      <td>235.039993</td>\n",
       "      <td>243.619995</td>\n",
       "      <td>233.339996</td>\n",
       "      <td>241.199997</td>\n",
       "      <td>122288000</td>\n",
       "      <td>0.0</td>\n",
       "      <td>0.0</td>\n",
       "    </tr>\n",
       "    <tr>\n",
       "      <th>2</th>\n",
       "      <td>2023-11-22 00:00:00-05:00</td>\n",
       "      <td>242.039993</td>\n",
       "      <td>244.009995</td>\n",
       "      <td>231.399994</td>\n",
       "      <td>234.210007</td>\n",
       "      <td>117950600</td>\n",
       "      <td>0.0</td>\n",
       "      <td>0.0</td>\n",
       "    </tr>\n",
       "    <tr>\n",
       "      <th>3</th>\n",
       "      <td>2023-11-24 00:00:00-05:00</td>\n",
       "      <td>233.750000</td>\n",
       "      <td>238.750000</td>\n",
       "      <td>232.330002</td>\n",
       "      <td>235.449997</td>\n",
       "      <td>65125200</td>\n",
       "      <td>0.0</td>\n",
       "      <td>0.0</td>\n",
       "    </tr>\n",
       "    <tr>\n",
       "      <th>4</th>\n",
       "      <td>2023-11-27 00:00:00-05:00</td>\n",
       "      <td>236.889999</td>\n",
       "      <td>238.330002</td>\n",
       "      <td>232.100006</td>\n",
       "      <td>236.080002</td>\n",
       "      <td>112031800</td>\n",
       "      <td>0.0</td>\n",
       "      <td>0.0</td>\n",
       "    </tr>\n",
       "  </tbody>\n",
       "</table>\n",
       "</div>"
      ],
      "text/plain": [
       "                        Date        Open        High         Low       Close  \\\n",
       "0  2023-11-20 00:00:00-05:00  234.039993  237.100006  231.020004  235.600006   \n",
       "1  2023-11-21 00:00:00-05:00  235.039993  243.619995  233.339996  241.199997   \n",
       "2  2023-11-22 00:00:00-05:00  242.039993  244.009995  231.399994  234.210007   \n",
       "3  2023-11-24 00:00:00-05:00  233.750000  238.750000  232.330002  235.449997   \n",
       "4  2023-11-27 00:00:00-05:00  236.889999  238.330002  232.100006  236.080002   \n",
       "\n",
       "      Volume  Dividends  Stock Splits  \n",
       "0  116320100        0.0           0.0  \n",
       "1  122288000        0.0           0.0  \n",
       "2  117950600        0.0           0.0  \n",
       "3   65125200        0.0           0.0  \n",
       "4  112031800        0.0           0.0  "
      ]
     },
     "execution_count": 3,
     "metadata": {},
     "output_type": "execute_result"
    }
   ],
   "source": [
    "tesla.head()"
   ]
  },
  {
   "cell_type": "code",
   "execution_count": 4,
   "id": "eb010df8",
   "metadata": {},
   "outputs": [
    {
     "data": {
      "text/html": [
       "<div>\n",
       "<style scoped>\n",
       "    .dataframe tbody tr th:only-of-type {\n",
       "        vertical-align: middle;\n",
       "    }\n",
       "\n",
       "    .dataframe tbody tr th {\n",
       "        vertical-align: top;\n",
       "    }\n",
       "\n",
       "    .dataframe thead th {\n",
       "        text-align: right;\n",
       "    }\n",
       "</style>\n",
       "<table border=\"1\" class=\"dataframe\">\n",
       "  <thead>\n",
       "    <tr style=\"text-align: right;\">\n",
       "      <th></th>\n",
       "      <th>Date</th>\n",
       "      <th>Open</th>\n",
       "      <th>High</th>\n",
       "      <th>Low</th>\n",
       "      <th>Close</th>\n",
       "      <th>Volume</th>\n",
       "      <th>Dividends</th>\n",
       "      <th>Stock Splits</th>\n",
       "    </tr>\n",
       "    <tr>\n",
       "      <th>Date</th>\n",
       "      <th></th>\n",
       "      <th></th>\n",
       "      <th></th>\n",
       "      <th></th>\n",
       "      <th></th>\n",
       "      <th></th>\n",
       "      <th></th>\n",
       "      <th></th>\n",
       "    </tr>\n",
       "  </thead>\n",
       "  <tbody>\n",
       "    <tr>\n",
       "      <th>2023-11-20 00:00:00-05:00</th>\n",
       "      <td>2023-11-20 00:00:00-05:00</td>\n",
       "      <td>234.039993</td>\n",
       "      <td>237.100006</td>\n",
       "      <td>231.020004</td>\n",
       "      <td>235.600006</td>\n",
       "      <td>116320100</td>\n",
       "      <td>0.0</td>\n",
       "      <td>0.0</td>\n",
       "    </tr>\n",
       "    <tr>\n",
       "      <th>2023-11-21 00:00:00-05:00</th>\n",
       "      <td>2023-11-21 00:00:00-05:00</td>\n",
       "      <td>235.039993</td>\n",
       "      <td>243.619995</td>\n",
       "      <td>233.339996</td>\n",
       "      <td>241.199997</td>\n",
       "      <td>122288000</td>\n",
       "      <td>0.0</td>\n",
       "      <td>0.0</td>\n",
       "    </tr>\n",
       "    <tr>\n",
       "      <th>2023-11-22 00:00:00-05:00</th>\n",
       "      <td>2023-11-22 00:00:00-05:00</td>\n",
       "      <td>242.039993</td>\n",
       "      <td>244.009995</td>\n",
       "      <td>231.399994</td>\n",
       "      <td>234.210007</td>\n",
       "      <td>117950600</td>\n",
       "      <td>0.0</td>\n",
       "      <td>0.0</td>\n",
       "    </tr>\n",
       "    <tr>\n",
       "      <th>2023-11-24 00:00:00-05:00</th>\n",
       "      <td>2023-11-24 00:00:00-05:00</td>\n",
       "      <td>233.750000</td>\n",
       "      <td>238.750000</td>\n",
       "      <td>232.330002</td>\n",
       "      <td>235.449997</td>\n",
       "      <td>65125200</td>\n",
       "      <td>0.0</td>\n",
       "      <td>0.0</td>\n",
       "    </tr>\n",
       "    <tr>\n",
       "      <th>2023-11-27 00:00:00-05:00</th>\n",
       "      <td>2023-11-27 00:00:00-05:00</td>\n",
       "      <td>236.889999</td>\n",
       "      <td>238.330002</td>\n",
       "      <td>232.100006</td>\n",
       "      <td>236.080002</td>\n",
       "      <td>112031800</td>\n",
       "      <td>0.0</td>\n",
       "      <td>0.0</td>\n",
       "    </tr>\n",
       "  </tbody>\n",
       "</table>\n",
       "</div>"
      ],
      "text/plain": [
       "                                                Date        Open        High  \\\n",
       "Date                                                                           \n",
       "2023-11-20 00:00:00-05:00  2023-11-20 00:00:00-05:00  234.039993  237.100006   \n",
       "2023-11-21 00:00:00-05:00  2023-11-21 00:00:00-05:00  235.039993  243.619995   \n",
       "2023-11-22 00:00:00-05:00  2023-11-22 00:00:00-05:00  242.039993  244.009995   \n",
       "2023-11-24 00:00:00-05:00  2023-11-24 00:00:00-05:00  233.750000  238.750000   \n",
       "2023-11-27 00:00:00-05:00  2023-11-27 00:00:00-05:00  236.889999  238.330002   \n",
       "\n",
       "                                  Low       Close     Volume  Dividends  \\\n",
       "Date                                                                      \n",
       "2023-11-20 00:00:00-05:00  231.020004  235.600006  116320100        0.0   \n",
       "2023-11-21 00:00:00-05:00  233.339996  241.199997  122288000        0.0   \n",
       "2023-11-22 00:00:00-05:00  231.399994  234.210007  117950600        0.0   \n",
       "2023-11-24 00:00:00-05:00  232.330002  235.449997   65125200        0.0   \n",
       "2023-11-27 00:00:00-05:00  232.100006  236.080002  112031800        0.0   \n",
       "\n",
       "                           Stock Splits  \n",
       "Date                                     \n",
       "2023-11-20 00:00:00-05:00           0.0  \n",
       "2023-11-21 00:00:00-05:00           0.0  \n",
       "2023-11-22 00:00:00-05:00           0.0  \n",
       "2023-11-24 00:00:00-05:00           0.0  \n",
       "2023-11-27 00:00:00-05:00           0.0  "
      ]
     },
     "execution_count": 4,
     "metadata": {},
     "output_type": "execute_result"
    }
   ],
   "source": [
    "tesla.index=tesla['Date']\n",
    "tesla.index.name='Date'\n",
    "tesla.head(5)"
   ]
  },
  {
   "cell_type": "code",
   "execution_count": 5,
   "id": "cfcf0b85",
   "metadata": {},
   "outputs": [
    {
     "data": {
      "text/html": [
       "<div>\n",
       "<style scoped>\n",
       "    .dataframe tbody tr th:only-of-type {\n",
       "        vertical-align: middle;\n",
       "    }\n",
       "\n",
       "    .dataframe tbody tr th {\n",
       "        vertical-align: top;\n",
       "    }\n",
       "\n",
       "    .dataframe thead th {\n",
       "        text-align: right;\n",
       "    }\n",
       "</style>\n",
       "<table border=\"1\" class=\"dataframe\">\n",
       "  <thead>\n",
       "    <tr style=\"text-align: right;\">\n",
       "      <th></th>\n",
       "      <th>Open</th>\n",
       "      <th>High</th>\n",
       "      <th>Low</th>\n",
       "      <th>Close</th>\n",
       "      <th>Volume</th>\n",
       "      <th>Dividends</th>\n",
       "      <th>Stock Splits</th>\n",
       "    </tr>\n",
       "    <tr>\n",
       "      <th>Date</th>\n",
       "      <th></th>\n",
       "      <th></th>\n",
       "      <th></th>\n",
       "      <th></th>\n",
       "      <th></th>\n",
       "      <th></th>\n",
       "      <th></th>\n",
       "    </tr>\n",
       "  </thead>\n",
       "  <tbody>\n",
       "    <tr>\n",
       "      <th>2023-11-20 00:00:00-05:00</th>\n",
       "      <td>234.039993</td>\n",
       "      <td>237.100006</td>\n",
       "      <td>231.020004</td>\n",
       "      <td>235.600006</td>\n",
       "      <td>116320100</td>\n",
       "      <td>0.0</td>\n",
       "      <td>0.0</td>\n",
       "    </tr>\n",
       "    <tr>\n",
       "      <th>2023-11-21 00:00:00-05:00</th>\n",
       "      <td>235.039993</td>\n",
       "      <td>243.619995</td>\n",
       "      <td>233.339996</td>\n",
       "      <td>241.199997</td>\n",
       "      <td>122288000</td>\n",
       "      <td>0.0</td>\n",
       "      <td>0.0</td>\n",
       "    </tr>\n",
       "    <tr>\n",
       "      <th>2023-11-22 00:00:00-05:00</th>\n",
       "      <td>242.039993</td>\n",
       "      <td>244.009995</td>\n",
       "      <td>231.399994</td>\n",
       "      <td>234.210007</td>\n",
       "      <td>117950600</td>\n",
       "      <td>0.0</td>\n",
       "      <td>0.0</td>\n",
       "    </tr>\n",
       "    <tr>\n",
       "      <th>2023-11-24 00:00:00-05:00</th>\n",
       "      <td>233.750000</td>\n",
       "      <td>238.750000</td>\n",
       "      <td>232.330002</td>\n",
       "      <td>235.449997</td>\n",
       "      <td>65125200</td>\n",
       "      <td>0.0</td>\n",
       "      <td>0.0</td>\n",
       "    </tr>\n",
       "    <tr>\n",
       "      <th>2023-11-27 00:00:00-05:00</th>\n",
       "      <td>236.889999</td>\n",
       "      <td>238.330002</td>\n",
       "      <td>232.100006</td>\n",
       "      <td>236.080002</td>\n",
       "      <td>112031800</td>\n",
       "      <td>0.0</td>\n",
       "      <td>0.0</td>\n",
       "    </tr>\n",
       "  </tbody>\n",
       "</table>\n",
       "</div>"
      ],
      "text/plain": [
       "                                 Open        High         Low       Close  \\\n",
       "Date                                                                        \n",
       "2023-11-20 00:00:00-05:00  234.039993  237.100006  231.020004  235.600006   \n",
       "2023-11-21 00:00:00-05:00  235.039993  243.619995  233.339996  241.199997   \n",
       "2023-11-22 00:00:00-05:00  242.039993  244.009995  231.399994  234.210007   \n",
       "2023-11-24 00:00:00-05:00  233.750000  238.750000  232.330002  235.449997   \n",
       "2023-11-27 00:00:00-05:00  236.889999  238.330002  232.100006  236.080002   \n",
       "\n",
       "                              Volume  Dividends  Stock Splits  \n",
       "Date                                                           \n",
       "2023-11-20 00:00:00-05:00  116320100        0.0           0.0  \n",
       "2023-11-21 00:00:00-05:00  122288000        0.0           0.0  \n",
       "2023-11-22 00:00:00-05:00  117950600        0.0           0.0  \n",
       "2023-11-24 00:00:00-05:00   65125200        0.0           0.0  \n",
       "2023-11-27 00:00:00-05:00  112031800        0.0           0.0  "
      ]
     },
     "execution_count": 5,
     "metadata": {},
     "output_type": "execute_result"
    }
   ],
   "source": [
    "tesla.drop('Date',axis=1,inplace=True)\n",
    "tesla.head(5)"
   ]
  },
  {
   "cell_type": "code",
   "execution_count": 6,
   "id": "5c056daa",
   "metadata": {},
   "outputs": [
    {
     "name": "stdout",
     "output_type": "stream",
     "text": [
      "<class 'pandas.core.frame.DataFrame'>\n",
      "Index: 252 entries, 2023-11-20 00:00:00-05:00 to 2024-11-19 00:00:00-05:00\n",
      "Data columns (total 7 columns):\n",
      " #   Column        Non-Null Count  Dtype  \n",
      "---  ------        --------------  -----  \n",
      " 0   Open          252 non-null    float64\n",
      " 1   High          252 non-null    float64\n",
      " 2   Low           252 non-null    float64\n",
      " 3   Close         252 non-null    float64\n",
      " 4   Volume        252 non-null    int64  \n",
      " 5   Dividends     252 non-null    float64\n",
      " 6   Stock Splits  252 non-null    float64\n",
      "dtypes: float64(6), int64(1)\n",
      "memory usage: 15.8+ KB\n"
     ]
    }
   ],
   "source": [
    "tesla=pd.read_csv(\"tesla_data.csv\",index_col='Date',parse_dates=True)\n",
    "tesla.info()"
   ]
  },
  {
   "cell_type": "code",
   "execution_count": 7,
   "id": "d79011be",
   "metadata": {},
   "outputs": [
    {
     "data": {
      "text/plain": [
       "Index([2023-11-20 00:00:00-05:00, 2023-11-21 00:00:00-05:00,\n",
       "       2023-11-22 00:00:00-05:00, 2023-11-24 00:00:00-05:00,\n",
       "       2023-11-27 00:00:00-05:00, 2023-11-28 00:00:00-05:00,\n",
       "       2023-11-29 00:00:00-05:00, 2023-11-30 00:00:00-05:00,\n",
       "       2023-12-01 00:00:00-05:00, 2023-12-04 00:00:00-05:00,\n",
       "       ...\n",
       "       2024-11-06 00:00:00-05:00, 2024-11-07 00:00:00-05:00,\n",
       "       2024-11-08 00:00:00-05:00, 2024-11-11 00:00:00-05:00,\n",
       "       2024-11-12 00:00:00-05:00, 2024-11-13 00:00:00-05:00,\n",
       "       2024-11-14 00:00:00-05:00, 2024-11-15 00:00:00-05:00,\n",
       "       2024-11-18 00:00:00-05:00, 2024-11-19 00:00:00-05:00],\n",
       "      dtype='object', name='Date', length=252)"
      ]
     },
     "execution_count": 7,
     "metadata": {},
     "output_type": "execute_result"
    }
   ],
   "source": [
    "tesla.index"
   ]
  },
  {
   "cell_type": "code",
   "execution_count": 8,
   "id": "d4ac4d34",
   "metadata": {},
   "outputs": [
    {
     "name": "stdout",
     "output_type": "stream",
     "text": [
      "Open            2.207100e+02\n",
      "High            2.222800e+02\n",
      "Low             2.192300e+02\n",
      "Close           2.207000e+02\n",
      "Volume          4.961190e+07\n",
      "Dividends       0.000000e+00\n",
      "Stock Splits    0.000000e+00\n",
      "Name: 2024-10-18 00:00:00-04:00, dtype: float64\n"
     ]
    }
   ],
   "source": [
    "try:\n",
    "    row = data.loc['2024-10-18']  # YYYY-MM-DD formatı\n",
    "    print(row)\n",
    "except KeyError:\n",
    "    print(\"Veri çerçevesinde belirtilen tarih yok.\")"
   ]
  },
  {
   "cell_type": "code",
   "execution_count": 9,
   "id": "ad468c37",
   "metadata": {},
   "outputs": [
    {
     "name": "stdout",
     "output_type": "stream",
     "text": [
      "DatetimeIndex(['2019-11-20 00:00:00-05:00', '2019-11-21 00:00:00-05:00',\n",
      "               '2019-11-22 00:00:00-05:00', '2019-11-25 00:00:00-05:00',\n",
      "               '2019-11-26 00:00:00-05:00', '2019-11-27 00:00:00-05:00',\n",
      "               '2019-11-29 00:00:00-05:00', '2019-12-02 00:00:00-05:00',\n",
      "               '2019-12-03 00:00:00-05:00', '2019-12-04 00:00:00-05:00',\n",
      "               ...\n",
      "               '2024-11-06 00:00:00-05:00', '2024-11-07 00:00:00-05:00',\n",
      "               '2024-11-08 00:00:00-05:00', '2024-11-11 00:00:00-05:00',\n",
      "               '2024-11-12 00:00:00-05:00', '2024-11-13 00:00:00-05:00',\n",
      "               '2024-11-14 00:00:00-05:00', '2024-11-15 00:00:00-05:00',\n",
      "               '2024-11-18 00:00:00-05:00', '2024-11-19 00:00:00-05:00'],\n",
      "              dtype='datetime64[ns, America/New_York]', name='Date', length=1258, freq=None)\n"
     ]
    }
   ],
   "source": [
    "tesla = yf.Ticker(\"TSLA\")\n",
    "data = tesla.history(period=\"5y\")  # 5 yıl geriye kadar olan veriler\n",
    "\n",
    "# Dizini kontrol edin\n",
    "print(data.index)"
   ]
  },
  {
   "cell_type": "code",
   "execution_count": 10,
   "id": "32c2b222",
   "metadata": {},
   "outputs": [
    {
     "name": "stdout",
     "output_type": "stream",
     "text": [
      "DatetimeIndex(['2019-11-20 00:00:00-05:00', '2019-11-21 00:00:00-05:00',\n",
      "               '2019-11-22 00:00:00-05:00', '2019-11-25 00:00:00-05:00',\n",
      "               '2019-11-26 00:00:00-05:00', '2019-11-27 00:00:00-05:00',\n",
      "               '2019-11-29 00:00:00-05:00', '2019-12-02 00:00:00-05:00',\n",
      "               '2019-12-03 00:00:00-05:00', '2019-12-04 00:00:00-05:00',\n",
      "               ...\n",
      "               '2024-11-06 00:00:00-05:00', '2024-11-07 00:00:00-05:00',\n",
      "               '2024-11-08 00:00:00-05:00', '2024-11-11 00:00:00-05:00',\n",
      "               '2024-11-12 00:00:00-05:00', '2024-11-13 00:00:00-05:00',\n",
      "               '2024-11-14 00:00:00-05:00', '2024-11-15 00:00:00-05:00',\n",
      "               '2024-11-18 00:00:00-05:00', '2024-11-19 00:00:00-05:00'],\n",
      "              dtype='datetime64[ns, America/New_York]', name='Date', length=1258, freq=None)\n"
     ]
    }
   ],
   "source": [
    "import pandas as pd\n",
    "\n",
    "# Tarih sütununu dizin olarak ayarla\n",
    "data.index = pd.to_datetime(data.index)\n",
    "\n",
    "# Formatı kontrol et\n",
    "print(data.index)"
   ]
  },
  {
   "cell_type": "code",
   "execution_count": 11,
   "id": "de12e130",
   "metadata": {},
   "outputs": [
    {
     "name": "stdout",
     "output_type": "stream",
     "text": [
      "Open            3.407300e+02\n",
      "High            3.485500e+02\n",
      "Low             3.300100e+02\n",
      "Close           3.387400e+02\n",
      "Volume          1.265475e+08\n",
      "Dividends       0.000000e+00\n",
      "Stock Splits    0.000000e+00\n",
      "Name: 2024-11-18 00:00:00-05:00, dtype: float64\n"
     ]
    }
   ],
   "source": [
    "# Standart tarih formatında sorgulama\n",
    "row = data.loc['2024-11-18']  # YYYY-MM-DD\n",
    "print(row)"
   ]
  },
  {
   "cell_type": "code",
   "execution_count": 12,
   "id": "52cb8e0c",
   "metadata": {},
   "outputs": [
    {
     "data": {
      "text/html": [
       "<div>\n",
       "<style scoped>\n",
       "    .dataframe tbody tr th:only-of-type {\n",
       "        vertical-align: middle;\n",
       "    }\n",
       "\n",
       "    .dataframe tbody tr th {\n",
       "        vertical-align: top;\n",
       "    }\n",
       "\n",
       "    .dataframe thead th {\n",
       "        text-align: right;\n",
       "    }\n",
       "</style>\n",
       "<table border=\"1\" class=\"dataframe\">\n",
       "  <thead>\n",
       "    <tr style=\"text-align: right;\">\n",
       "      <th></th>\n",
       "      <th>Open</th>\n",
       "      <th>High</th>\n",
       "      <th>Low</th>\n",
       "      <th>Close</th>\n",
       "      <th>Volume</th>\n",
       "      <th>Dividends</th>\n",
       "      <th>Stock Splits</th>\n",
       "    </tr>\n",
       "    <tr>\n",
       "      <th>Date</th>\n",
       "      <th></th>\n",
       "      <th></th>\n",
       "      <th></th>\n",
       "      <th></th>\n",
       "      <th></th>\n",
       "      <th></th>\n",
       "      <th></th>\n",
       "    </tr>\n",
       "  </thead>\n",
       "  <tbody>\n",
       "    <tr>\n",
       "      <th>2024-11-01 00:00:00-04:00</th>\n",
       "      <td>252.039993</td>\n",
       "      <td>254.000000</td>\n",
       "      <td>246.630005</td>\n",
       "      <td>248.979996</td>\n",
       "      <td>57544800</td>\n",
       "      <td>0.0</td>\n",
       "      <td>0.0</td>\n",
       "    </tr>\n",
       "    <tr>\n",
       "      <th>2024-11-04 00:00:00-05:00</th>\n",
       "      <td>244.559998</td>\n",
       "      <td>248.899994</td>\n",
       "      <td>238.880005</td>\n",
       "      <td>242.839996</td>\n",
       "      <td>68802400</td>\n",
       "      <td>0.0</td>\n",
       "      <td>0.0</td>\n",
       "    </tr>\n",
       "    <tr>\n",
       "      <th>2024-11-05 00:00:00-05:00</th>\n",
       "      <td>247.339996</td>\n",
       "      <td>255.279999</td>\n",
       "      <td>246.210007</td>\n",
       "      <td>251.440002</td>\n",
       "      <td>69282500</td>\n",
       "      <td>0.0</td>\n",
       "      <td>0.0</td>\n",
       "    </tr>\n",
       "    <tr>\n",
       "      <th>2024-11-06 00:00:00-05:00</th>\n",
       "      <td>284.670013</td>\n",
       "      <td>289.589996</td>\n",
       "      <td>275.619995</td>\n",
       "      <td>288.529999</td>\n",
       "      <td>165228700</td>\n",
       "      <td>0.0</td>\n",
       "      <td>0.0</td>\n",
       "    </tr>\n",
       "    <tr>\n",
       "      <th>2024-11-07 00:00:00-05:00</th>\n",
       "      <td>288.890015</td>\n",
       "      <td>299.750000</td>\n",
       "      <td>285.519989</td>\n",
       "      <td>296.910004</td>\n",
       "      <td>117309200</td>\n",
       "      <td>0.0</td>\n",
       "      <td>0.0</td>\n",
       "    </tr>\n",
       "    <tr>\n",
       "      <th>2024-11-08 00:00:00-05:00</th>\n",
       "      <td>299.140015</td>\n",
       "      <td>328.709991</td>\n",
       "      <td>297.660004</td>\n",
       "      <td>321.220001</td>\n",
       "      <td>204782800</td>\n",
       "      <td>0.0</td>\n",
       "      <td>0.0</td>\n",
       "    </tr>\n",
       "    <tr>\n",
       "      <th>2024-11-11 00:00:00-05:00</th>\n",
       "      <td>346.299988</td>\n",
       "      <td>358.640015</td>\n",
       "      <td>336.000000</td>\n",
       "      <td>350.000000</td>\n",
       "      <td>210521600</td>\n",
       "      <td>0.0</td>\n",
       "      <td>0.0</td>\n",
       "    </tr>\n",
       "    <tr>\n",
       "      <th>2024-11-12 00:00:00-05:00</th>\n",
       "      <td>342.739990</td>\n",
       "      <td>345.839996</td>\n",
       "      <td>323.309998</td>\n",
       "      <td>328.489990</td>\n",
       "      <td>155726000</td>\n",
       "      <td>0.0</td>\n",
       "      <td>0.0</td>\n",
       "    </tr>\n",
       "    <tr>\n",
       "      <th>2024-11-13 00:00:00-05:00</th>\n",
       "      <td>335.850006</td>\n",
       "      <td>344.600006</td>\n",
       "      <td>322.500000</td>\n",
       "      <td>330.239990</td>\n",
       "      <td>125405600</td>\n",
       "      <td>0.0</td>\n",
       "      <td>0.0</td>\n",
       "    </tr>\n",
       "    <tr>\n",
       "      <th>2024-11-14 00:00:00-05:00</th>\n",
       "      <td>327.690002</td>\n",
       "      <td>329.980011</td>\n",
       "      <td>310.369995</td>\n",
       "      <td>311.179993</td>\n",
       "      <td>120726100</td>\n",
       "      <td>0.0</td>\n",
       "      <td>0.0</td>\n",
       "    </tr>\n",
       "    <tr>\n",
       "      <th>2024-11-15 00:00:00-05:00</th>\n",
       "      <td>310.570007</td>\n",
       "      <td>324.679993</td>\n",
       "      <td>309.220001</td>\n",
       "      <td>320.720001</td>\n",
       "      <td>114440300</td>\n",
       "      <td>0.0</td>\n",
       "      <td>0.0</td>\n",
       "    </tr>\n",
       "    <tr>\n",
       "      <th>2024-11-18 00:00:00-05:00</th>\n",
       "      <td>340.730011</td>\n",
       "      <td>348.549988</td>\n",
       "      <td>330.010010</td>\n",
       "      <td>338.739990</td>\n",
       "      <td>126547500</td>\n",
       "      <td>0.0</td>\n",
       "      <td>0.0</td>\n",
       "    </tr>\n",
       "    <tr>\n",
       "      <th>2024-11-19 00:00:00-05:00</th>\n",
       "      <td>335.760010</td>\n",
       "      <td>347.380005</td>\n",
       "      <td>332.750000</td>\n",
       "      <td>346.000000</td>\n",
       "      <td>88563400</td>\n",
       "      <td>0.0</td>\n",
       "      <td>0.0</td>\n",
       "    </tr>\n",
       "  </tbody>\n",
       "</table>\n",
       "</div>"
      ],
      "text/plain": [
       "                                 Open        High         Low       Close  \\\n",
       "Date                                                                        \n",
       "2024-11-01 00:00:00-04:00  252.039993  254.000000  246.630005  248.979996   \n",
       "2024-11-04 00:00:00-05:00  244.559998  248.899994  238.880005  242.839996   \n",
       "2024-11-05 00:00:00-05:00  247.339996  255.279999  246.210007  251.440002   \n",
       "2024-11-06 00:00:00-05:00  284.670013  289.589996  275.619995  288.529999   \n",
       "2024-11-07 00:00:00-05:00  288.890015  299.750000  285.519989  296.910004   \n",
       "2024-11-08 00:00:00-05:00  299.140015  328.709991  297.660004  321.220001   \n",
       "2024-11-11 00:00:00-05:00  346.299988  358.640015  336.000000  350.000000   \n",
       "2024-11-12 00:00:00-05:00  342.739990  345.839996  323.309998  328.489990   \n",
       "2024-11-13 00:00:00-05:00  335.850006  344.600006  322.500000  330.239990   \n",
       "2024-11-14 00:00:00-05:00  327.690002  329.980011  310.369995  311.179993   \n",
       "2024-11-15 00:00:00-05:00  310.570007  324.679993  309.220001  320.720001   \n",
       "2024-11-18 00:00:00-05:00  340.730011  348.549988  330.010010  338.739990   \n",
       "2024-11-19 00:00:00-05:00  335.760010  347.380005  332.750000  346.000000   \n",
       "\n",
       "                              Volume  Dividends  Stock Splits  \n",
       "Date                                                           \n",
       "2024-11-01 00:00:00-04:00   57544800        0.0           0.0  \n",
       "2024-11-04 00:00:00-05:00   68802400        0.0           0.0  \n",
       "2024-11-05 00:00:00-05:00   69282500        0.0           0.0  \n",
       "2024-11-06 00:00:00-05:00  165228700        0.0           0.0  \n",
       "2024-11-07 00:00:00-05:00  117309200        0.0           0.0  \n",
       "2024-11-08 00:00:00-05:00  204782800        0.0           0.0  \n",
       "2024-11-11 00:00:00-05:00  210521600        0.0           0.0  \n",
       "2024-11-12 00:00:00-05:00  155726000        0.0           0.0  \n",
       "2024-11-13 00:00:00-05:00  125405600        0.0           0.0  \n",
       "2024-11-14 00:00:00-05:00  120726100        0.0           0.0  \n",
       "2024-11-15 00:00:00-05:00  114440300        0.0           0.0  \n",
       "2024-11-18 00:00:00-05:00  126547500        0.0           0.0  \n",
       "2024-11-19 00:00:00-05:00   88563400        0.0           0.0  "
      ]
     },
     "execution_count": 12,
     "metadata": {},
     "output_type": "execute_result"
    }
   ],
   "source": [
    "data.loc['2024-11']"
   ]
  },
  {
   "cell_type": "code",
   "execution_count": 13,
   "id": "917840e9",
   "metadata": {},
   "outputs": [
    {
     "data": {
      "text/html": [
       "<div>\n",
       "<style scoped>\n",
       "    .dataframe tbody tr th:only-of-type {\n",
       "        vertical-align: middle;\n",
       "    }\n",
       "\n",
       "    .dataframe tbody tr th {\n",
       "        vertical-align: top;\n",
       "    }\n",
       "\n",
       "    .dataframe thead th {\n",
       "        text-align: right;\n",
       "    }\n",
       "</style>\n",
       "<table border=\"1\" class=\"dataframe\">\n",
       "  <thead>\n",
       "    <tr style=\"text-align: right;\">\n",
       "      <th></th>\n",
       "      <th>Open</th>\n",
       "      <th>High</th>\n",
       "      <th>Low</th>\n",
       "      <th>Close</th>\n",
       "      <th>Volume</th>\n",
       "      <th>Dividends</th>\n",
       "      <th>Stock Splits</th>\n",
       "    </tr>\n",
       "    <tr>\n",
       "      <th>Date</th>\n",
       "      <th></th>\n",
       "      <th></th>\n",
       "      <th></th>\n",
       "      <th></th>\n",
       "      <th></th>\n",
       "      <th></th>\n",
       "      <th></th>\n",
       "    </tr>\n",
       "  </thead>\n",
       "  <tbody>\n",
       "    <tr>\n",
       "      <th>2024-01-02 00:00:00-05:00</th>\n",
       "      <td>250.080002</td>\n",
       "      <td>251.250000</td>\n",
       "      <td>244.410004</td>\n",
       "      <td>248.419998</td>\n",
       "      <td>104654200</td>\n",
       "      <td>0.0</td>\n",
       "      <td>0.0</td>\n",
       "    </tr>\n",
       "    <tr>\n",
       "      <th>2024-01-03 00:00:00-05:00</th>\n",
       "      <td>244.979996</td>\n",
       "      <td>245.679993</td>\n",
       "      <td>236.320007</td>\n",
       "      <td>238.449997</td>\n",
       "      <td>121082600</td>\n",
       "      <td>0.0</td>\n",
       "      <td>0.0</td>\n",
       "    </tr>\n",
       "    <tr>\n",
       "      <th>2024-01-04 00:00:00-05:00</th>\n",
       "      <td>239.250000</td>\n",
       "      <td>242.699997</td>\n",
       "      <td>237.729996</td>\n",
       "      <td>237.929993</td>\n",
       "      <td>102629300</td>\n",
       "      <td>0.0</td>\n",
       "      <td>0.0</td>\n",
       "    </tr>\n",
       "    <tr>\n",
       "      <th>2024-01-05 00:00:00-05:00</th>\n",
       "      <td>236.860001</td>\n",
       "      <td>240.119995</td>\n",
       "      <td>234.899994</td>\n",
       "      <td>237.490005</td>\n",
       "      <td>92379400</td>\n",
       "      <td>0.0</td>\n",
       "      <td>0.0</td>\n",
       "    </tr>\n",
       "    <tr>\n",
       "      <th>2024-01-08 00:00:00-05:00</th>\n",
       "      <td>236.139999</td>\n",
       "      <td>241.250000</td>\n",
       "      <td>235.300003</td>\n",
       "      <td>240.449997</td>\n",
       "      <td>85166600</td>\n",
       "      <td>0.0</td>\n",
       "      <td>0.0</td>\n",
       "    </tr>\n",
       "    <tr>\n",
       "      <th>...</th>\n",
       "      <td>...</td>\n",
       "      <td>...</td>\n",
       "      <td>...</td>\n",
       "      <td>...</td>\n",
       "      <td>...</td>\n",
       "      <td>...</td>\n",
       "      <td>...</td>\n",
       "    </tr>\n",
       "    <tr>\n",
       "      <th>2024-11-13 00:00:00-05:00</th>\n",
       "      <td>335.850006</td>\n",
       "      <td>344.600006</td>\n",
       "      <td>322.500000</td>\n",
       "      <td>330.239990</td>\n",
       "      <td>125405600</td>\n",
       "      <td>0.0</td>\n",
       "      <td>0.0</td>\n",
       "    </tr>\n",
       "    <tr>\n",
       "      <th>2024-11-14 00:00:00-05:00</th>\n",
       "      <td>327.690002</td>\n",
       "      <td>329.980011</td>\n",
       "      <td>310.369995</td>\n",
       "      <td>311.179993</td>\n",
       "      <td>120726100</td>\n",
       "      <td>0.0</td>\n",
       "      <td>0.0</td>\n",
       "    </tr>\n",
       "    <tr>\n",
       "      <th>2024-11-15 00:00:00-05:00</th>\n",
       "      <td>310.570007</td>\n",
       "      <td>324.679993</td>\n",
       "      <td>309.220001</td>\n",
       "      <td>320.720001</td>\n",
       "      <td>114440300</td>\n",
       "      <td>0.0</td>\n",
       "      <td>0.0</td>\n",
       "    </tr>\n",
       "    <tr>\n",
       "      <th>2024-11-18 00:00:00-05:00</th>\n",
       "      <td>340.730011</td>\n",
       "      <td>348.549988</td>\n",
       "      <td>330.010010</td>\n",
       "      <td>338.739990</td>\n",
       "      <td>126547500</td>\n",
       "      <td>0.0</td>\n",
       "      <td>0.0</td>\n",
       "    </tr>\n",
       "    <tr>\n",
       "      <th>2024-11-19 00:00:00-05:00</th>\n",
       "      <td>335.760010</td>\n",
       "      <td>347.380005</td>\n",
       "      <td>332.750000</td>\n",
       "      <td>346.000000</td>\n",
       "      <td>88563400</td>\n",
       "      <td>0.0</td>\n",
       "      <td>0.0</td>\n",
       "    </tr>\n",
       "  </tbody>\n",
       "</table>\n",
       "<p>224 rows × 7 columns</p>\n",
       "</div>"
      ],
      "text/plain": [
       "                                 Open        High         Low       Close  \\\n",
       "Date                                                                        \n",
       "2024-01-02 00:00:00-05:00  250.080002  251.250000  244.410004  248.419998   \n",
       "2024-01-03 00:00:00-05:00  244.979996  245.679993  236.320007  238.449997   \n",
       "2024-01-04 00:00:00-05:00  239.250000  242.699997  237.729996  237.929993   \n",
       "2024-01-05 00:00:00-05:00  236.860001  240.119995  234.899994  237.490005   \n",
       "2024-01-08 00:00:00-05:00  236.139999  241.250000  235.300003  240.449997   \n",
       "...                               ...         ...         ...         ...   \n",
       "2024-11-13 00:00:00-05:00  335.850006  344.600006  322.500000  330.239990   \n",
       "2024-11-14 00:00:00-05:00  327.690002  329.980011  310.369995  311.179993   \n",
       "2024-11-15 00:00:00-05:00  310.570007  324.679993  309.220001  320.720001   \n",
       "2024-11-18 00:00:00-05:00  340.730011  348.549988  330.010010  338.739990   \n",
       "2024-11-19 00:00:00-05:00  335.760010  347.380005  332.750000  346.000000   \n",
       "\n",
       "                              Volume  Dividends  Stock Splits  \n",
       "Date                                                           \n",
       "2024-01-02 00:00:00-05:00  104654200        0.0           0.0  \n",
       "2024-01-03 00:00:00-05:00  121082600        0.0           0.0  \n",
       "2024-01-04 00:00:00-05:00  102629300        0.0           0.0  \n",
       "2024-01-05 00:00:00-05:00   92379400        0.0           0.0  \n",
       "2024-01-08 00:00:00-05:00   85166600        0.0           0.0  \n",
       "...                              ...        ...           ...  \n",
       "2024-11-13 00:00:00-05:00  125405600        0.0           0.0  \n",
       "2024-11-14 00:00:00-05:00  120726100        0.0           0.0  \n",
       "2024-11-15 00:00:00-05:00  114440300        0.0           0.0  \n",
       "2024-11-18 00:00:00-05:00  126547500        0.0           0.0  \n",
       "2024-11-19 00:00:00-05:00   88563400        0.0           0.0  \n",
       "\n",
       "[224 rows x 7 columns]"
      ]
     },
     "execution_count": 13,
     "metadata": {},
     "output_type": "execute_result"
    }
   ],
   "source": [
    "data.loc['2024']"
   ]
  },
  {
   "cell_type": "code",
   "execution_count": 14,
   "id": "6cb16398",
   "metadata": {},
   "outputs": [
    {
     "data": {
      "text/html": [
       "<div>\n",
       "<style scoped>\n",
       "    .dataframe tbody tr th:only-of-type {\n",
       "        vertical-align: middle;\n",
       "    }\n",
       "\n",
       "    .dataframe tbody tr th {\n",
       "        vertical-align: top;\n",
       "    }\n",
       "\n",
       "    .dataframe thead th {\n",
       "        text-align: right;\n",
       "    }\n",
       "</style>\n",
       "<table border=\"1\" class=\"dataframe\">\n",
       "  <thead>\n",
       "    <tr style=\"text-align: right;\">\n",
       "      <th></th>\n",
       "      <th>Open</th>\n",
       "      <th>High</th>\n",
       "      <th>Low</th>\n",
       "      <th>Close</th>\n",
       "      <th>Volume</th>\n",
       "      <th>Dividends</th>\n",
       "      <th>Stock Splits</th>\n",
       "    </tr>\n",
       "    <tr>\n",
       "      <th>Date</th>\n",
       "      <th></th>\n",
       "      <th></th>\n",
       "      <th></th>\n",
       "      <th></th>\n",
       "      <th></th>\n",
       "      <th></th>\n",
       "      <th></th>\n",
       "    </tr>\n",
       "  </thead>\n",
       "  <tbody>\n",
       "    <tr>\n",
       "      <th>2024-10-10 00:00:00-04:00</th>\n",
       "      <td>241.809998</td>\n",
       "      <td>242.789993</td>\n",
       "      <td>232.339996</td>\n",
       "      <td>238.770004</td>\n",
       "      <td>83087100</td>\n",
       "      <td>0.0</td>\n",
       "      <td>0.0</td>\n",
       "    </tr>\n",
       "    <tr>\n",
       "      <th>2024-10-11 00:00:00-04:00</th>\n",
       "      <td>220.130005</td>\n",
       "      <td>223.339996</td>\n",
       "      <td>214.380005</td>\n",
       "      <td>217.800003</td>\n",
       "      <td>142628900</td>\n",
       "      <td>0.0</td>\n",
       "      <td>0.0</td>\n",
       "    </tr>\n",
       "    <tr>\n",
       "      <th>2024-10-14 00:00:00-04:00</th>\n",
       "      <td>220.130005</td>\n",
       "      <td>221.910004</td>\n",
       "      <td>213.740005</td>\n",
       "      <td>219.160004</td>\n",
       "      <td>86291900</td>\n",
       "      <td>0.0</td>\n",
       "      <td>0.0</td>\n",
       "    </tr>\n",
       "    <tr>\n",
       "      <th>2024-10-15 00:00:00-04:00</th>\n",
       "      <td>220.009995</td>\n",
       "      <td>224.259995</td>\n",
       "      <td>217.119995</td>\n",
       "      <td>219.570007</td>\n",
       "      <td>62988800</td>\n",
       "      <td>0.0</td>\n",
       "      <td>0.0</td>\n",
       "    </tr>\n",
       "    <tr>\n",
       "      <th>2024-10-16 00:00:00-04:00</th>\n",
       "      <td>221.399994</td>\n",
       "      <td>222.820007</td>\n",
       "      <td>218.929993</td>\n",
       "      <td>221.330002</td>\n",
       "      <td>49632800</td>\n",
       "      <td>0.0</td>\n",
       "      <td>0.0</td>\n",
       "    </tr>\n",
       "    <tr>\n",
       "      <th>2024-10-17 00:00:00-04:00</th>\n",
       "      <td>221.589996</td>\n",
       "      <td>222.080002</td>\n",
       "      <td>217.899994</td>\n",
       "      <td>220.889999</td>\n",
       "      <td>50791800</td>\n",
       "      <td>0.0</td>\n",
       "      <td>0.0</td>\n",
       "    </tr>\n",
       "    <tr>\n",
       "      <th>2024-10-18 00:00:00-04:00</th>\n",
       "      <td>220.710007</td>\n",
       "      <td>222.279999</td>\n",
       "      <td>219.229996</td>\n",
       "      <td>220.699997</td>\n",
       "      <td>49611900</td>\n",
       "      <td>0.0</td>\n",
       "      <td>0.0</td>\n",
       "    </tr>\n",
       "    <tr>\n",
       "      <th>2024-10-21 00:00:00-04:00</th>\n",
       "      <td>218.899994</td>\n",
       "      <td>220.479996</td>\n",
       "      <td>215.729996</td>\n",
       "      <td>218.850006</td>\n",
       "      <td>47329000</td>\n",
       "      <td>0.0</td>\n",
       "      <td>0.0</td>\n",
       "    </tr>\n",
       "    <tr>\n",
       "      <th>2024-10-22 00:00:00-04:00</th>\n",
       "      <td>217.309998</td>\n",
       "      <td>218.220001</td>\n",
       "      <td>215.259995</td>\n",
       "      <td>217.970001</td>\n",
       "      <td>43268700</td>\n",
       "      <td>0.0</td>\n",
       "      <td>0.0</td>\n",
       "    </tr>\n",
       "    <tr>\n",
       "      <th>2024-10-23 00:00:00-04:00</th>\n",
       "      <td>217.130005</td>\n",
       "      <td>218.720001</td>\n",
       "      <td>212.110001</td>\n",
       "      <td>213.649994</td>\n",
       "      <td>80938900</td>\n",
       "      <td>0.0</td>\n",
       "      <td>0.0</td>\n",
       "    </tr>\n",
       "    <tr>\n",
       "      <th>2024-10-24 00:00:00-04:00</th>\n",
       "      <td>244.679993</td>\n",
       "      <td>262.119995</td>\n",
       "      <td>242.649994</td>\n",
       "      <td>260.480011</td>\n",
       "      <td>204491900</td>\n",
       "      <td>0.0</td>\n",
       "      <td>0.0</td>\n",
       "    </tr>\n",
       "    <tr>\n",
       "      <th>2024-10-25 00:00:00-04:00</th>\n",
       "      <td>256.010010</td>\n",
       "      <td>269.489990</td>\n",
       "      <td>255.320007</td>\n",
       "      <td>269.190002</td>\n",
       "      <td>161611900</td>\n",
       "      <td>0.0</td>\n",
       "      <td>0.0</td>\n",
       "    </tr>\n",
       "    <tr>\n",
       "      <th>2024-10-28 00:00:00-04:00</th>\n",
       "      <td>270.000000</td>\n",
       "      <td>273.540009</td>\n",
       "      <td>262.239990</td>\n",
       "      <td>262.510010</td>\n",
       "      <td>107653600</td>\n",
       "      <td>0.0</td>\n",
       "      <td>0.0</td>\n",
       "    </tr>\n",
       "    <tr>\n",
       "      <th>2024-10-29 00:00:00-04:00</th>\n",
       "      <td>264.510010</td>\n",
       "      <td>264.980011</td>\n",
       "      <td>255.509995</td>\n",
       "      <td>259.519989</td>\n",
       "      <td>80521800</td>\n",
       "      <td>0.0</td>\n",
       "      <td>0.0</td>\n",
       "    </tr>\n",
       "    <tr>\n",
       "      <th>2024-10-30 00:00:00-04:00</th>\n",
       "      <td>258.040009</td>\n",
       "      <td>263.350006</td>\n",
       "      <td>255.820007</td>\n",
       "      <td>257.549988</td>\n",
       "      <td>53993600</td>\n",
       "      <td>0.0</td>\n",
       "      <td>0.0</td>\n",
       "    </tr>\n",
       "    <tr>\n",
       "      <th>2024-10-31 00:00:00-04:00</th>\n",
       "      <td>257.989990</td>\n",
       "      <td>259.750000</td>\n",
       "      <td>249.250000</td>\n",
       "      <td>249.850006</td>\n",
       "      <td>66575300</td>\n",
       "      <td>0.0</td>\n",
       "      <td>0.0</td>\n",
       "    </tr>\n",
       "    <tr>\n",
       "      <th>2024-11-01 00:00:00-04:00</th>\n",
       "      <td>252.039993</td>\n",
       "      <td>254.000000</td>\n",
       "      <td>246.630005</td>\n",
       "      <td>248.979996</td>\n",
       "      <td>57544800</td>\n",
       "      <td>0.0</td>\n",
       "      <td>0.0</td>\n",
       "    </tr>\n",
       "    <tr>\n",
       "      <th>2024-11-04 00:00:00-05:00</th>\n",
       "      <td>244.559998</td>\n",
       "      <td>248.899994</td>\n",
       "      <td>238.880005</td>\n",
       "      <td>242.839996</td>\n",
       "      <td>68802400</td>\n",
       "      <td>0.0</td>\n",
       "      <td>0.0</td>\n",
       "    </tr>\n",
       "    <tr>\n",
       "      <th>2024-11-05 00:00:00-05:00</th>\n",
       "      <td>247.339996</td>\n",
       "      <td>255.279999</td>\n",
       "      <td>246.210007</td>\n",
       "      <td>251.440002</td>\n",
       "      <td>69282500</td>\n",
       "      <td>0.0</td>\n",
       "      <td>0.0</td>\n",
       "    </tr>\n",
       "    <tr>\n",
       "      <th>2024-11-06 00:00:00-05:00</th>\n",
       "      <td>284.670013</td>\n",
       "      <td>289.589996</td>\n",
       "      <td>275.619995</td>\n",
       "      <td>288.529999</td>\n",
       "      <td>165228700</td>\n",
       "      <td>0.0</td>\n",
       "      <td>0.0</td>\n",
       "    </tr>\n",
       "    <tr>\n",
       "      <th>2024-11-07 00:00:00-05:00</th>\n",
       "      <td>288.890015</td>\n",
       "      <td>299.750000</td>\n",
       "      <td>285.519989</td>\n",
       "      <td>296.910004</td>\n",
       "      <td>117309200</td>\n",
       "      <td>0.0</td>\n",
       "      <td>0.0</td>\n",
       "    </tr>\n",
       "    <tr>\n",
       "      <th>2024-11-08 00:00:00-05:00</th>\n",
       "      <td>299.140015</td>\n",
       "      <td>328.709991</td>\n",
       "      <td>297.660004</td>\n",
       "      <td>321.220001</td>\n",
       "      <td>204782800</td>\n",
       "      <td>0.0</td>\n",
       "      <td>0.0</td>\n",
       "    </tr>\n",
       "    <tr>\n",
       "      <th>2024-11-11 00:00:00-05:00</th>\n",
       "      <td>346.299988</td>\n",
       "      <td>358.640015</td>\n",
       "      <td>336.000000</td>\n",
       "      <td>350.000000</td>\n",
       "      <td>210521600</td>\n",
       "      <td>0.0</td>\n",
       "      <td>0.0</td>\n",
       "    </tr>\n",
       "  </tbody>\n",
       "</table>\n",
       "</div>"
      ],
      "text/plain": [
       "                                 Open        High         Low       Close  \\\n",
       "Date                                                                        \n",
       "2024-10-10 00:00:00-04:00  241.809998  242.789993  232.339996  238.770004   \n",
       "2024-10-11 00:00:00-04:00  220.130005  223.339996  214.380005  217.800003   \n",
       "2024-10-14 00:00:00-04:00  220.130005  221.910004  213.740005  219.160004   \n",
       "2024-10-15 00:00:00-04:00  220.009995  224.259995  217.119995  219.570007   \n",
       "2024-10-16 00:00:00-04:00  221.399994  222.820007  218.929993  221.330002   \n",
       "2024-10-17 00:00:00-04:00  221.589996  222.080002  217.899994  220.889999   \n",
       "2024-10-18 00:00:00-04:00  220.710007  222.279999  219.229996  220.699997   \n",
       "2024-10-21 00:00:00-04:00  218.899994  220.479996  215.729996  218.850006   \n",
       "2024-10-22 00:00:00-04:00  217.309998  218.220001  215.259995  217.970001   \n",
       "2024-10-23 00:00:00-04:00  217.130005  218.720001  212.110001  213.649994   \n",
       "2024-10-24 00:00:00-04:00  244.679993  262.119995  242.649994  260.480011   \n",
       "2024-10-25 00:00:00-04:00  256.010010  269.489990  255.320007  269.190002   \n",
       "2024-10-28 00:00:00-04:00  270.000000  273.540009  262.239990  262.510010   \n",
       "2024-10-29 00:00:00-04:00  264.510010  264.980011  255.509995  259.519989   \n",
       "2024-10-30 00:00:00-04:00  258.040009  263.350006  255.820007  257.549988   \n",
       "2024-10-31 00:00:00-04:00  257.989990  259.750000  249.250000  249.850006   \n",
       "2024-11-01 00:00:00-04:00  252.039993  254.000000  246.630005  248.979996   \n",
       "2024-11-04 00:00:00-05:00  244.559998  248.899994  238.880005  242.839996   \n",
       "2024-11-05 00:00:00-05:00  247.339996  255.279999  246.210007  251.440002   \n",
       "2024-11-06 00:00:00-05:00  284.670013  289.589996  275.619995  288.529999   \n",
       "2024-11-07 00:00:00-05:00  288.890015  299.750000  285.519989  296.910004   \n",
       "2024-11-08 00:00:00-05:00  299.140015  328.709991  297.660004  321.220001   \n",
       "2024-11-11 00:00:00-05:00  346.299988  358.640015  336.000000  350.000000   \n",
       "\n",
       "                              Volume  Dividends  Stock Splits  \n",
       "Date                                                           \n",
       "2024-10-10 00:00:00-04:00   83087100        0.0           0.0  \n",
       "2024-10-11 00:00:00-04:00  142628900        0.0           0.0  \n",
       "2024-10-14 00:00:00-04:00   86291900        0.0           0.0  \n",
       "2024-10-15 00:00:00-04:00   62988800        0.0           0.0  \n",
       "2024-10-16 00:00:00-04:00   49632800        0.0           0.0  \n",
       "2024-10-17 00:00:00-04:00   50791800        0.0           0.0  \n",
       "2024-10-18 00:00:00-04:00   49611900        0.0           0.0  \n",
       "2024-10-21 00:00:00-04:00   47329000        0.0           0.0  \n",
       "2024-10-22 00:00:00-04:00   43268700        0.0           0.0  \n",
       "2024-10-23 00:00:00-04:00   80938900        0.0           0.0  \n",
       "2024-10-24 00:00:00-04:00  204491900        0.0           0.0  \n",
       "2024-10-25 00:00:00-04:00  161611900        0.0           0.0  \n",
       "2024-10-28 00:00:00-04:00  107653600        0.0           0.0  \n",
       "2024-10-29 00:00:00-04:00   80521800        0.0           0.0  \n",
       "2024-10-30 00:00:00-04:00   53993600        0.0           0.0  \n",
       "2024-10-31 00:00:00-04:00   66575300        0.0           0.0  \n",
       "2024-11-01 00:00:00-04:00   57544800        0.0           0.0  \n",
       "2024-11-04 00:00:00-05:00   68802400        0.0           0.0  \n",
       "2024-11-05 00:00:00-05:00   69282500        0.0           0.0  \n",
       "2024-11-06 00:00:00-05:00  165228700        0.0           0.0  \n",
       "2024-11-07 00:00:00-05:00  117309200        0.0           0.0  \n",
       "2024-11-08 00:00:00-05:00  204782800        0.0           0.0  \n",
       "2024-11-11 00:00:00-05:00  210521600        0.0           0.0  "
      ]
     },
     "execution_count": 14,
     "metadata": {},
     "output_type": "execute_result"
    }
   ],
   "source": [
    "data.loc['2024-10-10':'2024-11-11']"
   ]
  },
  {
   "cell_type": "code",
   "execution_count": 15,
   "id": "ddffb53d",
   "metadata": {},
   "outputs": [
    {
     "data": {
      "text/html": [
       "<div>\n",
       "<style scoped>\n",
       "    .dataframe tbody tr th:only-of-type {\n",
       "        vertical-align: middle;\n",
       "    }\n",
       "\n",
       "    .dataframe tbody tr th {\n",
       "        vertical-align: top;\n",
       "    }\n",
       "\n",
       "    .dataframe thead th {\n",
       "        text-align: right;\n",
       "    }\n",
       "</style>\n",
       "<table border=\"1\" class=\"dataframe\">\n",
       "  <thead>\n",
       "    <tr style=\"text-align: right;\">\n",
       "      <th></th>\n",
       "      <th>Open</th>\n",
       "      <th>High</th>\n",
       "      <th>Low</th>\n",
       "      <th>Close</th>\n",
       "      <th>Volume</th>\n",
       "      <th>Dividends</th>\n",
       "      <th>Stock Splits</th>\n",
       "    </tr>\n",
       "    <tr>\n",
       "      <th>Date</th>\n",
       "      <th></th>\n",
       "      <th></th>\n",
       "      <th></th>\n",
       "      <th></th>\n",
       "      <th></th>\n",
       "      <th></th>\n",
       "      <th></th>\n",
       "    </tr>\n",
       "  </thead>\n",
       "  <tbody>\n",
       "    <tr>\n",
       "      <th>2019-11-24 00:00:00-05:00</th>\n",
       "      <td>23.437112</td>\n",
       "      <td>23.623111</td>\n",
       "      <td>22.968222</td>\n",
       "      <td>23.113111</td>\n",
       "      <td>148528500.0</td>\n",
       "      <td>0.0</td>\n",
       "      <td>0.0</td>\n",
       "    </tr>\n",
       "    <tr>\n",
       "      <th>2019-12-01 00:00:00-05:00</th>\n",
       "      <td>22.363667</td>\n",
       "      <td>22.421000</td>\n",
       "      <td>21.960500</td>\n",
       "      <td>22.108167</td>\n",
       "      <td>106155375.0</td>\n",
       "      <td>0.0</td>\n",
       "      <td>0.0</td>\n",
       "    </tr>\n",
       "    <tr>\n",
       "      <th>2019-12-08 00:00:00-05:00</th>\n",
       "      <td>22.234666</td>\n",
       "      <td>22.472400</td>\n",
       "      <td>22.076667</td>\n",
       "      <td>22.271467</td>\n",
       "      <td>88554600.0</td>\n",
       "      <td>0.0</td>\n",
       "      <td>0.0</td>\n",
       "    </tr>\n",
       "    <tr>\n",
       "      <th>2019-12-15 00:00:00-05:00</th>\n",
       "      <td>23.258667</td>\n",
       "      <td>23.737600</td>\n",
       "      <td>23.111334</td>\n",
       "      <td>23.455200</td>\n",
       "      <td>117252000.0</td>\n",
       "      <td>0.0</td>\n",
       "      <td>0.0</td>\n",
       "    </tr>\n",
       "    <tr>\n",
       "      <th>2019-12-22 00:00:00-05:00</th>\n",
       "      <td>25.730400</td>\n",
       "      <td>26.455733</td>\n",
       "      <td>25.542266</td>\n",
       "      <td>26.176933</td>\n",
       "      <td>220955400.0</td>\n",
       "      <td>0.0</td>\n",
       "      <td>0.0</td>\n",
       "    </tr>\n",
       "  </tbody>\n",
       "</table>\n",
       "</div>"
      ],
      "text/plain": [
       "                                Open       High        Low      Close  \\\n",
       "Date                                                                    \n",
       "2019-11-24 00:00:00-05:00  23.437112  23.623111  22.968222  23.113111   \n",
       "2019-12-01 00:00:00-05:00  22.363667  22.421000  21.960500  22.108167   \n",
       "2019-12-08 00:00:00-05:00  22.234666  22.472400  22.076667  22.271467   \n",
       "2019-12-15 00:00:00-05:00  23.258667  23.737600  23.111334  23.455200   \n",
       "2019-12-22 00:00:00-05:00  25.730400  26.455733  25.542266  26.176933   \n",
       "\n",
       "                                Volume  Dividends  Stock Splits  \n",
       "Date                                                             \n",
       "2019-11-24 00:00:00-05:00  148528500.0        0.0           0.0  \n",
       "2019-12-01 00:00:00-05:00  106155375.0        0.0           0.0  \n",
       "2019-12-08 00:00:00-05:00   88554600.0        0.0           0.0  \n",
       "2019-12-15 00:00:00-05:00  117252000.0        0.0           0.0  \n",
       "2019-12-22 00:00:00-05:00  220955400.0        0.0           0.0  "
      ]
     },
     "execution_count": 15,
     "metadata": {},
     "output_type": "execute_result"
    }
   ],
   "source": [
    "tesla_haftalik=data.resample('W').mean()\n",
    "tesla_haftalik.head()"
   ]
  },
  {
   "cell_type": "markdown",
   "id": "f4e0aaca",
   "metadata": {},
   "source": [
    "sayfa 14 de kaldım"
   ]
  },
  {
   "cell_type": "code",
   "execution_count": 21,
   "id": "e514a61f",
   "metadata": {},
   "outputs": [
    {
     "data": {
      "text/plain": [
       "Date\n",
       "2019-12-31 00:00:00-05:00     24.519452\n",
       "2020-12-31 00:00:00-05:00     96.665689\n",
       "2021-12-31 00:00:00-05:00    259.998162\n",
       "2022-12-31 00:00:00-05:00    263.093081\n",
       "2023-12-31 00:00:00-05:00    217.475240\n",
       "Freq: A-DEC, Name: Close, dtype: float64"
      ]
     },
     "execution_count": 21,
     "metadata": {},
     "output_type": "execute_result"
    }
   ],
   "source": [
    "tesla_yillik=data['Close'].resample('A').mean()\n",
    "tesla_yillik.head()\n",
    "#yıllık ortalama veriler"
   ]
  },
  {
   "cell_type": "markdown",
   "id": "e3fd134f",
   "metadata": {},
   "source": [
    "Zaman serileri ile birlikte çeşitli istatistiksel hesaplamalar yapılabilir!"
   ]
  },
  {
   "cell_type": "markdown",
   "id": "9292fe10",
   "metadata": {},
   "source": [
    "std(), max(), min(), sum() gibi farklı metodlar ile birlikte kullanılabilirler."
   ]
  },
  {
   "cell_type": "markdown",
   "id": "0ce8f8f0",
   "metadata": {},
   "source": [
    "# .resample() metodu ile kullanılabilen argümanlar"
   ]
  },
  {
   "cell_type": "markdown",
   "id": "790f1fcd",
   "metadata": {},
   "source": [
    "### 'A' veya 'Y': \n",
    "Yıllık (Year end frequency)\n",
    "### 'M': \n",
    "Aylık (Month end frequency)\n",
    "### 'W':\n",
    "Haftalık (Week ending frequency)\n",
    "### 'D': \n",
    "Günlük (Day frequency)\n",
    "### 'B': \n",
    "İş günü (Business day frequency)\n",
    "### 'H': \n",
    "Saatlik (Hourly frequency)\n",
    "### 'T' veya 'min': \n",
    "Dakikalık (Minute frequency)\n",
    "### 'S': \n",
    "Saniyelik (Second frequency)\n",
    "### 'L' veya 'ms':\n",
    "Milisaniyelik (Millisecond frequency)\n",
    "### 'U' veya 'us': \n",
    "Mikro saniyelik (Microsecond frequency)\n",
    "### 'N': \n",
    "Nanodakika (Nanosecond frequency)"
   ]
  },
  {
   "cell_type": "code",
   "execution_count": 22,
   "id": "d345ffe0",
   "metadata": {},
   "outputs": [
    {
     "data": {
      "text/plain": [
       "Date\n",
       "2019-11-24 00:00:00-05:00    23.113111\n",
       "2019-12-08 00:00:00-05:00    22.198889\n",
       "2019-12-22 00:00:00-05:00    24.816067\n",
       "2020-01-05 00:00:00-05:00    28.434083\n",
       "2020-01-19 00:00:00-05:00    33.183333\n",
       "Freq: 2W-SUN, Name: Close, dtype: float64"
      ]
     },
     "execution_count": 22,
     "metadata": {},
     "output_type": "execute_result"
    }
   ],
   "source": [
    "tesla_ikihaftalik=data['Close'].resample('2W').mean()\n",
    "tesla_ikihaftalik.head()"
   ]
  },
  {
   "cell_type": "markdown",
   "id": "f88b6bfe",
   "metadata": {},
   "source": [
    "# .Rolling() metodu"
   ]
  },
  {
   "cell_type": "markdown",
   "id": "73fdf912",
   "metadata": {},
   "source": [
    "Pandas kütüphanesindeki .rolling() metodu, zaman serisi verilerine hareketli pencere (rolling window) fonksiyonları uygulamak için kullanılır. Hareketli pencere, verilerin belirli bir penceresinde (örneğin, son 5 gün veya son 10 veri noktası) bir hesaplama yaparak zaman serisinin her bir noktasına ilişkin bir değer hesaplamanızı sağlar."
   ]
  },
  {
   "cell_type": "markdown",
   "id": "d6f16a6a",
   "metadata": {},
   "source": [
    "## .rolling() Metodunun Kullanımı\n",
    "\n",
    "rolling() metodu, belirli bir pencere boyutuna göre kaydırmalı (rolling) hesaplamalar yapmanıza olanak tanır. Bu pencere bir zaman aralığı veya sabit bir sayıda veri noktası olabilir. Ardından, bu pencere üzerinde çeşitli agregat fonksiyonlar uygulanabilir (örneğin, ortalama, toplam, maksimum)."
   ]
  },
  {
   "cell_type": "raw",
   "id": "2d34dccf",
   "metadata": {},
   "source": [
    "df.rolling(window=<pencere_boyutu>)"
   ]
  },
  {
   "cell_type": "markdown",
   "id": "215654b7",
   "metadata": {},
   "source": [
    "window: Pencere boyutunu belirtir. Bu sayı, pencerede kaç veri noktasının yer alacağını belirler."
   ]
  },
  {
   "cell_type": "markdown",
   "id": "af456e03",
   "metadata": {},
   "source": [
    "# rolling() ile Yaygın Kullanımlar:\n",
    "### Ortalama (Moving Average): \n",
    "Zaman serisi verilerinde ortalama almak için kullanılır. Örneğin, 7 günlük hareketli ortalama:"
   ]
  },
  {
   "cell_type": "code",
   "execution_count": 23,
   "id": "d957940a",
   "metadata": {},
   "outputs": [
    {
     "name": "stdout",
     "output_type": "stream",
     "text": [
      "Date\n",
      "2019-11-20 00:00:00-05:00           NaN\n",
      "2019-11-21 00:00:00-05:00           NaN\n",
      "2019-11-22 00:00:00-05:00           NaN\n",
      "2019-11-25 00:00:00-05:00           NaN\n",
      "2019-11-26 00:00:00-05:00           NaN\n",
      "                                ...    \n",
      "2024-11-13 00:00:00-05:00    306.418575\n",
      "2024-11-14 00:00:00-05:00    317.897147\n",
      "2024-11-15 00:00:00-05:00    321.597146\n",
      "2024-11-18 00:00:00-05:00    329.002860\n",
      "2024-11-19 00:00:00-05:00    334.234288\n",
      "Name: Open, Length: 1258, dtype: float64\n"
     ]
    }
   ],
   "source": [
    "tesla_7gün=data['Open'].rolling(window=7).mean()\n",
    "print(tesla_7gün)"
   ]
  },
  {
   "cell_type": "markdown",
   "id": "af7e2568",
   "metadata": {},
   "source": [
    "### Toplam (Moving Sum): \n",
    "Her pencere içindeki elemanların toplamını hesaplamak için:"
   ]
  },
  {
   "cell_type": "code",
   "execution_count": 24,
   "id": "c859ca8b",
   "metadata": {},
   "outputs": [
    {
     "name": "stdout",
     "output_type": "stream",
     "text": [
      "Date\n",
      "2019-11-20 00:00:00-05:00            NaN\n",
      "2019-11-21 00:00:00-05:00            NaN\n",
      "2019-11-22 00:00:00-05:00            NaN\n",
      "2019-11-25 00:00:00-05:00            NaN\n",
      "2019-11-26 00:00:00-05:00            NaN\n",
      "                                ...     \n",
      "2024-11-13 00:00:00-05:00    2144.930023\n",
      "2024-11-14 00:00:00-05:00    2225.280029\n",
      "2024-11-15 00:00:00-05:00    2251.180023\n",
      "2024-11-18 00:00:00-05:00    2303.020020\n",
      "2024-11-19 00:00:00-05:00    2339.640015\n",
      "Name: Open, Length: 1258, dtype: float64\n"
     ]
    }
   ],
   "source": [
    "tesla_7güntoplam=data['Open'].rolling(window=7).sum()\n",
    "print(tesla_7güntoplam)"
   ]
  },
  {
   "cell_type": "markdown",
   "id": "7319c030",
   "metadata": {},
   "source": [
    "### Standart Sapma (Moving Standard Deviation):\n",
    "Hareketli pencere içindeki standart sapmayı hesaplamak için:"
   ]
  },
  {
   "cell_type": "code",
   "execution_count": 25,
   "id": "26bc6a3b",
   "metadata": {},
   "outputs": [
    {
     "name": "stdout",
     "output_type": "stream",
     "text": [
      "Date\n",
      "2019-11-20 00:00:00-05:00          NaN\n",
      "2019-11-21 00:00:00-05:00          NaN\n",
      "2019-11-22 00:00:00-05:00          NaN\n",
      "2019-11-25 00:00:00-05:00          NaN\n",
      "2019-11-26 00:00:00-05:00          NaN\n",
      "                               ...    \n",
      "2024-11-13 00:00:00-05:00    36.741184\n",
      "2024-11-14 00:00:00-05:00    26.265883\n",
      "2024-11-15 00:00:00-05:00    22.335301\n",
      "2024-11-18 00:00:00-05:00    17.821298\n",
      "2024-11-19 00:00:00-05:00    12.026961\n",
      "Name: Open, Length: 1258, dtype: float64\n"
     ]
    }
   ],
   "source": [
    "tesla_7günstandartsapma=data['Open'].rolling(window=7).std()\n",
    "print(tesla_7günstandartsapma)"
   ]
  },
  {
   "cell_type": "code",
   "execution_count": 26,
   "id": "3f25cc04",
   "metadata": {},
   "outputs": [
    {
     "name": "stdout",
     "output_type": "stream",
     "text": [
      "Date\n",
      "2019-11-20 00:00:00-05:00           NaN\n",
      "2019-11-21 00:00:00-05:00           NaN\n",
      "2019-11-22 00:00:00-05:00           NaN\n",
      "2019-11-25 00:00:00-05:00           NaN\n",
      "2019-11-26 00:00:00-05:00           NaN\n",
      "                                ...    \n",
      "2024-11-13 00:00:00-05:00    285.172502\n",
      "2024-11-14 00:00:00-05:00    290.437501\n",
      "2024-11-15 00:00:00-05:00    294.815001\n",
      "2024-11-18 00:00:00-05:00    301.710003\n",
      "2024-11-19 00:00:00-05:00    308.686671\n",
      "Name: Open, Length: 1258, dtype: float64\n"
     ]
    }
   ],
   "source": [
    "#Örneğin 12 günlük hareketli verilerin ortalamaları için\n",
    "tesla_12gün=data['Open'].rolling(window=12).mean()\n",
    "print(tesla_12gün)"
   ]
  },
  {
   "cell_type": "markdown",
   "id": "9852f42c",
   "metadata": {},
   "source": [
    "Resample ve rolling metodları zincirleme olarak kullanılabilir. Örneğin tesla kapanış verilerinin 5 haftalık ortalamalarını bulalım. Önce .resample() ile haftalık veriler hesaplanır sonra rolling ile 5 haftalık hareketli verilerin ortalamaları bulunabilir. "
   ]
  },
  {
   "cell_type": "code",
   "execution_count": 30,
   "id": "4c961a61",
   "metadata": {},
   "outputs": [
    {
     "name": "stdout",
     "output_type": "stream",
     "text": [
      "Date\n",
      "2019-11-24 00:00:00-05:00           NaN\n",
      "2019-12-01 00:00:00-05:00           NaN\n",
      "2019-12-08 00:00:00-05:00           NaN\n",
      "2019-12-15 00:00:00-05:00           NaN\n",
      "2019-12-22 00:00:00-05:00     23.424976\n",
      "                                ...    \n",
      "2024-10-27 00:00:00-04:00    240.004801\n",
      "2024-11-03 00:00:00-04:00    240.102401\n",
      "2024-11-10 00:00:00-05:00    245.763601\n",
      "2024-11-17 00:00:00-05:00    264.070800\n",
      "2024-11-24 00:00:00-05:00    288.478798\n",
      "Freq: W-SUN, Name: Close, Length: 262, dtype: float64\n"
     ]
    }
   ],
   "source": [
    "tesla_5w_hareketli = data['Close'].resample('W').mean().rolling(window=5).mean()\n",
    "print(tesla_5w_hareketli)"
   ]
  },
  {
   "cell_type": "code",
   "execution_count": null,
   "id": "2dbe03f5",
   "metadata": {},
   "outputs": [],
   "source": []
  }
 ],
 "metadata": {
  "kernelspec": {
   "display_name": "Python 3 (ipykernel)",
   "language": "python",
   "name": "python3"
  },
  "language_info": {
   "codemirror_mode": {
    "name": "ipython",
    "version": 3
   },
   "file_extension": ".py",
   "mimetype": "text/x-python",
   "name": "python",
   "nbconvert_exporter": "python",
   "pygments_lexer": "ipython3",
   "version": "3.9.13"
  }
 },
 "nbformat": 4,
 "nbformat_minor": 5
}
