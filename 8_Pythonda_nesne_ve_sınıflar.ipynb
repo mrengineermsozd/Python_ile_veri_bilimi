{
 "cells": [
  {
   "cell_type": "markdown",
   "id": "490a2636",
   "metadata": {},
   "source": [
    "Python'da nesne tabanlı programlama (OOP - Object Oriented Programming) konsepti, kodu daha modüler ve yönetilebilir hale getirmek için yaygın olarak kullanılır. Bu yaklaşımda, veriler ve fonksiyonlar sınıf ve nesneler etrafında organize edilir. Sınıflar ve nesneler, Python'da OOP'nin temelini oluşturur."
   ]
  },
  {
   "cell_type": "markdown",
   "id": "188c5d9d",
   "metadata": {},
   "source": [
    "## Sınıflar (Classes)"
   ]
  },
  {
   "cell_type": "markdown",
   "id": "8664108e",
   "metadata": {},
   "source": [
    "Sınıf, nesnelerin tasarım şablonudur. Bir sınıf, bir nesnenin nasıl çalışacağını ve hangi özelliklere sahip olacağını belirler. Sınıflar, aynı türden birçok nesne oluşturmak için kullanılır."
   ]
  },
  {
   "cell_type": "markdown",
   "id": "30ecf2e8",
   "metadata": {},
   "source": [
    "Sınıf,kendi üyelerini(data members)(attributes) ve üye işlevlerini (member functions)(methods) tutan, bu sınıfın bir örneğini (object) oluşturarak erişebilen ve kullanabilen, kullanıcı tanımlı (uzer-defined) bir veri yapısı oluşturur. Sınıf bir nesnenin planı gibidir."
   ]
  },
  {
   "cell_type": "markdown",
   "id": "78f171ea",
   "metadata": {},
   "source": [
    "### Sınıf Tanımlama\n",
    "Sınıflar class anahtar kelimesi ile tanımlanır. Sınıfın içinde metodlar (fonksiyonlar) ve özellikler (değişkenler) tanımlanır."
   ]
  },
  {
   "cell_type": "raw",
   "id": "7e87cc86",
   "metadata": {},
   "source": [
    "class ClassName:\n",
    "    #statement-1\n",
    "    .\n",
    "    .\n",
    "    .\n",
    "    #statement-n"
   ]
  },
  {
   "cell_type": "markdown",
   "id": "301a1ab5",
   "metadata": {},
   "source": [
    "Örneğin banka hesapları için bir program yazıldığını düşünelim."
   ]
  },
  {
   "cell_type": "code",
   "execution_count": 13,
   "id": "d08263bb",
   "metadata": {},
   "outputs": [],
   "source": [
    "#bankahesapları.py\n",
    "class BankaHesabi():\n",
    "    ulke=\"Turkiye\"\n",
    "    def __init__(self,hesapNo,hesapSahibi,tutar):\n",
    "        \"\"\"Yeni açılan hesaba gerekli değerleri atar\"\"\"\n",
    "        self.hesapNo=hesapNo\n",
    "        self.hesapSahibi=hesapSahibi\n",
    "        self.tutar=tutar\n",
    "    def paraCek(self,cekilen):\n",
    "        self.tutar-=cekilen\n",
    "    def paraYatir(self,yatan):\n",
    "        self.tutar+=yatan\n",
    "    def ekranaBas():\n",
    "        print(self.hesapSahibi)"
   ]
  },
  {
   "cell_type": "markdown",
   "id": "14d75aa2",
   "metadata": {},
   "source": [
    "### __init__: \n",
    "Bu metod sınıfa ait bir nesne oluşturmak amacıyla kullanılır. "
   ]
  },
  {
   "cell_type": "markdown",
   "id": "b4d5092e",
   "metadata": {},
   "source": [
    "# self:\n",
    "Diğer programlama dillerindeki this kelimesinin karşılığıdır."
   ]
  },
  {
   "cell_type": "code",
   "execution_count": 14,
   "id": "c089f1a7",
   "metadata": {},
   "outputs": [
    {
     "name": "stdout",
     "output_type": "stream",
     "text": [
      "1\n"
     ]
    }
   ],
   "source": [
    "hesap001=BankaHesabi(1,\"Ali Özden\",100)\n",
    "print(hesap001.hesapNo)"
   ]
  },
  {
   "cell_type": "code",
   "execution_count": 15,
   "id": "cc124353",
   "metadata": {},
   "outputs": [
    {
     "name": "stdout",
     "output_type": "stream",
     "text": [
      "Ali Özden\n"
     ]
    }
   ],
   "source": [
    "print(hesap001.hesapSahibi)"
   ]
  },
  {
   "cell_type": "code",
   "execution_count": 16,
   "id": "f6a00ce2",
   "metadata": {},
   "outputs": [
    {
     "name": "stdout",
     "output_type": "stream",
     "text": [
      "50\n"
     ]
    }
   ],
   "source": [
    "hesap001.paraCek(50)\n",
    "print(hesap001.tutar)"
   ]
  },
  {
   "cell_type": "code",
   "execution_count": 17,
   "id": "38697d8d",
   "metadata": {},
   "outputs": [
    {
     "name": "stdout",
     "output_type": "stream",
     "text": [
      "300\n"
     ]
    }
   ],
   "source": [
    "hesap001.paraYatir(250)\n",
    "print(hesap001.tutar)"
   ]
  },
  {
   "cell_type": "raw",
   "id": "e8b805dc",
   "metadata": {},
   "source": [
    "hesap00x=BankaHesabi(hesapNo=3,\"x\",5)\n",
    "#farklı şeklillerde argüman geçişi"
   ]
  },
  {
   "cell_type": "raw",
   "id": "0e526e56",
   "metadata": {},
   "source": [
    "#tutar bilgisi girilmemişse varsayılan değer olarak 0 atanır\n",
    "def __init__(self,hesapNo,hesapSahibi,tutar=0)"
   ]
  },
  {
   "cell_type": "markdown",
   "id": "dc6d430c",
   "metadata": {},
   "source": [
    "# __init__() Metodu\n",
    "__init__() metodu, Python'da yapıcı (constructor) olarak bilinir ve bir sınıftan yeni bir nesne oluşturulurken otomatik olarak çağrılır. Bu metod genellikle nesneye başlangıç değerleri vermek için kullanılır.\n",
    "\n",
    "### Örnek: __init__() Kullanımı"
   ]
  },
  {
   "cell_type": "code",
   "execution_count": 18,
   "id": "388781df",
   "metadata": {},
   "outputs": [
    {
     "name": "stdout",
     "output_type": "stream",
     "text": [
      "Bu araba Toyota Corolla modelidir, 2020 yılında üretilmiştir.\n"
     ]
    }
   ],
   "source": [
    "class Araba:\n",
    "    def __init__(self, marka, model, yil):\n",
    "        self.marka = marka  # Nesne değişkeni\n",
    "        self.model = model\n",
    "        self.yil = yil\n",
    "\n",
    "    def bilgi(self):\n",
    "        print(f\"Bu araba {self.marka} {self.model} modelidir, {self.yil} yılında üretilmiştir.\")\n",
    "\n",
    "# Yeni bir nesne oluştururken parametreler verilir\n",
    "benim_arabam = Araba(\"Toyota\", \"Corolla\", 2020)\n",
    "benim_arabam.bilgi()"
   ]
  },
  {
   "cell_type": "markdown",
   "id": "38c74963",
   "metadata": {},
   "source": [
    "# İnheritance (KALITIM)"
   ]
  },
  {
   "cell_type": "markdown",
   "id": "e5ffecc2",
   "metadata": {},
   "source": [
    "Kalıtım (Inheritance), nesne tabanlı programlamada (OOP) bir sınıfın başka bir sınıftan özellikler ve metodlar almasını sağlayan bir özelliktir. Bu sayede kodun tekrarını azaltmak ve sınıflar arasında ilişki kurarak daha yapılandırılmış bir program yazmak mümkün olur."
   ]
  },
  {
   "cell_type": "markdown",
   "id": "81904349",
   "metadata": {},
   "source": [
    "### Kalıtımın Temel Faydaları\n",
    "### Kod Tekrarını Azaltma: \n",
    "Üst sınıfta (ana sınıf) tanımlanan metodlar ve özellikler, alt sınıfta yeniden tanımlanmadan kullanılabilir.\n",
    "### Daha İyi Kod Organizasyonu: \n",
    "Alt sınıf, üst sınıftan miras alarak kodunuzu daha düzenli hale getirir ve sınıflar arasında bir hiyerarşi oluşturur.\n",
    "### Esneklik ve Yeniden Kullanılabilirlik: \n",
    "Aynı metod veya özellikleri farklı sınıflarda tekrar tekrar tanımlamadan kullanabilirsiniz.\n",
    "### Genişletilebilirlik:\n",
    "Mevcut bir sınıfın işlevselliğini genişletmek için alt sınıf oluşturabilirsiniz."
   ]
  },
  {
   "cell_type": "markdown",
   "id": "27158002",
   "metadata": {},
   "source": [
    "# Kalıtım Terminolojisi\n",
    "## Üst Sınıf (Super Class veya Base Class): \n",
    "Diğer sınıflara miras bırakılan temel sınıftır.\n",
    "## Alt Sınıf (Sub Class veya Derived Class):\n",
    "Başka bir sınıftan miras alan ve bu sınıfın özelliklerini genişletebilen sınıftır."
   ]
  },
  {
   "cell_type": "raw",
   "id": "7f5d519b",
   "metadata": {},
   "source": [
    "class DerivedClassName(BaseClassName):\n",
    "    <statement-1>\n",
    "    .\n",
    "    .\n",
    "    .\n",
    "    <statement-N>"
   ]
  },
  {
   "cell_type": "code",
   "execution_count": 19,
   "id": "70c1ecc0",
   "metadata": {},
   "outputs": [
    {
     "name": "stdout",
     "output_type": "stream",
     "text": [
      "Bu arac FordMustang modelidir.\n",
      "Bu araba 3 kapılıdır.\n",
      "Bu arac SalcanoXC100 modelidir.\n",
      "Bu bisiklet 21 viteslidir.\n"
     ]
    }
   ],
   "source": [
    "class Arac:\n",
    "    def __init__(self,marka,model):\n",
    "        self.marka=marka\n",
    "        self.model=model\n",
    "    def bilgi(self):\n",
    "        print(f\"Bu arac {self.marka}{self.model} modelidir.\")\n",
    "\n",
    "#altsınıf (derived class)\n",
    "class Araba(Arac):\n",
    "    def __init__(self,marka,model,kapi_sayisi):\n",
    "        #üst sınıfın __init__ metodunu çağırıyoruz\n",
    "        super().__init__(marka,model)\n",
    "        self.kapi_sayisi =kapi_sayisi \n",
    "    def bilgi(self):\n",
    "        super().bilgi()\n",
    "        print(f\"Bu araba {self.kapi_sayisi} kapılıdır.\")\n",
    "        \n",
    "class Bisiklet(Arac):\n",
    "    def __init__(self,marka,model,vites_sayisi):\n",
    "        #üst sınıfın __init__ metodunu çağırıyoruz\n",
    "        super().__init__(marka,model)\n",
    "        self.vites_sayisi =vites_sayisi \n",
    "    def bilgi(self):\n",
    "        super().bilgi()\n",
    "        print(f\"Bu bisiklet {self.vites_sayisi} viteslidir.\")\n",
    "araba1=Araba(\"Ford\",\"Mustang\",3)\n",
    "araba1.bilgi()\n",
    "\n",
    "bisiklet1=Bisiklet(\"Salcano\",\"XC100\",21)\n",
    "bisiklet1.bilgi()"
   ]
  },
  {
   "cell_type": "code",
   "execution_count": 20,
   "id": "28cff544",
   "metadata": {},
   "outputs": [
    {
     "name": "stdout",
     "output_type": "stream",
     "text": [
      "Student constructor calisti\n",
      "Person constructor calisti\n"
     ]
    }
   ],
   "source": [
    "class Person():\n",
    "    def __init__(self):\n",
    "        print(\"Person constructor calisti\")\n",
    "class Student(Person):\n",
    "    def __init__(self):\n",
    "        print(\"Student constructor calisti\")\n",
    "p1=Student()\n",
    "p2=Person()"
   ]
  },
  {
   "cell_type": "code",
   "execution_count": 21,
   "id": "b021ab24",
   "metadata": {},
   "outputs": [
    {
     "name": "stdout",
     "output_type": "stream",
     "text": [
      "Person constructor calisti\n",
      "kişi oluşturuldu.\n",
      "Student constructor calisti\n",
      "Person constructor calisti\n",
      "kişi oluşturuldu.\n"
     ]
    }
   ],
   "source": [
    "class Person():\n",
    "    def __init__(self,name,surname):\n",
    "        print(\"Person constructor calisti\")\n",
    "        self.Ad=name\n",
    "        self.Soyad=surname\n",
    "        print(\"kişi oluşturuldu.\")\n",
    "class Student(Person):\n",
    "    def __init__(self,name,surname):\n",
    "        Person.__init__(self,name,surname)\n",
    "        print(\"Student constructor calisti\")\n",
    "p1=Student('Ali','Can')\n",
    "p2=Person('Veli','Umut')"
   ]
  },
  {
   "cell_type": "code",
   "execution_count": 22,
   "id": "6c011ff2",
   "metadata": {},
   "outputs": [
    {
     "name": "stdout",
     "output_type": "stream",
     "text": [
      "Person constructor calisti\n",
      "Kişi Oluşturuldu.\n",
      "Student constructor calisti\n",
      "Person constructor calisti\n",
      "Kişi Oluşturuldu.\n",
      "Persona ait bir method\n",
      "Persona ait bir method\n"
     ]
    }
   ],
   "source": [
    "class Person():\n",
    "    def __init__(self,name,surname):\n",
    "        print(\"Person constructor calisti\")\n",
    "        self.Ad=name\n",
    "        self.Soyad=surname\n",
    "        print(\"Kişi Oluşturuldu.\")\n",
    "    def test(self):\n",
    "        print(\"Persona ait bir method\")\n",
    "class Student(Person):\n",
    "    def __init__(self,name,surname):\n",
    "        Person.__init__(self,name,surname)\n",
    "        print(\"Student constructor calisti\")\n",
    "p1=Student('Ali','Can')\n",
    "p2=Person('Veli','Umut')\n",
    "p1.test()\n",
    "p2.test()"
   ]
  },
  {
   "cell_type": "code",
   "execution_count": 23,
   "id": "601ff28c",
   "metadata": {},
   "outputs": [
    {
     "name": "stdout",
     "output_type": "stream",
     "text": [
      "Person constructor calisti\n",
      "Kişi Oluşturuldu.\n",
      "Student constructor calisti\n",
      "Person constructor calisti\n",
      "Kişi Oluşturuldu.\n",
      "Persona ait bir method\n",
      "Persona ait bir method\n"
     ]
    }
   ],
   "source": [
    "class Person():\n",
    "    def __init__(self,name,surname):\n",
    "        print(\"Person constructor calisti\")\n",
    "        self.Ad=name\n",
    "        self.Soyad=surname\n",
    "        print(\"Kişi Oluşturuldu.\")\n",
    "    def test(self):\n",
    "        print(\"Persona ait bir method\")\n",
    "class Student(Person):\n",
    "    def __init__(self,name,surname,age):\n",
    "        Person.__init__(self,name,surname)\n",
    "        self.Yas=age\n",
    "        print(\"Student constructor calisti\")\n",
    "p1=Student('Ali','Can',12)\n",
    "p2=Person('Veli','Umut')\n",
    "p1.test()\n",
    "p2.test()"
   ]
  },
  {
   "cell_type": "code",
   "execution_count": 26,
   "id": "a9067a52",
   "metadata": {},
   "outputs": [],
   "source": [
    "%config IPCompleter.greedy=True"
   ]
  },
  {
   "cell_type": "code",
   "execution_count": 40,
   "id": "aa7be83f",
   "metadata": {},
   "outputs": [],
   "source": [
    "class Hesap():\n",
    "        def __init__(self, HesapNo, hesapSahibi, tutar = 0):\n",
    "            self.HesapNo = HesapNo\n",
    "            self.hesapSahibi = hesapSahibi\n",
    "            self.tutar = tutar\n",
    "        def paraCek(self, cekilen):\n",
    "                     self.tutar -= cekilen\n",
    "        def paraYatir(self, yatan):\n",
    "                     self.tutar += yatan\n",
    "class Musteri():\n",
    "         def __init__(self, musteriNo, adi, dogumTarihi):\n",
    "            self.musteriNo = musteriNo\n",
    "            self.adi =adi\n",
    "            self.dogumTarihi=dogumTarihi\n",
    "            self.hesap1 = Hesap(123456, adi)  \n"
   ]
  },
  {
   "cell_type": "code",
   "execution_count": 41,
   "id": "b278c6e1",
   "metadata": {},
   "outputs": [],
   "source": [
    "musteri1=Musteri(1111,'Alp Er','01.01.2001')"
   ]
  },
  {
   "cell_type": "code",
   "execution_count": 42,
   "id": "d3724046",
   "metadata": {},
   "outputs": [
    {
     "data": {
      "text/plain": [
       "'Alp Er'"
      ]
     },
     "execution_count": 42,
     "metadata": {},
     "output_type": "execute_result"
    }
   ],
   "source": [
    "musteri1.adi"
   ]
  },
  {
   "cell_type": "code",
   "execution_count": 43,
   "id": "418b23cb",
   "metadata": {},
   "outputs": [
    {
     "data": {
      "text/plain": [
       "123456"
      ]
     },
     "execution_count": 43,
     "metadata": {},
     "output_type": "execute_result"
    }
   ],
   "source": [
    "musteri1.hesap1.HesapNo"
   ]
  },
  {
   "cell_type": "markdown",
   "id": "6bf399d7",
   "metadata": {},
   "source": [
    "# Çoklu Kalıtım"
   ]
  },
  {
   "cell_type": "code",
   "execution_count": 47,
   "id": "5f816927",
   "metadata": {},
   "outputs": [
    {
     "name": "stdout",
     "output_type": "stream",
     "text": [
      "Bu araç Tesla Model S modelidir\n",
      "Bu araç 100 kwh batarya ile çalışıyor.\n"
     ]
    }
   ],
   "source": [
    "class ElektrikliArac:\n",
    "    def __init__(self,batarya_kapasitesi):\n",
    "        self.batarya_kapasitesi=batarya_kapasitesi\n",
    "    def sarj(self):\n",
    "        print(f\"Bu araç {self.batarya_kapasitesi} kwh batarya ile çalışıyor.\")\n",
    "class Arac:\n",
    "    def __init__(self,marka,model):\n",
    "        self.marka=marka\n",
    "        self.model=model\n",
    "    def bilgi(self):\n",
    "        print(f\"Bu araç {self.marka} {self.model} modelidir\")\n",
    "class ElektrikliAraba(Arac,ElektrikliArac):\n",
    "    def __init__(self,marka,model,batarya_kapasitesi):\n",
    "        Arac.__init__(self,marka,model)\n",
    "        ElektrikliArac.__init__(self,batarya_kapasitesi)\n",
    "    def bilgi(self):\n",
    "        super().bilgi()\n",
    "        self.sarj()\n",
    "        \n",
    "tesla=ElektrikliAraba(\"Tesla\",\"Model S\",100)\n",
    "tesla.bilgi()"
   ]
  },
  {
   "cell_type": "markdown",
   "id": "cf88cb7e",
   "metadata": {},
   "source": [
    "# Kalıtım ile Metodların Üzerine Yazma (Method Overriding)"
   ]
  },
  {
   "cell_type": "code",
   "execution_count": 48,
   "id": "0a82fb4f",
   "metadata": {},
   "outputs": [
    {
     "name": "stdout",
     "output_type": "stream",
     "text": [
      "Hayvan bir ses çıkarıyor.\n",
      "Kedi miyavlıyor.\n",
      "Köpek havlıyor.\n"
     ]
    }
   ],
   "source": [
    "class Hayvan:\n",
    "    def ses_cikar(self):\n",
    "        print(\"Hayvan bir ses çıkarıyor.\")\n",
    "        \n",
    "class Kedi(Hayvan):\n",
    "    def ses_cikar(self):\n",
    "        print(\"Kedi miyavlıyor.\")\n",
    "        \n",
    "class Kopek(Hayvan):\n",
    "    def ses_cikar(self):\n",
    "        print(\"Köpek havlıyor.\")\n",
    "        \n",
    "        \n",
    "hayvan=Hayvan()\n",
    "hayvan.ses_cikar()\n",
    "\n",
    "kedi=Kedi()\n",
    "kedi.ses_cikar()\n",
    "\n",
    "kopek=Kopek()\n",
    "kopek.ses_cikar()"
   ]
  },
  {
   "cell_type": "code",
   "execution_count": null,
   "id": "c97be422",
   "metadata": {},
   "outputs": [],
   "source": []
  }
 ],
 "metadata": {
  "kernelspec": {
   "display_name": "Python 3 (ipykernel)",
   "language": "python",
   "name": "python3"
  },
  "language_info": {
   "codemirror_mode": {
    "name": "ipython",
    "version": 3
   },
   "file_extension": ".py",
   "mimetype": "text/x-python",
   "name": "python",
   "nbconvert_exporter": "python",
   "pygments_lexer": "ipython3",
   "version": "3.9.13"
  }
 },
 "nbformat": 4,
 "nbformat_minor": 5
}
