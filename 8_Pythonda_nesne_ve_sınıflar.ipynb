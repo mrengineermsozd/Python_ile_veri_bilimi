{
 "cells": [
  {
   "cell_type": "markdown",
   "id": "490a2636",
   "metadata": {},
   "source": [
    "Python'da nesne tabanlı programlama (OOP - Object Oriented Programming) konsepti, kodu daha modüler ve yönetilebilir hale getirmek için yaygın olarak kullanılır. Bu yaklaşımda, veriler ve fonksiyonlar sınıf ve nesneler etrafında organize edilir. Sınıflar ve nesneler, Python'da OOP'nin temelini oluşturur."
   ]
  },
  {
   "cell_type": "markdown",
   "id": "188c5d9d",
   "metadata": {},
   "source": [
    "## Sınıflar (Classes)"
   ]
  },
  {
   "cell_type": "markdown",
   "id": "8664108e",
   "metadata": {},
   "source": [
    "Sınıf, nesnelerin tasarım şablonudur. Bir sınıf, bir nesnenin nasıl çalışacağını ve hangi özelliklere sahip olacağını belirler. Sınıflar, aynı türden birçok nesne oluşturmak için kullanılır."
   ]
  },
  {
   "cell_type": "markdown",
   "id": "30ecf2e8",
   "metadata": {},
   "source": [
    "Sınıf,kendi üyelerini(data members)(attributes) ve üye işlevlerini (member functions)(methods) tutan, bu sınıfın bir örneğini (object) oluşturarak erişebilen ve kullanabilen, kullanıcı tanımlı (uzer-defined) bir veri yapısı oluşturur. Sınıf bir nesnenin planı gibidir."
   ]
  },
  {
   "cell_type": "markdown",
   "id": "78f171ea",
   "metadata": {},
   "source": [
    "### Sınıf Tanımlama\n",
    "Sınıflar class anahtar kelimesi ile tanımlanır. Sınıfın içinde metodlar (fonksiyonlar) ve özellikler (değişkenler) tanımlanır."
   ]
  },
  {
   "cell_type": "raw",
   "id": "7e87cc86",
   "metadata": {},
   "source": [
    "class ClassName:\n",
    "    #statement-1\n",
    "    .\n",
    "    .\n",
    "    .\n",
    "    #statement-n"
   ]
  },
  {
   "cell_type": "markdown",
   "id": "301a1ab5",
   "metadata": {},
   "source": [
    "Örneğin banka hesapları için bir program yazıldığını düşünelim."
   ]
  },
  {
   "cell_type": "code",
   "execution_count": 3,
   "id": "d08263bb",
   "metadata": {},
   "outputs": [],
   "source": [
    "#bankahesapları.py\n",
    "class BankaHesabi():\n",
    "    ulke=\"Turkiye\"\n",
    "    def __init__(self,hesapNo,hesapSahibi,tutar):\n",
    "        \"\"\"Yeni açılan hesaba gerekli değerleri atar\"\"\"\n",
    "        self.hesapNo=hesapNo\n",
    "        self.hesapSahibi=hesapSahibi\n",
    "        self.tutar=tutar\n",
    "    def paraCek(self,cekilen):\n",
    "        self.tutar-=cekilen\n",
    "    def paraYatir(self,yatan):\n",
    "        self.tutar+=yatan\n",
    "    def ekranaBas():\n",
    "        print(self.hesapSahibi)"
   ]
  },
  {
   "cell_type": "markdown",
   "id": "14d75aa2",
   "metadata": {},
   "source": [
    "### __init__: \n",
    "Bu metod sınıfa ait bir nesne oluşturmak amacıyla kullanılır. "
   ]
  },
  {
   "cell_type": "markdown",
   "id": "b4d5092e",
   "metadata": {},
   "source": [
    "# self:\n",
    "Diğer programlama dillerindeki this kelimesinin karşılığıdır."
   ]
  },
  {
   "cell_type": "code",
   "execution_count": 11,
   "id": "c089f1a7",
   "metadata": {},
   "outputs": [
    {
     "name": "stdout",
     "output_type": "stream",
     "text": [
      "1\n"
     ]
    }
   ],
   "source": [
    "hesap001=BankaHesabi(1,\"Ali Özden\",100)\n",
    "print(hesap001.hesapNo)"
   ]
  },
  {
   "cell_type": "code",
   "execution_count": 12,
   "id": "cc124353",
   "metadata": {},
   "outputs": [
    {
     "name": "stdout",
     "output_type": "stream",
     "text": [
      "Ali Özden\n"
     ]
    }
   ],
   "source": [
    "print(hesap001.hesapSahibi)"
   ]
  },
  {
   "cell_type": "code",
   "execution_count": 13,
   "id": "f6a00ce2",
   "metadata": {},
   "outputs": [
    {
     "name": "stdout",
     "output_type": "stream",
     "text": [
      "50\n"
     ]
    }
   ],
   "source": [
    "hesap001.paraCek(50)\n",
    "print(hesap001.tutar)"
   ]
  },
  {
   "cell_type": "code",
   "execution_count": 14,
   "id": "38697d8d",
   "metadata": {},
   "outputs": [
    {
     "name": "stdout",
     "output_type": "stream",
     "text": [
      "300\n"
     ]
    }
   ],
   "source": [
    "hesap001.paraYatir(250)\n",
    "print(hesap001.tutar)"
   ]
  },
  {
   "cell_type": "raw",
   "id": "e8b805dc",
   "metadata": {},
   "source": [
    "hesap00x=BankaHesabi(hesapNo=3,\"x\",5)\n",
    "#farklı şeklillerde argüman geçişi"
   ]
  },
  {
   "cell_type": "raw",
   "id": "0e526e56",
   "metadata": {},
   "source": [
    "#tutar bilgisi girilmemişse varsayılan değer olarak 0 atanır\n",
    "def __init__(self,hesapNo,hesapSahibi,tutar=0)"
   ]
  },
  {
   "cell_type": "markdown",
   "id": "dc6d430c",
   "metadata": {},
   "source": [
    "# __init__() Metodu\n",
    "__init__() metodu, Python'da yapıcı (constructor) olarak bilinir ve bir sınıftan yeni bir nesne oluşturulurken otomatik olarak çağrılır. Bu metod genellikle nesneye başlangıç değerleri vermek için kullanılır.\n",
    "\n",
    "### Örnek: __init__() Kullanımı"
   ]
  },
  {
   "cell_type": "code",
   "execution_count": 17,
   "id": "388781df",
   "metadata": {},
   "outputs": [
    {
     "name": "stdout",
     "output_type": "stream",
     "text": [
      "Bu araba Toyota Corolla modelidir, 2020 yılında üretilmiştir.\n"
     ]
    }
   ],
   "source": [
    "class Araba:\n",
    "    def __init__(self, marka, model, yil):\n",
    "        self.marka = marka  # Nesne değişkeni\n",
    "        self.model = model\n",
    "        self.yil = yil\n",
    "\n",
    "    def bilgi(self):\n",
    "        print(f\"Bu araba {self.marka} {self.model} modelidir, {self.yil} yılında üretilmiştir.\")\n",
    "\n",
    "# Yeni bir nesne oluştururken parametreler verilir\n",
    "benim_arabam = Araba(\"Toyota\", \"Corolla\", 2020)\n",
    "benim_arabam.bilgi()"
   ]
  },
  {
   "cell_type": "code",
   "execution_count": null,
   "id": "c7b98654",
   "metadata": {},
   "outputs": [],
   "source": []
  }
 ],
 "metadata": {
  "kernelspec": {
   "display_name": "Python 3 (ipykernel)",
   "language": "python",
   "name": "python3"
  },
  "language_info": {
   "codemirror_mode": {
    "name": "ipython",
    "version": 3
   },
   "file_extension": ".py",
   "mimetype": "text/x-python",
   "name": "python",
   "nbconvert_exporter": "python",
   "pygments_lexer": "ipython3",
   "version": "3.9.13"
  }
 },
 "nbformat": 4,
 "nbformat_minor": 5
}
