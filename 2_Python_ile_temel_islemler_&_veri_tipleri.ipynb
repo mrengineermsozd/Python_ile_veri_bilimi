{
 "cells": [
  {
   "cell_type": "markdown",
   "id": "530a814a",
   "metadata": {},
   "source": [
    "# Free Python ınterpreters"
   ]
  },
  {
   "cell_type": "markdown",
   "id": "c13cf26d",
   "metadata": {},
   "source": [
    "1) Google Colab: https://colab.research.google.com/?hl=tr"
   ]
  },
  {
   "cell_type": "markdown",
   "id": "496d1040",
   "metadata": {},
   "source": [
    "2) https://www.pythonanywhere.com/"
   ]
  },
  {
   "cell_type": "markdown",
   "id": "056df034",
   "metadata": {},
   "source": [
    "3) https://www.online-python.com/\n"
   ]
  },
  {
   "cell_type": "markdown",
   "id": "6caf4e74",
   "metadata": {},
   "source": [
    "4) https://www.programiz.com/python-programming/online-compiler/"
   ]
  },
  {
   "cell_type": "markdown",
   "id": "90a789e4",
   "metadata": {},
   "source": [
    "5)https://www.w3schools.com/Python/python_compiler.asp"
   ]
  },
  {
   "cell_type": "markdown",
   "id": "9416c293",
   "metadata": {},
   "source": [
    "# Free Python IDE's"
   ]
  },
  {
   "cell_type": "markdown",
   "id": "d9de422e",
   "metadata": {},
   "source": [
    "## 1) PyCharm (Community Edition)"
   ]
  },
  {
   "cell_type": "markdown",
   "id": "34f2881c",
   "metadata": {},
   "source": [
    "JetBrains tarafından sunulan PyCharm, Python geliştirme için popüler bir IDE'dir. Community Edition, ücretsiz ve açık kaynaklıdır. https://www.jetbrains.com/pycharm/download/?section=windows"
   ]
  },
  {
   "cell_type": "markdown",
   "id": "f5b4232f",
   "metadata": {},
   "source": [
    "## 2)Visual Studio Code (VS Code) "
   ]
  },
  {
   "cell_type": "markdown",
   "id": "cef33257",
   "metadata": {},
   "source": [
    "Microsoft tarafından geliştirilen VS Code, çok yönlü bir editördür ve Python eklentisi ile güçlü bir Python IDE'ye dönüşebilir.\n",
    "https://code.visualstudio.com/"
   ]
  },
  {
   "cell_type": "markdown",
   "id": "43344ea7",
   "metadata": {},
   "source": [
    "## 3)Spyder"
   ]
  },
  {
   "cell_type": "markdown",
   "id": "cc8a59ed",
   "metadata": {},
   "source": [
    "Spyder, özellikle veri bilimcileri ve mühendisler için optimize edilmiş, Python'a özel bir IDE'dir. NumPy, Pandas ve Matplotlib gibi kütüphanelerle entegre çalışır.\n",
    "https://www.spyder-ide.org/"
   ]
  },
  {
   "cell_type": "markdown",
   "id": "51aed643",
   "metadata": {},
   "source": [
    "## 4)Thonny"
   ]
  },
  {
   "cell_type": "markdown",
   "id": "f4a82577",
   "metadata": {},
   "source": [
    "Python öğrenmeye yeni başlayanlar için ideal olan Thonny, basit ve kullanımı kolay bir Python IDE'sidir.\n",
    "https://thonny.org/"
   ]
  },
  {
   "cell_type": "markdown",
   "id": "cc30ee52",
   "metadata": {},
   "source": [
    "## 5)Jupyter Notebook"
   ]
  },
  {
   "cell_type": "markdown",
   "id": "ff3747d0",
   "metadata": {},
   "source": [
    "Özellikle veri bilimi ve makine öğrenmesi projeleri için kullanılan Jupyter Notebook, kod ve metni aynı anda yürütmenizi sağlayan interaktif bir platformdur.\n",
    "https://jupyter.org/"
   ]
  },
  {
   "cell_type": "markdown",
   "id": "99cee720",
   "metadata": {},
   "source": [
    "Biz yapacağımız çalışmalarda genellikle Jupyter Notebook Ide'sini kullanacağız."
   ]
  },
  {
   "cell_type": "markdown",
   "id": "23c19450",
   "metadata": {},
   "source": [
    "# Temel İşlemler ve Değişkenler"
   ]
  },
  {
   "cell_type": "markdown",
   "id": "0eb043f5",
   "metadata": {},
   "source": [
    "### Python'da Açıklama Satırları # ve \"\"\" \"\"\" "
   ]
  },
  {
   "cell_type": "markdown",
   "id": "5af67b91",
   "metadata": {},
   "source": [
    "### Tek Satırlı Açıklamalar "
   ]
  },
  {
   "cell_type": "markdown",
   "id": "93b8a10a",
   "metadata": {},
   "source": [
    "Tek satırlık açıklamalar, # sembolü ile başlar ve satır sonuna kadar devam eder. Örneğin:"
   ]
  },
  {
   "cell_type": "code",
   "execution_count": 4,
   "id": "e02eef7a",
   "metadata": {},
   "outputs": [],
   "source": [
    "# Bu bir tek satırlık açıklamadır\n",
    "x = 5  # Bu satırdaki değeri açıklamak için de kullanılabilir"
   ]
  },
  {
   "cell_type": "markdown",
   "id": "ef9c10cf",
   "metadata": {},
   "source": [
    "### Çok Satırlı Açıklamalar"
   ]
  },
  {
   "cell_type": "markdown",
   "id": "36a87a57",
   "metadata": {},
   "source": [
    "Çok satırlı açıklamalar için Python'da resmi bir sembol olmasa da, yaygın yöntem, birden fazla # kullanmak veya birden fazla satırda docstring (\"\"\" veya ''') kullanmaktır."
   ]
  },
  {
   "cell_type": "code",
   "execution_count": 5,
   "id": "ed03872a",
   "metadata": {},
   "outputs": [],
   "source": [
    "# Bu birden fazla satır için\n",
    "# kullanılan açıklama şeklidir\n",
    "x = 10"
   ]
  },
  {
   "cell_type": "code",
   "execution_count": 6,
   "id": "ebbfcf0f",
   "metadata": {},
   "outputs": [],
   "source": [
    "\"\"\"\n",
    "Bu, çok satırlı bir açıklama olarak\n",
    "kullanılabilir. Herhangi bir kodda yer alabilir.\n",
    "\"\"\"\n",
    "y = 20"
   ]
  },
  {
   "cell_type": "code",
   "execution_count": 7,
   "id": "f7d1c5bb",
   "metadata": {},
   "outputs": [],
   "source": [
    "'''\n",
    "Bu, çok satırlı bir açıklama olarak\n",
    "kullanılabilir. Herhangi bir kodda yer alabilir.\n",
    "'''\n",
    "z=10"
   ]
  },
  {
   "cell_type": "markdown",
   "id": "be2a6884",
   "metadata": {},
   "source": [
    "### Print Fonksiyonu "
   ]
  },
  {
   "cell_type": "markdown",
   "id": "be081cca",
   "metadata": {},
   "source": [
    "Python'da print() fonksiyonu, ekrana çıktılar yazdırmak için kullanılır. Bu fonksiyon, bir veya daha fazla argümanı ekrana bastırabilir ve farklı türdeki verileri (sayılar, diziler, değişkenler, vb.) yazdırmak için oldukça esnektir."
   ]
  },
  {
   "cell_type": "markdown",
   "id": "f934343c",
   "metadata": {},
   "source": [
    "En basit haliyle, bir metni ekrana yazdırmak için print() fonksiyonunu şu şekilde kullanabilirsiniz:"
   ]
  },
  {
   "cell_type": "code",
   "execution_count": 8,
   "id": "4512a540",
   "metadata": {},
   "outputs": [
    {
     "name": "stdout",
     "output_type": "stream",
     "text": [
      "Merhaba Dünya\n"
     ]
    }
   ],
   "source": [
    "print(\"Merhaba Dünya\")"
   ]
  },
  {
   "cell_type": "markdown",
   "id": "61aac779",
   "metadata": {},
   "source": [
    "Değişkenlerin içindeki değerleri ekrana yazdırmak için de kullanılır."
   ]
  },
  {
   "cell_type": "code",
   "execution_count": 9,
   "id": "59507760",
   "metadata": {},
   "outputs": [
    {
     "name": "stdout",
     "output_type": "stream",
     "text": [
      "10 20\n"
     ]
    }
   ],
   "source": [
    "x = 10\n",
    "y = 20\n",
    "print(x, y)"
   ]
  },
  {
   "cell_type": "markdown",
   "id": "b5508962",
   "metadata": {},
   "source": [
    "Farklı veri türlerini yazdırabilirsiniz:"
   ]
  },
  {
   "cell_type": "code",
   "execution_count": 10,
   "id": "b80ac873",
   "metadata": {},
   "outputs": [
    {
     "name": "stdout",
     "output_type": "stream",
     "text": [
      "5\n",
      "3.14\n",
      "True\n",
      "[1, 2, 3]\n"
     ]
    }
   ],
   "source": [
    "print(5)              # Sayı\n",
    "print(3.14)           # Ondalık sayı\n",
    "print(True)           # Boolean\n",
    "print([1, 2, 3])      # Liste"
   ]
  },
  {
   "cell_type": "markdown",
   "id": "0a026d20",
   "metadata": {},
   "source": [
    "Birden fazla değeri virgülle ayırarak aynı print() fonksiyonunda yazdırabilirsiniz."
   ]
  },
  {
   "cell_type": "code",
   "execution_count": 11,
   "id": "a27c6c4c",
   "metadata": {},
   "outputs": [
    {
     "name": "stdout",
     "output_type": "stream",
     "text": [
      "İsim: Serhat Yaş: 25\n"
     ]
    }
   ],
   "source": [
    "isim = \"Serhat\"\n",
    "yas = 25\n",
    "print(\"İsim:\", isim, \"Yaş:\", yas)"
   ]
  },
  {
   "cell_type": "markdown",
   "id": "5524dabe",
   "metadata": {},
   "source": [
    "print(object(x),sep, end, file, flush)"
   ]
  },
  {
   "cell_type": "markdown",
   "id": "bd4d8747",
   "metadata": {},
   "source": [
    "####  Sep Parametresi"
   ]
  },
  {
   "cell_type": "markdown",
   "id": "b4246a95",
   "metadata": {},
   "source": [
    "print() fonksiyonunda 5 farklı parametre bulunur ilki object zaten her zaman kullanılan yazdırılacak metindir. İkincisi ise  Sep parametresidir. Birden fazla değerin arasına koyulacak ayırıcıyı sep parametresi ile belirleyebilirsiniz. Varsayılan olarak bir boşluk karakteri kullanılır."
   ]
  },
  {
   "cell_type": "code",
   "execution_count": 13,
   "id": "17148c4a",
   "metadata": {},
   "outputs": [
    {
     "name": "stdout",
     "output_type": "stream",
     "text": [
      "Python, Java, C++\n"
     ]
    }
   ],
   "source": [
    "print(\"Python\", \"Java\", \"C++\", sep=\", \")"
   ]
  },
  {
   "cell_type": "markdown",
   "id": "5173c6b5",
   "metadata": {},
   "source": [
    "Bu Örnektede görüldüğü üzere yazdırılan programlama dilleri sep parametresi olarak belirlenen virgül ile ayrılmıştır."
   ]
  },
  {
   "cell_type": "markdown",
   "id": "9975a5d9",
   "metadata": {},
   "source": [
    "#### End Parametresi "
   ]
  },
  {
   "cell_type": "markdown",
   "id": "6808b90e",
   "metadata": {},
   "source": [
    "Varsayılan olarak print() fonksiyonu her satırın sonunda bir yeni satır (\\n) ekler. Bu davranışı değiştirmek için end parametresi kullanılabilir."
   ]
  },
  {
   "cell_type": "code",
   "execution_count": 16,
   "id": "89be73f2",
   "metadata": {},
   "outputs": [
    {
     "name": "stdout",
     "output_type": "stream",
     "text": [
      "Merhaba Dünya\n"
     ]
    }
   ],
   "source": [
    "print(\"Merhaba\", end=\" \")\n",
    "print(\"Dünya\")"
   ]
  },
  {
   "cell_type": "markdown",
   "id": "db248211",
   "metadata": {},
   "source": [
    "#### File Parametresi  "
   ]
  },
  {
   "cell_type": "markdown",
   "id": "cc71c412",
   "metadata": {},
   "source": [
    "Normalde print() fonksiyonu çıktıyı ekrana verir, ancak file parametresi ile bir dosyaya yazdırma yapılabilir."
   ]
  },
  {
   "cell_type": "code",
   "execution_count": 18,
   "id": "e482a0a5",
   "metadata": {},
   "outputs": [],
   "source": [
    "with open(\"dosya.txt\", \"w\") as f:\n",
    "    print(\"Merhaba Dosya\", file=f)"
   ]
  },
  {
   "cell_type": "markdown",
   "id": "4f7a8830",
   "metadata": {},
   "source": [
    "#### Flush Parametresi "
   ]
  },
  {
   "cell_type": "markdown",
   "id": "4d6ec327",
   "metadata": {},
   "source": [
    "flush parametresi, Python'daki print() fonksiyonunda opsiyonel bir parametredir. Bu parametre, çıktının anında ekrana yazdırılması için kullanılır."
   ]
  },
  {
   "cell_type": "markdown",
   "id": "e624ed1b",
   "metadata": {},
   "source": [
    "Varsayılan olarak False'tur, yani buffer'da tutulur ve genellikle belirli aralıklarla ya da program tamamlandığında ekrana yazdırılır."
   ]
  },
  {
   "cell_type": "markdown",
   "id": "5f8b00c4",
   "metadata": {},
   "source": [
    "True: Çıktı hemen ekrana yazdırılır (buffer boşaltılır).\n",
    "False: Çıktı buffer'da tutulur ve gerektiğinde yazdırılır."
   ]
  },
  {
   "cell_type": "markdown",
   "id": "d0c47eb5",
   "metadata": {},
   "source": [
    "#### F-String ile Biçimlendirme "
   ]
  },
  {
   "cell_type": "markdown",
   "id": "15f16ce7",
   "metadata": {},
   "source": [
    "Python'da, f-string (formatlı string) kullanarak daha esnek yazdırma işlemleri yapabilirsiniz. F-string, değişkenleri doğrudan string içinde kullanmanızı sağlar."
   ]
  },
  {
   "cell_type": "code",
   "execution_count": 17,
   "id": "a8f688c5",
   "metadata": {},
   "outputs": [
    {
     "name": "stdout",
     "output_type": "stream",
     "text": [
      "İsim: Serhat, Yaş: 29\n"
     ]
    }
   ],
   "source": [
    "isim = \"Serhat\"\n",
    "yas = 29\n",
    "print(f\"İsim: {isim}, Yaş: {yas}\")"
   ]
  },
  {
   "cell_type": "markdown",
   "id": "d44216b0",
   "metadata": {},
   "source": [
    "### Pythonda main fonksiyonu tanımlamak gerekir mi?"
   ]
  },
  {
   "cell_type": "markdown",
   "id": "09506b16",
   "metadata": {},
   "source": [
    "Python'da main() fonksiyonu tanımlamak zorunlu değildir, ancak daha büyük ve modüler projelerde kodun düzenini ve okunabilirliğini artırmak için kullanılması yaygındır. Python, C veya Java gibi dillerdeki gibi zorunlu bir giriş noktası olan bir main() fonksiyonuna sahip değildir. Python'da bir dosya doğrudan çalıştırıldığında, üst düzeyde yazılan tüm kodlar çalıştırılır.\n",
    "\n",
    "Ancak, kodun belirli bir kısmının sadece dosya doğrudan çalıştırıldığında çalışmasını ve başka bir modülden içe aktarıldığında çalışmamasını sağlamak için genellikle aşağıdaki yapı kullanılır:\n",
    "\n",
    "if __name__ == \"__main__\":\n",
    "Python'da bir dosya çalıştırıldığında, o dosyanın __name__ değişkeni otomatik olarak \"__main__\" değerini alır. Bu koşul, dosyanın doğrudan çalıştırıldığını mı, yoksa başka bir dosya tarafından modül olarak mı kullanıldığını kontrol eder."
   ]
  },
  {
   "cell_type": "code",
   "execution_count": 19,
   "id": "e97d8230",
   "metadata": {},
   "outputs": [
    {
     "name": "stdout",
     "output_type": "stream",
     "text": [
      "Bu kod sadece doğrudan çalıştırıldığında çalışacak.\n"
     ]
    }
   ],
   "source": [
    "def main():\n",
    "    print(\"Bu kod sadece doğrudan çalıştırıldığında çalışacak.\")\n",
    "\n",
    "if __name__ == \"__main__\":\n",
    "    main()"
   ]
  },
  {
   "cell_type": "markdown",
   "id": "d5254945",
   "metadata": {},
   "source": [
    "Açıklama:\n",
    "main() fonksiyonu: Burada asıl kodun çalışacağı fonksiyon olarak tanımlanmıştır.\n",
    "if __name__ == \"__main__\":: Bu koşul, kodun yalnızca dosya doğrudan çalıştırıldığında çalışmasını sağlar. Eğer bu dosya başka bir modülde içe aktarılırsa, main() fonksiyonu çalıştırılmaz."
   ]
  },
  {
   "cell_type": "markdown",
   "id": "1a66c4a3",
   "metadata": {},
   "source": [
    "## Python'da aritmetik Operatörler "
   ]
  },
  {
   "cell_type": "markdown",
   "id": "6f880c78",
   "metadata": {},
   "source": [
    "Toplama (+)"
   ]
  },
  {
   "cell_type": "code",
   "execution_count": 20,
   "id": "2bae778d",
   "metadata": {},
   "outputs": [
    {
     "name": "stdout",
     "output_type": "stream",
     "text": [
      "8\n"
     ]
    }
   ],
   "source": [
    "a = 5\n",
    "b = 3\n",
    "sonuc = a + b\n",
    "print(sonuc) "
   ]
  },
  {
   "cell_type": "markdown",
   "id": "6fbe0542",
   "metadata": {},
   "source": [
    "Çıkarma (-)"
   ]
  },
  {
   "cell_type": "code",
   "execution_count": 21,
   "id": "80da08f5",
   "metadata": {},
   "outputs": [
    {
     "name": "stdout",
     "output_type": "stream",
     "text": [
      "6\n"
     ]
    }
   ],
   "source": [
    "a = 10\n",
    "b = 4\n",
    "sonuc = a - b\n",
    "print(sonuc)  # Çıktı: 6"
   ]
  },
  {
   "cell_type": "markdown",
   "id": "22e3ccce",
   "metadata": {},
   "source": [
    "Çarpma (*)"
   ]
  },
  {
   "cell_type": "code",
   "execution_count": 22,
   "id": "3bca0be6",
   "metadata": {},
   "outputs": [
    {
     "name": "stdout",
     "output_type": "stream",
     "text": [
      "42\n"
     ]
    }
   ],
   "source": [
    "a = 6\n",
    "b = 7\n",
    "sonuc = a * b\n",
    "print(sonuc)  # Çıktı: 42"
   ]
  },
  {
   "cell_type": "markdown",
   "id": "81519789",
   "metadata": {},
   "source": [
    "Bölme (/)\n",
    "Bir sayıyı diğerine böler. Sonuç daima bir float (ondalık sayı) olur."
   ]
  },
  {
   "cell_type": "code",
   "execution_count": 23,
   "id": "3f764b76",
   "metadata": {},
   "outputs": [
    {
     "name": "stdout",
     "output_type": "stream",
     "text": [
      "3.3333333333333335\n"
     ]
    }
   ],
   "source": [
    "a = 10\n",
    "b = 3\n",
    "sonuc = a / b\n",
    "print(sonuc)  # Çıktı: 3.3333333333333335"
   ]
  },
  {
   "cell_type": "markdown",
   "id": "25e29219",
   "metadata": {},
   "source": [
    "Tam Sayı Bölme (//)"
   ]
  },
  {
   "cell_type": "code",
   "execution_count": 24,
   "id": "03a1db1d",
   "metadata": {},
   "outputs": [
    {
     "name": "stdout",
     "output_type": "stream",
     "text": [
      "3\n"
     ]
    }
   ],
   "source": [
    "a = 10\n",
    "b = 3\n",
    "sonuc = a // b\n",
    "print(sonuc)  # Çıktı: 3"
   ]
  },
  {
   "cell_type": "markdown",
   "id": "b43f44ca",
   "metadata": {},
   "source": [
    "Modülüs (Kalan Bulma) (%)"
   ]
  },
  {
   "cell_type": "code",
   "execution_count": 25,
   "id": "8c861464",
   "metadata": {},
   "outputs": [
    {
     "name": "stdout",
     "output_type": "stream",
     "text": [
      "1\n"
     ]
    }
   ],
   "source": [
    "a = 10\n",
    "b = 3\n",
    "sonuc = a % b\n",
    "print(sonuc)  # Çıktı: 1"
   ]
  },
  {
   "cell_type": "markdown",
   "id": "f5ecda10",
   "metadata": {},
   "source": [
    "Üs Alma (**)"
   ]
  },
  {
   "cell_type": "code",
   "execution_count": 26,
   "id": "582c2f26",
   "metadata": {},
   "outputs": [
    {
     "name": "stdout",
     "output_type": "stream",
     "text": [
      "8\n"
     ]
    }
   ],
   "source": [
    "a = 2\n",
    "b = 3\n",
    "sonuc = a ** b\n",
    "print(sonuc)  # Çıktı: 8 (2^3)"
   ]
  },
  {
   "cell_type": "code",
   "execution_count": 27,
   "id": "584998e7",
   "metadata": {},
   "outputs": [
    {
     "name": "stdout",
     "output_type": "stream",
     "text": [
      "10 4 21 2.3333333333333335 2 1 343\n"
     ]
    }
   ],
   "source": [
    "a = 7\n",
    "b = 3\n",
    "\n",
    "toplama = a + b  \n",
    "cikarma = a - b  \n",
    "carpma = a * b   \n",
    "bolme = a / b    \n",
    "tam_bolme = a // b \n",
    "modulus = a % b  \n",
    "us_alma = a ** b \n",
    "\n",
    "print(toplama, cikarma, carpma, bolme, tam_bolme, modulus, us_alma)"
   ]
  },
  {
   "cell_type": "markdown",
   "id": "a7f00e85",
   "metadata": {},
   "source": [
    "## Python'da Karşılaştırma Operatörleri "
   ]
  },
  {
   "cell_type": "markdown",
   "id": "04d07d35",
   "metadata": {},
   "source": [
    "#### 1)Eşittir (==) "
   ]
  },
  {
   "cell_type": "code",
   "execution_count": 28,
   "id": "54621441",
   "metadata": {},
   "outputs": [
    {
     "name": "stdout",
     "output_type": "stream",
     "text": [
      "True\n"
     ]
    }
   ],
   "source": [
    "a=5\n",
    "b=5\n",
    "print(a==b)"
   ]
  },
  {
   "cell_type": "markdown",
   "id": "2270dcb1",
   "metadata": {},
   "source": [
    "#### 2)Eşit Değildir (!=) "
   ]
  },
  {
   "cell_type": "code",
   "execution_count": 29,
   "id": "25a070fc",
   "metadata": {},
   "outputs": [
    {
     "name": "stdout",
     "output_type": "stream",
     "text": [
      "True\n"
     ]
    }
   ],
   "source": [
    "a = 5\n",
    "b = 3\n",
    "print(a != b)  # Çıktı: True"
   ]
  },
  {
   "cell_type": "markdown",
   "id": "d5647b5c",
   "metadata": {},
   "source": [
    "#### 3) Büyüktür (>)"
   ]
  },
  {
   "cell_type": "code",
   "execution_count": 30,
   "id": "9c3ebd78",
   "metadata": {},
   "outputs": [
    {
     "name": "stdout",
     "output_type": "stream",
     "text": [
      "True\n"
     ]
    }
   ],
   "source": [
    "a = 7\n",
    "b = 5\n",
    "print(a > b)  # Çıktı: True"
   ]
  },
  {
   "cell_type": "markdown",
   "id": "36b2c403",
   "metadata": {},
   "source": [
    "#### 4)Küçüktür (<)  "
   ]
  },
  {
   "cell_type": "code",
   "execution_count": 31,
   "id": "ba5c6b87",
   "metadata": {},
   "outputs": [
    {
     "name": "stdout",
     "output_type": "stream",
     "text": [
      "True\n"
     ]
    }
   ],
   "source": [
    "a = 3\n",
    "b = 5\n",
    "print(a < b)  # Çıktı: True"
   ]
  },
  {
   "cell_type": "markdown",
   "id": "77e5dba0",
   "metadata": {},
   "source": [
    "#### 5)Büyük Eşittir (>=) "
   ]
  },
  {
   "cell_type": "code",
   "execution_count": 32,
   "id": "7cb3c1c6",
   "metadata": {},
   "outputs": [
    {
     "name": "stdout",
     "output_type": "stream",
     "text": [
      "True\n"
     ]
    }
   ],
   "source": [
    "a = 5\n",
    "b = 5\n",
    "print(a >= b)  # Çıktı: True"
   ]
  },
  {
   "cell_type": "markdown",
   "id": "2a83e0e2",
   "metadata": {},
   "source": [
    "#### 6)Küçük Eşittir (<=) "
   ]
  },
  {
   "cell_type": "code",
   "execution_count": 33,
   "id": "c1370b02",
   "metadata": {},
   "outputs": [
    {
     "name": "stdout",
     "output_type": "stream",
     "text": [
      "True\n"
     ]
    }
   ],
   "source": [
    "a = 3\n",
    "b = 5\n",
    "print(a <= b)  # Çıktı: True"
   ]
  },
  {
   "cell_type": "code",
   "execution_count": 34,
   "id": "a8ddc3fd",
   "metadata": {},
   "outputs": [
    {
     "name": "stdout",
     "output_type": "stream",
     "text": [
      "False\n",
      "True\n",
      "False\n",
      "True\n",
      "True\n",
      "True\n"
     ]
    }
   ],
   "source": [
    "a = 10\n",
    "b = 20\n",
    "\n",
    "print(a == b)  \n",
    "print(a != b)  \n",
    "print(a > b)   \n",
    "print(a < b)   \n",
    "print(a >= 10) \n",
    "print(b <= 30) "
   ]
  },
  {
   "cell_type": "markdown",
   "id": "82519083",
   "metadata": {},
   "source": [
    "# Mantıksal Operatörler"
   ]
  },
  {
   "cell_type": "markdown",
   "id": "f4c8a32a",
   "metadata": {},
   "source": [
    "Python'da mantıksal operatörler, ifadelerin doğruluk durumlarını (True veya False) kontrol etmek ve birden fazla koşulu birleştirmek için kullanılır. Bu operatörler, özellikle koşullu ifadelerde yaygın olarak kullanılır."
   ]
  },
  {
   "cell_type": "markdown",
   "id": "70448fe2",
   "metadata": {},
   "source": [
    "#### 1) and (ve) "
   ]
  },
  {
   "cell_type": "markdown",
   "id": "b7f88746",
   "metadata": {},
   "source": [
    "İki koşulun da True olması durumunda sonucu True döner, aksi takdirde False döner."
   ]
  },
  {
   "cell_type": "code",
   "execution_count": 37,
   "id": "e90acf86",
   "metadata": {},
   "outputs": [
    {
     "name": "stdout",
     "output_type": "stream",
     "text": [
      "True\n",
      "False\n"
     ]
    }
   ],
   "source": [
    "a = 5\n",
    "b = 10\n",
    "print(a > 3 and b > 8)  \n",
    "print(a > 3 and b < 8)  "
   ]
  },
  {
   "cell_type": "markdown",
   "id": "fb8217dc",
   "metadata": {},
   "source": [
    "#### 2) or (veya) "
   ]
  },
  {
   "cell_type": "markdown",
   "id": "3aa90580",
   "metadata": {},
   "source": [
    "Koşullardan biri True ise, sonuç True döner. Yalnızca her iki koşul da False ise False döner."
   ]
  },
  {
   "cell_type": "code",
   "execution_count": 38,
   "id": "1497c001",
   "metadata": {},
   "outputs": [
    {
     "name": "stdout",
     "output_type": "stream",
     "text": [
      "True\n",
      "False\n"
     ]
    }
   ],
   "source": [
    "a = 5\n",
    "b = 10\n",
    "print(a > 3 or b < 8) \n",
    "print(a < 3 or b < 8) "
   ]
  },
  {
   "cell_type": "markdown",
   "id": "e40699f6",
   "metadata": {},
   "source": [
    "#### 3) not (değil) "
   ]
  },
  {
   "cell_type": "markdown",
   "id": "8a71baed",
   "metadata": {},
   "source": [
    "Bir koşulun doğruluk değerini tersine çevirir. Yani, True olan bir koşulu False, False olanı ise True yapar."
   ]
  },
  {
   "cell_type": "code",
   "execution_count": 39,
   "id": "fd429af9",
   "metadata": {},
   "outputs": [
    {
     "name": "stdout",
     "output_type": "stream",
     "text": [
      "False\n",
      "True\n"
     ]
    }
   ],
   "source": [
    "a = 5\n",
    "print(not a > 3)  \n",
    "print(not a < 3)  "
   ]
  },
  {
   "cell_type": "code",
   "execution_count": 40,
   "id": "5106069c",
   "metadata": {},
   "outputs": [
    {
     "name": "stdout",
     "output_type": "stream",
     "text": [
      "True\n",
      "False\n",
      "True\n",
      "False\n",
      "True\n",
      "True\n"
     ]
    }
   ],
   "source": [
    "a = 5\n",
    "b = 10\n",
    "c = 3\n",
    "\n",
    "# 'and' operatörü\n",
    "print(a > 3 and b > 8)  \n",
    "print(a > 6 and b > 8)  \n",
    "\n",
    "# 'or' operatörü\n",
    "print(a > 6 or c < 4)   \n",
    "print(a > 6 or c > 4)  \n",
    "\n",
    "# 'not' operatörü\n",
    "print(not a > 6)     \n",
    "print(not b < 8)      "
   ]
  },
  {
   "cell_type": "markdown",
   "id": "376d940b",
   "metadata": {},
   "source": [
    "# Bitwise Operatörler"
   ]
  },
  {
   "cell_type": "markdown",
   "id": "fdc6817f",
   "metadata": {},
   "source": [
    "Python'da bitwise operatörler (bit düzeyinde operatörler), sayıların ikilik (binary) temsilleri üzerinde işlem yapar. Bu operatörler, bit düzeyinde işlemler yaparak her bir bitin ayrı ayrı işlenmesine olanak tanır. Bitwise operatörler genellikle düşük seviyeli programlama ve performans gerektiren durumlarda kullanılır."
   ]
  },
  {
   "cell_type": "markdown",
   "id": "9f033845",
   "metadata": {},
   "source": [
    "#### 1) AND (&)"
   ]
  },
  {
   "cell_type": "markdown",
   "id": "0ab8cf05",
   "metadata": {},
   "source": [
    "İki sayının bitlerini karşılaştırır. Her iki bit de 1 ise sonuç 1, aksi halde 0 olur"
   ]
  },
  {
   "cell_type": "raw",
   "id": "5f837151",
   "metadata": {},
   "source": [
    "A\tB\tA & B\n",
    "0\t0\t  0\n",
    "0\t1\t  0\n",
    "1\t0\t  0\n",
    "1\t1\t  1"
   ]
  },
  {
   "cell_type": "code",
   "execution_count": 41,
   "id": "9e0f8108",
   "metadata": {},
   "outputs": [
    {
     "name": "stdout",
     "output_type": "stream",
     "text": [
      "1\n"
     ]
    }
   ],
   "source": [
    "a = 5  # 101\n",
    "b = 3  # 011\n",
    "sonuc = a & b  # 001 -> 1\n",
    "print(sonuc)  # Çıktı: 1"
   ]
  },
  {
   "cell_type": "markdown",
   "id": "ae966872",
   "metadata": {},
   "source": [
    "#### 2) OR (|)"
   ]
  },
  {
   "cell_type": "markdown",
   "id": "c04f00bd",
   "metadata": {},
   "source": [
    "İki sayının bitlerini karşılaştırır. Herhangi bir bit 1 ise sonuç 1, her ikisi de 0 ise sonuç 0 olur."
   ]
  },
  {
   "cell_type": "raw",
   "id": "89d4dde3",
   "metadata": {},
   "source": [
    "A\tB\tA | B\n",
    "0\t0\t  0\n",
    "0\t1\t  1\n",
    "1\t0\t  1\n",
    "1\t1\t  1"
   ]
  },
  {
   "cell_type": "code",
   "execution_count": 42,
   "id": "5e8e6846",
   "metadata": {},
   "outputs": [
    {
     "name": "stdout",
     "output_type": "stream",
     "text": [
      "7\n"
     ]
    }
   ],
   "source": [
    "a = 5  # 101\n",
    "b = 3  # 011\n",
    "sonuc = a | b  # 111 -> 7\n",
    "print(sonuc)  # Çıktı: 7"
   ]
  },
  {
   "cell_type": "markdown",
   "id": "10010229",
   "metadata": {},
   "source": [
    "#### 3) XOR (^)"
   ]
  },
  {
   "cell_type": "markdown",
   "id": "b8486e52",
   "metadata": {},
   "source": [
    "İki sayının bitlerini karşılaştırır. Bitler farklı ise sonuç 1, aynı ise 0 olur.\n",
    "\n"
   ]
  },
  {
   "cell_type": "raw",
   "id": "0556c0f3",
   "metadata": {},
   "source": [
    "A\tB\tA ^ B\n",
    "0\t0\t  0\n",
    "0\t1\t  1\n",
    "1\t0\t  1\n",
    "1\t1\t  0"
   ]
  },
  {
   "cell_type": "code",
   "execution_count": 43,
   "id": "12dc37e0",
   "metadata": {},
   "outputs": [
    {
     "name": "stdout",
     "output_type": "stream",
     "text": [
      "6\n"
     ]
    }
   ],
   "source": [
    "a = 5  # 101\n",
    "b = 3  # 011\n",
    "sonuc = a ^ b  # 110 -> 6\n",
    "print(sonuc)  # Çıktı: 6"
   ]
  },
  {
   "cell_type": "markdown",
   "id": "ad19a6db",
   "metadata": {},
   "source": [
    "#### 4) NOT (~)"
   ]
  },
  {
   "cell_type": "markdown",
   "id": "baa6b3f6",
   "metadata": {},
   "source": [
    "Bir sayının tüm bitlerini tersine çevirir. 0 olan bitleri 1, 1 olan bitleri 0 yapar. Ayrıca bu operatör bir sayının işaretini de tersine çevirir (2'nin tümleyeni kullanılarak)."
   ]
  },
  {
   "cell_type": "code",
   "execution_count": 44,
   "id": "b9286b04",
   "metadata": {},
   "outputs": [
    {
     "name": "stdout",
     "output_type": "stream",
     "text": [
      "-6\n"
     ]
    }
   ],
   "source": [
    "a = 5  # 101\n",
    "sonuc = ~a  # -(5 + 1) -> -6\n",
    "print(sonuc)  # Çıktı: -6"
   ]
  },
  {
   "cell_type": "markdown",
   "id": "d24637d3",
   "metadata": {},
   "source": [
    "#### 5) Sol Kaydırma (<<)"
   ]
  },
  {
   "cell_type": "markdown",
   "id": "2161f78b",
   "metadata": {},
   "source": [
    "Bir sayının bitlerini sola kaydırır ve sağa sıfır ekler. Her kaydırma işlemi, sayıyı 2 ile çarpmak gibidir."
   ]
  },
  {
   "cell_type": "code",
   "execution_count": 45,
   "id": "82d2b019",
   "metadata": {},
   "outputs": [
    {
     "name": "stdout",
     "output_type": "stream",
     "text": [
      "10\n"
     ]
    }
   ],
   "source": [
    "a = 5  # 101\n",
    "sonuc = a << 1  # 1010 -> 10\n",
    "print(sonuc)  # Çıktı: 10"
   ]
  },
  {
   "cell_type": "markdown",
   "id": "ca32ef13",
   "metadata": {},
   "source": [
    "#### 6) Sağ Kaydırma (>>)"
   ]
  },
  {
   "cell_type": "markdown",
   "id": "17d56802",
   "metadata": {},
   "source": [
    "Bir sayının bitlerini sağa kaydırır ve boşalan bitlerin yerine işaret bitine (en soldaki bit) göre sıfır veya bir ekler. Her kaydırma işlemi, sayıyı 2'ye bölmek gibidir."
   ]
  },
  {
   "cell_type": "code",
   "execution_count": 46,
   "id": "dd4a9ede",
   "metadata": {},
   "outputs": [
    {
     "name": "stdout",
     "output_type": "stream",
     "text": [
      "2\n"
     ]
    }
   ],
   "source": [
    "a = 5  # 101\n",
    "sonuc = a >> 1  # 10 -> 2\n",
    "print(sonuc)  # Çıktı: 2"
   ]
  },
  {
   "cell_type": "code",
   "execution_count": 47,
   "id": "7c831a28",
   "metadata": {},
   "outputs": [
    {
     "name": "stdout",
     "output_type": "stream",
     "text": [
      "13\n",
      "31\n",
      "18\n",
      "-30\n",
      "116\n",
      "7\n"
     ]
    }
   ],
   "source": [
    "a = 29  # 11101\n",
    "b = 15  # 01111\n",
    "\n",
    "# AND operatörü\n",
    "print(a & b)  \n",
    "\n",
    "# OR operatörü\n",
    "print(a | b)  \n",
    "\n",
    "# XOR operatörü\n",
    "print(a ^ b)  \n",
    "\n",
    "# NOT operatörü\n",
    "print(~a)     \n",
    "\n",
    "# Sol kaydırma\n",
    "print(a << 2)  \n",
    "\n",
    "# Sağ kaydırma\n",
    "print(a >> 2)  "
   ]
  },
  {
   "cell_type": "markdown",
   "id": "6a4791e7",
   "metadata": {},
   "source": [
    "# Atama Operatörleri"
   ]
  },
  {
   "cell_type": "markdown",
   "id": "99b2ec6c",
   "metadata": {},
   "source": [
    "Python'da atama operatörleri, bir değeri bir değişkene atamak veya mevcut bir değeri güncellemek için kullanılır. Bu operatörler aynı zamanda diğer işlemleri atama işlemi ile birleştirerek kısa bir yazım sağlar. "
   ]
  },
  {
   "cell_type": "markdown",
   "id": "7b31c8e4",
   "metadata": {},
   "source": [
    "### 1. = (Basit Atama Operatörü) "
   ]
  },
  {
   "cell_type": "markdown",
   "id": "3b6ca1c9",
   "metadata": {},
   "source": [
    "Bir değeri bir değişkene atamak için kullanılır.\n",
    "\n"
   ]
  },
  {
   "cell_type": "code",
   "execution_count": 1,
   "id": "15230061",
   "metadata": {},
   "outputs": [
    {
     "name": "stdout",
     "output_type": "stream",
     "text": [
      "10\n"
     ]
    }
   ],
   "source": [
    "x = 10\n",
    "print(x) "
   ]
  },
  {
   "cell_type": "markdown",
   "id": "0a377fd7",
   "metadata": {},
   "source": [
    "### 2. += (Toplama ve Atama) "
   ]
  },
  {
   "cell_type": "markdown",
   "id": "57e10d93",
   "metadata": {},
   "source": [
    "Değişkenin mevcut değerine bir sayı ekler ve sonucu aynı değişkene atar."
   ]
  },
  {
   "cell_type": "code",
   "execution_count": 3,
   "id": "93135b85",
   "metadata": {},
   "outputs": [
    {
     "name": "stdout",
     "output_type": "stream",
     "text": [
      "15\n"
     ]
    }
   ],
   "source": [
    "x = 10\n",
    "x += 5  \n",
    "print(x)  "
   ]
  },
  {
   "cell_type": "markdown",
   "id": "0919e606",
   "metadata": {},
   "source": [
    "### 3. -= (Çıkarma ve Atama) "
   ]
  },
  {
   "cell_type": "markdown",
   "id": "28aed820",
   "metadata": {},
   "source": [
    "Değişkenin mevcut değerinden bir sayı çıkarır ve sonucu aynı değişkene atar."
   ]
  },
  {
   "cell_type": "code",
   "execution_count": 4,
   "id": "c6f56c75",
   "metadata": {},
   "outputs": [
    {
     "name": "stdout",
     "output_type": "stream",
     "text": [
      "7\n"
     ]
    }
   ],
   "source": [
    "x = 10\n",
    "x -= 3 \n",
    "print(x)  "
   ]
  },
  {
   "cell_type": "markdown",
   "id": "15c30bc3",
   "metadata": {},
   "source": [
    "### 4. *= (Çarpma ve Atama) "
   ]
  },
  {
   "cell_type": "markdown",
   "id": "ad0acb20",
   "metadata": {},
   "source": [
    "Değişkenin mevcut değerini bir sayı ile çarpar ve sonucu aynı değişkene atar."
   ]
  },
  {
   "cell_type": "code",
   "execution_count": 5,
   "id": "9a331e5e",
   "metadata": {},
   "outputs": [
    {
     "name": "stdout",
     "output_type": "stream",
     "text": [
      "12\n"
     ]
    }
   ],
   "source": [
    "x = 4\n",
    "x *= 3 \n",
    "print(x)  "
   ]
  },
  {
   "cell_type": "markdown",
   "id": "5e1a578e",
   "metadata": {},
   "source": [
    "### 5. /= (Bölme ve Atama) "
   ]
  },
  {
   "cell_type": "markdown",
   "id": "164d175b",
   "metadata": {},
   "source": [
    "Değişkenin mevcut değerini bir sayıya böler ve sonucu aynı değişkene atar."
   ]
  },
  {
   "cell_type": "code",
   "execution_count": 6,
   "id": "87114c3e",
   "metadata": {},
   "outputs": [
    {
     "name": "stdout",
     "output_type": "stream",
     "text": [
      "3.0\n"
     ]
    }
   ],
   "source": [
    "x = 12\n",
    "x /= 4  \n",
    "print(x)  "
   ]
  },
  {
   "cell_type": "markdown",
   "id": "cf911e57",
   "metadata": {},
   "source": [
    "### 6. %= (Mod ve Atama)"
   ]
  },
  {
   "cell_type": "markdown",
   "id": "eb2d5261",
   "metadata": {},
   "source": [
    "Değişkenin mevcut değerini bir sayıya böler ve kalanını aynı değişkene atar."
   ]
  },
  {
   "cell_type": "code",
   "execution_count": 7,
   "id": "43d85272",
   "metadata": {},
   "outputs": [
    {
     "name": "stdout",
     "output_type": "stream",
     "text": [
      "1\n"
     ]
    }
   ],
   "source": [
    "x = 10\n",
    "x %= 3  \n",
    "print(x) "
   ]
  },
  {
   "cell_type": "markdown",
   "id": "a0cd0318",
   "metadata": {},
   "source": [
    "### 7. //= (Tam Bölme ve Atama) "
   ]
  },
  {
   "cell_type": "markdown",
   "id": "d2103825",
   "metadata": {},
   "source": [
    "Değişkenin mevcut değerini bir sayıya böler, sonucu tam sayı olarak aynı değişkene atar."
   ]
  },
  {
   "cell_type": "code",
   "execution_count": 8,
   "id": "d1d6c191",
   "metadata": {},
   "outputs": [
    {
     "name": "stdout",
     "output_type": "stream",
     "text": [
      "3\n"
     ]
    }
   ],
   "source": [
    "x = 10\n",
    "x //= 3 \n",
    "print(x)  "
   ]
  },
  {
   "cell_type": "markdown",
   "id": "bc310c6a",
   "metadata": {},
   "source": [
    "### 8. **= (Üs Alma ve Atama)"
   ]
  },
  {
   "cell_type": "markdown",
   "id": "35d5dd1b",
   "metadata": {},
   "source": [
    "Değişkenin mevcut değerini bir sayının üssüne yükseltir ve sonucu aynı değişkene atar."
   ]
  },
  {
   "cell_type": "code",
   "execution_count": 9,
   "id": "aa68f953",
   "metadata": {},
   "outputs": [
    {
     "name": "stdout",
     "output_type": "stream",
     "text": [
      "8\n"
     ]
    }
   ],
   "source": [
    "x = 2\n",
    "x **= 3 \n",
    "print(x)  "
   ]
  },
  {
   "cell_type": "markdown",
   "id": "0f04f70c",
   "metadata": {},
   "source": [
    "### 9. &= (Bitwise AND ve Atama) "
   ]
  },
  {
   "cell_type": "markdown",
   "id": "779efda2",
   "metadata": {},
   "source": [
    "Değişkenin mevcut değeri ile bir sayının bit düzeyinde AND işlemini yapar ve sonucu aynı değişkene atar."
   ]
  },
  {
   "cell_type": "markdown",
   "id": "65d8d867",
   "metadata": {},
   "source": [
    "x = 5  # 101\n",
    "x &= 3  # 101 & 011 = 001\n",
    "print(x) "
   ]
  },
  {
   "cell_type": "markdown",
   "id": "d0f48c7c",
   "metadata": {},
   "source": [
    "### 10. |= (Bitwise OR ve Atama)\n"
   ]
  },
  {
   "cell_type": "markdown",
   "id": "f8962c5d",
   "metadata": {},
   "source": [
    "Değişkenin mevcut değeri ile bir sayının bit düzeyinde OR işlemini yapar ve sonucu aynı değişkene atar.\n",
    "\n"
   ]
  },
  {
   "cell_type": "code",
   "execution_count": 11,
   "id": "6dc7e2ef",
   "metadata": {},
   "outputs": [
    {
     "name": "stdout",
     "output_type": "stream",
     "text": [
      "7\n"
     ]
    }
   ],
   "source": [
    "x = 5  # 101\n",
    "x |= 3  # 101 | 011 = 111\n",
    "print(x) "
   ]
  },
  {
   "cell_type": "markdown",
   "id": "4ec127b9",
   "metadata": {},
   "source": [
    "### 11. ^= (Bitwise XOR ve Atama)"
   ]
  },
  {
   "cell_type": "markdown",
   "id": "0ac6ff5b",
   "metadata": {},
   "source": [
    "Değişkenin mevcut değeri ile bir sayının bit düzeyinde XOR işlemini yapar ve sonucu aynı değişkene atar."
   ]
  },
  {
   "cell_type": "code",
   "execution_count": 13,
   "id": "5fc023e7",
   "metadata": {},
   "outputs": [
    {
     "name": "stdout",
     "output_type": "stream",
     "text": [
      "6\n"
     ]
    }
   ],
   "source": [
    "x = 5  # 101\n",
    "x ^= 3  # 101 ^ 011 = 110\n",
    "print(x)  # Çıktı: 6"
   ]
  },
  {
   "cell_type": "markdown",
   "id": "da419a6d",
   "metadata": {},
   "source": [
    "### 12. <<= (Sol Kaydırma ve Atama)"
   ]
  },
  {
   "cell_type": "markdown",
   "id": "df4ce7ac",
   "metadata": {},
   "source": [
    "Değişkenin bitlerini belirli bir sayı kadar sola kaydırır ve sonucu aynı değişkene atar.\n",
    "\n"
   ]
  },
  {
   "cell_type": "code",
   "execution_count": 14,
   "id": "66b1c394",
   "metadata": {},
   "outputs": [
    {
     "name": "stdout",
     "output_type": "stream",
     "text": [
      "20\n"
     ]
    }
   ],
   "source": [
    "x = 5  # 101\n",
    "x <<= 2  # 101 << 2 = 10100\n",
    "print(x)  # Çıktı: 20"
   ]
  },
  {
   "cell_type": "markdown",
   "id": "c4ffb733",
   "metadata": {},
   "source": [
    "### 13. >>= (Sağ Kaydırma ve Atama)"
   ]
  },
  {
   "cell_type": "markdown",
   "id": "94b0286d",
   "metadata": {},
   "source": [
    "Değişkenin bitlerini belirli bir sayı kadar sağa kaydırır ve sonucu aynı değişkene atar.\n",
    "\n"
   ]
  },
  {
   "cell_type": "code",
   "execution_count": 15,
   "id": "f5ecc9db",
   "metadata": {},
   "outputs": [
    {
     "name": "stdout",
     "output_type": "stream",
     "text": [
      "5\n"
     ]
    }
   ],
   "source": [
    "x = 20  # 10100\n",
    "x >>= 2  # 10100 >> 2 = 101\n",
    "print(x)  # Çıktı: 5"
   ]
  },
  {
   "cell_type": "markdown",
   "id": "d9548262",
   "metadata": {},
   "source": [
    "## 1. Kimlik Operatörleri (Identity Operators)"
   ]
  },
  {
   "cell_type": "markdown",
   "id": "99722a47",
   "metadata": {},
   "source": [
    "Kimlik operatörleri, iki değişkenin aynı nesne olup olmadığını kontrol eder. İki tür kimlik operatörü vardır: is ve is not."
   ]
  },
  {
   "cell_type": "markdown",
   "id": "9d56c945",
   "metadata": {},
   "source": [
    "### a) is: "
   ]
  },
  {
   "cell_type": "markdown",
   "id": "cbf9e20e",
   "metadata": {},
   "source": [
    "İki nesnenin bellekte aynı yerde olup olmadığını kontrol eder."
   ]
  },
  {
   "cell_type": "markdown",
   "id": "d8537c01",
   "metadata": {},
   "source": [
    "### b) is not:  "
   ]
  },
  {
   "cell_type": "markdown",
   "id": "aa7b8f6d",
   "metadata": {},
   "source": [
    "İki nesnenin bellekte farklı yerde olup olmadığını kontrol eder."
   ]
  },
  {
   "cell_type": "code",
   "execution_count": 17,
   "id": "97b182cb",
   "metadata": {},
   "outputs": [
    {
     "name": "stdout",
     "output_type": "stream",
     "text": [
      "True\n",
      "False\n",
      "True\n"
     ]
    }
   ],
   "source": [
    "# 'is' Operatörü\n",
    "x = [1, 2, 3]\n",
    "y = x\n",
    "z = [1, 2, 3]\n",
    "\n",
    "print(x is y)  \n",
    "print(x is z)  \n",
    "print(x is not z)  "
   ]
  },
  {
   "cell_type": "markdown",
   "id": "de1c2dec",
   "metadata": {},
   "source": [
    "## 2. Aitlik Operatörleri (Membership Operators)"
   ]
  },
  {
   "cell_type": "markdown",
   "id": "8f492242",
   "metadata": {},
   "source": [
    "Aitlik operatörleri, bir değerin bir dizide, listede veya başka bir veri yapısında bulunup bulunmadığını kontrol eder. İki tür aitlik operatörü vardır: in ve not in."
   ]
  },
  {
   "cell_type": "markdown",
   "id": "ad3c3a8f",
   "metadata": {},
   "source": [
    "### a) in: "
   ]
  },
  {
   "cell_type": "markdown",
   "id": "f11050be",
   "metadata": {},
   "source": [
    "Bir değerin bir koleksiyonun (liste, dizi, demet, sözlük, vb.) içinde olup olmadığını kontrol eder."
   ]
  },
  {
   "cell_type": "markdown",
   "id": "89cf85b9",
   "metadata": {},
   "source": [
    "### b) not in:"
   ]
  },
  {
   "cell_type": "markdown",
   "id": "a2916323",
   "metadata": {},
   "source": [
    "Bir değerin bir koleksiyonun içinde olup olmadığını değil şeklinde kontrol eder."
   ]
  },
  {
   "cell_type": "code",
   "execution_count": 23,
   "id": "9def42fe",
   "metadata": {},
   "outputs": [
    {
     "name": "stdout",
     "output_type": "stream",
     "text": [
      "True\n",
      "False\n",
      "True\n",
      "False\n"
     ]
    }
   ],
   "source": [
    "# 'in' Operatörü\n",
    "x = [1, 2, 3, 4, 5]\n",
    "print(3 in x)  # True, çünkü 3 listede yer alıyor\n",
    "\n",
    "y = \"Merhaba\"\n",
    "print(\"1\" in y)  # True, çünkü 'e' string içerisinde bulunuyor\n",
    "\n",
    "# 'not in' Operatörü\n",
    "print(6 not in x)  # True, çünkü 6 listede yok\n",
    "print(\"h\" not in y)  # True, çünkü 'z' string içerisinde yer almıyor"
   ]
  },
  {
   "cell_type": "markdown",
   "id": "b2e1a769",
   "metadata": {},
   "source": [
    "# Python'da İşlem Önceliği Sırası"
   ]
  },
  {
   "cell_type": "markdown",
   "id": "f50c1bf7",
   "metadata": {},
   "source": [
    "\n",
    "Python'da işlemlerin gerçekleştirildiği işlem önceliği sırası matematiksel kurallara benzer. Farklı operatörler belirli bir hiyerarşi içerisinde çalışır ve bu hiyerarşiyi bilmek, işlemlerin nasıl gerçekleştirileceğini anlamak açısından önemlidir. İşlem öncelik sırası, operatörlerin hangi sırayla değerlendirileceğini belirler. Parantezler her zaman en yüksek önceliğe sahiptir. İşte Python'da operatörlerin işlem öncelik sıralaması:"
   ]
  },
  {
   "cell_type": "markdown",
   "id": "4e5d55b0",
   "metadata": {},
   "source": [
    "## 1. Parantezler ()"
   ]
  },
  {
   "cell_type": "markdown",
   "id": "2c2712e0",
   "metadata": {},
   "source": [
    "Öncelikle parantez içindeki ifadeler değerlendirilir.\n",
    "Örnek: 2 * (3 + 4) → (3 + 4) işlemi önce yapılır."
   ]
  },
  {
   "cell_type": "markdown",
   "id": "b7756fe5",
   "metadata": {},
   "source": [
    "## 2. Üs alma **"
   ]
  },
  {
   "cell_type": "markdown",
   "id": "36fdf287",
   "metadata": {},
   "source": [
    "Sağdan sola doğru çalışır.\n",
    "Örnek: 2 ** 3 ** 2 → 3 ** 2 önce hesaplanır, sonra 2 ** 9."
   ]
  },
  {
   "cell_type": "markdown",
   "id": "8ad77dec",
   "metadata": {},
   "source": [
    "## 3. İşaretler +x, -x, ~x (unary operatörler)"
   ]
  },
  {
   "cell_type": "markdown",
   "id": "5bef2e08",
   "metadata": {},
   "source": [
    "Tekli işaretler, sayının pozitif ya da negatif olduğunu belirler.\n",
    "Örnek: -5, +3, ~x (bitwise not)"
   ]
  },
  {
   "cell_type": "markdown",
   "id": "fa9b5bb9",
   "metadata": {},
   "source": [
    "## 4. Çarpma, Bölme, Mod ve Tam Sayı Bölme *, /, %, //"
   ]
  },
  {
   "cell_type": "markdown",
   "id": "5d8e84af",
   "metadata": {},
   "source": [
    "Soldan sağa doğru çalışır.\n",
    "Örnek: 5 * 2 / 10, önce 5 * 2 = 10 yapılır, sonra 10 / 10 = 1."
   ]
  },
  {
   "cell_type": "markdown",
   "id": "fff1cae6",
   "metadata": {},
   "source": [
    "## 5. Toplama ve Çıkarma +, - "
   ]
  },
  {
   "cell_type": "markdown",
   "id": "4a8ddc2e",
   "metadata": {},
   "source": [
    "Soldan sağa doğru çalışır.\n",
    "Örnek: 10 + 5 - 2 → 10 + 5 = 15, sonra 15 - 2 = 13."
   ]
  },
  {
   "cell_type": "markdown",
   "id": "20fde634",
   "metadata": {},
   "source": [
    "## 6. Bitwise Kaydırma Operatörleri <<, >>"
   ]
  },
  {
   "cell_type": "markdown",
   "id": "cd5ceb86",
   "metadata": {},
   "source": [
    "Soldan sağa doğru çalışır.\n",
    "Örnek: 4 << 2 → 16 (bit düzeyinde kaydırma)."
   ]
  },
  {
   "cell_type": "markdown",
   "id": "43f48ea2",
   "metadata": {},
   "source": [
    "## 7. Bitwise AND &"
   ]
  },
  {
   "cell_type": "markdown",
   "id": "f6674d6f",
   "metadata": {},
   "source": [
    "Bit düzeyinde AND işlemi yapar.\n",
    "Örnek: 5 & 3 → 1.\n"
   ]
  },
  {
   "cell_type": "markdown",
   "id": "d69bc887",
   "metadata": {},
   "source": [
    "## 8. Bitwise XOR ^ ve OR |"
   ]
  },
  {
   "cell_type": "markdown",
   "id": "7cf1136e",
   "metadata": {},
   "source": [
    "Soldan sağa doğru çalışır.\n",
    "Örnek: 5 ^ 3 → 6, 5 | 3 → 7."
   ]
  },
  {
   "cell_type": "markdown",
   "id": "bdbf759c",
   "metadata": {},
   "source": [
    "## 9. Karşılaştırma Operatörleri ==, !=, >, >=, <, <=, is, is not, in, not in"
   ]
  },
  {
   "cell_type": "markdown",
   "id": "ee2bbbf9",
   "metadata": {},
   "source": [
    "Karşılaştırmalar yapılır.\n",
    "Örnek: 5 > 3 → True, 3 == 3 → True."
   ]
  },
  {
   "cell_type": "markdown",
   "id": "842adab9",
   "metadata": {},
   "source": [
    "## 10. Mantıksal NOT not"
   ]
  },
  {
   "cell_type": "markdown",
   "id": "a3b9308a",
   "metadata": {},
   "source": [
    "Mantıksal tersine çevirme işlemi yapar.\n",
    "Örnek: not True → False"
   ]
  },
  {
   "cell_type": "markdown",
   "id": "9d81eefb",
   "metadata": {},
   "source": [
    "## 11. Mantıksal AND and"
   ]
  },
  {
   "cell_type": "markdown",
   "id": "4d74bd8a",
   "metadata": {},
   "source": [
    "Soldan sağa doğru çalışır.\n",
    "Örnek: True and False → False."
   ]
  },
  {
   "cell_type": "markdown",
   "id": "ce341c41",
   "metadata": {},
   "source": [
    "## 12. Mantıksal OR or"
   ]
  },
  {
   "cell_type": "markdown",
   "id": "f158aea8",
   "metadata": {},
   "source": [
    "Soldan sağa doğru çalışır.\n",
    "Örnek: True or False → True."
   ]
  },
  {
   "cell_type": "markdown",
   "id": "61ed5200",
   "metadata": {},
   "source": [
    "## 13. Atama Operatörleri =, +=, -=, *=, /=, vb.\n",
    "Son olarak atama yapılır.\n",
    "Örnek: x = 5, x += 3."
   ]
  },
  {
   "cell_type": "code",
   "execution_count": 1,
   "id": "318c9467",
   "metadata": {},
   "outputs": [
    {
     "name": "stdout",
     "output_type": "stream",
     "text": [
      "6.0\n"
     ]
    }
   ],
   "source": [
    "result = 3 + 4 * 2 ** 2 / 4 - 1\n",
    "# İşlem sırası:\n",
    "# 1. 2 ** 2 → 4\n",
    "# 2. 4 * 4 → 16\n",
    "# 3. 16 / 4 → 4\n",
    "# 4. 3 + 4 → 7\n",
    "# 5. 7 - 1 → 6\n",
    "\n",
    "print(result)  # Çıktı: 6.0"
   ]
  },
  {
   "cell_type": "markdown",
   "id": "3390ec13",
   "metadata": {},
   "source": [
    "# Veri Tipleri (Data Types)"
   ]
  },
  {
   "cell_type": "markdown",
   "id": "a6a598bd",
   "metadata": {},
   "source": [
    "Python'da çeşitli veri tipleri (data types) vardır ve bunlar, Python programlamasında farklı türdeki verileri depolamak ve işlemek için kullanılır. "
   ]
  },
  {
   "cell_type": "markdown",
   "id": "be550b2d",
   "metadata": {},
   "source": [
    "## 1. Sayısal Veri Tipleri (Numeric Types)"
   ]
  },
  {
   "cell_type": "markdown",
   "id": "323a2042",
   "metadata": {},
   "source": [
    "int: Tam sayıları temsil eder. Pozitif ve negatif tam sayılar olabilir.\n",
    "Örnek: x = 10"
   ]
  },
  {
   "cell_type": "markdown",
   "id": "31f3ce1f",
   "metadata": {},
   "source": [
    "float: Ondalıklı sayıları (kayan nokta sayıları) temsil eder.\n",
    "Örnek: y = 3.14"
   ]
  },
  {
   "cell_type": "markdown",
   "id": "7379d365",
   "metadata": {},
   "source": [
    "complex: Karmaşık sayılar (gerçek ve sanal kısma sahip sayılar) için kullanılır.\n",
    "Örnek: z = 1 + 2j"
   ]
  },
  {
   "cell_type": "markdown",
   "id": "456b8cfd",
   "metadata": {},
   "source": [
    "## 2. Metinsel Veri Tipi (Text Type)"
   ]
  },
  {
   "cell_type": "markdown",
   "id": "54569375",
   "metadata": {},
   "source": [
    "str: Metin ya da karakter dizilerini temsil eder.\n",
    "Örnek: s = \"Merhaba Dünya\""
   ]
  },
  {
   "cell_type": "markdown",
   "id": "05aef6af",
   "metadata": {},
   "source": [
    "## 3. Dizi Veri Tipleri (Sequence Types)"
   ]
  },
  {
   "cell_type": "markdown",
   "id": "eb17eaba",
   "metadata": {},
   "source": [
    "list: Değiştirilebilir (mutable) ve sıralı bir veri tipidir. Farklı veri tipleri içerebilir.\n",
    "Örnek: liste = [1, 2, \"Python\", 4.5]"
   ]
  },
  {
   "cell_type": "markdown",
   "id": "377c8321",
   "metadata": {},
   "source": [
    "tuple: Değiştirilemeyen (immutable) ve sıralı bir veri tipidir.\n",
    "Örnek: tup = (1, 2, \"Python\", 4.5)"
   ]
  },
  {
   "cell_type": "markdown",
   "id": "7b50a875",
   "metadata": {},
   "source": [
    "range: Belirli bir aralıktaki tam sayıları temsil eder.\n",
    "Örnek: r = range(5) (0’dan 4’e kadar sayıları içerir)"
   ]
  },
  {
   "cell_type": "markdown",
   "id": "fb97965c",
   "metadata": {},
   "source": [
    "## 4. Mapping Veri Tipi (Mapping Type)"
   ]
  },
  {
   "cell_type": "markdown",
   "id": "6423a8fe",
   "metadata": {},
   "source": [
    "dict: Anahtar-değer çiftlerinden oluşan bir veri yapısıdır. Değiştirilebilir ve sırasızdır.\n",
    "Örnek: dict1 = {\"ad\": \"Serhat\", \"yaş\": 25, \"meslek\": \"Mühendis\"}"
   ]
  },
  {
   "cell_type": "markdown",
   "id": "a661a460",
   "metadata": {},
   "source": [
    "## 5. Boolean Veri Tipi (Boolean Type)"
   ]
  },
  {
   "cell_type": "markdown",
   "id": "720e806b",
   "metadata": {},
   "source": [
    "bool: Doğru ya da yanlış (True/False) durumlarını temsil eder. Sonuçlar ya True ya da False olur.\n",
    "Örnek: x = True, y = False"
   ]
  },
  {
   "cell_type": "markdown",
   "id": "60471513",
   "metadata": {},
   "source": [
    "# Bazı temel özellikler"
   ]
  },
  {
   "cell_type": "markdown",
   "id": "48ce71d0",
   "metadata": {},
   "source": [
    "# Hocaya söyle"
   ]
  },
  {
   "cell_type": "code",
   "execution_count": 4,
   "id": "f1153d0d",
   "metadata": {},
   "outputs": [
    {
     "data": {
      "text/plain": [
       "4"
      ]
     },
     "execution_count": 4,
     "metadata": {},
     "output_type": "execute_result"
    }
   ],
   "source": [
    "\n",
    "int('0100',2)\n"
   ]
  },
  {
   "cell_type": "markdown",
   "id": "8745a810",
   "metadata": {},
   "source": [
    "Bu kod, '0100' adlı ikilik (binary) sistemdeki bir sayıyı, onluk (decimal) sistemdeki bir tam sayıya çevirir."
   ]
  },
  {
   "cell_type": "raw",
   "id": "3388801b",
   "metadata": {},
   "source": [
    "'0100' ifadesi ikilik sistemde şu anlama gelir:\n",
    "Binary sayısı: 0100\n",
    "Bu sayıyı onluk sisteme çevirmek için her bir basamağı, 2'nin o basamağın pozisyonuna göre kuvvetiyle çarparız. En sağdaki basamaktan başlayarak:\n",
    "0 * 2³ = 0\n",
    "1 * 2² = 4\n",
    "0 * 2¹ = 0\n",
    "0 * 2⁰ = 0\n",
    "Toplam: 0 + 4 + 0 + 0 = 4"
   ]
  },
  {
   "cell_type": "code",
   "execution_count": 5,
   "id": "459c2818",
   "metadata": {},
   "outputs": [
    {
     "data": {
      "text/plain": [
       "int"
      ]
     },
     "execution_count": 5,
     "metadata": {},
     "output_type": "execute_result"
    }
   ],
   "source": [
    "type(17)"
   ]
  },
  {
   "cell_type": "markdown",
   "id": "bfcf843b",
   "metadata": {},
   "source": [
    "Bir veri tipinin türünü öğrenmek için kullanılan fonksiyondur."
   ]
  },
  {
   "cell_type": "code",
   "execution_count": 6,
   "id": "55313635",
   "metadata": {},
   "outputs": [
    {
     "data": {
      "text/plain": [
       "17"
      ]
     },
     "execution_count": 6,
     "metadata": {},
     "output_type": "execute_result"
    }
   ],
   "source": [
    "(100000).bit_length()\n"
   ]
  },
  {
   "cell_type": "markdown",
   "id": "345c82ab",
   "metadata": {},
   "source": [
    "bit_length() metodu, bir sayının ikilik (binary) gösteriminde kaç bitlik bir uzunluğa sahip olduğunu döndürür. Yani sayının ikilik sistemde gösterimi için kaç bit gerektiğini hesaplar."
   ]
  },
  {
   "cell_type": "code",
   "execution_count": 7,
   "id": "bc5a3746",
   "metadata": {},
   "outputs": [],
   "source": [
    "a = None"
   ]
  },
  {
   "cell_type": "code",
   "execution_count": 8,
   "id": "c21f0322",
   "metadata": {},
   "outputs": [
    {
     "name": "stdout",
     "output_type": "stream",
     "text": [
      "None\n"
     ]
    }
   ],
   "source": [
    "print(a)"
   ]
  },
  {
   "cell_type": "markdown",
   "id": "3bcaaae8",
   "metadata": {},
   "source": [
    "None: Herhangi bir değeri olmayan boş bir nesneyi tanımlar. İlk harf mutlaka büyük yazılmalıdır. \n"
   ]
  },
  {
   "cell_type": "code",
   "execution_count": 9,
   "id": "1dc20bf5",
   "metadata": {},
   "outputs": [
    {
     "data": {
      "text/plain": [
       "False"
      ]
     },
     "execution_count": 9,
     "metadata": {},
     "output_type": "execute_result"
    }
   ],
   "source": [
    "bool(None)\n"
   ]
  },
  {
   "cell_type": "code",
   "execution_count": 10,
   "id": "5ecc313f",
   "metadata": {},
   "outputs": [
    {
     "data": {
      "text/plain": [
       "True"
      ]
     },
     "execution_count": 10,
     "metadata": {},
     "output_type": "execute_result"
    }
   ],
   "source": [
    "bool(1)\n"
   ]
  },
  {
   "cell_type": "code",
   "execution_count": 11,
   "id": "90579933",
   "metadata": {},
   "outputs": [
    {
     "data": {
      "text/plain": [
       "False"
      ]
     },
     "execution_count": 11,
     "metadata": {},
     "output_type": "execute_result"
    }
   ],
   "source": [
    "bool(0)\n"
   ]
  },
  {
   "cell_type": "code",
   "execution_count": 12,
   "id": "15a2ba52",
   "metadata": {},
   "outputs": [
    {
     "data": {
      "text/plain": [
       "1"
      ]
     },
     "execution_count": 12,
     "metadata": {},
     "output_type": "execute_result"
    }
   ],
   "source": [
    "True + False\n"
   ]
  },
  {
   "cell_type": "markdown",
   "id": "4f86a85a",
   "metadata": {},
   "source": [
    "# String Veri Tipi Özellikleri ve Metodları"
   ]
  },
  {
   "cell_type": "markdown",
   "id": "a96fecf3",
   "metadata": {},
   "source": [
    "Python'da metin veri tipi (string), karakter dizilerini temsil eder ve str sınıfı ile tanımlanır. Stringler, tek tırnak ('...') veya çift tırnak (\"...\") ile oluşturulabilir. "
   ]
  },
  {
   "cell_type": "code",
   "execution_count": 14,
   "id": "cf736dd6",
   "metadata": {},
   "outputs": [
    {
     "name": "stdout",
     "output_type": "stream",
     "text": [
      "Merhaba Dünya\n"
     ]
    }
   ],
   "source": [
    "# Tek tırnak\n",
    "text1 = 'Merhaba Dünya'\n",
    "print(text1)"
   ]
  },
  {
   "cell_type": "code",
   "execution_count": 15,
   "id": "a49c5def",
   "metadata": {},
   "outputs": [
    {
     "name": "stdout",
     "output_type": "stream",
     "text": [
      "Python Programlama\n"
     ]
    }
   ],
   "source": [
    "# Çift tırnak\n",
    "text2 = \"Python Programlama\"\n",
    "print(text2)"
   ]
  },
  {
   "cell_type": "code",
   "execution_count": 16,
   "id": "b85c27ac",
   "metadata": {},
   "outputs": [
    {
     "name": "stdout",
     "output_type": "stream",
     "text": [
      "Bu bir \n",
      "çok satırlı\n",
      "string\n"
     ]
    }
   ],
   "source": [
    "# Üçlü tırnaklarla (çok satırlı stringler)\n",
    "text3 = '''Bu bir \n",
    "çok satırlı\n",
    "string'''\n",
    "print(text3)"
   ]
  },
  {
   "cell_type": "code",
   "execution_count": 18,
   "id": "c569e212",
   "metadata": {},
   "outputs": [
    {
     "name": "stdout",
     "output_type": "stream",
     "text": [
      "Bu da\n",
      "çok satırlı\n",
      "string\n"
     ]
    }
   ],
   "source": [
    "text4 = \"\"\"Bu da\n",
    "çok satırlı\n",
    "string\"\"\"\n",
    "print(text4)"
   ]
  },
  {
   "cell_type": "markdown",
   "id": "65e030eb",
   "metadata": {},
   "source": [
    "## String Metotları"
   ]
  },
  {
   "cell_type": "markdown",
   "id": "086e9584",
   "metadata": {},
   "source": [
    "Python'da stringlerle çalışırken birçok yerleşik metot mevcuttur. Bunlar stringler üzerinde işlem yapmak için kullanılır. "
   ]
  },
  {
   "cell_type": "markdown",
   "id": "9243350a",
   "metadata": {},
   "source": [
    "## 1. len()"
   ]
  },
  {
   "cell_type": "markdown",
   "id": "d643f074",
   "metadata": {},
   "source": [
    "Stringin uzunluğunu döndürür (karakter sayısı)."
   ]
  },
  {
   "cell_type": "code",
   "execution_count": 21,
   "id": "7176568d",
   "metadata": {},
   "outputs": [
    {
     "name": "stdout",
     "output_type": "stream",
     "text": [
      "6\n"
     ]
    }
   ],
   "source": [
    "text = \"Python\"\n",
    "print(len(text)) "
   ]
  },
  {
   "cell_type": "markdown",
   "id": "5820816c",
   "metadata": {},
   "source": [
    "## 2. upper()\n",
    "Stringi tamamen büyük harfe çevirir."
   ]
  },
  {
   "cell_type": "code",
   "execution_count": 22,
   "id": "5d867adc",
   "metadata": {},
   "outputs": [
    {
     "name": "stdout",
     "output_type": "stream",
     "text": [
      "PYTHON\n"
     ]
    }
   ],
   "source": [
    "text = \"Python\"\n",
    "print(text.upper()) "
   ]
  },
  {
   "cell_type": "markdown",
   "id": "d530d1d8",
   "metadata": {},
   "source": [
    "## 3. lower()\n",
    "Stringi tamamen küçük harfe çevirir."
   ]
  },
  {
   "cell_type": "code",
   "execution_count": 24,
   "id": "ad87dc0a",
   "metadata": {},
   "outputs": [
    {
     "name": "stdout",
     "output_type": "stream",
     "text": [
      "python\n"
     ]
    }
   ],
   "source": [
    "text = \"Python\"\n",
    "print(text.lower()) "
   ]
  },
  {
   "cell_type": "markdown",
   "id": "82d75143",
   "metadata": {},
   "source": [
    "## 4. capitalize()\n",
    "Stringin sadece ilk harfini büyük yapar."
   ]
  },
  {
   "cell_type": "code",
   "execution_count": 25,
   "id": "28cf4293",
   "metadata": {},
   "outputs": [
    {
     "name": "stdout",
     "output_type": "stream",
     "text": [
      "Python programlama\n"
     ]
    }
   ],
   "source": [
    "text = \"python programlama\"\n",
    "print(text.capitalize())  "
   ]
  },
  {
   "cell_type": "markdown",
   "id": "69201612",
   "metadata": {},
   "source": [
    "## 5. title()\n",
    "Stringdeki her kelimenin baş harfini büyük yapar."
   ]
  },
  {
   "cell_type": "code",
   "execution_count": 26,
   "id": "f7b4aff0",
   "metadata": {},
   "outputs": [
    {
     "name": "stdout",
     "output_type": "stream",
     "text": [
      "Python Programlama Dili\n"
     ]
    }
   ],
   "source": [
    "text = \"python programlama dili\"\n",
    "print(text.title()) "
   ]
  },
  {
   "cell_type": "markdown",
   "id": "84e307cf",
   "metadata": {},
   "source": [
    "## 6. replace(old, new)\n",
    "String içinde belirli bir karakter dizisini başka bir diziyle değiştirir."
   ]
  },
  {
   "cell_type": "code",
   "execution_count": 28,
   "id": "3169433d",
   "metadata": {},
   "outputs": [
    {
     "name": "stdout",
     "output_type": "stream",
     "text": [
      "Merhaba Python\n"
     ]
    }
   ],
   "source": [
    "text = \"Merhaba Dünya\"\n",
    "print(text.replace(\"Dünya\", \"Python\"))  "
   ]
  },
  {
   "cell_type": "markdown",
   "id": "ccc59abb",
   "metadata": {},
   "source": [
    "## 7. strip()\n",
    "Stringin başındaki ve sonundaki boşlukları kaldırır."
   ]
  },
  {
   "cell_type": "code",
   "execution_count": 29,
   "id": "a95c14ca",
   "metadata": {},
   "outputs": [
    {
     "name": "stdout",
     "output_type": "stream",
     "text": [
      "Python\n"
     ]
    }
   ],
   "source": [
    "text = \"   Python   \"\n",
    "print(text.strip()) "
   ]
  },
  {
   "cell_type": "markdown",
   "id": "7ca203ed",
   "metadata": {},
   "source": [
    "## 8. split(separator)\n",
    "Stringi belirli bir ayırıcıya göre böler ve liste olarak döner."
   ]
  },
  {
   "cell_type": "code",
   "execution_count": 30,
   "id": "919671ec",
   "metadata": {},
   "outputs": [
    {
     "name": "stdout",
     "output_type": "stream",
     "text": [
      "['Python', 'Java', 'C++']\n"
     ]
    }
   ],
   "source": [
    "text = \"Python,Java,C++\"\n",
    "print(text.split(\",\"))  "
   ]
  },
  {
   "cell_type": "markdown",
   "id": "736c0c2a",
   "metadata": {},
   "source": [
    "## 9. join(iterable)\n",
    "Bir liste gibi elemanları birleştirip bir string oluşturur."
   ]
  },
  {
   "cell_type": "code",
   "execution_count": 31,
   "id": "5f360284",
   "metadata": {},
   "outputs": [
    {
     "name": "stdout",
     "output_type": "stream",
     "text": [
      "Python, Java, C++\n"
     ]
    }
   ],
   "source": [
    "languages = [\"Python\", \"Java\", \"C++\"]\n",
    "print(\", \".join(languages))  "
   ]
  },
  {
   "cell_type": "markdown",
   "id": "2a0d474c",
   "metadata": {},
   "source": [
    "## 10. find(substring)\n",
    "String içinde belirli bir alt diziyi arar ve bulunduğu ilk indeksini döner. Eğer alt dizi bulunamazsa -1 döner."
   ]
  },
  {
   "cell_type": "code",
   "execution_count": 33,
   "id": "47db15f5",
   "metadata": {},
   "outputs": [
    {
     "name": "stdout",
     "output_type": "stream",
     "text": [
      "8\n"
     ]
    }
   ],
   "source": [
    "text = \"Merhaba Python\"\n",
    "print(text.find(\"Python\"))  "
   ]
  },
  {
   "cell_type": "markdown",
   "id": "58257bee",
   "metadata": {},
   "source": [
    "## 11. count(substring)\n",
    "Belirli bir alt dizinin string içinde kaç kez geçtiğini sayar."
   ]
  },
  {
   "cell_type": "code",
   "execution_count": 35,
   "id": "202c7d67",
   "metadata": {},
   "outputs": [
    {
     "name": "stdout",
     "output_type": "stream",
     "text": [
      "3\n"
     ]
    }
   ],
   "source": [
    "text = \"Python Python Python\"\n",
    "print(text.count(\"Python\")) "
   ]
  },
  {
   "cell_type": "markdown",
   "id": "33fcdaf9",
   "metadata": {},
   "source": [
    "## 12. startswith(substring)\n",
    "Stringin belirli bir alt diziyle başlayıp başlamadığını kontrol eder (True/False döner)."
   ]
  },
  {
   "cell_type": "code",
   "execution_count": 36,
   "id": "0abe4b66",
   "metadata": {},
   "outputs": [
    {
     "name": "stdout",
     "output_type": "stream",
     "text": [
      "True\n"
     ]
    }
   ],
   "source": [
    "text = \"Python Programlama\"\n",
    "print(text.startswith(\"Python\")) "
   ]
  },
  {
   "cell_type": "markdown",
   "id": "d8d9fe3b",
   "metadata": {},
   "source": [
    "## 13. endswith(substring)\n",
    "Stringin belirli bir alt diziyle bitip bitmediğini kontrol eder (True/False döner)."
   ]
  },
  {
   "cell_type": "code",
   "execution_count": 37,
   "id": "d4892ccc",
   "metadata": {},
   "outputs": [
    {
     "name": "stdout",
     "output_type": "stream",
     "text": [
      "True\n"
     ]
    }
   ],
   "source": [
    "text = \"Python Programlama\"\n",
    "print(text.endswith(\"lama\")) "
   ]
  },
  {
   "cell_type": "markdown",
   "id": "dfe4489a",
   "metadata": {},
   "source": [
    "## String İndeksleme ve Dilimleme:\n",
    "Stringler sıralı karakter dizileri olduğundan, belirli indekslere erişmek veya bir dilim almak mümkündür."
   ]
  },
  {
   "cell_type": "code",
   "execution_count": 38,
   "id": "e1ca6f16",
   "metadata": {},
   "outputs": [
    {
     "name": "stdout",
     "output_type": "stream",
     "text": [
      "P\n",
      "h\n",
      "n\n",
      "yth\n",
      "Pyt\n",
      "hon\n"
     ]
    }
   ],
   "source": [
    "text = \"Python\"\n",
    "\n",
    "# İndeksleme (0 tabanlıdır)\n",
    "print(text[0])  \n",
    "print(text[3])  \n",
    "\n",
    "# Negatif indeksleme (sondan başa doğru sayar)\n",
    "print(text[-1])  \n",
    "\n",
    "# Dilimleme\n",
    "print(text[1:4])  #(1. indeksten 4. indekse kadar)\n",
    "print(text[:3])   #(başlangıçtan 3. indekse kadar)\n",
    "print(text[3:])   #(3. indeksten sona kadar)"
   ]
  },
  {
   "cell_type": "markdown",
   "id": "93b92065",
   "metadata": {},
   "source": [
    "String sorgu metodları, Python'da stringlerin belirli bir koşulu sağlayıp sağlamadığını kontrol etmek için kullanılan metodlardır. Bu metodlar genellikle True veya False döner ve stringlerin durumunu sorgulamak için kullanılırlar. İşte yaygın kullanılan string sorgu metodları:"
   ]
  },
  {
   "cell_type": "markdown",
   "id": "fc4f89b7",
   "metadata": {},
   "source": [
    "## 1. isupper()\n",
    "Stringdeki tüm harfler büyük harfse True, değilse False döner. "
   ]
  },
  {
   "cell_type": "code",
   "execution_count": 1,
   "id": "33ddd8e2",
   "metadata": {},
   "outputs": [
    {
     "name": "stdout",
     "output_type": "stream",
     "text": [
      "True\n"
     ]
    }
   ],
   "source": [
    "text = \"HELLO\"\n",
    "print(text.isupper())  "
   ]
  },
  {
   "cell_type": "markdown",
   "id": "e66bb5c3",
   "metadata": {},
   "source": [
    "## 2. islower()\n",
    "Stringdeki tüm harfler küçük harfse True, değilse False döner."
   ]
  },
  {
   "cell_type": "code",
   "execution_count": 2,
   "id": "11d5c0f8",
   "metadata": {},
   "outputs": [
    {
     "name": "stdout",
     "output_type": "stream",
     "text": [
      "False\n"
     ]
    }
   ],
   "source": [
    "text=\"Hello\"\n",
    "print(text.islower())"
   ]
  },
  {
   "cell_type": "markdown",
   "id": "39102f95",
   "metadata": {},
   "source": [
    "## 3. isalpha()\n",
    "Stringin sadece harflerden oluşup oluşmadığını kontrol eder. Eğer string sadece harf içeriyorsa True, aksi takdirde False döner."
   ]
  },
  {
   "cell_type": "code",
   "execution_count": 3,
   "id": "35aa6af5",
   "metadata": {},
   "outputs": [
    {
     "name": "stdout",
     "output_type": "stream",
     "text": [
      "True\n"
     ]
    }
   ],
   "source": [
    "text = \"Python\"\n",
    "print(text.isalpha())"
   ]
  },
  {
   "cell_type": "markdown",
   "id": "cf14bd19",
   "metadata": {},
   "source": [
    "## 4. isdigit()\n",
    "Stringin sadece rakamlardan oluşup oluşmadığını kontrol eder. Eğer string sadece rakam içeriyorsa True, değilse False döner."
   ]
  },
  {
   "cell_type": "code",
   "execution_count": 4,
   "id": "b490d614",
   "metadata": {},
   "outputs": [
    {
     "name": "stdout",
     "output_type": "stream",
     "text": [
      "True\n"
     ]
    }
   ],
   "source": [
    "text=\"12345\"\n",
    "print(text.isdigit())"
   ]
  },
  {
   "cell_type": "markdown",
   "id": "93e60fdd",
   "metadata": {},
   "source": [
    "## 5. isalnum()\n",
    "Stringin sadece harf ve rakamlardan oluşup oluşmadığını kontrol eder. Harfler ve rakamlar dışında karakter varsa False döner.\n",
    "\n"
   ]
  },
  {
   "cell_type": "code",
   "execution_count": 5,
   "id": "558c2afa",
   "metadata": {},
   "outputs": [
    {
     "name": "stdout",
     "output_type": "stream",
     "text": [
      "True\n"
     ]
    }
   ],
   "source": [
    "text = \"Python123\"\n",
    "print(text.isalnum())  "
   ]
  },
  {
   "cell_type": "markdown",
   "id": "0916893a",
   "metadata": {},
   "source": [
    "## 6. isspace()\n",
    "Stringin sadece boşluk karakterlerinden oluşup oluşmadığını kontrol eder. Eğer string sadece boşluklardan oluşuyorsa True, aksi takdirde False döner."
   ]
  },
  {
   "cell_type": "code",
   "execution_count": 8,
   "id": "60fd5ef8",
   "metadata": {},
   "outputs": [
    {
     "name": "stdout",
     "output_type": "stream",
     "text": [
      "True\n"
     ]
    }
   ],
   "source": [
    "text = \"   \"\n",
    "print(text.isspace())  # Çıktı: True"
   ]
  },
  {
   "cell_type": "markdown",
   "id": "5fc726ab",
   "metadata": {},
   "source": [
    "## 7. istitle()\n",
    "Stringin başlık formatında olup olmadığını kontrol eder. Yani her kelimenin ilk harfi büyük, diğer harfleri küçükse True, aksi halde False döner."
   ]
  },
  {
   "cell_type": "code",
   "execution_count": 7,
   "id": "1a7a475b",
   "metadata": {},
   "outputs": [
    {
     "name": "stdout",
     "output_type": "stream",
     "text": [
      "True\n"
     ]
    }
   ],
   "source": [
    "text = \"Hello World\"\n",
    "print(text.istitle())  "
   ]
  },
  {
   "cell_type": "markdown",
   "id": "81b30bf5",
   "metadata": {},
   "source": [
    "## 8. startswith(prefix)\n",
    "Stringin belirli bir alt string ile başlayıp başlamadığını kontrol eder. Eğer belirtilen alt string ile başlıyorsa True, aksi takdirde False döner."
   ]
  },
  {
   "cell_type": "code",
   "execution_count": 9,
   "id": "4ca48968",
   "metadata": {},
   "outputs": [
    {
     "name": "stdout",
     "output_type": "stream",
     "text": [
      "True\n"
     ]
    }
   ],
   "source": [
    "text = \"Python programming\"\n",
    "print(text.startswith(\"Python\")) "
   ]
  },
  {
   "cell_type": "markdown",
   "id": "b35215f0",
   "metadata": {},
   "source": [
    "## 9. endswith(suffix)\n",
    "Stringin belirli bir alt string ile bitip bitmediğini kontrol eder. Eğer belirtilen alt string ile bitiyorsa True, aksi halde False döner."
   ]
  },
  {
   "cell_type": "code",
   "execution_count": 10,
   "id": "405f6d66",
   "metadata": {},
   "outputs": [
    {
     "name": "stdout",
     "output_type": "stream",
     "text": [
      "True\n"
     ]
    }
   ],
   "source": [
    "text = \"Python programming\"\n",
    "print(text.endswith(\"ing\"))  "
   ]
  },
  {
   "cell_type": "markdown",
   "id": "7e02712f",
   "metadata": {},
   "source": [
    "## 10. isnumeric()\n",
    "Stringin sadece sayı karakterlerinden oluşup oluşmadığını kontrol eder. Eğer string tamamen sayısal bir karakterse (örneğin, rakamlar veya unicode sayılar), True döner."
   ]
  },
  {
   "cell_type": "code",
   "execution_count": 13,
   "id": "30b2fc71",
   "metadata": {},
   "outputs": [
    {
     "name": "stdout",
     "output_type": "stream",
     "text": [
      "True\n"
     ]
    }
   ],
   "source": [
    "text = \"12345\"\n",
    "print(text.isnumeric())"
   ]
  },
  {
   "cell_type": "markdown",
   "id": "fb97c2f5",
   "metadata": {},
   "source": [
    "## 11. isdecimal()\n",
    "Stringin ondalık rakamlardan oluşup oluşmadığını kontrol eder. Eğer string tamamen ondalık sayı içeriyorsa True döner."
   ]
  },
  {
   "cell_type": "code",
   "execution_count": 12,
   "id": "294e5909",
   "metadata": {},
   "outputs": [
    {
     "name": "stdout",
     "output_type": "stream",
     "text": [
      "True\n"
     ]
    }
   ],
   "source": [
    "text = \"12345\"\n",
    "print(text.isdecimal()) "
   ]
  },
  {
   "cell_type": "code",
   "execution_count": 14,
   "id": "24938454",
   "metadata": {},
   "outputs": [
    {
     "name": "stdout",
     "output_type": "stream",
     "text": [
      "False\n",
      "False\n",
      "True\n",
      "True\n",
      "True\n"
     ]
    }
   ],
   "source": [
    "text = \"Hello123\"\n",
    "print(text.isalpha())    \n",
    "print(text.isdigit())     \n",
    "print(text.isalnum())    \n",
    "print(text.startswith(\"Hello\"))  \n",
    "print(text.endswith(\"123\"))      "
   ]
  },
  {
   "cell_type": "markdown",
   "id": "018f7511",
   "metadata": {},
   "source": [
    "# Byte Veri Tipi"
   ]
  },
  {
   "cell_type": "markdown",
   "id": "d0c30dfd",
   "metadata": {},
   "source": [
    "\n",
    "Python'da byte veri tipi, ham veri (raw data) veya ikili veriyi (binary data) temsil eden bir veri tipidir. byte veri tipi, sadece 0-255 aralığındaki tam sayı değerlerini tutar. Bir byte dizisi (sequence of bytes) aslında bir immutable (değiştirilemez) veri yapısıdır ve her bir byte, 8-bitlik bir veri parçasıdır."
   ]
  },
  {
   "cell_type": "markdown",
   "id": "25413d0a",
   "metadata": {},
   "source": [
    "## Byte Dizesi (Byte String) Tanımlama\n",
    "b'...' Söz Dizimi: Byte dizileri b ön ekini kullanarak tanımlanır."
   ]
  },
  {
   "cell_type": "code",
   "execution_count": 15,
   "id": "20b378e6",
   "metadata": {},
   "outputs": [
    {
     "name": "stdout",
     "output_type": "stream",
     "text": [
      "b'Hello'\n"
     ]
    }
   ],
   "source": [
    "byte_data = b\"Hello\"\n",
    "print(byte_data)  "
   ]
  },
  {
   "cell_type": "markdown",
   "id": "d66702eb",
   "metadata": {},
   "source": [
    "bytes() Fonksiyonu: bytes() fonksiyonu ile byte dizisi oluşturabilirsiniz."
   ]
  },
  {
   "cell_type": "code",
   "execution_count": 16,
   "id": "9844ccbf",
   "metadata": {},
   "outputs": [
    {
     "name": "stdout",
     "output_type": "stream",
     "text": [
      "b'Hello'\n"
     ]
    }
   ],
   "source": [
    "byte_data = bytes([72, 101, 108, 108, 111])  # ASCII kodları\n",
    "print(byte_data) "
   ]
  },
  {
   "cell_type": "markdown",
   "id": "3e469171",
   "metadata": {},
   "source": [
    "## Byte Veri Tipi ile Çalışma\n",
    "ASCII Karakterlerle Byte Dizisi: Bir stringi byte dizisine çevirmek için encode() metodu kullanılır."
   ]
  },
  {
   "cell_type": "code",
   "execution_count": 17,
   "id": "c1305b4f",
   "metadata": {},
   "outputs": [
    {
     "name": "stdout",
     "output_type": "stream",
     "text": [
      "b'Hello'\n"
     ]
    }
   ],
   "source": [
    "text = \"Hello\"\n",
    "byte_data = text.encode('utf-8')\n",
    "print(byte_data)  "
   ]
  },
  {
   "cell_type": "markdown",
   "id": "4351af1a",
   "metadata": {},
   "source": [
    "Byte Dizisini Stringe Dönüştürme: \n",
    "Byte dizisini tekrar string haline çevirmek için decode() metodu kullanılır."
   ]
  },
  {
   "cell_type": "code",
   "execution_count": 18,
   "id": "2f2b3912",
   "metadata": {},
   "outputs": [
    {
     "name": "stdout",
     "output_type": "stream",
     "text": [
      "Hello\n"
     ]
    }
   ],
   "source": [
    "decoded_text = byte_data.decode('utf-8')\n",
    "print(decoded_text)  "
   ]
  },
  {
   "cell_type": "markdown",
   "id": "cfda08d2",
   "metadata": {},
   "source": [
    "## Özellikler\n",
    "Immutable (Değiştirilemez): Byte dizisi stringler gibi immutable'dır, yani oluşturulduktan sonra değiştirilemez.\n",
    "Her Eleman Bir Tam Sayıdır: Her byte elemanı, 0 ile 255 arasında bir tam sayı değeridir."
   ]
  },
  {
   "cell_type": "code",
   "execution_count": null,
   "id": "a83c58a6",
   "metadata": {},
   "outputs": [],
   "source": []
  }
 ],
 "metadata": {
  "kernelspec": {
   "display_name": "Python 3 (ipykernel)",
   "language": "python",
   "name": "python3"
  },
  "language_info": {
   "codemirror_mode": {
    "name": "ipython",
    "version": 3
   },
   "file_extension": ".py",
   "mimetype": "text/x-python",
   "name": "python",
   "nbconvert_exporter": "python",
   "pygments_lexer": "ipython3",
   "version": "3.9.13"
  }
 },
 "nbformat": 4,
 "nbformat_minor": 5
}
