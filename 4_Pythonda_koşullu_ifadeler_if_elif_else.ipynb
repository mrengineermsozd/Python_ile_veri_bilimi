{
 "cells": [
  {
   "cell_type": "markdown",
   "id": "1b2d8fac",
   "metadata": {},
   "source": [
    "Python'da koşullu ifadeler, belirli koşullara bağlı olarak kod bloklarının çalıştırılmasını sağlayan yapılar olarak kullanılır. Python'da koşullu ifadeler, if, elif ve else anahtar kelimeleri ile yazılır. Bu yapılar, bir ifade doğru (True) olduğunda belirli bir kodun çalıştırılmasını sağlar; eğer ifade yanlış (False) ise başka bir kod bloğu çalıştırılabilir."
   ]
  },
  {
   "cell_type": "markdown",
   "id": "f55f9e78",
   "metadata": {},
   "source": [
    "## if: \n",
    "Eğer koşul doğruysa, if bloğu içindeki kod çalıştırılır.\n",
    "## elif: (else if) \n",
    "İlk koşul yanlışsa, başka bir koşul kontrol edilebilir. Birden fazla elif ifadesi kullanılabilir.\n",
    "## else:\n",
    "Tüm if ve elif ifadeleri yanlışsa, else bloğundaki kod çalıştırılır."
   ]
  },
  {
   "cell_type": "raw",
   "id": "ec0a1a5c",
   "metadata": {},
   "source": [
    "if koşul:\n",
    "    # Koşul doğruysa çalışacak kod\n",
    "elif başka_koşul:\n",
    "    # İlk koşul yanlış ama bu doğruysa çalışacak kod\n",
    "else:\n",
    "    # Tüm koşullar yanlışsa çalışacak kod"
   ]
  },
  {
   "cell_type": "markdown",
   "id": "5cddc7c6",
   "metadata": {},
   "source": [
    "## 1. Tek bir if ifadesi "
   ]
  },
  {
   "cell_type": "code",
   "execution_count": 3,
   "id": "896d0330",
   "metadata": {},
   "outputs": [
    {
     "name": "stdout",
     "output_type": "stream",
     "text": [
      "x, 3'ten büyüktür.\n"
     ]
    }
   ],
   "source": [
    "x = 5\n",
    "\n",
    "if x > 3:\n",
    "    print(\"x, 3'ten büyüktür.\")  # Bu çalışır çünkü x > 3"
   ]
  },
  {
   "cell_type": "markdown",
   "id": "e934afa4",
   "metadata": {},
   "source": [
    "## 2. if ve else\n"
   ]
  },
  {
   "cell_type": "code",
   "execution_count": 4,
   "id": "105ab87c",
   "metadata": {},
   "outputs": [
    {
     "name": "stdout",
     "output_type": "stream",
     "text": [
      "x, 3'ten büyük değildir.\n"
     ]
    }
   ],
   "source": [
    "x = 2\n",
    "\n",
    "if x > 3:\n",
    "    print(\"x, 3'ten büyüktür.\")\n",
    "else:\n",
    "    print(\"x, 3'ten büyük değildir.\")  # Bu çalışır çünkü x <= 3"
   ]
  },
  {
   "cell_type": "markdown",
   "id": "f40f8ba2",
   "metadata": {},
   "source": [
    "## 3. if, elif ve else"
   ]
  },
  {
   "cell_type": "code",
   "execution_count": 5,
   "id": "7a272ba9",
   "metadata": {},
   "outputs": [
    {
     "name": "stdout",
     "output_type": "stream",
     "text": [
      "x, 10'a eşittir.\n"
     ]
    }
   ],
   "source": [
    "x = 10\n",
    "\n",
    "if x < 5:\n",
    "    print(\"x, 5'ten küçüktür.\")\n",
    "elif x == 10:\n",
    "    print(\"x, 10'a eşittir.\")  # Bu çalışır çünkü x == 10\n",
    "else:\n",
    "    print(\"x, 10'dan büyüktür.\")"
   ]
  },
  {
   "cell_type": "markdown",
   "id": "0263e25d",
   "metadata": {},
   "source": [
    "## 4. Birden fazla elif kullanımı"
   ]
  },
  {
   "cell_type": "code",
   "execution_count": 6,
   "id": "0f42e5bf",
   "metadata": {},
   "outputs": [
    {
     "name": "stdout",
     "output_type": "stream",
     "text": [
      "x, 5'ten büyük ve 10'dan küçüktür.\n"
     ]
    }
   ],
   "source": [
    "x = 8\n",
    "\n",
    "if x < 5:\n",
    "    print(\"x, 5'ten küçüktür.\")\n",
    "elif x == 5:\n",
    "    print(\"x, 5'e eşittir.\")\n",
    "elif x < 10:\n",
    "    print(\"x, 5'ten büyük ve 10'dan küçüktür.\")  # Bu çalışır çünkü x < 10\n",
    "else:\n",
    "    print(\"x, 10 veya daha büyüktür.\")"
   ]
  },
  {
   "cell_type": "code",
   "execution_count": 8,
   "id": "973eb4ed",
   "metadata": {},
   "outputs": [
    {
     "name": "stdout",
     "output_type": "stream",
     "text": [
      "CC\n"
     ]
    }
   ],
   "source": [
    "grade = 65\n",
    "if grade >= 85:\n",
    "    letter_grade = \"AA\"\n",
    "elif grade >= 70: \n",
    "    letter_grade = \"BB\"\n",
    "elif grade >= 60:   \n",
    "    letter_grade = \"CC\"\n",
    "elif grade >= 50:   \n",
    "    letter_grade = \"DD\"\n",
    "else:\n",
    "    letter_grade = \"FF\"\n",
    "print(f\"{letter_grade}\")\n"
   ]
  },
  {
   "cell_type": "markdown",
   "id": "bd808837",
   "metadata": {},
   "source": [
    "## Koşullu İfadelerde Mantıksal Operatörler"
   ]
  },
  {
   "cell_type": "markdown",
   "id": "702f478f",
   "metadata": {},
   "source": [
    "and, or, not gibi mantıksal operatörler koşullarla birlikte kullanılabilir."
   ]
  },
  {
   "cell_type": "code",
   "execution_count": 9,
   "id": "bba3216a",
   "metadata": {},
   "outputs": [
    {
     "name": "stdout",
     "output_type": "stream",
     "text": [
      "Koşul doğru.\n"
     ]
    }
   ],
   "source": [
    "x = 7\n",
    "y = 3\n",
    "\n",
    "if x > 5 and y < 5:\n",
    "    print(\"Koşul doğru.\")"
   ]
  },
  {
   "cell_type": "markdown",
   "id": "209d582f",
   "metadata": {},
   "source": [
    "# Koşullu İfadelerde in ve not in Operatörleri\n",
    "Bir veri yapısı içinde bir eleman olup olmadığını kontrol etmek için kullanılır."
   ]
  },
  {
   "cell_type": "code",
   "execution_count": 10,
   "id": "09b0957b",
   "metadata": {},
   "outputs": [
    {
     "name": "stdout",
     "output_type": "stream",
     "text": [
      "Elma listede var.\n"
     ]
    }
   ],
   "source": [
    "meyveler = [\"elma\", \"armut\", \"muz\"]\n",
    "\n",
    "if \"elma\" in meyveler:\n",
    "    print(\"Elma listede var.\")"
   ]
  },
  {
   "cell_type": "code",
   "execution_count": null,
   "id": "ada4ce98",
   "metadata": {},
   "outputs": [],
   "source": []
  }
 ],
 "metadata": {
  "kernelspec": {
   "display_name": "Python 3 (ipykernel)",
   "language": "python",
   "name": "python3"
  },
  "language_info": {
   "codemirror_mode": {
    "name": "ipython",
    "version": 3
   },
   "file_extension": ".py",
   "mimetype": "text/x-python",
   "name": "python",
   "nbconvert_exporter": "python",
   "pygments_lexer": "ipython3",
   "version": "3.9.13"
  }
 },
 "nbformat": 4,
 "nbformat_minor": 5
}
