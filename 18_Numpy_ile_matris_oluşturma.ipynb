{
 "cells": [
  {
   "cell_type": "markdown",
   "id": "50169941",
   "metadata": {},
   "source": [
    "NumPy, matris oluşturmak ve işlemler yapmak için etkili bir araçtır. NumPy'de matrisler, iki boyutlu diziler (ndarray) olarak temsil edilir. Aşağıda NumPy kullanarak farklı yöntemlerle matris oluşturma yöntemleri açıklanmıştır:"
   ]
  },
  {
   "cell_type": "markdown",
   "id": "d8a32da0",
   "metadata": {},
   "source": [
    "### 1. Elle Veri Girerek Matris Oluşturma\n",
    "Diziler kullanılarak manuel olarak matris oluşturulabilir."
   ]
  },
  {
   "cell_type": "code",
   "execution_count": 3,
   "id": "026aa9e2",
   "metadata": {},
   "outputs": [
    {
     "name": "stdout",
     "output_type": "stream",
     "text": [
      "[[1 2 3]\n",
      " [4 5 6]\n",
      " [7 8 9]]\n"
     ]
    }
   ],
   "source": [
    "import numpy as np\n",
    "a=np.array([[1,2,3],\n",
    "           [4,5,6],\n",
    "           [7,8,9]])\n",
    "print(a)\n",
    "#bu örnekte 3x3 boyutunda bir matris oluşturmuş olduk."
   ]
  },
  {
   "cell_type": "markdown",
   "id": "d4027395",
   "metadata": {},
   "source": [
    "### 2. Sıfırdan Matris Oluşturma\n",
    "np.zeros() metodu ile sıfırlardan oluşan bir matris oluşturabilirsiniz."
   ]
  },
  {
   "cell_type": "code",
   "execution_count": 5,
   "id": "5c32026b",
   "metadata": {},
   "outputs": [
    {
     "name": "stdout",
     "output_type": "stream",
     "text": [
      "[[0. 0. 0.]\n",
      " [0. 0. 0.]\n",
      " [0. 0. 0.]]\n"
     ]
    }
   ],
   "source": [
    "b=np.zeros((3,3))\n",
    "print(b)\n",
    "#bu kod ile 3x3 boyutlarında 0'lardan oluşan \n",
    "#bir matris oluşturmuş oluyoruz"
   ]
  },
  {
   "cell_type": "markdown",
   "id": "2ca09c7d",
   "metadata": {},
   "source": [
    "### 3. Birlerden Matris Oluşturma\n",
    "np.ones() metodu ile birlerden oluşan bir matris oluşturabilirsiniz."
   ]
  },
  {
   "cell_type": "code",
   "execution_count": 8,
   "id": "7a9fd6b6",
   "metadata": {},
   "outputs": [
    {
     "name": "stdout",
     "output_type": "stream",
     "text": [
      "[[1. 1. 1. 1.]\n",
      " [1. 1. 1. 1.]\n",
      " [1. 1. 1. 1.]]\n"
     ]
    }
   ],
   "source": [
    "c=np.ones((3,4))\n",
    "print(c)\n",
    "#bu kod ile 3x4 boyutunda 1'lerden oluşan\n",
    "#bir matris oluşturulmuş olur"
   ]
  },
  {
   "cell_type": "markdown",
   "id": "5dae32f9",
   "metadata": {},
   "source": [
    "### 4. Belirli Bir Değerle Doldurulmuş Matris\n",
    "np.full() metodu ile bir matrisi istediğiniz değerle doldurabilirsiniz."
   ]
  },
  {
   "cell_type": "code",
   "execution_count": 10,
   "id": "1048f826",
   "metadata": {},
   "outputs": [
    {
     "name": "stdout",
     "output_type": "stream",
     "text": [
      "[[7 7 7 7 7]\n",
      " [7 7 7 7 7]\n",
      " [7 7 7 7 7]\n",
      " [7 7 7 7 7]]\n"
     ]
    }
   ],
   "source": [
    "d=np.full((4,5),7)\n",
    "print(d)\n",
    "#bu kod ile 4x5 boyutlarında 7'lerden \n",
    "#oluşan bir matris oluşturmuş oluyoruz."
   ]
  },
  {
   "cell_type": "markdown",
   "id": "6cfb796c",
   "metadata": {},
   "source": [
    "### 5. Rastgele Sayılarla Matris\n",
    "np.random.rand() ve np.random.randint() rastgele değerlerle matrisler oluşturur."
   ]
  },
  {
   "cell_type": "code",
   "execution_count": 12,
   "id": "0965e10e",
   "metadata": {},
   "outputs": [
    {
     "name": "stdout",
     "output_type": "stream",
     "text": [
      "[[0.7455033  0.68070819 0.90620482]\n",
      " [0.88552025 0.57474779 0.86585762]\n",
      " [0.34834248 0.95664255 0.56770355]]\n"
     ]
    }
   ],
   "source": [
    "e=np.random.rand(3,3)\n",
    "print(e)\n",
    "#0 ile 1 arasındaki değerlerden 3x3 boyutlarında\n",
    "#bir matris oluşturmuş oluyoruz"
   ]
  },
  {
   "cell_type": "code",
   "execution_count": 14,
   "id": "2b99642d",
   "metadata": {},
   "outputs": [
    {
     "name": "stdout",
     "output_type": "stream",
     "text": [
      "[[9 7 4 7]\n",
      " [8 4 5 7]\n",
      " [4 4 6 1]\n",
      " [8 5 5 8]]\n"
     ]
    },
    {
     "data": {
      "text/plain": [
       "'Bu kod sayesinde 1 ile 10 arasında değerlerden oluşan 4x4 boyutunda\\nbir matris oluşturmuş oluyoruz'"
      ]
     },
     "execution_count": 14,
     "metadata": {},
     "output_type": "execute_result"
    }
   ],
   "source": [
    "f=np.random.randint(1,10,(4,4))\n",
    "print(f)\n",
    "\"\"\"Bu kod sayesinde 1 ile 10 arasında değerlerden oluşan 4x4 boyutunda\n",
    "bir matris oluşturmuş oluyoruz\"\"\""
   ]
  },
  {
   "cell_type": "markdown",
   "id": "f9fbda2a",
   "metadata": {},
   "source": [
    "### 6. Birim Matris\n",
    "np.eye() ile birim matris (köşegenin 1 olduğu matris) oluşturabilirsiniz. "
   ]
  },
  {
   "cell_type": "code",
   "execution_count": 15,
   "id": "c3390b31",
   "metadata": {},
   "outputs": [
    {
     "name": "stdout",
     "output_type": "stream",
     "text": [
      "[[1. 0. 0.]\n",
      " [0. 1. 0.]\n",
      " [0. 0. 1.]]\n"
     ]
    },
    {
     "data": {
      "text/plain": [
       "'bu kod ile 3x3 boyutunda köşegen matris yani sol üst ve sağ\\nalt çapraz değerler arası 1 diğer değerleri 0 olan matris oluşturulmuş olur '"
      ]
     },
     "execution_count": 15,
     "metadata": {},
     "output_type": "execute_result"
    }
   ],
   "source": [
    "g=np.eye(3)\n",
    "print(g)\n",
    "\"\"\"bu kod ile 3x3 boyutunda köşegen matris yani sol üst ve sağ\n",
    "alt çapraz değerler arası 1 diğer değerleri 0 olan matris oluşturulmuş olur \"\"\"\n"
   ]
  },
  {
   "cell_type": "markdown",
   "id": "c8bacec5",
   "metadata": {},
   "source": [
    "### 7. Ardışık Sayılarla Matris\n",
    "np.arange() ve np.reshape() ile ardışık sayılar kullanarak matris oluşturabilirsiniz. "
   ]
  },
  {
   "cell_type": "code",
   "execution_count": 16,
   "id": "69a37576",
   "metadata": {},
   "outputs": [
    {
     "name": "stdout",
     "output_type": "stream",
     "text": [
      "[[1 2 3]\n",
      " [4 5 6]\n",
      " [7 8 9]]\n"
     ]
    },
    {
     "data": {
      "text/plain": [
       "\"Bu kod sayesinde 1 den 10'a kadar değerlerden sol üstten \\nbaşlayarak devam eden 3x3 boyutunda bir matris oluşturulmuş olur\\n\""
      ]
     },
     "execution_count": 16,
     "metadata": {},
     "output_type": "execute_result"
    }
   ],
   "source": [
    "h=np.arange(1,10).reshape(3,3)\n",
    "print(h)\n",
    "\"\"\"Bu kod sayesinde 1 den 10'a kadar değerlerden sol üstten \n",
    "başlayarak devam eden 3x3 boyutunda bir matris oluşturulmuş olur\n",
    "\"\"\""
   ]
  },
  {
   "cell_type": "markdown",
   "id": "02f73a5a",
   "metadata": {},
   "source": [
    "### 8. Satır veya Sütun Tekrarıyla Matris\n",
    "np.tile() bir dizi veya satırı tekrar ederek matris oluşturabilir. "
   ]
  },
  {
   "cell_type": "code",
   "execution_count": 17,
   "id": "09c7ad37",
   "metadata": {},
   "outputs": [
    {
     "name": "stdout",
     "output_type": "stream",
     "text": [
      "[[1 2 3]\n",
      " [1 2 3]\n",
      " [1 2 3]]\n"
     ]
    },
    {
     "data": {
      "text/plain": [
       "'Bu kod ile 1,2,3 matrisini 3x1 boyutuna uygun olma \\nşartıyla yani tane 3x1 boyutunda bir matrise doldurur.'"
      ]
     },
     "execution_count": 17,
     "metadata": {},
     "output_type": "execute_result"
    }
   ],
   "source": [
    "k=np.tile([1,2,3],(3,1))\n",
    "print(k)\n",
    "\"\"\"Bu kod ile 1,2,3 matrisini 3x1 boyutuna uygun olma \n",
    "şartıyla yani tane 3x1 boyutunda bir matrise doldurur.\"\"\""
   ]
  },
  {
   "cell_type": "markdown",
   "id": "31184d87",
   "metadata": {},
   "source": [
    "### 9. Köşegen (Diagonal) Matris\n",
    "np.diag() ile köşegen matris oluşturabilirsiniz."
   ]
  },
  {
   "cell_type": "code",
   "execution_count": 18,
   "id": "7de8b008",
   "metadata": {},
   "outputs": [
    {
     "name": "stdout",
     "output_type": "stream",
     "text": [
      "[[1 0 0]\n",
      " [0 2 0]\n",
      " [0 0 3]]\n"
     ]
    },
    {
     "data": {
      "text/plain": [
       "'Bu kod sayesinde köşegenindeki değerleri sırasıyla\\n1 2 3 olan 3x3 boyutunda bir matris oluşturulmuş olur'"
      ]
     },
     "execution_count": 18,
     "metadata": {},
     "output_type": "execute_result"
    }
   ],
   "source": [
    "l=np.diag([1,2,3])\n",
    "print(l)\n",
    "\"\"\"Bu kod sayesinde köşegenindeki değerleri sırasıyla\n",
    "1 2 3 olan 3x3 boyutunda bir matris oluşturulmuş olur\"\"\""
   ]
  },
  {
   "cell_type": "markdown",
   "id": "5a09a090",
   "metadata": {},
   "source": [
    "### 10. Boş Matris\n",
    "np.empty() ile içeriği rastgele, ancak bellek alanı ayrılmış bir matris oluşturabilirsiniz."
   ]
  },
  {
   "cell_type": "code",
   "execution_count": 20,
   "id": "76600751",
   "metadata": {},
   "outputs": [
    {
     "name": "stdout",
     "output_type": "stream",
     "text": [
      "[[0. 0. 0.]\n",
      " [0. 0. 0.]]\n"
     ]
    },
    {
     "data": {
      "text/plain": [
       "' 2x3 boyutunda boş bir matris oluşturulur'"
      ]
     },
     "execution_count": 20,
     "metadata": {},
     "output_type": "execute_result"
    }
   ],
   "source": [
    "m=np.empty((2,3))\n",
    "print(m)\n",
    "\"\"\" 2x3 boyutunda boş bir matris oluşturulur\"\"\""
   ]
  },
  {
   "cell_type": "code",
   "execution_count": null,
   "id": "20611b7a",
   "metadata": {},
   "outputs": [],
   "source": []
  }
 ],
 "metadata": {
  "kernelspec": {
   "display_name": "Python 3 (ipykernel)",
   "language": "python",
   "name": "python3"
  },
  "language_info": {
   "codemirror_mode": {
    "name": "ipython",
    "version": 3
   },
   "file_extension": ".py",
   "mimetype": "text/x-python",
   "name": "python",
   "nbconvert_exporter": "python",
   "pygments_lexer": "ipython3",
   "version": "3.9.13"
  }
 },
 "nbformat": 4,
 "nbformat_minor": 5
}
