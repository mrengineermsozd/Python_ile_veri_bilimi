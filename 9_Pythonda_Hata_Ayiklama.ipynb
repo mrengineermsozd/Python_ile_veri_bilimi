{
 "cells": [
  {
   "cell_type": "markdown",
   "id": "b1d11933",
   "metadata": {},
   "source": [
    "# Hata Ayıklama"
   ]
  },
  {
   "cell_type": "markdown",
   "id": "87c1fb69",
   "metadata": {},
   "source": [
    "Python'da hata ayıklama (debugging), programın hatalarını bulma ve düzeltme sürecidir. Bu süreç, yazılım geliştirmede önemli bir aşamadır çünkü hatalar (bug) programın beklenmedik şekilde çalışmasına veya hata vermesine neden olabilir. Python'da hata ayıklamak için çeşitli araçlar, yöntemler ve stratejiler vardır."
   ]
  },
  {
   "cell_type": "markdown",
   "id": "df1dc583",
   "metadata": {},
   "source": [
    "## 1. Hata Türleri\n",
    "Python'da karşılaşılan hata türlerini anlamak hata ayıklama sürecinde önemlidir:\n",
    "\n",
    "### Sentaks (Syntax) Hataları: \n",
    "Kod yazımında yapılan hatalar. Python yorumlayıcısı hatayı bulur ve çalışmayı durdurur.\n",
    "### Çalışma Zamanı (Runtime) Hataları: \n",
    "Program çalışırken meydana gelen hatalar. Örneğin, bir sıfıra bölme hatası veya bulunamayan bir dosya açmaya çalışmak.\n",
    "### Mantıksal (Logical) Hatalar:\n",
    "Program çalışsa bile, beklenenden farklı sonuçlar elde edilir. Bu tür hatalar genellikle en zor tespit edilenlerdir."
   ]
  },
  {
   "cell_type": "markdown",
   "id": "dab37245",
   "metadata": {},
   "source": [
    "# Try-except Blokları (Hata Yakalama)"
   ]
  },
  {
   "cell_type": "markdown",
   "id": "5c89c438",
   "metadata": {},
   "source": [
    "Python’da hataları yakalamak için try ve except blokları kullanılır. Bu bloklar, hata oluştuğunda programın kesintiye uğramasını önler ve hataya özel işlemler yapılmasını sağlar."
   ]
  },
  {
   "cell_type": "code",
   "execution_count": 3,
   "id": "98d9774e",
   "metadata": {},
   "outputs": [
    {
     "name": "stdout",
     "output_type": "stream",
     "text": [
      "Bir sayi giriniz:5\n",
      "2.0\n"
     ]
    }
   ],
   "source": [
    "try: \n",
    "    sayi=int(input(\"Bir sayi giriniz:\"))\n",
    "    print(10/sayi)\n",
    "except ZeroDivisionError:\n",
    "    print(\"Bir sayıyı sıfıra bölemezsiniz!\")\n",
    "except ValueError:\n",
    "    print(\"Lütfen geçerli bir sayi giriniz:\")"
   ]
  },
  {
   "cell_type": "markdown",
   "id": "5ee3c91f",
   "metadata": {},
   "source": [
    "try: Potansiyel hata çıkarabilecek kod buraya yazılır.\n",
    "except: Hata meydana geldiğinde çalışacak kod buraya yazılır. Belirli hata türleri için özel except blokları yazılabilir."
   ]
  },
  {
   "cell_type": "code",
   "execution_count": 4,
   "id": "1f4aed8f",
   "metadata": {},
   "outputs": [
    {
     "name": "stdout",
     "output_type": "stream",
     "text": [
      "Bir sayı girin: 5\n",
      "2.0\n"
     ]
    }
   ],
   "source": [
    "try:\n",
    "    sayi = int(input(\"Bir sayı girin: \"))\n",
    "    print(10 / sayi)\n",
    "except Exception as e:\n",
    "    print(f\"Bir hata oluştu: {e}\")"
   ]
  },
  {
   "cell_type": "markdown",
   "id": "b7ac1e1c",
   "metadata": {},
   "source": [
    "Not: except blokları genel bir hata yakalama yapabilir. Bu durumda, tüm hatalar aynı except bloğuna girer."
   ]
  },
  {
   "cell_type": "code",
   "execution_count": 9,
   "id": "670bc049",
   "metadata": {},
   "outputs": [],
   "source": [
    "def karekok(input):\n",
    "    try:\n",
    "        return input**0.5\n",
    "    except:\n",
    "        print(\"Argüman sayısal bir değer olmalı\")"
   ]
  },
  {
   "cell_type": "code",
   "execution_count": 10,
   "id": "a78a060d",
   "metadata": {},
   "outputs": [
    {
     "name": "stdout",
     "output_type": "stream",
     "text": [
      "4.0\n"
     ]
    }
   ],
   "source": [
    "print(karekok(16))"
   ]
  },
  {
   "cell_type": "code",
   "execution_count": 11,
   "id": "3421aa5a",
   "metadata": {},
   "outputs": [
    {
     "name": "stdout",
     "output_type": "stream",
     "text": [
      "Argüman sayısal bir değer olmalı\n",
      "None\n"
     ]
    }
   ],
   "source": [
    "print(karekok(\"SEKİZ\"))"
   ]
  },
  {
   "cell_type": "code",
   "execution_count": 14,
   "id": "97d4faf8",
   "metadata": {},
   "outputs": [
    {
     "name": "stdout",
     "output_type": "stream",
     "text": [
      "2.0\n",
      "Sıfıra bölme hatası\n",
      "None\n"
     ]
    }
   ],
   "source": [
    "def bolme(a,b):\n",
    "    try:\n",
    "        return a/b\n",
    "    except:\n",
    "        print(\"Sıfıra bölme hatası\")\n",
    "print(bolme(10,5))\n",
    "print(bolme(2,0))"
   ]
  },
  {
   "cell_type": "code",
   "execution_count": 20,
   "id": "feb2ee54",
   "metadata": {},
   "outputs": [],
   "source": [
    "def karekok(giris):\n",
    "    if giris<0:\n",
    "        raise ValueError(\"Eksi sayi girdiniz!\")\n",
    "    try:\n",
    "        return giris**0.5\n",
    "    except TypeError:\n",
    "        print(\"Arguman sayisal bir değer olmalı\")\n",
    "        "
   ]
  },
  {
   "cell_type": "code",
   "execution_count": 21,
   "id": "6755f3d4",
   "metadata": {},
   "outputs": [
    {
     "ename": "ValueError",
     "evalue": "Eksi sayi girdiniz!",
     "output_type": "error",
     "traceback": [
      "\u001b[1;31m---------------------------------------------------------------------------\u001b[0m",
      "\u001b[1;31mValueError\u001b[0m                                Traceback (most recent call last)",
      "\u001b[1;32m~\\AppData\\Local\\Temp\\ipykernel_5140\\3820522668.py\u001b[0m in \u001b[0;36m<module>\u001b[1;34m\u001b[0m\n\u001b[1;32m----> 1\u001b[1;33m \u001b[0mprint\u001b[0m\u001b[1;33m(\u001b[0m\u001b[0mkarekok\u001b[0m\u001b[1;33m(\u001b[0m\u001b[1;33m-\u001b[0m\u001b[1;36m9\u001b[0m\u001b[1;33m)\u001b[0m\u001b[1;33m)\u001b[0m\u001b[1;33m\u001b[0m\u001b[1;33m\u001b[0m\u001b[0m\n\u001b[0m",
      "\u001b[1;32m~\\AppData\\Local\\Temp\\ipykernel_5140\\1728187384.py\u001b[0m in \u001b[0;36mkarekok\u001b[1;34m(giris)\u001b[0m\n\u001b[0;32m      1\u001b[0m \u001b[1;32mdef\u001b[0m \u001b[0mkarekok\u001b[0m\u001b[1;33m(\u001b[0m\u001b[0mgiris\u001b[0m\u001b[1;33m)\u001b[0m\u001b[1;33m:\u001b[0m\u001b[1;33m\u001b[0m\u001b[1;33m\u001b[0m\u001b[0m\n\u001b[0;32m      2\u001b[0m     \u001b[1;32mif\u001b[0m \u001b[0mgiris\u001b[0m\u001b[1;33m<\u001b[0m\u001b[1;36m0\u001b[0m\u001b[1;33m:\u001b[0m\u001b[1;33m\u001b[0m\u001b[1;33m\u001b[0m\u001b[0m\n\u001b[1;32m----> 3\u001b[1;33m         \u001b[1;32mraise\u001b[0m \u001b[0mValueError\u001b[0m\u001b[1;33m(\u001b[0m\u001b[1;34m\"Eksi sayi girdiniz!\"\u001b[0m\u001b[1;33m)\u001b[0m\u001b[1;33m\u001b[0m\u001b[1;33m\u001b[0m\u001b[0m\n\u001b[0m\u001b[0;32m      4\u001b[0m     \u001b[1;32mtry\u001b[0m\u001b[1;33m:\u001b[0m\u001b[1;33m\u001b[0m\u001b[1;33m\u001b[0m\u001b[0m\n\u001b[0;32m      5\u001b[0m         \u001b[1;32mreturn\u001b[0m \u001b[0mgiris\u001b[0m\u001b[1;33m**\u001b[0m\u001b[1;36m0.5\u001b[0m\u001b[1;33m\u001b[0m\u001b[1;33m\u001b[0m\u001b[0m\n",
      "\u001b[1;31mValueError\u001b[0m: Eksi sayi girdiniz!"
     ]
    }
   ],
   "source": [
    "print(karekok(-9))"
   ]
  },
  {
   "cell_type": "code",
   "execution_count": 24,
   "id": "dfcc76b6",
   "metadata": {},
   "outputs": [
    {
     "ename": "TypeError",
     "evalue": "'<' not supported between instances of 'str' and 'int'",
     "output_type": "error",
     "traceback": [
      "\u001b[1;31m---------------------------------------------------------------------------\u001b[0m",
      "\u001b[1;31mTypeError\u001b[0m                                 Traceback (most recent call last)",
      "\u001b[1;32m~\\AppData\\Local\\Temp\\ipykernel_5140\\983857617.py\u001b[0m in \u001b[0;36m<module>\u001b[1;34m\u001b[0m\n\u001b[1;32m----> 1\u001b[1;33m \u001b[0mprint\u001b[0m\u001b[1;33m(\u001b[0m\u001b[0mkarekok\u001b[0m\u001b[1;33m(\u001b[0m\u001b[1;34m\"A\"\u001b[0m\u001b[1;33m)\u001b[0m\u001b[1;33m)\u001b[0m\u001b[1;33m\u001b[0m\u001b[1;33m\u001b[0m\u001b[0m\n\u001b[0m",
      "\u001b[1;32m~\\AppData\\Local\\Temp\\ipykernel_5140\\1728187384.py\u001b[0m in \u001b[0;36mkarekok\u001b[1;34m(giris)\u001b[0m\n\u001b[0;32m      1\u001b[0m \u001b[1;32mdef\u001b[0m \u001b[0mkarekok\u001b[0m\u001b[1;33m(\u001b[0m\u001b[0mgiris\u001b[0m\u001b[1;33m)\u001b[0m\u001b[1;33m:\u001b[0m\u001b[1;33m\u001b[0m\u001b[1;33m\u001b[0m\u001b[0m\n\u001b[1;32m----> 2\u001b[1;33m     \u001b[1;32mif\u001b[0m \u001b[0mgiris\u001b[0m\u001b[1;33m<\u001b[0m\u001b[1;36m0\u001b[0m\u001b[1;33m:\u001b[0m\u001b[1;33m\u001b[0m\u001b[1;33m\u001b[0m\u001b[0m\n\u001b[0m\u001b[0;32m      3\u001b[0m         \u001b[1;32mraise\u001b[0m \u001b[0mValueError\u001b[0m\u001b[1;33m(\u001b[0m\u001b[1;34m\"Eksi sayi girdiniz!\"\u001b[0m\u001b[1;33m)\u001b[0m\u001b[1;33m\u001b[0m\u001b[1;33m\u001b[0m\u001b[0m\n\u001b[0;32m      4\u001b[0m     \u001b[1;32mtry\u001b[0m\u001b[1;33m:\u001b[0m\u001b[1;33m\u001b[0m\u001b[1;33m\u001b[0m\u001b[0m\n\u001b[0;32m      5\u001b[0m         \u001b[1;32mreturn\u001b[0m \u001b[0mgiris\u001b[0m\u001b[1;33m**\u001b[0m\u001b[1;36m0.5\u001b[0m\u001b[1;33m\u001b[0m\u001b[1;33m\u001b[0m\u001b[0m\n",
      "\u001b[1;31mTypeError\u001b[0m: '<' not supported between instances of 'str' and 'int'"
     ]
    }
   ],
   "source": [
    "print(karekok(\"A\"))"
   ]
  },
  {
   "cell_type": "markdown",
   "id": "65413c0b",
   "metadata": {},
   "source": [
    "# 3. finally Bloğu\n"
   ]
  },
  {
   "cell_type": "markdown",
   "id": "30a0f050",
   "metadata": {},
   "source": [
    "finally bloğu, hata olsun ya da olmasın her durumda çalıştırılır. Kaynak temizliği gibi işlemler için kullanışlıdır."
   ]
  },
  {
   "cell_type": "code",
   "execution_count": 25,
   "id": "3104a959",
   "metadata": {},
   "outputs": [
    {
     "name": "stdout",
     "output_type": "stream",
     "text": [
      "Dosya Bulunamadı..\n"
     ]
    },
    {
     "ename": "NameError",
     "evalue": "name 'dosya' is not defined",
     "output_type": "error",
     "traceback": [
      "\u001b[1;31m---------------------------------------------------------------------------\u001b[0m",
      "\u001b[1;31mNameError\u001b[0m                                 Traceback (most recent call last)",
      "\u001b[1;32m~\\AppData\\Local\\Temp\\ipykernel_5140\\3846796022.py\u001b[0m in \u001b[0;36m<module>\u001b[1;34m\u001b[0m\n\u001b[0;32m      4\u001b[0m     \u001b[0mprint\u001b[0m\u001b[1;33m(\u001b[0m\u001b[1;34m\"Dosya Bulunamadı..\"\u001b[0m\u001b[1;33m)\u001b[0m\u001b[1;33m\u001b[0m\u001b[1;33m\u001b[0m\u001b[0m\n\u001b[0;32m      5\u001b[0m \u001b[1;32mfinally\u001b[0m\u001b[1;33m:\u001b[0m\u001b[1;33m\u001b[0m\u001b[1;33m\u001b[0m\u001b[0m\n\u001b[1;32m----> 6\u001b[1;33m     \u001b[0mdosya\u001b[0m\u001b[1;33m.\u001b[0m\u001b[0mclose\u001b[0m\u001b[1;33m(\u001b[0m\u001b[1;33m)\u001b[0m\u001b[1;33m\u001b[0m\u001b[1;33m\u001b[0m\u001b[0m\n\u001b[0m",
      "\u001b[1;31mNameError\u001b[0m: name 'dosya' is not defined"
     ]
    }
   ],
   "source": [
    "try:\n",
    "    dosya=open(\"dosta.txt\",\"r\")\n",
    "except FileNotFoundError:\n",
    "    print(\"Dosya Bulunamadı..\")\n",
    "finally:\n",
    "    dosya.close()"
   ]
  },
  {
   "cell_type": "markdown",
   "id": "eaa22cf6",
   "metadata": {},
   "source": [
    "# 4. assert İfadesi"
   ]
  },
  {
   "cell_type": "markdown",
   "id": "c401caac",
   "metadata": {},
   "source": [
    "assert ifadesi, bir ifadenin doğru olup olmadığını kontrol eder. Eğer ifade yanlışsa, program AssertionError verir. Test ve hata kontrolü için kullanışlıdır."
   ]
  },
  {
   "cell_type": "code",
   "execution_count": 26,
   "id": "acf6f0ed",
   "metadata": {},
   "outputs": [
    {
     "ename": "AssertionError",
     "evalue": "X, 10'dan büyük olmalıdır!",
     "output_type": "error",
     "traceback": [
      "\u001b[1;31m---------------------------------------------------------------------------\u001b[0m",
      "\u001b[1;31mAssertionError\u001b[0m                            Traceback (most recent call last)",
      "\u001b[1;32m~\\AppData\\Local\\Temp\\ipykernel_5140\\443532490.py\u001b[0m in \u001b[0;36m<module>\u001b[1;34m\u001b[0m\n\u001b[0;32m      1\u001b[0m \u001b[0mx\u001b[0m\u001b[1;33m=\u001b[0m\u001b[1;36m5\u001b[0m\u001b[1;33m\u001b[0m\u001b[1;33m\u001b[0m\u001b[0m\n\u001b[1;32m----> 2\u001b[1;33m \u001b[1;32massert\u001b[0m \u001b[0mx\u001b[0m\u001b[1;33m>\u001b[0m\u001b[1;36m10\u001b[0m\u001b[1;33m,\u001b[0m \u001b[1;34m\"X, 10'dan büyük olmalıdır!\"\u001b[0m\u001b[1;33m\u001b[0m\u001b[1;33m\u001b[0m\u001b[0m\n\u001b[0m",
      "\u001b[1;31mAssertionError\u001b[0m: X, 10'dan büyük olmalıdır!"
     ]
    }
   ],
   "source": [
    "x=5\n",
    "assert x>10, \"X, 10'dan büyük olmalıdır!\""
   ]
  },
  {
   "cell_type": "markdown",
   "id": "a1e9bfcc",
   "metadata": {},
   "source": [
    "# 5. Python'da Hata Ayıklama Araçları"
   ]
  },
  {
   "cell_type": "markdown",
   "id": "39d1faac",
   "metadata": {},
   "source": [
    "Python'da hata ayıklamak için çeşitli araçlar ve yöntemler vardır:\n",
    "\n",
    "### print() Fonksiyonu:\n",
    "Hatalı noktaları tespit etmek için kodun belirli yerlerine print() fonksiyonları ekleyerek değişken değerlerini ve programın akışını izlemek en basit yöntemlerden biridir."
   ]
  },
  {
   "cell_type": "code",
   "execution_count": 27,
   "id": "e3605489",
   "metadata": {},
   "outputs": [],
   "source": [
    "def toplama(a,b):\n",
    "    print(f\"Degerler: a={a}, b={b}\")\n",
    "    return a+b"
   ]
  },
  {
   "cell_type": "code",
   "execution_count": 28,
   "id": "6fc23f54",
   "metadata": {},
   "outputs": [
    {
     "name": "stdout",
     "output_type": "stream",
     "text": [
      "Degerler: a=2, b=3\n"
     ]
    },
    {
     "data": {
      "text/plain": [
       "5"
      ]
     },
     "execution_count": 28,
     "metadata": {},
     "output_type": "execute_result"
    }
   ],
   "source": [
    "toplama(2,3)"
   ]
  },
  {
   "cell_type": "markdown",
   "id": "1a602fa2",
   "metadata": {},
   "source": [
    "### pdb Modülü (Python Debugger):\n",
    "Python'un yerleşik hata ayıklayıcısıdır. Programı adım adım izleyebilir, duraklatabilir ve değişken değerlerini inceleyebilirsiniz."
   ]
  },
  {
   "cell_type": "code",
   "execution_count": 29,
   "id": "707b5754",
   "metadata": {},
   "outputs": [
    {
     "name": "stdout",
     "output_type": "stream",
     "text": [
      "> \u001b[1;32mc:\\users\\asus\\appdata\\local\\temp\\ipykernel_5140\\660014805.py\u001b[0m(5)\u001b[0;36mhata_ayikla\u001b[1;34m()\u001b[0m\n",
      "\n",
      "ipdb> 10\n",
      "10\n",
      "ipdb> 20\n",
      "20\n",
      "ipdb> 50\n",
      "50\n",
      "ipdb> 10\n",
      "10\n",
      "ipdb> 50\n",
      "50\n",
      "ipdb> c\n",
      "30\n"
     ]
    }
   ],
   "source": [
    "import pdb\n",
    "def hata_ayikla():\n",
    "    x=10\n",
    "    pdb.set_trace()\n",
    "    y=20\n",
    "    z=x+y\n",
    "    print(z)\n",
    "    \n",
    "hata_ayikla()"
   ]
  },
  {
   "cell_type": "raw",
   "id": "d2c1884e",
   "metadata": {},
   "source": [
    "Komutlar:\n",
    "\n",
    "n: Bir sonraki satıra geç.\n",
    "c: Programı sonuna kadar çalıştır.\n",
    "p <değişken>: Belirtilen değişkenin değerini yazdır.\n",
    "q: Çıkış yap.\n"
   ]
  },
  {
   "cell_type": "markdown",
   "id": "5c5c9e62",
   "metadata": {},
   "source": [
    "## IDE ve Araçlar:\n",
    "Çoğu Python IDE'si (Integrated Development Environment) hata ayıklama araçlarıyla birlikte gelir. Örneğin:\n",
    "\n",
    "### PyCharm: \n",
    "PyCharm, interaktif hata ayıklama, adım adım yürütme, breakpoints (durma noktaları) ekleme gibi zengin hata ayıklama özelliklerine sahiptir.\n",
    "### Visual Studio Code (VSCode): \n",
    "Python hata ayıklayıcı eklentisi ile adım adım hata ayıklama yapabilirsiniz.\n",
    "### Spyder: \n",
    "Bilimsel hesaplamalar için kullanılan Spyder, hata ayıklama modülü sunar."
   ]
  },
  {
   "cell_type": "markdown",
   "id": "7b6cea3f",
   "metadata": {},
   "source": [
    "####  6. Hata Ayıklamada İyi Uygulamalar\n",
    "### Küçük Parçalar Halinde Test Etme: \n",
    "Kodu küçük parçalara bölerek ve her bir parçayı test ederek hataları daha kolay bulabilirsiniz.\n",
    "### Kodunuzu Yorumlayın: \n",
    "Hangi kodun ne iş yaptığını açıklayan yorumlar ekleyin. Bu, hem sizin hem de başkalarının kodu anlamasını kolaylaştırır.\n",
    "### Modüler Programlama: \n",
    "Fonksiyonlar ve modüller kullanarak kodunuzu bölün. Bu şekilde daha küçük parçaları test etmek kolaylaşır.\n",
    "### Birden Fazla Test Yapın: \n",
    "Programın farklı senaryolarda çalışmasını test edin. Örneğin, bir fonksiyon için hem geçerli hem de geçersiz girdileri deneyin."
   ]
  },
  {
   "cell_type": "markdown",
   "id": "6c562541",
   "metadata": {},
   "source": [
    "### 7. Hata Mesajlarını Anlama\n",
    "Hata mesajlarını anlamak, Python’da hata ayıklamanın ilk adımıdır. Aşağıda bazı yaygın hata türleri ve açıklamaları verilmiştir:"
   ]
  },
  {
   "cell_type": "markdown",
   "id": "ba666538",
   "metadata": {},
   "source": [
    "SyntaxError: Python'da yanlış yazım hatasıdır."
   ]
  },
  {
   "cell_type": "code",
   "execution_count": 30,
   "id": "1e99b691",
   "metadata": {},
   "outputs": [
    {
     "ename": "SyntaxError",
     "evalue": "EOL while scanning string literal (1064322068.py, line 1)",
     "output_type": "error",
     "traceback": [
      "\u001b[1;36m  File \u001b[1;32m\"C:\\Users\\ASUS\\AppData\\Local\\Temp\\ipykernel_5140\\1064322068.py\"\u001b[1;36m, line \u001b[1;32m1\u001b[0m\n\u001b[1;33m    print(\"Merhaba Dünya)\u001b[0m\n\u001b[1;37m                           ^\u001b[0m\n\u001b[1;31mSyntaxError\u001b[0m\u001b[1;31m:\u001b[0m EOL while scanning string literal\n"
     ]
    }
   ],
   "source": [
    "print(\"Merhaba Dünya)  "
   ]
  },
  {
   "cell_type": "markdown",
   "id": "60bd97d5",
   "metadata": {},
   "source": [
    "TypeError: Yanlış veri türleri kullanıldığında ortaya çıkar."
   ]
  },
  {
   "cell_type": "code",
   "execution_count": 31,
   "id": "e16fd105",
   "metadata": {},
   "outputs": [
    {
     "ename": "TypeError",
     "evalue": "can only concatenate str (not \"int\") to str",
     "output_type": "error",
     "traceback": [
      "\u001b[1;31m---------------------------------------------------------------------------\u001b[0m",
      "\u001b[1;31mTypeError\u001b[0m                                 Traceback (most recent call last)",
      "\u001b[1;32m~\\AppData\\Local\\Temp\\ipykernel_5140\\2228336965.py\u001b[0m in \u001b[0;36m<module>\u001b[1;34m\u001b[0m\n\u001b[1;32m----> 1\u001b[1;33m \u001b[0mprint\u001b[0m\u001b[1;33m(\u001b[0m\u001b[1;34m\"Yaşım \"\u001b[0m \u001b[1;33m+\u001b[0m \u001b[1;36m25\u001b[0m\u001b[1;33m)\u001b[0m\u001b[1;33m\u001b[0m\u001b[1;33m\u001b[0m\u001b[0m\n\u001b[0m",
      "\u001b[1;31mTypeError\u001b[0m: can only concatenate str (not \"int\") to str"
     ]
    }
   ],
   "source": [
    "print(\"Yaşım \" + 25)"
   ]
  },
  {
   "cell_type": "markdown",
   "id": "32cdc1f5",
   "metadata": {},
   "source": [
    "NameError: Tanımsız bir değişken kullanıldığında ortaya çıkar."
   ]
  },
  {
   "cell_type": "code",
   "execution_count": 32,
   "id": "859962bc",
   "metadata": {},
   "outputs": [
    {
     "ename": "NameError",
     "evalue": "name 'yas' is not defined",
     "output_type": "error",
     "traceback": [
      "\u001b[1;31m---------------------------------------------------------------------------\u001b[0m",
      "\u001b[1;31mNameError\u001b[0m                                 Traceback (most recent call last)",
      "\u001b[1;32m~\\AppData\\Local\\Temp\\ipykernel_5140\\4247169638.py\u001b[0m in \u001b[0;36m<module>\u001b[1;34m\u001b[0m\n\u001b[1;32m----> 1\u001b[1;33m \u001b[0mprint\u001b[0m\u001b[1;33m(\u001b[0m\u001b[0myas\u001b[0m\u001b[1;33m)\u001b[0m\u001b[1;33m\u001b[0m\u001b[1;33m\u001b[0m\u001b[0m\n\u001b[0m",
      "\u001b[1;31mNameError\u001b[0m: name 'yas' is not defined"
     ]
    }
   ],
   "source": [
    "print(yas)"
   ]
  },
  {
   "cell_type": "markdown",
   "id": "d5b6c5e6",
   "metadata": {},
   "source": [
    "IndexError: Listede olmayan bir indeks çağrıldığında ortaya çıkar."
   ]
  },
  {
   "cell_type": "code",
   "execution_count": 33,
   "id": "f1fccfbd",
   "metadata": {},
   "outputs": [
    {
     "ename": "IndexError",
     "evalue": "list index out of range",
     "output_type": "error",
     "traceback": [
      "\u001b[1;31m---------------------------------------------------------------------------\u001b[0m",
      "\u001b[1;31mIndexError\u001b[0m                                Traceback (most recent call last)",
      "\u001b[1;32m~\\AppData\\Local\\Temp\\ipykernel_5140\\4226834930.py\u001b[0m in \u001b[0;36m<module>\u001b[1;34m\u001b[0m\n\u001b[0;32m      1\u001b[0m \u001b[0mliste\u001b[0m \u001b[1;33m=\u001b[0m \u001b[1;33m[\u001b[0m\u001b[1;36m1\u001b[0m\u001b[1;33m,\u001b[0m \u001b[1;36m2\u001b[0m\u001b[1;33m,\u001b[0m \u001b[1;36m3\u001b[0m\u001b[1;33m]\u001b[0m\u001b[1;33m\u001b[0m\u001b[1;33m\u001b[0m\u001b[0m\n\u001b[1;32m----> 2\u001b[1;33m \u001b[0mprint\u001b[0m\u001b[1;33m(\u001b[0m\u001b[0mliste\u001b[0m\u001b[1;33m[\u001b[0m\u001b[1;36m5\u001b[0m\u001b[1;33m]\u001b[0m\u001b[1;33m)\u001b[0m\u001b[1;33m\u001b[0m\u001b[1;33m\u001b[0m\u001b[0m\n\u001b[0m",
      "\u001b[1;31mIndexError\u001b[0m: list index out of range"
     ]
    }
   ],
   "source": [
    "liste = [1, 2, 3]\n",
    "print(liste[5])"
   ]
  },
  {
   "cell_type": "code",
   "execution_count": null,
   "id": "6d07fd3d",
   "metadata": {},
   "outputs": [],
   "source": []
  }
 ],
 "metadata": {
  "kernelspec": {
   "display_name": "Python 3 (ipykernel)",
   "language": "python",
   "name": "python3"
  },
  "language_info": {
   "codemirror_mode": {
    "name": "ipython",
    "version": 3
   },
   "file_extension": ".py",
   "mimetype": "text/x-python",
   "name": "python",
   "nbconvert_exporter": "python",
   "pygments_lexer": "ipython3",
   "version": "3.9.13"
  }
 },
 "nbformat": 4,
 "nbformat_minor": 5
}
