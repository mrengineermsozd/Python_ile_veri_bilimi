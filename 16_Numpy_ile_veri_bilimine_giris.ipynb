{
 "cells": [
  {
   "cell_type": "markdown",
   "id": "710f05d3",
   "metadata": {},
   "source": [
    "# Numpy nedir?\n"
   ]
  },
  {
   "cell_type": "markdown",
   "id": "446df468",
   "metadata": {},
   "source": [
    "NumPy (Numerical Python), Python'da bilimsel hesaplamalar için kullanılan güçlü bir kütüphanedir. Özellikle büyük, çok boyutlu diziler ve matrislerle çalışmak için optimize edilmiştir. NumPy, bu veri yapıları üzerinde matematiksel işlemler yapmak için çok çeşitli fonksiyonlar ve metodlar sağlar."
   ]
  },
  {
   "cell_type": "markdown",
   "id": "08a3f510",
   "metadata": {},
   "source": [
    "# Numpy kütüphanesinin özellikleri"
   ]
  },
  {
   "cell_type": "markdown",
   "id": "29559993",
   "metadata": {},
   "source": [
    "### Çok boyutlu diziler (Arrays):\n",
    "Numpy, tek boyutlu ve çok boyutlu dizileri oluşturmak için ndarray adında bir veri yapısı sağlar. Verimli hafıza kullanımı ve hızlı işlem yapma imkanı sağlar.\n",
    "### Hızlı matematiksel işlemler:\n",
    "Çarpma, bölme, toplama gibi işlemleri vektörize ederek optimize eder, bu da python döngülerine kıyasla daha hızlı çalışır.\n",
    "### Lineer Cebir ve Matris işlemleri:\n",
    "Numpy, matris çarpımı, test alma, determinant hesaplama gibi işlemleri yapabilir.\n",
    "### Rastgele sayı üretimi:\n",
    "Numpy, istatistiksel analiz ve simülasyonlar için rastgele sayı üretimi desteği sunarç\n",
    "### Veri Türü desteği.\n",
    "Numpy dizileri homojen veri tipleri içerir ve bu da belleğin verimli kullanılmasına olanak sağlar."
   ]
  },
  {
   "cell_type": "markdown",
   "id": "b8c2cde3",
   "metadata": {},
   "source": [
    "Herhangi bir editörde numpy kütüphanesini kurmak için\n",
    "pip install numpy kodu terminale yazılabilir "
   ]
  },
  {
   "cell_type": "code",
   "execution_count": 7,
   "id": "28adaeed",
   "metadata": {},
   "outputs": [],
   "source": [
    "import numpy as np\n",
    "a=[1,2,3,4,5]\n",
    "b=[6,7,8,9,0]"
   ]
  },
  {
   "cell_type": "code",
   "execution_count": 8,
   "id": "aad8aeec",
   "metadata": {},
   "outputs": [],
   "source": [
    "liste=list()"
   ]
  },
  {
   "cell_type": "code",
   "execution_count": 9,
   "id": "546339a7",
   "metadata": {},
   "outputs": [
    {
     "name": "stdout",
     "output_type": "stream",
     "text": [
      "[6, 14, 24, 36, 0]\n"
     ]
    }
   ],
   "source": [
    "for i in range(len(a)):\n",
    "    liste.append(a[i]*b[i])\n",
    "print(liste)"
   ]
  },
  {
   "cell_type": "code",
   "execution_count": 10,
   "id": "ce22bfe5",
   "metadata": {},
   "outputs": [
    {
     "data": {
      "text/plain": [
       "array([ 6, 14, 24, 36,  0])"
      ]
     },
     "execution_count": 10,
     "metadata": {},
     "output_type": "execute_result"
    }
   ],
   "source": [
    "a=np.array([1,2,3,4,5])\n",
    "b=np.array([6,7,8,9,0])\n",
    "a*b"
   ]
  },
  {
   "cell_type": "code",
   "execution_count": null,
   "id": "8bf23232",
   "metadata": {},
   "outputs": [],
   "source": []
  }
 ],
 "metadata": {
  "kernelspec": {
   "display_name": "Python 3 (ipykernel)",
   "language": "python",
   "name": "python3"
  },
  "language_info": {
   "codemirror_mode": {
    "name": "ipython",
    "version": 3
   },
   "file_extension": ".py",
   "mimetype": "text/x-python",
   "name": "python",
   "nbconvert_exporter": "python",
   "pygments_lexer": "ipython3",
   "version": "3.9.13"
  }
 },
 "nbformat": 4,
 "nbformat_minor": 5
}
