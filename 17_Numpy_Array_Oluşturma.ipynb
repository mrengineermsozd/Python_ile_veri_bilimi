{
 "cells": [
  {
   "cell_type": "code",
   "execution_count": 2,
   "id": "0d573bfa",
   "metadata": {},
   "outputs": [],
   "source": [
    "import numpy as np\n",
    "a=np.array([1,2,3,4,5,6])"
   ]
  },
  {
   "cell_type": "code",
   "execution_count": 4,
   "id": "f050e8f4",
   "metadata": {},
   "outputs": [
    {
     "data": {
      "text/plain": [
       "numpy.ndarray"
      ]
     },
     "execution_count": 4,
     "metadata": {},
     "output_type": "execute_result"
    }
   ],
   "source": [
    "type(a)"
   ]
  },
  {
   "cell_type": "code",
   "execution_count": 8,
   "id": "4d5eb26a",
   "metadata": {},
   "outputs": [],
   "source": [
    "liste1=[1,2,3,4]\n",
    "liste2=np.array(liste1)\n",
    "#burada liste1 diye bir liste oluşturduk\n",
    "#daha sonra liste2 ye liste1'i numpy'a dönüştürüp atadık."
   ]
  },
  {
   "cell_type": "code",
   "execution_count": 6,
   "id": "ad7a1570",
   "metadata": {},
   "outputs": [
    {
     "data": {
      "text/plain": [
       "numpy.ndarray"
      ]
     },
     "execution_count": 6,
     "metadata": {},
     "output_type": "execute_result"
    }
   ],
   "source": [
    "type(liste2)"
   ]
  },
  {
   "cell_type": "code",
   "execution_count": 9,
   "id": "d96e6d4d",
   "metadata": {},
   "outputs": [],
   "source": [
    "liste3=(1,2,3,4,5)"
   ]
  },
  {
   "cell_type": "code",
   "execution_count": 10,
   "id": "f61e2831",
   "metadata": {},
   "outputs": [
    {
     "data": {
      "text/plain": [
       "tuple"
      ]
     },
     "execution_count": 10,
     "metadata": {},
     "output_type": "execute_result"
    }
   ],
   "source": [
    "type(liste3)"
   ]
  },
  {
   "cell_type": "code",
   "execution_count": 11,
   "id": "d3a1fef3",
   "metadata": {},
   "outputs": [],
   "source": [
    "liste4=np.array(liste3)\n",
    "#burada tuple olarak tanımladığımız liste3'ü liste4 e atayıp\n",
    "#liste4 u numpy dizisine dönüştürdük"
   ]
  },
  {
   "cell_type": "code",
   "execution_count": 12,
   "id": "a96df008",
   "metadata": {},
   "outputs": [
    {
     "data": {
      "text/plain": [
       "numpy.ndarray"
      ]
     },
     "execution_count": 12,
     "metadata": {},
     "output_type": "execute_result"
    }
   ],
   "source": [
    "type(liste4)"
   ]
  },
  {
   "cell_type": "code",
   "execution_count": 13,
   "id": "cd76ebf4",
   "metadata": {},
   "outputs": [
    {
     "name": "stdout",
     "output_type": "stream",
     "text": [
      "<class 'numpy.int32'>\n",
      "<class 'numpy.int32'>\n",
      "<class 'numpy.int32'>\n",
      "<class 'numpy.int32'>\n",
      "<class 'numpy.int32'>\n"
     ]
    }
   ],
   "source": [
    "for i in liste4:\n",
    "    print(type(i))"
   ]
  },
  {
   "cell_type": "code",
   "execution_count": 18,
   "id": "3520f39e",
   "metadata": {},
   "outputs": [],
   "source": [
    "a=np.array([1,2,3,4,5,6,7,8.2])"
   ]
  },
  {
   "cell_type": "code",
   "execution_count": 20,
   "id": "44b7ae7c",
   "metadata": {},
   "outputs": [
    {
     "name": "stdout",
     "output_type": "stream",
     "text": [
      "<class 'numpy.float64'>\n",
      "<class 'numpy.float64'>\n",
      "<class 'numpy.float64'>\n",
      "<class 'numpy.float64'>\n",
      "<class 'numpy.float64'>\n",
      "<class 'numpy.float64'>\n",
      "<class 'numpy.float64'>\n",
      "<class 'numpy.float64'>\n"
     ]
    }
   ],
   "source": [
    "for i in a:\n",
    "    print(type(i))\n",
    "#örneğin burada 8.2 gibi bir float değer tanımladık\n",
    "#bu değerin bu numpy dizisi içinde olması tamamen \n",
    "#veri tipinin değişmesine sebep oldu ve \n",
    "#tüm veri setinin veri tipi float olmuş oldu"
   ]
  },
  {
   "cell_type": "code",
   "execution_count": 21,
   "id": "b240979e",
   "metadata": {},
   "outputs": [
    {
     "name": "stdout",
     "output_type": "stream",
     "text": [
      "<class 'numpy.int32'>\n",
      "<class 'numpy.int32'>\n",
      "<class 'numpy.int32'>\n",
      "<class 'numpy.int32'>\n",
      "<class 'numpy.int32'>\n",
      "<class 'numpy.int32'>\n"
     ]
    }
   ],
   "source": [
    "a=np.array([1,2,3,4,5,8.2],dtype=\"int32\")\n",
    "for i in a:\n",
    "    print(type(i))"
   ]
  },
  {
   "cell_type": "markdown",
   "id": "84eaa36a",
   "metadata": {},
   "source": [
    "Bu şekilde istersek kendimizde daha sonra dizinin sonuna veri tipini belirtebiliriz. Fakat bu yöntem çok tercih edilmez. Çünkü veri kaybına yol açabilir"
   ]
  },
  {
   "cell_type": "code",
   "execution_count": 22,
   "id": "3a78d11e",
   "metadata": {},
   "outputs": [
    {
     "data": {
      "text/plain": [
       "array([0, 0, 0, 0, 0, 0, 0, 0, 0, 0], dtype=int8)"
      ]
     },
     "execution_count": 22,
     "metadata": {},
     "output_type": "execute_result"
    }
   ],
   "source": [
    "np.zeros(10,dtype=\"int8\")"
   ]
  },
  {
   "cell_type": "markdown",
   "id": "16b66403",
   "metadata": {},
   "source": [
    "Bazı durumlarda sadece 0'lardan oluşan bir numpy dizisi oluşturmamız gerekebilir bu gibi durumlarda np.zeros fonksiyonunu kullanırız. Örneğin bu tuval için bir veriyle veri tipi 2^8 yani 256 olmalı bu yüzden dtype int8 olarak belirtmemiz gerekti."
   ]
  },
  {
   "cell_type": "code",
   "execution_count": 23,
   "id": "7642f996",
   "metadata": {},
   "outputs": [
    {
     "data": {
      "text/plain": [
       "array([1, 1, 1, 1, 1, 1, 1, 1, 1, 1], dtype=int8)"
      ]
     },
     "execution_count": 23,
     "metadata": {},
     "output_type": "execute_result"
    }
   ],
   "source": [
    "np.ones(10,dtype=\"int8\")"
   ]
  },
  {
   "cell_type": "markdown",
   "id": "5fa0b143",
   "metadata": {},
   "source": [
    "np.ones fonksiyonu ise sadece 1 lerden oluşan bir dizi tanımlamaya yarar."
   ]
  },
  {
   "cell_type": "code",
   "execution_count": 24,
   "id": "df02e4ed",
   "metadata": {},
   "outputs": [
    {
     "data": {
      "text/plain": [
       "array([6., 6., 6., 6., 6., 6., 6., 6., 6., 6., 6., 6.])"
      ]
     },
     "execution_count": 24,
     "metadata": {},
     "output_type": "execute_result"
    }
   ],
   "source": [
    "np.ones(12)*6"
   ]
  },
  {
   "cell_type": "markdown",
   "id": "b01d2570",
   "metadata": {},
   "source": [
    "burada aritmetik operatörlerden çarpmayı kullandık ve 1'i 6 ile çarptık bu sayede 6 lardan oluşan bir numpy dizisi oluşturduk."
   ]
  },
  {
   "cell_type": "code",
   "execution_count": 25,
   "id": "65449c5f",
   "metadata": {},
   "outputs": [
    {
     "data": {
      "text/plain": [
       "array([2, 2, 2, 2, 2, 2, 2, 2, 2, 2, 2, 2, 2, 2])"
      ]
     },
     "execution_count": 25,
     "metadata": {},
     "output_type": "execute_result"
    }
   ],
   "source": [
    "np.full(14,2)"
   ]
  },
  {
   "cell_type": "markdown",
   "id": "ce43448b",
   "metadata": {},
   "source": [
    "Full fonksiyonunda ise ilk kısımda kaç adet olacağı ve ikinci kısımda hangi değer olacağını belirterek burada yaptığımız gibi 14 tane 2'lerden oluşan bir numpy dizisi tanımlayabiliriz."
   ]
  }
 ],
 "metadata": {
  "kernelspec": {
   "display_name": "Python 3 (ipykernel)",
   "language": "python",
   "name": "python3"
  },
  "language_info": {
   "codemirror_mode": {
    "name": "ipython",
    "version": 3
   },
   "file_extension": ".py",
   "mimetype": "text/x-python",
   "name": "python",
   "nbconvert_exporter": "python",
   "pygments_lexer": "ipython3",
   "version": "3.9.13"
  }
 },
 "nbformat": 4,
 "nbformat_minor": 5
}
