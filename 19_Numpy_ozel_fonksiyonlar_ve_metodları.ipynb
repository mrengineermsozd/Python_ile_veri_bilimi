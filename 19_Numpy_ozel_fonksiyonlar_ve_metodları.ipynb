{
 "cells": [
  {
   "cell_type": "markdown",
   "id": "8cf69441",
   "metadata": {},
   "source": [
    "NumPy, matematiksel, istatistiksel ve veri işleme ile ilgili birçok özel fonksiyon ve metot sunar. Bu fonksiyonlar ve metotlar, büyük veri setleri üzerinde hızlı ve verimli işlemler yapmaya olanak tanır. İşte NumPy'nin en sık kullanılan özel fonksiyonları ve metodları"
   ]
  },
  {
   "cell_type": "markdown",
   "id": "2b2f2f0e",
   "metadata": {},
   "source": [
    "# Matematiksel Fonksiyonlar\n",
    "Bu fonksiyonlar matematiksel işlemler yapmak için kullanılır:"
   ]
  },
  {
   "cell_type": "markdown",
   "id": "1348b9ed",
   "metadata": {},
   "source": [
    "### 1)Trigonometri Fonksiyonları "
   ]
  },
  {
   "cell_type": "code",
   "execution_count": 2,
   "id": "911692de",
   "metadata": {},
   "outputs": [
    {
     "name": "stdout",
     "output_type": "stream",
     "text": [
      "[0.0000000e+00 1.0000000e+00 1.2246468e-16]\n",
      "[ 1.000000e+00  6.123234e-17 -1.000000e+00]\n",
      "[ 0.00000000e+00  1.63312394e+16 -1.22464680e-16]\n"
     ]
    }
   ],
   "source": [
    "import numpy as np\n",
    "x=np.array([0,np.pi/2,np.pi])\n",
    "print(np.sin(x))\n",
    "print(np.cos(x))\n",
    "print(np.tan(x))\n",
    "#sinüs, cosinüs, tanjant gibi değerlerin hesaplanmasında kullanılır"
   ]
  },
  {
   "cell_type": "markdown",
   "id": "c6fee28c",
   "metadata": {},
   "source": [
    "### 2)Üstel ve Logaritmik Fonksiyonlar "
   ]
  },
  {
   "cell_type": "code",
   "execution_count": 4,
   "id": "62634fae",
   "metadata": {},
   "outputs": [
    {
     "name": "stdout",
     "output_type": "stream",
     "text": [
      "[ 2.71828183  7.3890561  20.08553692]\n",
      "[0. 1. 2.]\n",
      "[0. 1. 2.]\n"
     ]
    },
    {
     "data": {
      "text/plain": [
       "'Taban belirtilmezse tabanı e olarak kabul edilir.'"
      ]
     },
     "execution_count": 4,
     "metadata": {},
     "output_type": "execute_result"
    }
   ],
   "source": [
    "print(np.exp([1,2,3]))\n",
    "print(np.log([1,np.e,np.e**2]))\n",
    "print(np.log10([1,10,100]))\n",
    "\"\"\"Taban belirtilmezse tabanı e olarak kabul edilir.\"\"\""
   ]
  },
  {
   "cell_type": "markdown",
   "id": "b853981d",
   "metadata": {},
   "source": [
    "### 3)Karekök ve Üs Alma "
   ]
  },
  {
   "cell_type": "code",
   "execution_count": 6,
   "id": "d11ddf38",
   "metadata": {},
   "outputs": [
    {
     "name": "stdout",
     "output_type": "stream",
     "text": [
      "[1.         1.41421356 1.73205081]\n",
      "[ 8 27]\n"
     ]
    }
   ],
   "source": [
    "print(np.sqrt([1,2,3]))\n",
    "#karekök alır\n",
    "print(np.power([2,3],3))\n",
    "#ilk girilen matris değerleri ikinci ise üssün derecesi burada 3"
   ]
  },
  {
   "cell_type": "markdown",
   "id": "1638f424",
   "metadata": {},
   "source": [
    "### 4)Yuvarlama Fonksiyonları"
   ]
  },
  {
   "cell_type": "code",
   "execution_count": 7,
   "id": "57729cfb",
   "metadata": {},
   "outputs": [
    {
     "name": "stdout",
     "output_type": "stream",
     "text": [
      "[1. 2. 2.]\n",
      "[1. 4. 1. 1.]\n",
      "[2. 2. 2.]\n"
     ]
    }
   ],
   "source": [
    "print(np.round([1.4,1.5,1.6]))\n",
    "print(np.floor([1,4,1.5,1.6]))\n",
    "print(np.ceil([1.4,1.5,1.6]))"
   ]
  },
  {
   "cell_type": "markdown",
   "id": "60fef97c",
   "metadata": {},
   "source": [
    "# İstatistiksel Fonksiyonlar\n",
    "### 1)Temel İstatistiksel İşlemler"
   ]
  },
  {
   "cell_type": "code",
   "execution_count": 9,
   "id": "19e29967",
   "metadata": {},
   "outputs": [
    {
     "name": "stdout",
     "output_type": "stream",
     "text": [
      "3.0\n",
      "3.0\n",
      "1.4142135623730951\n",
      "2.0\n"
     ]
    }
   ],
   "source": [
    "veri=np.array([1,2,3,4,5])\n",
    "print(np.mean(veri)) #Ortalamayı hesaplar \n",
    "print(np.median(veri))  #\n",
    "print(np.std(veri))\n",
    "print(np.var(veri))"
   ]
  },
  {
   "cell_type": "markdown",
   "id": "322618b7",
   "metadata": {},
   "source": [
    "### 2)Minimum ve Maksimum Değerler"
   ]
  },
  {
   "cell_type": "code",
   "execution_count": 10,
   "id": "e95b52be",
   "metadata": {},
   "outputs": [
    {
     "name": "stdout",
     "output_type": "stream",
     "text": [
      "1\n",
      "5\n"
     ]
    }
   ],
   "source": [
    "print(np.min(veri))\n",
    "print(np.max(veri))"
   ]
  },
  {
   "cell_type": "markdown",
   "id": "3f708b01",
   "metadata": {},
   "source": [
    "### 3)Kümülatif Toplam ve Çarpım"
   ]
  },
  {
   "cell_type": "code",
   "execution_count": 12,
   "id": "1b215cd5",
   "metadata": {},
   "outputs": [
    {
     "name": "stdout",
     "output_type": "stream",
     "text": [
      "[ 1  3  6 10 15]\n",
      "[  1   2   6  24 120]\n"
     ]
    }
   ],
   "source": [
    "print(np.cumsum(veri))\n",
    "print(np.cumprod(veri))"
   ]
  },
  {
   "cell_type": "markdown",
   "id": "4efc5ffb",
   "metadata": {},
   "source": [
    "Kümülatif toplam, bir veri dizisinin ilk elemanından başlayarak her adımda bir önceki toplam üzerine bir sonraki elemanın eklenmesiyle oluşan bir toplamdır.\n",
    "Kümülatif çarpım, bir veri dizisinin ilk elemanından başlanarak her adımda önceki çarpımın üzerine yeni çarpım eklenerek gider"
   ]
  },
  {
   "cell_type": "markdown",
   "id": "7b84eef3",
   "metadata": {},
   "source": [
    "# Mantıksal Fonksiyonlar"
   ]
  },
  {
   "cell_type": "markdown",
   "id": "b15a65cc",
   "metadata": {},
   "source": [
    "### 1)Karşılaştırma ve Mantıksal Operasyonlar "
   ]
  },
  {
   "cell_type": "code",
   "execution_count": 13,
   "id": "ed54f643",
   "metadata": {},
   "outputs": [
    {
     "name": "stdout",
     "output_type": "stream",
     "text": [
      "[False  True  True]\n",
      "[False False False]\n",
      "[ True False False]\n"
     ]
    }
   ],
   "source": [
    "x=np.array([1,2,3])\n",
    "y=np.array([2,2,3])\n",
    "print(np.equal(x,y))\n",
    "print(np.greater(x,y))\n",
    "print(np.less(x,y))"
   ]
  },
  {
   "cell_type": "markdown",
   "id": "1302b928",
   "metadata": {},
   "source": [
    "Diziler arasında karşılaştırma yapar elemanlarını sıraylar karşılaştırır bu karşılaştırma sonucuna göre örneğin equal fonksiyonu x=y mi diye kontrol eder greater fonksiyonu x>y mi diye kontrol eder less fonksiyonu ise x<y mi diye kontrol eder "
   ]
  },
  {
   "cell_type": "markdown",
   "id": "d0cfafb8",
   "metadata": {},
   "source": [
    "### 2) Tümünün veya Birinin Sağlanması"
   ]
  },
  {
   "cell_type": "code",
   "execution_count": 15,
   "id": "8718c574",
   "metadata": {},
   "outputs": [
    {
     "name": "stdout",
     "output_type": "stream",
     "text": [
      "False\n",
      "True\n"
     ]
    }
   ],
   "source": [
    "print(np.all([True,True,False])) # Hepsi doğru mu?\n",
    "print(np.any([True,True,False])) # En az biri doğru mu?"
   ]
  },
  {
   "cell_type": "markdown",
   "id": "39059886",
   "metadata": {},
   "source": [
    "# Dizi İşlemleri"
   ]
  },
  {
   "cell_type": "markdown",
   "id": "4f870015",
   "metadata": {},
   "source": [
    "### 1)Dizi Şekillendirme "
   ]
  },
  {
   "cell_type": "code",
   "execution_count": 16,
   "id": "2619acef",
   "metadata": {},
   "outputs": [
    {
     "name": "stdout",
     "output_type": "stream",
     "text": [
      "[[1 2 3]\n",
      " [4 5 6]\n",
      " [7 8 9]]\n"
     ]
    }
   ],
   "source": [
    "data=np.arange(1,10)\n",
    "reshaped=data.reshape((3,3))\n",
    "print(reshaped)"
   ]
  },
  {
   "cell_type": "markdown",
   "id": "d4018aab",
   "metadata": {},
   "source": [
    "### 2)Dizi Birleştirme"
   ]
  },
  {
   "cell_type": "code",
   "execution_count": 18,
   "id": "94a0fd77",
   "metadata": {},
   "outputs": [
    {
     "name": "stdout",
     "output_type": "stream",
     "text": [
      "[1 2 3 4 5 6]\n",
      "[1 2 3 4 5 6]\n",
      "[[1 2 3]\n",
      " [4 5 6]]\n"
     ]
    }
   ],
   "source": [
    "x=np.array([1,2,3])\n",
    "y=np.array([4,5,6])\n",
    "print(np.concatenate([x,y])) #dizi birleştirme\n",
    "print(np.hstack([x,y]))   #yatay birleştirme\n",
    "print(np.vstack([x,y]))   #dikey birleştirme"
   ]
  },
  {
   "cell_type": "markdown",
   "id": "567e31b8",
   "metadata": {},
   "source": [
    "### 3)Dizi Bölme "
   ]
  },
  {
   "cell_type": "code",
   "execution_count": 20,
   "id": "6415594d",
   "metadata": {},
   "outputs": [
    {
     "name": "stdout",
     "output_type": "stream",
     "text": [
      "[array([1, 2, 3]), array([4, 5, 6])]\n"
     ]
    }
   ],
   "source": [
    "z=np.array([1,2,3,4,5,6])\n",
    "print(np.split(z,2))\n",
    "#diziyi ortadan ikiye böler "
   ]
  },
  {
   "cell_type": "markdown",
   "id": "632fa350",
   "metadata": {},
   "source": [
    "# Özel Fonksiyonlar\n"
   ]
  },
  {
   "cell_type": "markdown",
   "id": "2091ea51",
   "metadata": {},
   "source": [
    "### 1)Meshgrid\n",
    "Dizi koordinatlarını oluşturur."
   ]
  },
  {
   "cell_type": "code",
   "execution_count": 21,
   "id": "b96927f4",
   "metadata": {},
   "outputs": [
    {
     "name": "stdout",
     "output_type": "stream",
     "text": [
      "[[0 1 2 3 4]\n",
      " [0 1 2 3 4]\n",
      " [0 1 2 3 4]\n",
      " [0 1 2 3 4]\n",
      " [0 1 2 3 4]]\n",
      "[[0 0 0 0 0]\n",
      " [1 1 1 1 1]\n",
      " [2 2 2 2 2]\n",
      " [3 3 3 3 3]\n",
      " [4 4 4 4 4]]\n"
     ]
    }
   ],
   "source": [
    "x=np.arange(0,5)\n",
    "y=np.arange(0,5)\n",
    "X,Y=np.meshgrid(x,y)\n",
    "print(X)\n",
    "print(Y)"
   ]
  },
  {
   "cell_type": "markdown",
   "id": "3863f783",
   "metadata": {},
   "source": [
    "### 2)Linspace\n",
    "İki değer arasında eşit aralıklı noktalar oluşturur. "
   ]
  },
  {
   "cell_type": "code",
   "execution_count": 23,
   "id": "5dfe11df",
   "metadata": {},
   "outputs": [
    {
     "name": "stdout",
     "output_type": "stream",
     "text": [
      "[ 0.   2.5  5.   7.5 10. ]\n"
     ]
    }
   ],
   "source": [
    "print(np.linspace(0,10,5))\n",
    "#0 ile 10 arasında 5 nokta "
   ]
  },
  {
   "cell_type": "markdown",
   "id": "4a41d37b",
   "metadata": {},
   "source": [
    "### 3)Arange\n",
    "\n",
    "Belirli bir aralıktaki sayılarla bir dizi oluşturur. "
   ]
  },
  {
   "cell_type": "code",
   "execution_count": 25,
   "id": "1fe31b1c",
   "metadata": {},
   "outputs": [
    {
     "name": "stdout",
     "output_type": "stream",
     "text": [
      "[1 3 5 7 9]\n"
     ]
    }
   ],
   "source": [
    "print(np.arange(1,10,2))\n",
    "#1 den 10 a kadar 2şer artarak bir dizi oluştur"
   ]
  },
  {
   "cell_type": "markdown",
   "id": "4cd10261",
   "metadata": {},
   "source": [
    "# Rastgele Sayılar"
   ]
  },
  {
   "cell_type": "markdown",
   "id": "f3f1a492",
   "metadata": {},
   "source": [
    "### 1)Rastgele Değerler"
   ]
  },
  {
   "cell_type": "code",
   "execution_count": 27,
   "id": "41df2fc0",
   "metadata": {},
   "outputs": [
    {
     "name": "stdout",
     "output_type": "stream",
     "text": [
      "[[0.37409411 0.07747725 0.49315949]\n",
      " [0.63496819 0.90089954 0.49906666]\n",
      " [0.82322251 0.48911525 0.5764534 ]]\n",
      "[[1 1 4]\n",
      " [1 9 1]\n",
      " [2 4 4]]\n"
     ]
    }
   ],
   "source": [
    "print(np.random.rand(3,3))\n",
    "#0 ile 1 arasında rasgele sayılar üretir 3x3 boyutunda\n",
    "print(np.random.randint(1,10,(3,3)))\n",
    "#1 ile 10 arasında rasgele sayılar üretir 3x3 boyutunda "
   ]
  },
  {
   "cell_type": "markdown",
   "id": "168c71aa",
   "metadata": {},
   "source": [
    "### 2)Rastgele Eleman Seçimi "
   ]
  },
  {
   "cell_type": "code",
   "execution_count": 29,
   "id": "64d334a7",
   "metadata": {},
   "outputs": [
    {
     "name": "stdout",
     "output_type": "stream",
     "text": [
      "20\n"
     ]
    }
   ],
   "source": [
    "data=np.array([10,20,30,40])\n",
    "print(np.random.choice(data))"
   ]
  },
  {
   "cell_type": "markdown",
   "id": "c7fd4b90",
   "metadata": {},
   "source": [
    "# Matris İşlemleri"
   ]
  },
  {
   "cell_type": "markdown",
   "id": "0259f98b",
   "metadata": {},
   "source": [
    "### 1)Transpoze\n"
   ]
  },
  {
   "cell_type": "code",
   "execution_count": 33,
   "id": "ae87ed1d",
   "metadata": {},
   "outputs": [
    {
     "name": "stdout",
     "output_type": "stream",
     "text": [
      "[[1 3]\n",
      " [2 4]]\n"
     ]
    }
   ],
   "source": [
    "matris=np.array([[1,2],[3,4]])\n",
    "print(matris.T)"
   ]
  },
  {
   "cell_type": "markdown",
   "id": "03ff098e",
   "metadata": {},
   "source": [
    "### 2)Matris Çarpımı"
   ]
  },
  {
   "cell_type": "code",
   "execution_count": 34,
   "id": "dce37767",
   "metadata": {},
   "outputs": [
    {
     "name": "stdout",
     "output_type": "stream",
     "text": [
      "[[ 4  4]\n",
      " [10  8]]\n"
     ]
    }
   ],
   "source": [
    "A=np.array([[1,2],[3,4]])\n",
    "B=np.array([[2,0],[1,2]])\n",
    "print(np.dot(A,B))"
   ]
  },
  {
   "cell_type": "markdown",
   "id": "251d2a56",
   "metadata": {},
   "source": [
    "### 3)Determinant "
   ]
  },
  {
   "cell_type": "code",
   "execution_count": 35,
   "id": "984c8cbf",
   "metadata": {},
   "outputs": [
    {
     "name": "stdout",
     "output_type": "stream",
     "text": [
      "-2.0000000000000004\n"
     ]
    }
   ],
   "source": [
    "print(np.linalg.det(matris))"
   ]
  },
  {
   "cell_type": "markdown",
   "id": "065bf901",
   "metadata": {},
   "source": [
    "### 4)Ters Matris "
   ]
  },
  {
   "cell_type": "code",
   "execution_count": 37,
   "id": "1806ddc7",
   "metadata": {},
   "outputs": [
    {
     "name": "stdout",
     "output_type": "stream",
     "text": [
      "[[-2.   1. ]\n",
      " [ 1.5 -0.5]]\n"
     ]
    }
   ],
   "source": [
    "print(np.linalg.inv(matris)) "
   ]
  },
  {
   "cell_type": "markdown",
   "id": "3c79c625",
   "metadata": {},
   "source": [
    "NumPy'nin bu metodları, özellikle bilimsel hesaplama, veri analizi ve makine öğrenimi projelerinde oldukça faydalıdır."
   ]
  },
  {
   "cell_type": "code",
   "execution_count": null,
   "id": "eef33da7",
   "metadata": {},
   "outputs": [],
   "source": []
  }
 ],
 "metadata": {
  "kernelspec": {
   "display_name": "Python 3 (ipykernel)",
   "language": "python",
   "name": "python3"
  },
  "language_info": {
   "codemirror_mode": {
    "name": "ipython",
    "version": 3
   },
   "file_extension": ".py",
   "mimetype": "text/x-python",
   "name": "python",
   "nbconvert_exporter": "python",
   "pygments_lexer": "ipython3",
   "version": "3.9.13"
  }
 },
 "nbformat": 4,
 "nbformat_minor": 5
}
