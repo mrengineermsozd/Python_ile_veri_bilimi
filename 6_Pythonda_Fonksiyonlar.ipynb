{
 "cells": [
  {
   "cell_type": "markdown",
   "id": "42cfeb08",
   "metadata": {},
   "source": [
    "# Fonksiyonlar"
   ]
  },
  {
   "cell_type": "markdown",
   "id": "aff7f12b",
   "metadata": {},
   "source": [
    "Python'da fonksiyonlar, kodunuzu organize etmek ve tekrar eden işlemleri daha kolay hale getirmek için kullanılır. Fonksiyonlar argüman alabilir veya hiç argüman almadan çalışabilir. Aşağıda argümansız ve argümanlı fonksiyonların nasıl tanımlandığını görebilirsiniz."
   ]
  },
  {
   "cell_type": "markdown",
   "id": "2a804f1e",
   "metadata": {},
   "source": [
    "## 1. Argümansız Fonksiyon Tanımlama "
   ]
  },
  {
   "cell_type": "markdown",
   "id": "6d924be2",
   "metadata": {},
   "source": [
    "Argümansız fonksiyonlar, çağrıldığında dışarıdan herhangi bir veri almayan ve sabit işlemler yapan fonksiyonlardır."
   ]
  },
  {
   "cell_type": "raw",
   "id": "a8eaafc4",
   "metadata": {},
   "source": [
    "def fonksiyon_adi():\n",
    "    #gerçekleştirilecek işlemler\n",
    "    print(\"Bu argümansız bir fonksiyonun tanımıdır\")"
   ]
  },
  {
   "cell_type": "code",
   "execution_count": 3,
   "id": "7029fd16",
   "metadata": {},
   "outputs": [
    {
     "name": "stdout",
     "output_type": "stream",
     "text": [
      "Merhaba!\n"
     ]
    }
   ],
   "source": [
    "def merhaba():\n",
    "    print(\"Merhaba!\")\n",
    "merhaba()\n",
    "#fonksiyon çağırmak için fonksiyonun adı yazılır"
   ]
  },
  {
   "cell_type": "markdown",
   "id": "b2cc0c9d",
   "metadata": {},
   "source": [
    "##  2. Argümanlı Fonksiyon Tanımlama\n"
   ]
  },
  {
   "cell_type": "markdown",
   "id": "67a9d442",
   "metadata": {},
   "source": [
    "Argümanlı fonksiyonlar ise dışarıdan veri alarak bu veriler üzerinde işlem yapar."
   ]
  },
  {
   "cell_type": "raw",
   "id": "ff882a32",
   "metadata": {},
   "source": [
    "def fonksiyon_adi(arg1,arg2):\n",
    "    #argümanlar üzerinde işlemler\n",
    "    print(f\"Birinci argüman: {arg1}, İkinci Argüman: {arg2}\")"
   ]
  },
  {
   "cell_type": "code",
   "execution_count": 4,
   "id": "778665ec",
   "metadata": {},
   "outputs": [
    {
     "name": "stdout",
     "output_type": "stream",
     "text": [
      "Toplam: 8\n"
     ]
    }
   ],
   "source": [
    "def toplama(a,b):\n",
    "    sonuc=a+b\n",
    "    print(f\"Toplam: {sonuc}\")\n",
    "    \n",
    "toplama(3,5)"
   ]
  },
  {
   "cell_type": "markdown",
   "id": "7826f1e8",
   "metadata": {},
   "source": [
    "Verilen bir listedeki sayıları ortalamasını alan fonksiyonun tanımlanması"
   ]
  },
  {
   "cell_type": "code",
   "execution_count": 9,
   "id": "855a4717",
   "metadata": {},
   "outputs": [],
   "source": [
    "def ortalama(liste):\n",
    "    adet=0\n",
    "    toplam=0\n",
    "    \n",
    "    for i in liste:\n",
    "        adet+=1\n",
    "        toplam+=i\n",
    "    aritmetik_ortalama=toplam/adet\n",
    "    return aritmetik_ortalama"
   ]
  },
  {
   "cell_type": "code",
   "execution_count": 11,
   "id": "d3817add",
   "metadata": {},
   "outputs": [
    {
     "name": "stdout",
     "output_type": "stream",
     "text": [
      "30.0\n"
     ]
    }
   ],
   "source": [
    "liste = [10, 20, 30, 40, 50]\n",
    "sonuc = ortalama(liste)\n",
    "print(sonuc)"
   ]
  },
  {
   "cell_type": "code",
   "execution_count": 13,
   "id": "e5fea7a2",
   "metadata": {},
   "outputs": [
    {
     "name": "stdout",
     "output_type": "stream",
     "text": [
      "121\n"
     ]
    }
   ],
   "source": [
    "def KareAl(x):\n",
    "    return x**2\n",
    "print(KareAl(11))"
   ]
  },
  {
   "cell_type": "code",
   "execution_count": 16,
   "id": "fd9139ad",
   "metadata": {},
   "outputs": [
    {
     "name": "stdout",
     "output_type": "stream",
     "text": [
      "81\n",
      "81\n",
      "32\n"
     ]
    }
   ],
   "source": [
    "def usAlma(x,y):\n",
    "    return x**y\n",
    "print(usAlma(x=3,y=4))\n",
    "print(usAlma(3,4))\n",
    "print(usAlma(x=2,y=5))"
   ]
  },
  {
   "cell_type": "markdown",
   "id": "39c60752",
   "metadata": {},
   "source": [
    "Eğer y yerine bir sayı girmek istemiyorsanız direkt fonksiyon içinde tanımlama yapabilirsiniz. Örnek vermek gerekirse aşağıdaki örneği dikkate alabilirsiniz"
   ]
  },
  {
   "cell_type": "code",
   "execution_count": 18,
   "id": "4889c0ca",
   "metadata": {},
   "outputs": [
    {
     "name": "stdout",
     "output_type": "stream",
     "text": [
      "16\n",
      "36\n",
      "27\n"
     ]
    }
   ],
   "source": [
    "def usAlma(x,y=2):\n",
    "    return x**y\n",
    "print(usAlma(4))\n",
    "print(usAlma(6))\n",
    "print(usAlma(3,3))\n",
    "#gördüğünüz gibi eğer bir değer girmezsek otomatik olarak ilk\n",
    "#başta fonksiyon içinde 2 olarak tanımladığımız için\n",
    "#karesini aldı ama değer tanımlarsan yeni değeri \n",
    "#dikkate aldı"
   ]
  },
  {
   "cell_type": "markdown",
   "id": "4e05d339",
   "metadata": {},
   "source": [
    "## 3. Esnek Sayıda Argüman Alan Fonksiyonlar (*args, **kwargs) "
   ]
  },
  {
   "cell_type": "markdown",
   "id": "a2f1ed9a",
   "metadata": {},
   "source": [
    "Fonksiyonlar, bilinmeyen sayıda argüman alacak şekilde de tanımlanabilir. Bunun için *args ve **kwargs kullanılır.\n",
    "\n",
    "## *args: \n",
    "Pozisyonel argümanlar için kullanılır.\n",
    "## **kwargs: \n",
    "Anahtar-değer çiftleri (keyword arguments) için kullanılır."
   ]
  },
  {
   "cell_type": "code",
   "execution_count": 20,
   "id": "b98df3b4",
   "metadata": {},
   "outputs": [],
   "source": [
    "def sayılartoplami(*args):\n",
    "    toplam=sum(args)\n",
    "    print(f\"Toplam: {toplam}\")"
   ]
  },
  {
   "cell_type": "code",
   "execution_count": 22,
   "id": "1672f12d",
   "metadata": {},
   "outputs": [
    {
     "name": "stdout",
     "output_type": "stream",
     "text": [
      "Toplam: 15\n"
     ]
    }
   ],
   "source": [
    "sayılartoplami(1,2,3,4,5)"
   ]
  },
  {
   "cell_type": "code",
   "execution_count": 23,
   "id": "51ea425b",
   "metadata": {},
   "outputs": [
    {
     "name": "stdout",
     "output_type": "stream",
     "text": [
      "24\n"
     ]
    }
   ],
   "source": [
    "def carpim(*args):\n",
    "    sonuc=1\n",
    "    for sayi in args:\n",
    "        sonuc=sonuc*sayi\n",
    "    print(sonuc)\n",
    "carpim(2,3,4)"
   ]
  },
  {
   "cell_type": "code",
   "execution_count": 24,
   "id": "9c5e9f4d",
   "metadata": {},
   "outputs": [
    {
     "name": "stdout",
     "output_type": "stream",
     "text": [
      "720\n"
     ]
    }
   ],
   "source": [
    "carpim(2,3,4,5,6)"
   ]
  },
  {
   "cell_type": "code",
   "execution_count": 26,
   "id": "616c6171",
   "metadata": {},
   "outputs": [
    {
     "name": "stdout",
     "output_type": "stream",
     "text": [
      " MERHABA Dünya\n"
     ]
    }
   ],
   "source": [
    "def birlestir(*args):\n",
    "    sonuc=\"\"\n",
    "    for kelime in args:\n",
    "        sonuc=sonuc+\" \"+kelime\n",
    "    return sonuc\n",
    "print(birlestir(\"MERHABA\",\"Dünya\"))"
   ]
  },
  {
   "cell_type": "markdown",
   "id": "47bdc0bf",
   "metadata": {},
   "source": [
    "# *args Nasıl Bir Yapı?\n",
    "*args bir tuple (demet) yapısıdır ve fonksiyona girilen herhangi bir sayıda pozisyonel argümanı alabilir. Normalde bir fonksiyona kaç tane argüman geçileceğini biliyoruz. Ancak bazı durumlarda fonksiyon çağrılırken bilinmeyen sayıda argüman geçirmek isteyebilirsiniz. İşte burada *args devreye girer."
   ]
  },
  {
   "cell_type": "code",
   "execution_count": 27,
   "id": "dc7946b0",
   "metadata": {},
   "outputs": [
    {
     "name": "stdout",
     "output_type": "stream",
     "text": [
      "15\n"
     ]
    }
   ],
   "source": [
    "def toplama(*sayilar):\n",
    "    toplam = 0\n",
    "    for sayi in sayilar:\n",
    "        toplam += sayi\n",
    "    return toplam\n",
    "\n",
    "# Fonksiyonu çağırma\n",
    "sonuc = toplama(1, 2, 3, 4, 5)\n",
    "print(sonuc)"
   ]
  },
  {
   "cell_type": "code",
   "execution_count": 28,
   "id": "ca284e91",
   "metadata": {},
   "outputs": [],
   "source": [
    "def yaz(ilk,*args):\n",
    "    print(\"İlk argüman:\"+ilk)\n",
    "    for kelime in args:\n",
    "        print(\"Esnek argüman:\"+kelime)"
   ]
  },
  {
   "cell_type": "markdown",
   "id": "b6b5870a",
   "metadata": {},
   "source": [
    "**kwargs değişken eleman sayısına sahip sözlük veri yapılarını argüman olarak alabilmek için kullanılır"
   ]
  },
  {
   "cell_type": "code",
   "execution_count": 30,
   "id": "7d5c6544",
   "metadata": {},
   "outputs": [],
   "source": [
    "def kisi_bilgisi(**kwargs):\n",
    "    for anahtar,deger in kwargs.items():\n",
    "        print(f\"{anahtar}:{deger}\")"
   ]
  },
  {
   "cell_type": "code",
   "execution_count": 31,
   "id": "8f5ddaa8",
   "metadata": {},
   "outputs": [
    {
     "name": "stdout",
     "output_type": "stream",
     "text": [
      "ad:Serhat\n",
      "yas:28\n",
      "sehir:Konya\n"
     ]
    }
   ],
   "source": [
    "kisi_bilgisi(ad=\"Serhat\",yas=28,sehir=\"Konya\")"
   ]
  },
  {
   "cell_type": "code",
   "execution_count": 37,
   "id": "dcd80e80",
   "metadata": {},
   "outputs": [
    {
     "name": "stdout",
     "output_type": "stream",
     "text": [
      "Ad:Ali\n",
      "Soyad:Veli\n"
     ]
    }
   ],
   "source": [
    "def notYazdir(**kwargs):\n",
    "    for anahtar,deger in kwargs.items():\n",
    "        print(anahtar+\":\"+deger)\n",
    "notYazdir(Ad=\"Ali\",Soyad=\"Veli\")"
   ]
  },
  {
   "cell_type": "code",
   "execution_count": 38,
   "id": "1cf4f157",
   "metadata": {},
   "outputs": [
    {
     "name": "stdout",
     "output_type": "stream",
     "text": [
      "Ad:Ali\n",
      "Soyad:Veli\n",
      "Meslek:Veri Bilimci\n"
     ]
    }
   ],
   "source": [
    "notYazdir(Ad=\"Ali\",Soyad=\"Veli\",Meslek=\"Veri Bilimci\")"
   ]
  },
  {
   "cell_type": "markdown",
   "id": "954e96e5",
   "metadata": {},
   "source": [
    "### Birden fazla sonuç dönebilen fonksiyon yazılabilir mi?\n",
    "### Hangi veri yapılarını kullanabiliriz?"
   ]
  },
  {
   "cell_type": "markdown",
   "id": "583a3d21",
   "metadata": {},
   "source": [
    "Evet, Python'da bir fonksiyon birden fazla sonuç dönebilir. Bu durumlarda Python'da çeşitli veri yapıları bize yardımcı olabilir. Bunların başında tuple, list, dictionary, ve set gibi veri yapıları gelir. Bu veri yapıları sayesinde bir fonksiyon birden fazla değeri tek bir yapıda toplayarak geri döndürebilir."
   ]
  },
  {
   "cell_type": "markdown",
   "id": "9cd5f697",
   "metadata": {},
   "source": [
    "#### 1. Tuple ile Çoklu Değer Dönmek:\n",
    "Bir fonksiyon birden fazla sonucu tuple veri yapısıyla dönebilir. tuple, Python'da değişmez (immutable) bir veri yapısıdır ve birden fazla değeri bir arada döndürebilir."
   ]
  },
  {
   "cell_type": "code",
   "execution_count": 39,
   "id": "eeb4a38d",
   "metadata": {},
   "outputs": [
    {
     "name": "stdout",
     "output_type": "stream",
     "text": [
      "(15, 5, 50)\n"
     ]
    }
   ],
   "source": [
    "def hesaplama(a,b):\n",
    "    toplam=a+b\n",
    "    fark=a-b\n",
    "    carpim=a*b\n",
    "    return toplam,fark,carpim\n",
    "sonuc=hesaplama(10,5)\n",
    "print(sonuc)"
   ]
  },
  {
   "cell_type": "markdown",
   "id": "bd5f6fc4",
   "metadata": {},
   "source": [
    "#### 2. List ile Çoklu Değer Dönmek:\n",
    "Bir fonksiyon birden fazla değeri list yapısıyla da döndürebilir. Listeler değiştirilebilir (mutable) oldukları için dönen değeri değiştirmek mümkündür. "
   ]
  },
  {
   "cell_type": "code",
   "execution_count": 40,
   "id": "e7a2bd25",
   "metadata": {},
   "outputs": [
    {
     "name": "stdout",
     "output_type": "stream",
     "text": [
      "[24, 16, 80]\n"
     ]
    }
   ],
   "source": [
    "def islemler(a,b):\n",
    "    return[a+b,a-b,a*b]\n",
    "sonuc=islemler(20,4)\n",
    "print(sonuc)"
   ]
  },
  {
   "cell_type": "markdown",
   "id": "b47c2d4b",
   "metadata": {},
   "source": [
    "####  3. Dictionary (Sözlük) ile Çoklu Değer Dönmek:\n",
    "Eğer her sonucu bir anahtar (key) ile eşleştirmek isterseniz, bir dictionary kullanabilirsiniz. Bu, sonuçların daha anlamlı olmasını sağlar."
   ]
  },
  {
   "cell_type": "code",
   "execution_count": 41,
   "id": "5f138aa7",
   "metadata": {},
   "outputs": [
    {
     "name": "stdout",
     "output_type": "stream",
     "text": [
      "{'Toplam': 50, 'Fark': 30, 'Carpim': 400}\n"
     ]
    }
   ],
   "source": [
    "def islemler(a,b):\n",
    "    return{\n",
    "        \"Toplam\":a+b,\n",
    "        \"Fark\":a-b,\n",
    "        \"Carpim\":a*b\n",
    "    }\n",
    "sonuc=islemler(40,10)\n",
    "print(sonuc)"
   ]
  },
  {
   "cell_type": "markdown",
   "id": "df5c09f7",
   "metadata": {},
   "source": [
    "#### 4. Set ile Çoklu Değer Dönmek:\n",
    "Eğer sonuçlarınızın sırası önemli değilse ve her değerin benzersiz olmasını istiyorsanız, set veri yapısını da kullanabilirsiniz. Ancak set'ler sırasız olduğu için sonuçların sırası karışabilir. "
   ]
  },
  {
   "cell_type": "code",
   "execution_count": 42,
   "id": "b07614e1",
   "metadata": {},
   "outputs": [
    {
     "name": "stdout",
     "output_type": "stream",
     "text": [
      "{40, 20, 300}\n"
     ]
    }
   ],
   "source": [
    "def set_ile_islem(a,b):\n",
    "    return{a+b,a-b,a*b}\n",
    "sonuc=set_ile_islem(30,10)\n",
    "print(sonuc)"
   ]
  },
  {
   "cell_type": "markdown",
   "id": "73ddb086",
   "metadata": {},
   "source": [
    "## İç İçe Fonksiyon Tanımlama:"
   ]
  },
  {
   "cell_type": "markdown",
   "id": "4dba9ad1",
   "metadata": {},
   "source": [
    "Bir fonksiyonun içinde başka bir fonksiyon tanımlandığında, içteki fonksiyon sadece dıştaki fonksiyonun içinde erişilebilir olur. Dıştaki fonksiyon çalıştırılmadan içteki fonksiyon çağrılamaz."
   ]
  },
  {
   "cell_type": "code",
   "execution_count": 45,
   "id": "9f3093b2",
   "metadata": {},
   "outputs": [
    {
     "name": "stdout",
     "output_type": "stream",
     "text": [
      "Dış fonksiyon çalıştı.\n",
      "İç fonksiyon çalıştı.\n"
     ]
    }
   ],
   "source": [
    "def dis_fonksiyon():\n",
    "    print(\"Dış fonksiyon çalıştı.\")\n",
    "    \n",
    "    def ic_fonksiyon():\n",
    "        print(\"İç fonksiyon çalıştı.\")\n",
    "    \n",
    "    ic_fonksiyon()  # İç fonksiyon sadece burada çağrılabilir\n",
    "dis_fonksiyon()"
   ]
  },
  {
   "cell_type": "markdown",
   "id": "6d44dfe4",
   "metadata": {},
   "source": [
    "# Kullanım Amaçları:\n",
    "## Kodun Modüler Hale Getirilmesi:\n",
    "\n",
    "Büyük bir fonksiyonu daha küçük parçalara bölmek ve bu parçaları sadece gerekli olduğunda kullanmak için iç içe fonksiyonlar kullanılır.\n",
    "## Kapsam (Scope) Yönetimi:\n",
    "\n",
    "İçteki fonksiyon, dış fonksiyonun yerel değişkenlerine erişebilir. Bu da, dış fonksiyonun verileri üzerinde işlem yapmak için kullanışlıdır.\n",
    "## Dekoratörler ve Closure:\n",
    "\n",
    "Python'daki dekoratörler ve closure gibi gelişmiş konseptlerde iç içe fonksiyonlar yaygın olarak kullanılır."
   ]
  },
  {
   "cell_type": "code",
   "execution_count": 46,
   "id": "0384db97",
   "metadata": {},
   "outputs": [
    {
     "name": "stdout",
     "output_type": "stream",
     "text": [
      "15\n"
     ]
    }
   ],
   "source": [
    "def dis_fonksiyon(a, b):\n",
    "    def ic_fonksiyon():\n",
    "        return a + b  # Dış fonksiyonun değişkenlerine erişiyor\n",
    "    \n",
    "    return ic_fonksiyon()  # İç fonksiyonu çalıştırıp sonucu döndürüyor\n",
    "\n",
    "sonuc = dis_fonksiyon(5, 10)\n",
    "print(sonuc)"
   ]
  },
  {
   "cell_type": "code",
   "execution_count": 53,
   "id": "39385dff",
   "metadata": {},
   "outputs": [
    {
     "data": {
      "text/plain": [
       "-396.66999999999996"
      ]
     },
     "execution_count": 53,
     "metadata": {},
     "output_type": "execute_result"
    }
   ],
   "source": [
    "#sicaklık dönüşümleri\n",
    "def Kelvin_Fahrenheit(derece):\n",
    "    def Kelvin_Celsius(kelvinDerece):\n",
    "        celsiusDerece=kelvinDerece-273.15\n",
    "        return celsiusDerece\n",
    "    fahrenheit=1.8*Kelvin_Celsius(derece)+32\n",
    "    return fahrenheit\n",
    "\n",
    "Kelvin_Fahrenheit(35)\n"
   ]
  },
  {
   "cell_type": "code",
   "execution_count": 57,
   "id": "5e22888b",
   "metadata": {},
   "outputs": [],
   "source": [
    "def usAlma(n):\n",
    "    def usAl(x):\n",
    "        sonuc=x**n\n",
    "        return usAL"
   ]
  },
  {
   "cell_type": "markdown",
   "id": "a4f8c914",
   "metadata": {},
   "source": [
    "# Özyinelemeli Fonksiyon"
   ]
  },
  {
   "cell_type": "markdown",
   "id": "84f1b010",
   "metadata": {},
   "source": [
    "Özyinelemeli (recursive) fonksiyon, bir problemi çözmek için kendisini tekrar çağıran bir fonksiyon türüdür. Yani bir fonksiyon, problemi küçük parçalara ayırarak, her adımda kendisini çağırarak sonuca ulaşmaya çalışır. Bu teknik, genellikle bir problem belirli alt parçalara bölünebildiğinde kullanılır. Özyinelemeli fonksiyonlar, matematiksel problemlerde ve bilgisayar bilimlerinde sıkça kullanılır."
   ]
  },
  {
   "cell_type": "markdown",
   "id": "328b9ce0",
   "metadata": {},
   "source": [
    "### Bir özyinelemeli fonksiyonda iki temel bileşen vardır:\n",
    "\n",
    "### Baz (Base) Durumu:\n",
    "Fonksiyonun özyinelemeyi durdurması gereken bir koşul olmalıdır. Bu koşul, sonuca ulaşıldığında veya daha fazla bölünemeyecek bir durumda olunduğunda devreye girer.\n",
    "### Özyineleme (Recursive) Durumu: \n",
    "Fonksiyon kendisini çağırır ve problemi daha küçük alt problemlere böler."
   ]
  },
  {
   "cell_type": "code",
   "execution_count": 58,
   "id": "c142cbc5",
   "metadata": {},
   "outputs": [
    {
     "name": "stdout",
     "output_type": "stream",
     "text": [
      "120\n"
     ]
    }
   ],
   "source": [
    "def faktoriyel(n):\n",
    "    # Baz durumu\n",
    "    if n == 0 or n == 1:\n",
    "        return 1\n",
    "    # Özyineleme durumu\n",
    "    else:\n",
    "        return n * faktoriyel(n - 1)\n",
    "\n",
    "sonuc = faktoriyel(5)\n",
    "print(sonuc)  # 5! = 5 * 4 * 3 * 2 * 1 = 120"
   ]
  },
  {
   "cell_type": "code",
   "execution_count": 59,
   "id": "ebc4bf26",
   "metadata": {},
   "outputs": [
    {
     "name": "stdout",
     "output_type": "stream",
     "text": [
      "Bir sayı giriniz:5\n",
      "Faktoriyel 5 : 120\n"
     ]
    }
   ],
   "source": [
    "n=input(\"Bir sayı giriniz:\")\n",
    "factorial=1\n",
    "if int(n)>=1:\n",
    "    for i in range(1,int(n)+1):\n",
    "        factorial=factorial*i\n",
    "print(\"Faktoriyel\",n,\":\",factorial)"
   ]
  },
  {
   "cell_type": "markdown",
   "id": "03b44524",
   "metadata": {},
   "source": [
    "# Lambda Fonksiyonları"
   ]
  },
  {
   "cell_type": "markdown",
   "id": "a2dc57f3",
   "metadata": {},
   "source": [
    "Lambda fonksiyonları, Python'da küçük ve anonim fonksiyonlar oluşturmak için kullanılan, tek satırlık fonksiyonlardır. Lambda fonksiyonları, genellikle kısa süreli olarak kullanılacak fonksiyonları tanımlamak için tercih edilir ve adlandırılmadıkları için anonim fonksiyonlar olarak da bilinir.\n",
    "\n",
    "Lambda fonksiyonları, genellikle bir fonksiyonu hızlıca tanımlamak gerektiğinde veya map(), filter(), reduce() gibi fonksiyonlarla birlikte kullanıldığında faydalıdır. Lambda fonksiyonları, daha uzun fonksiyon tanımlamalarına kıyasla daha sade ve kompakt bir kullanım sunar."
   ]
  },
  {
   "cell_type": "markdown",
   "id": "73ac5bf6",
   "metadata": {},
   "source": [
    "### Lambda Fonksiyonunun Yapısı\n",
    "Lambda fonksiyonları şu şekilde tanımlanır:"
   ]
  },
  {
   "cell_type": "raw",
   "id": "36acf952",
   "metadata": {},
   "source": [
    " lambda argüman1, argüman2, ... : işlem"
   ]
  },
  {
   "cell_type": "code",
   "execution_count": 60,
   "id": "80125f09",
   "metadata": {},
   "outputs": [
    {
     "name": "stdout",
     "output_type": "stream",
     "text": [
      "8\n"
     ]
    }
   ],
   "source": [
    "topla=lambda x,y:x+y\n",
    "print(topla(3,5))"
   ]
  },
  {
   "cell_type": "code",
   "execution_count": 61,
   "id": "32736de9",
   "metadata": {},
   "outputs": [
    {
     "name": "stdout",
     "output_type": "stream",
     "text": [
      "21\n"
     ]
    }
   ],
   "source": [
    "carp=lambda x,y:x*y\n",
    "print(carp(3,7))"
   ]
  },
  {
   "cell_type": "code",
   "execution_count": 62,
   "id": "ddcee689",
   "metadata": {},
   "outputs": [
    {
     "name": "stdout",
     "output_type": "stream",
     "text": [
      "Negatif\n"
     ]
    }
   ],
   "source": [
    "pozitif_mi=lambda x:\"Pozitif\" if x>0 else \"Negatif\"\n",
    "print(pozitif_mi(-5))"
   ]
  },
  {
   "cell_type": "code",
   "execution_count": 63,
   "id": "04c861c0",
   "metadata": {},
   "outputs": [
    {
     "data": {
      "text/plain": [
       "80.6"
      ]
     },
     "execution_count": 63,
     "metadata": {},
     "output_type": "execute_result"
    }
   ],
   "source": [
    "fahrenheitCevirme=lambda C:1.8*C+32\n",
    "fahrenheitCevirme(27)"
   ]
  },
  {
   "cell_type": "code",
   "execution_count": 65,
   "id": "825033ef",
   "metadata": {},
   "outputs": [
    {
     "data": {
      "text/plain": [
       "'PythonPython'"
      ]
     },
     "execution_count": 65,
     "metadata": {},
     "output_type": "execute_result"
    }
   ],
   "source": [
    "tekrar=lambda kelime,adet: kelime*adet\n",
    "tekrar(\"Python\",2)"
   ]
  },
  {
   "cell_type": "markdown",
   "id": "0670d6e5",
   "metadata": {},
   "source": [
    "### Lambda Fonksiyonlarının Özellikleri:\n",
    "## Kompakt:\n",
    "Lambda fonksiyonları tek satırda yazılır, bu yüzden kısa işlemler için idealdir.\n",
    "## Anonim: \n",
    "Lambda fonksiyonları genellikle bir isimle tanımlanmaz, sadece kullanıldıkları anda geçerlidir.\n",
    "## Tek İfade: \n",
    "Lambda fonksiyonları yalnızca tek bir ifade içerebilir; bu da, karmaşık işlemler için uygun olmadıkları anlamına gelir.\n",
    "## Esneklik:\n",
    "Hızlı ve geçici fonksiyonlar yazmak için esneklik sağlar."
   ]
  },
  {
   "cell_type": "markdown",
   "id": "1cd86d5c",
   "metadata": {},
   "source": [
    "# map() ile Lambda Kullanımı"
   ]
  },
  {
   "cell_type": "markdown",
   "id": "e244d5e6",
   "metadata": {},
   "source": [
    "Map fonksiyonu verilen listedeki bütün elemanlara aynı fonksiyonu uygulamak amacıyla kullanılır. Map fonksiyonu ili adet argüman alır. Birincisi fonksiyon ve ikincisi fonksiyonun uygulanacağı veri yapısıdır.\n",
    "Dizideki her bir elemanı ilgili fonksiyona tabi tutar"
   ]
  },
  {
   "cell_type": "code",
   "execution_count": 66,
   "id": "de67b8d8",
   "metadata": {},
   "outputs": [
    {
     "name": "stdout",
     "output_type": "stream",
     "text": [
      "[4, 9, 16, 25, 36]\n"
     ]
    }
   ],
   "source": [
    "def KaresiniAl(x):\n",
    "    return x**2\n",
    "sayilar=[2,3,4,5,6]\n",
    "sonuc=map(KaresiniAl,sayilar)\n",
    "yeniliste=list(sonuc)\n",
    "print(yeniliste)"
   ]
  },
  {
   "cell_type": "code",
   "execution_count": 67,
   "id": "da51f465",
   "metadata": {},
   "outputs": [
    {
     "name": "stdout",
     "output_type": "stream",
     "text": [
      "[4, 9, 16, 25, 36]\n"
     ]
    }
   ],
   "source": [
    "sayilar=[2,3,4,5,6]\n",
    "sonuc=list(map(lambda x:x**2,sayilar))\n",
    "print(sonuc)"
   ]
  },
  {
   "cell_type": "markdown",
   "id": "5a447cbb",
   "metadata": {},
   "source": [
    "Gördüğünüz üzere map ile birlikte lambda kullanıldığında kod daha kısa oluyor ve aynı işi gerçekleştirebiliyoruz"
   ]
  },
  {
   "cell_type": "markdown",
   "id": "0e427d2a",
   "metadata": {},
   "source": [
    "## 2. filter() ile Lambda Kullanımı\n",
    "filter() fonksiyonu, bir listedeki elemanları belirli bir koşula göre filtrelemek için kullanılır."
   ]
  },
  {
   "cell_type": "code",
   "execution_count": 70,
   "id": "70777ae4",
   "metadata": {},
   "outputs": [
    {
     "name": "stdout",
     "output_type": "stream",
     "text": [
      "[2, 4, 6, 8]\n"
     ]
    }
   ],
   "source": [
    "sayilar=[1,2,3,4,5,6,7,8]\n",
    "cift_sayilar = list(filter(lambda x: x % 2 == 0, sayilar))\n",
    "print(cift_sayilar)"
   ]
  },
  {
   "cell_type": "code",
   "execution_count": 73,
   "id": "f3ae643f",
   "metadata": {},
   "outputs": [
    {
     "name": "stdout",
     "output_type": "stream",
     "text": [
      "[3, 7, 17, 43, 29, 81]\n"
     ]
    }
   ],
   "source": [
    "sayilar=[3,7,12,17,43,16,29,81,64,42]\n",
    "teksayilar=list(filter(lambda x:x%2==1,sayilar))\n",
    "print(teksayilar)"
   ]
  },
  {
   "cell_type": "code",
   "execution_count": 75,
   "id": "84dea657",
   "metadata": {},
   "outputs": [
    {
     "name": "stdout",
     "output_type": "stream",
     "text": [
      "['Aydın', 'İzmir']\n"
     ]
    }
   ],
   "source": [
    "sehirler=[\"Gümüşhane\",\"Aydın\",\"İzmir\",\"Manisa\",\"Burdur\"]\n",
    "iller=list(filter(lambda x:len(x)<6,sehirler))\n",
    "print(iller)"
   ]
  },
  {
   "cell_type": "markdown",
   "id": "fae27c9c",
   "metadata": {},
   "source": [
    "## 3. reduce() ile Lambda "
   ]
  },
  {
   "cell_type": "markdown",
   "id": "4ddaa889",
   "metadata": {},
   "source": [
    "reduce() fonksiyonu, bir dizideki elemanları belirli bir kurala göre birleştirerek tek bir sonuç üretir (Bu fonksiyon, functools modülünden import edilmelidir)."
   ]
  },
  {
   "cell_type": "code",
   "execution_count": 76,
   "id": "f8ac7c5b",
   "metadata": {},
   "outputs": [
    {
     "name": "stdout",
     "output_type": "stream",
     "text": [
      "24\n"
     ]
    }
   ],
   "source": [
    "from functools import reduce\n",
    "\n",
    "sayilar=[1,2,3,4]\n",
    "carpim=reduce(lambda x,y:x*y,sayilar)\n",
    "print(carpim)"
   ]
  },
  {
   "cell_type": "code",
   "execution_count": 77,
   "id": "49ee85a7",
   "metadata": {},
   "outputs": [
    {
     "name": "stdout",
     "output_type": "stream",
     "text": [
      "Ayşe,Ali,Ahmet,Mehmet,Veli,Murat\n"
     ]
    }
   ],
   "source": [
    "ekip=[\"Ayşe\",\"Ali\",\"Ahmet\",\"Mehmet\",\"Veli\",\"Murat\"]\n",
    "butunekip=reduce(lambda ekip1,ekip2: ekip1+\",\"+ekip2,ekip)\n",
    "print(butunekip)"
   ]
  },
  {
   "cell_type": "code",
   "execution_count": 78,
   "id": "0dcb0e12",
   "metadata": {},
   "outputs": [
    {
     "name": "stdout",
     "output_type": "stream",
     "text": [
      "21\n"
     ]
    }
   ],
   "source": [
    "sayilar=[1,2,3,4,5,6]\n",
    "toplam=reduce(lambda x,y:x+y,sayilar)\n",
    "print(toplam)"
   ]
  },
  {
   "cell_type": "markdown",
   "id": "9276e1bd",
   "metadata": {},
   "source": [
    "##  Fonksiyonlarda Kapsama"
   ]
  },
  {
   "cell_type": "markdown",
   "id": "42ee6dd0",
   "metadata": {},
   "source": [
    "Python'da kapsama (scope), bir değişkenin veya ismin kullanılabilir olduğu bölgeyi tanımlar. Bir değişkenin veya fonksiyonun tanımlandığı yer, o değişkenin veya fonksiyonun kapsamını belirler. Python'da dört temel kapsama türü vardır:"
   ]
  },
  {
   "cell_type": "markdown",
   "id": "e270f96a",
   "metadata": {},
   "source": [
    "### 1)Yerel Kapsam (Local Scope)\n",
    "### 2)Global Kapsam (Global Scope)\n",
    "### 3)Yerleşik Kapsam (Built-in Scope)"
   ]
  },
  {
   "cell_type": "markdown",
   "id": "e12b48ce",
   "metadata": {},
   "source": [
    "Bu kapsamlar, Python'daki değişkenlerin nerelerde erişilebilir olduğunu anlamamızı sağlar. Kapsama kuralları, bir değişkene hangi bölgeden erişilebileceğini belirler."
   ]
  },
  {
   "cell_type": "markdown",
   "id": "c1962a7e",
   "metadata": {},
   "source": [
    "### 1. Yerel Kapsam (Local Scope)\n",
    "Yerel kapsam, bir fonksiyon içinde tanımlanan değişkenleri içerir. Bir fonksiyonun içinde tanımlanan her değişken, yalnızca o fonksiyonun içinde geçerlidir ve fonksiyon dışından erişilemez."
   ]
  },
  {
   "cell_type": "code",
   "execution_count": 80,
   "id": "c44125ad",
   "metadata": {},
   "outputs": [
    {
     "name": "stdout",
     "output_type": "stream",
     "text": [
      "10\n"
     ]
    },
    {
     "ename": "NameError",
     "evalue": "name 'yerel_degisken' is not defined",
     "output_type": "error",
     "traceback": [
      "\u001b[1;31m---------------------------------------------------------------------------\u001b[0m",
      "\u001b[1;31mNameError\u001b[0m                                 Traceback (most recent call last)",
      "\u001b[1;32m~\\AppData\\Local\\Temp\\ipykernel_3192\\1718129892.py\u001b[0m in \u001b[0;36m<module>\u001b[1;34m\u001b[0m\n\u001b[0;32m      4\u001b[0m \u001b[1;33m\u001b[0m\u001b[0m\n\u001b[0;32m      5\u001b[0m \u001b[0mfonksiyon\u001b[0m\u001b[1;33m(\u001b[0m\u001b[1;33m)\u001b[0m  \u001b[1;31m# 10\u001b[0m\u001b[1;33m\u001b[0m\u001b[1;33m\u001b[0m\u001b[0m\n\u001b[1;32m----> 6\u001b[1;33m \u001b[0mprint\u001b[0m\u001b[1;33m(\u001b[0m\u001b[0myerel_degisken\u001b[0m\u001b[1;33m)\u001b[0m  \u001b[1;31m# Hata verir: NameError, çünkü yerel_degisken fonksiyon dışında tanımlı değil\u001b[0m\u001b[1;33m\u001b[0m\u001b[1;33m\u001b[0m\u001b[0m\n\u001b[0m",
      "\u001b[1;31mNameError\u001b[0m: name 'yerel_degisken' is not defined"
     ]
    }
   ],
   "source": [
    "def fonksiyon():\n",
    "    yerel_degisken = 10  # Bu değişken sadece fonksiyon içinde erişilebilir\n",
    "    print(yerel_degisken)\n",
    "\n",
    "fonksiyon()  # 10\n",
    "print(yerel_degisken)  # Hata verir: NameError, çünkü yerel_degisken fonksiyon dışında tanımlı değil"
   ]
  },
  {
   "cell_type": "markdown",
   "id": "6b257d90",
   "metadata": {},
   "source": [
    "### 2. Global Kapsam (Global Scope)\n",
    "Global kapsam, modül seviyesinde tanımlanan (fonksiyonların ve sınıfların dışında tanımlanan) değişkenleri kapsar. Global değişkenler, modülün her yerinde (fonksiyonların ve sınıfların içinde de) kullanılabilir."
   ]
  },
  {
   "cell_type": "code",
   "execution_count": 81,
   "id": "83363741",
   "metadata": {},
   "outputs": [
    {
     "name": "stdout",
     "output_type": "stream",
     "text": [
      "30\n",
      "30\n"
     ]
    }
   ],
   "source": [
    "global_değişken=30\n",
    "def fonksiyon():\n",
    "    print(global_değişken)\n",
    "    \n",
    "fonksiyon()\n",
    "print(global_değişken)"
   ]
  },
  {
   "cell_type": "code",
   "execution_count": 82,
   "id": "3c58e2d7",
   "metadata": {},
   "outputs": [
    {
     "name": "stdout",
     "output_type": "stream",
     "text": [
      "125\n",
      "50\n"
     ]
    }
   ],
   "source": [
    "sonuc=50\n",
    "def usalma(x,y):\n",
    "    sonuc=x**y\n",
    "    return sonuc\n",
    "print(usalma(5,3))\n",
    "print(sonuc)"
   ]
  },
  {
   "cell_type": "code",
   "execution_count": 83,
   "id": "82313761",
   "metadata": {},
   "outputs": [
    {
     "name": "stdout",
     "output_type": "stream",
     "text": [
      "125\n"
     ]
    }
   ],
   "source": [
    "us=3\n",
    "def usalma(x):\n",
    "    sonuc=x**us\n",
    "    return sonuc\n",
    "print(usalma(5))"
   ]
  },
  {
   "cell_type": "code",
   "execution_count": 84,
   "id": "c35909ff",
   "metadata": {},
   "outputs": [
    {
     "name": "stdout",
     "output_type": "stream",
     "text": [
      "625\n",
      "4\n"
     ]
    }
   ],
   "source": [
    "us=3\n",
    "def usalma(x):\n",
    "    global us\n",
    "    us=us+1\n",
    "    sonuc=x**us\n",
    "    return sonuc\n",
    "print(usalma(5))\n",
    "print(us)"
   ]
  },
  {
   "cell_type": "code",
   "execution_count": 85,
   "id": "c4b8e923",
   "metadata": {},
   "outputs": [],
   "source": [
    "def kelvin_fahrenheit(derece):\n",
    "    def kelvin_Celsiun(kelvinderece):\n",
    "        celsiusDerece=kelvinderece-273.15\n",
    "        return celsiusDerece\n",
    "    fahrenheit=1.8*kelvinCelsius(derece)+32\n",
    "    print(celsiusDerece)\n",
    "    return fahrenheit"
   ]
  },
  {
   "cell_type": "markdown",
   "id": "18fe761e",
   "metadata": {},
   "source": [
    "### 3. Yerleşik Kapsam (Built-in Scope)"
   ]
  },
  {
   "cell_type": "markdown",
   "id": "c79b619b",
   "metadata": {},
   "source": [
    "Python, dilin kendi içinde tanımlı olan (built-in) birçok fonksiyon ve nesneye sahiptir. Örneğin print(), len() gibi fonksiyonlar Python dilinin yerleşik fonksiyonlarıdır ve bunlara her yerden erişilebilir."
   ]
  },
  {
   "cell_type": "code",
   "execution_count": 86,
   "id": "92e7fa25",
   "metadata": {},
   "outputs": [
    {
     "name": "stdout",
     "output_type": "stream",
     "text": [
      "3\n"
     ]
    }
   ],
   "source": [
    "print(len([1, 2, 3]))  # Yerleşik len() fonksiyonunu kullanıyoruz"
   ]
  },
  {
   "cell_type": "markdown",
   "id": "ae6552fd",
   "metadata": {},
   "source": [
    "Python'un yerleşik fonksiyonlarına veya değişkenlerine erişim, en geniş kapsamda (built-in scope) gerçekleşir. Bu fonksiyonlara herhangi bir ek tanımlama yapmadan doğrudan ulaşabiliriz."
   ]
  },
  {
   "cell_type": "markdown",
   "id": "0d1e3a41",
   "metadata": {},
   "source": [
    "#### Built-İn Örnekler"
   ]
  },
  {
   "cell_type": "code",
   "execution_count": 87,
   "id": "a5dde788",
   "metadata": {},
   "outputs": [
    {
     "name": "stdout",
     "output_type": "stream",
     "text": [
      "Merhaba evren\n"
     ]
    }
   ],
   "source": [
    "metin = \"Merhaba dünya\"\n",
    "yeni_metin = metin.replace(\"dünya\", \"evren\")\n",
    "print(yeni_metin)"
   ]
  },
  {
   "cell_type": "code",
   "execution_count": 88,
   "id": "d0264b18",
   "metadata": {},
   "outputs": [
    {
     "name": "stdout",
     "output_type": "stream",
     "text": [
      "PYTHON PROGRAMLAMA\n"
     ]
    }
   ],
   "source": [
    "metin = \"python programlama\"\n",
    "buyuk_metin = metin.upper()\n",
    "print(buyuk_metin)"
   ]
  },
  {
   "cell_type": "code",
   "execution_count": 89,
   "id": "6e30c422",
   "metadata": {},
   "outputs": [
    {
     "name": "stdout",
     "output_type": "stream",
     "text": [
      "nohtyP\n"
     ]
    }
   ],
   "source": [
    "metin = \"Python\"\n",
    "ters_metin = metin[::-1]  # Stringi ters çeviriyoruz\n",
    "print(ters_metin)"
   ]
  },
  {
   "cell_type": "markdown",
   "id": "c492c446",
   "metadata": {},
   "source": [
    "# Liste üreteçleri (List Comprehensions)\n",
    ", Python'da kısa ve okunabilir bir şekilde yeni listeler oluşturmak için kullanılan güçlü bir yapıdır. Geleneksel for döngüleriyle liste oluşturmak yerine, liste üreteçleri daha kısa ve etkili bir yöntem sunar."
   ]
  },
  {
   "cell_type": "markdown",
   "id": "8310abc8",
   "metadata": {},
   "source": [
    "yeni_liste = [ifade for eleman in iterable]\n"
   ]
  },
  {
   "cell_type": "markdown",
   "id": "0f4ff4c4",
   "metadata": {},
   "source": [
    "Bu yapıda:\n",
    "\n",
    "## ifade: \n",
    "Her döngü adımında listeye eklenen öğe üzerinde yapılacak işlem.\n",
    "## eleman: \n",
    "Döngüdeki her bir öğe.\n",
    "## iterable: \n",
    "Döngü yapılacak olan veri yapısı (liste, tuple, set, vs.)."
   ]
  },
  {
   "cell_type": "code",
   "execution_count": 91,
   "id": "8328d220",
   "metadata": {},
   "outputs": [
    {
     "name": "stdout",
     "output_type": "stream",
     "text": [
      "[1, 4, 9, 16, 25]\n"
     ]
    }
   ],
   "source": [
    "sayilar = [1, 2, 3, 4, 5]\n",
    "kareler = [x**2 for x in sayilar]\n",
    "print(kareler)"
   ]
  },
  {
   "cell_type": "markdown",
   "id": "62787b7c",
   "metadata": {},
   "source": [
    "# Hocaya sor"
   ]
  },
  {
   "cell_type": "code",
   "execution_count": 97,
   "id": "219c45f8",
   "metadata": {},
   "outputs": [
    {
     "name": "stdout",
     "output_type": "stream",
     "text": [
      "<generator object <genexpr> at 0x000001BF8E53F580>\n"
     ]
    }
   ],
   "source": [
    "liste=[2,4,5,9,6,3,6]\n",
    "listeKup=(i**3 for i in liste)\n",
    "print(listeKup)"
   ]
  },
  {
   "cell_type": "code",
   "execution_count": 98,
   "id": "f9c4cc24",
   "metadata": {},
   "outputs": [
    {
     "name": "stdout",
     "output_type": "stream",
     "text": [
      "8\n",
      "64\n",
      "125\n",
      "729\n",
      "216\n",
      "27\n",
      "216\n"
     ]
    }
   ],
   "source": [
    "for x in listeKup:\n",
    "    print(x)"
   ]
  },
  {
   "cell_type": "code",
   "execution_count": 99,
   "id": "55baf1c9",
   "metadata": {},
   "outputs": [
    {
     "name": "stdout",
     "output_type": "stream",
     "text": [
      "[]\n"
     ]
    }
   ],
   "source": [
    "print(list(listeKup))"
   ]
  },
  {
   "cell_type": "code",
   "execution_count": 106,
   "id": "6b465b7c",
   "metadata": {},
   "outputs": [
    {
     "name": "stdout",
     "output_type": "stream",
     "text": [
      "64\n",
      "216\n",
      "8\n",
      "1728\n",
      "1331\n",
      "343\n"
     ]
    },
    {
     "ename": "StopIteration",
     "evalue": "",
     "output_type": "error",
     "traceback": [
      "\u001b[1;31m---------------------------------------------------------------------------\u001b[0m",
      "\u001b[1;31mStopIteration\u001b[0m                             Traceback (most recent call last)",
      "\u001b[1;32m~\\AppData\\Local\\Temp\\ipykernel_3192\\3124513913.py\u001b[0m in \u001b[0;36m<module>\u001b[1;34m\u001b[0m\n\u001b[0;32m      7\u001b[0m \u001b[0mprint\u001b[0m\u001b[1;33m(\u001b[0m\u001b[0mnext\u001b[0m\u001b[1;33m(\u001b[0m\u001b[0mlisteKup\u001b[0m\u001b[1;33m)\u001b[0m\u001b[1;33m)\u001b[0m\u001b[1;33m\u001b[0m\u001b[1;33m\u001b[0m\u001b[0m\n\u001b[0;32m      8\u001b[0m \u001b[0mprint\u001b[0m\u001b[1;33m(\u001b[0m\u001b[0mnext\u001b[0m\u001b[1;33m(\u001b[0m\u001b[0mlisteKup\u001b[0m\u001b[1;33m)\u001b[0m\u001b[1;33m)\u001b[0m\u001b[1;33m\u001b[0m\u001b[1;33m\u001b[0m\u001b[0m\n\u001b[1;32m----> 9\u001b[1;33m \u001b[0mprint\u001b[0m\u001b[1;33m(\u001b[0m\u001b[0mnext\u001b[0m\u001b[1;33m(\u001b[0m\u001b[0mlisteKup\u001b[0m\u001b[1;33m)\u001b[0m\u001b[1;33m)\u001b[0m\u001b[1;33m\u001b[0m\u001b[1;33m\u001b[0m\u001b[0m\n\u001b[0m",
      "\u001b[1;31mStopIteration\u001b[0m: "
     ]
    }
   ],
   "source": [
    "liste=[4,6,2,12,11,7]\n",
    "listeKup=(i**3 for i in liste)\n",
    "print(next(listeKup))\n",
    "print(next(listeKup))\n",
    "print(next(listeKup))\n",
    "print(next(listeKup))\n",
    "print(next(listeKup))\n",
    "print(next(listeKup))\n",
    "print(next(listeKup))"
   ]
  },
  {
   "cell_type": "code",
   "execution_count": 109,
   "id": "f18afdd5",
   "metadata": {},
   "outputs": [
    {
     "name": "stdout",
     "output_type": "stream",
     "text": [
      "Geri sayim:\n",
      "5\n",
      "4\n",
      "3\n",
      "2\n",
      "1\n",
      "0\n"
     ]
    }
   ],
   "source": [
    "def gerisay(n):\n",
    "    print(\"Geri sayim:\")\n",
    "    while x>0:\n",
    "        yield n\n",
    "        n-=1\n",
    "say=gerisay(5)\n",
    "print(next(say))\n",
    "print(next(say))\n",
    "print(next(say))\n",
    "print(next(say))\n",
    "print(next(say))\n",
    "print(next(say))"
   ]
  },
  {
   "cell_type": "code",
   "execution_count": 122,
   "id": "970228f3",
   "metadata": {},
   "outputs": [
    {
     "name": "stdout",
     "output_type": "stream",
     "text": [
      "8\n",
      "6\n",
      "5\n",
      "5\n",
      "5\n"
     ]
    }
   ],
   "source": [
    "yeradlari=[\"İstanbul\",\"Ankara\",\"İzmir\",\"Bursa\",\"Konya\"]\n",
    "def uzunlukBul(liste):\n",
    "    for kelime in liste:\n",
    "        yield(len(kelime))\n",
    "        \n",
    "for sozcuk in uzunlukBul(yeradlari):\n",
    "    print(sozcuk)"
   ]
  },
  {
   "cell_type": "code",
   "execution_count": null,
   "id": "0532f62d",
   "metadata": {},
   "outputs": [],
   "source": []
  }
 ],
 "metadata": {
  "kernelspec": {
   "display_name": "Python 3 (ipykernel)",
   "language": "python",
   "name": "python3"
  },
  "language_info": {
   "codemirror_mode": {
    "name": "ipython",
    "version": 3
   },
   "file_extension": ".py",
   "mimetype": "text/x-python",
   "name": "python",
   "nbconvert_exporter": "python",
   "pygments_lexer": "ipython3",
   "version": "3.9.13"
  }
 },
 "nbformat": 4,
 "nbformat_minor": 5
}
