{
 "cells": [
  {
   "cell_type": "markdown",
   "id": "3800df6b",
   "metadata": {},
   "source": [
    "Python'da döngüler, bir kod bloğunu belirli koşullar altında tekrar tekrar çalıştırmayı sağlar. Döngüler, belirli bir işlemi birden fazla kez yapmamız gerektiğinde kullanılır ve iki temel yapısı vardır: for döngüsü ve while döngüsü.\n",
    "\n"
   ]
  },
  {
   "cell_type": "markdown",
   "id": "334ce6d0",
   "metadata": {},
   "source": [
    "# 1. for Döngüsü:\n",
    "for döngüsü, bir koleksiyon (liste, tuple, set, dictionary veya string) üzerinde yinelemeler yapmak için kullanılır."
   ]
  },
  {
   "cell_type": "raw",
   "id": "cf864cb5",
   "metadata": {},
   "source": [
    "for öğe in koleksiyon:\n",
    "    #Yapılacak işlemler"
   ]
  },
  {
   "cell_type": "markdown",
   "id": "be7a2b7a",
   "metadata": {},
   "source": [
    "### A. Liste Üzerinde Döngü:"
   ]
  },
  {
   "cell_type": "code",
   "execution_count": 1,
   "id": "bc215ab0",
   "metadata": {},
   "outputs": [
    {
     "name": "stdout",
     "output_type": "stream",
     "text": [
      "elma\n",
      "armut\n",
      "muz\n"
     ]
    }
   ],
   "source": [
    "meyveler = [\"elma\", \"armut\", \"muz\"]\n",
    "for meyve in meyveler:\n",
    "    print(meyve)"
   ]
  },
  {
   "cell_type": "markdown",
   "id": "911ce11a",
   "metadata": {},
   "source": [
    "### B. String Üzerinde Döngü:"
   ]
  },
  {
   "cell_type": "code",
   "execution_count": 2,
   "id": "01dec0a4",
   "metadata": {},
   "outputs": [
    {
     "name": "stdout",
     "output_type": "stream",
     "text": [
      "P\n",
      "y\n",
      "t\n",
      "h\n",
      "o\n",
      "n\n"
     ]
    }
   ],
   "source": [
    "for harf in \"Python\":\n",
    "    print(harf)"
   ]
  },
  {
   "cell_type": "markdown",
   "id": "2d7e861a",
   "metadata": {},
   "source": [
    "### C. range() Fonksiyonu ile Döngü:"
   ]
  },
  {
   "cell_type": "code",
   "execution_count": 3,
   "id": "a6b39397",
   "metadata": {},
   "outputs": [
    {
     "name": "stdout",
     "output_type": "stream",
     "text": [
      "0\n",
      "1\n",
      "2\n",
      "3\n",
      "4\n"
     ]
    }
   ],
   "source": [
    "for i in range(5):\n",
    "    print(i)"
   ]
  },
  {
   "cell_type": "markdown",
   "id": "25f84226",
   "metadata": {},
   "source": [
    "# 2. while Döngüsü:"
   ]
  },
  {
   "cell_type": "markdown",
   "id": "b663d353",
   "metadata": {},
   "source": [
    "while döngüsü, belirli bir koşul doğru olduğu sürece kod bloğunu tekrar tekrar çalıştırır. Koşul yanlış hale geldiğinde döngü sona erer."
   ]
  },
  {
   "cell_type": "raw",
   "id": "a564eea7",
   "metadata": {},
   "source": [
    "while koşul:\n",
    "    # Yapılacak işlemler"
   ]
  },
  {
   "cell_type": "markdown",
   "id": "7f345935",
   "metadata": {},
   "source": [
    "### a. Basit while Döngüsü:"
   ]
  },
  {
   "cell_type": "code",
   "execution_count": 4,
   "id": "684a9dcd",
   "metadata": {},
   "outputs": [
    {
     "name": "stdout",
     "output_type": "stream",
     "text": [
      "0\n",
      "1\n",
      "2\n",
      "3\n",
      "4\n"
     ]
    }
   ],
   "source": [
    "x = 0\n",
    "while x < 5:\n",
    "    print(x)\n",
    "    x += 1  # x'i her seferinde 1 artır"
   ]
  },
  {
   "cell_type": "markdown",
   "id": "c22111b4",
   "metadata": {},
   "source": [
    "### b. Sonsuz Döngü:\n",
    "Eğer döngü koşulu hiçbir zaman False olmazsa sonsuz döngü oluşur."
   ]
  },
  {
   "cell_type": "code",
   "execution_count": 5,
   "id": "1d3fe7c8",
   "metadata": {},
   "outputs": [],
   "source": [
    "#while True:\n",
    "    #print(\"Bu sonsuz bir döngü!\")"
   ]
  },
  {
   "cell_type": "markdown",
   "id": "1580417b",
   "metadata": {},
   "source": [
    "# Döngülerde Kontrol İfadeleri:\n",
    "## 1. break:\n",
    "break ifadesi, döngüyü tamamen sonlandırır ve döngüden çıkar."
   ]
  },
  {
   "cell_type": "code",
   "execution_count": 6,
   "id": "386594d4",
   "metadata": {},
   "outputs": [
    {
     "name": "stdout",
     "output_type": "stream",
     "text": [
      "0\n",
      "1\n",
      "2\n",
      "3\n",
      "4\n"
     ]
    }
   ],
   "source": [
    "for i in range(10):\n",
    "    if i == 5:\n",
    "        break  # Döngü 5'e gelince sona erer\n",
    "    print(i)"
   ]
  },
  {
   "cell_type": "markdown",
   "id": "271f1a48",
   "metadata": {},
   "source": [
    "### 2. continue:\n",
    "continue ifadesi, döngüde o anki yinelemeyi atlar ve döngüye devam eder."
   ]
  },
  {
   "cell_type": "code",
   "execution_count": 7,
   "id": "51710001",
   "metadata": {},
   "outputs": [
    {
     "name": "stdout",
     "output_type": "stream",
     "text": [
      "0\n",
      "1\n",
      "2\n",
      "4\n"
     ]
    }
   ],
   "source": [
    "for i in range(5):\n",
    "    if i == 3:\n",
    "        continue  # 3'ü atla, geri kalanını yazdır\n",
    "    print(i)"
   ]
  },
  {
   "cell_type": "markdown",
   "id": "8aee4ca2",
   "metadata": {},
   "source": [
    "### 3. else:\n",
    "Döngü sorunsuz bir şekilde sona ererse (yani break kullanılmadan), döngünün else bloğu çalışır."
   ]
  },
  {
   "cell_type": "code",
   "execution_count": 8,
   "id": "7a2e39c1",
   "metadata": {},
   "outputs": [
    {
     "name": "stdout",
     "output_type": "stream",
     "text": [
      "0\n",
      "1\n",
      "2\n",
      "3\n",
      "4\n",
      "Döngü sona erdi.\n"
     ]
    }
   ],
   "source": [
    "for i in range(5):\n",
    "    print(i)\n",
    "else:\n",
    "    print(\"Döngü sona erdi.\")  # Döngü sorunsuz bittiğinde çalışır"
   ]
  },
  {
   "cell_type": "markdown",
   "id": "4b0be8f1",
   "metadata": {},
   "source": [
    "## Enumerate Fonksiyonu\n",
    "Python'da enumerate() fonksiyonu, for döngüsü ile kullanıldığında, bir iterable (liste, tuple, string gibi) üzerinde gezinirken her öğenin hem indeksini hem de değerini almayı sağlar. Bu, indeks bilgisine ihtiyaç duyduğunuz durumlarda çok kullanışlıdır."
   ]
  },
  {
   "cell_type": "raw",
   "id": "b75f9675",
   "metadata": {},
   "source": [
    "enumerate(iterable, start=0)\n",
    "\n",
    "iterable: Üzerinde döngü yapılacak liste, dizi, string vb.\n",
    "start: İndeksin başlama noktası (varsayılan olarak 0'dan başlar)."
   ]
  },
  {
   "cell_type": "code",
   "execution_count": 9,
   "id": "46cb40aa",
   "metadata": {},
   "outputs": [
    {
     "name": "stdout",
     "output_type": "stream",
     "text": [
      "İndeks: 0, Meyve: elma\n",
      "İndeks: 1, Meyve: armut\n",
      "İndeks: 2, Meyve: muz\n"
     ]
    }
   ],
   "source": [
    "# Örnek\n",
    "meyveler = [\"elma\", \"armut\", \"muz\"]\n",
    "\n",
    "for index, meyve in enumerate(meyveler):\n",
    "    print(f\"İndeks: {index}, Meyve: {meyve}\")"
   ]
  },
  {
   "cell_type": "markdown",
   "id": "226d7c62",
   "metadata": {},
   "source": [
    "### 2. İndeksin Farklı Bir Sayıdan Başlaması:\n",
    "enumerate() fonksiyonuna ikinci argüman olarak indeksin hangi sayıdan başlamasını istediğinizi belirtebilirsiniz."
   ]
  },
  {
   "cell_type": "code",
   "execution_count": 10,
   "id": "3266fff9",
   "metadata": {},
   "outputs": [
    {
     "name": "stdout",
     "output_type": "stream",
     "text": [
      "İndeks: 1, Meyve: elma\n",
      "İndeks: 2, Meyve: armut\n",
      "İndeks: 3, Meyve: muz\n"
     ]
    }
   ],
   "source": [
    "meyveler = [\"elma\", \"armut\", \"muz\"]\n",
    "\n",
    "for index, meyve in enumerate(meyveler, start=1):\n",
    "    print(f\"İndeks: {index}, Meyve: {meyve}\")"
   ]
  },
  {
   "cell_type": "code",
   "execution_count": 11,
   "id": "4406a9e2",
   "metadata": {},
   "outputs": [
    {
     "data": {
      "text/plain": [
       "[3, 4, 5, 6, 7, 7, 6, 5, 4, 3]"
      ]
     },
     "execution_count": 11,
     "metadata": {},
     "output_type": "execute_result"
    }
   ],
   "source": [
    "[3,4,5,6,7] + [7,6,5,4,3]"
   ]
  },
  {
   "cell_type": "markdown",
   "id": "98462504",
   "metadata": {},
   "source": [
    "## 3. String Üzerinde enumerate() Kullanımı:"
   ]
  },
  {
   "cell_type": "code",
   "execution_count": 12,
   "id": "b2f3e9d5",
   "metadata": {},
   "outputs": [
    {
     "name": "stdout",
     "output_type": "stream",
     "text": [
      "İndeks: 0, Harf: P\n",
      "İndeks: 1, Harf: y\n",
      "İndeks: 2, Harf: t\n",
      "İndeks: 3, Harf: h\n",
      "İndeks: 4, Harf: o\n",
      "İndeks: 5, Harf: n\n"
     ]
    }
   ],
   "source": [
    "\n",
    "for index, harf in enumerate(\"Python\"):\n",
    "    print(f\"İndeks: {index}, Harf: {harf}\")"
   ]
  },
  {
   "cell_type": "markdown",
   "id": "9bda799a",
   "metadata": {},
   "source": [
    "## 4. enumerate() ile Koşullu İfade Kullanımı:\n",
    "İndeks veya değer ile ilgili bir koşul belirleyerek enumerate() kullanabilirsiniz."
   ]
  },
  {
   "cell_type": "code",
   "execution_count": 13,
   "id": "84a3951e",
   "metadata": {},
   "outputs": [
    {
     "name": "stdout",
     "output_type": "stream",
     "text": [
      "Çift indeks: 0, Sayi: 10\n",
      "Çift indeks: 2, Sayi: 30\n",
      "Çift indeks: 4, Sayi: 50\n"
     ]
    }
   ],
   "source": [
    "sayilar = [10, 20, 30, 40, 50]\n",
    "\n",
    "for index, sayi in enumerate(sayilar):\n",
    "    if index % 2 == 0:  # İndeks çift sayıysa\n",
    "        print(f\"Çift indeks: {index}, Sayi: {sayi}\")"
   ]
  },
  {
   "cell_type": "markdown",
   "id": "5b5f54a6",
   "metadata": {},
   "source": [
    "# Örnekler"
   ]
  },
  {
   "cell_type": "code",
   "execution_count": 14,
   "id": "60bc61c4",
   "metadata": {},
   "outputs": [
    {
     "name": "stdout",
     "output_type": "stream",
     "text": [
      "0:Gumushane\n",
      "1:Bayburt\n",
      "2:Trabzon\n",
      "3:Erzincan\n",
      "4:Erzurum\n",
      "5:Elazığ\n"
     ]
    }
   ],
   "source": [
    "liste = [\"Gumushane\", \"Bayburt\",\"Trabzon\", \"Erzincan\",\"Erzurum\", \"Elazığ\"]\n",
    "for index, sehir in enumerate(liste):\n",
    "    print(str(index) + \":\" + str(sehir))\n"
   ]
  },
  {
   "cell_type": "code",
   "execution_count": 15,
   "id": "45262dc5",
   "metadata": {},
   "outputs": [
    {
     "name": "stdout",
     "output_type": "stream",
     "text": [
      "0:- Gumushane :--> Torul\n",
      "1:- Bayburt :--> Merkez\n",
      "2:- Trabzon :--> Of\n",
      "3:- Erzincan :--> Kemaliye\n",
      "4:- Erzurum :--> Palandöken\n",
      "5:- Elazığ :--> Sivrice\n"
     ]
    }
   ],
   "source": [
    "sehirler = [\"Gumushane\", \"Bayburt\",\"Trabzon\", \"Erzincan\",\"Erzurum\", \"Elazığ\"]\n",
    "ilceler = [\"Torul\",\"Merkez\",\"Of\",\"Kemaliye\",\"Palandöken\", \"Sivrice\"]\n",
    "sehir_ilce = zip(sehirler, ilceler)\n",
    "for index, veri in enumerate(sehir_ilce):\n",
    "    sehir, ilce = veri\n",
    "    print(f\"{index}:- {sehir} :--> {ilce}\")"
   ]
  },
  {
   "cell_type": "code",
   "execution_count": 16,
   "id": "b86e4569",
   "metadata": {},
   "outputs": [
    {
     "name": "stdout",
     "output_type": "stream",
     "text": [
      "Ali: 100\n",
      "Mehmet: 95\n",
      "Asya: 99\n",
      "Cemre: 100\n"
     ]
    }
   ],
   "source": [
    "notlar = [[\"Ali\", 100],\n",
    "          [\"Mehmet\", 95],\n",
    "          [\"Asya\", 99],\n",
    "          [\"Cemre\", 100]]\n",
    "for i in notlar:\n",
    "    print(str(i[0]) + \": \" + str(i[1]))\n"
   ]
  },
  {
   "cell_type": "code",
   "execution_count": 17,
   "id": "866eebaa",
   "metadata": {},
   "outputs": [
    {
     "name": "stdout",
     "output_type": "stream",
     "text": [
      "Sınıf:1\n",
      "1:Ali\n",
      "2:Rıza\n",
      "Sınıf:2\n",
      "1:Mustafa\n",
      "2:Salih\n",
      "3:Esila\n",
      "4:Mesut\n",
      "Sınıf:3\n",
      "1:Ilgaz\n",
      "2:Serdar\n",
      "3:Tekin\n"
     ]
    }
   ],
   "source": [
    "siniflar = [[\"Ali\", \"Rıza\"],\n",
    "            [\"Mustafa\",\"Salih\",\"Esila\",\"Mesut\"],\n",
    "            [\"Ilgaz\", \"Serdar\", \"Tekin\"]]\n",
    "for sinif, i in enumerate(siniflar):\n",
    "    print(\"Sınıf\" + \":\" + str(sinif+1))\n",
    "    for sira, ogrenci in enumerate(i):\n",
    "        print(str(str(sira+1) + \":\" + str(ogrenci)))"
   ]
  },
  {
   "cell_type": "code",
   "execution_count": 18,
   "id": "e0b8c0aa",
   "metadata": {},
   "outputs": [
    {
     "name": "stdout",
     "output_type": "stream",
     "text": [
      "Ali 75\n",
      "Veli 54\n",
      "Hazar 87\n",
      "Selim 23\n"
     ]
    }
   ],
   "source": [
    "grade_list = {\"Ali\":75, \"Veli\":54, \"Hazar\": 87, \"Selim\":23}\n",
    "for student in grade_list:\n",
    "    print(student, grade_list[student])\n"
   ]
  },
  {
   "cell_type": "code",
   "execution_count": 19,
   "id": "4f4da4f6",
   "metadata": {},
   "outputs": [],
   "source": [
    "ogrenciler=[('A','Ali','0001'),\n",
    "            ('A','Rıza','0002'),\n",
    "            ('A','Alp','0003'),\n",
    "            ('B','Ayşe','0004'),\n",
    "            ('B','Ceren','0005'),\n",
    "            ('B','Vuslat','0006'),\n",
    "            ('B','Mustafa','0007'),\n",
    "            ('C','Yasin','0008'),\n",
    "            ('C','Ali','0009'),\n",
    "            ('C','Asaf','00010')\n",
    "           ]"
   ]
  },
  {
   "cell_type": "code",
   "execution_count": 20,
   "id": "25b5231c",
   "metadata": {},
   "outputs": [
    {
     "name": "stdout",
     "output_type": "stream",
     "text": [
      "{'A': [('Ali', '0001')]}\n",
      "{'A': [('Ali', '0001')], 'B': [('Ayşe', '0004')]}\n",
      "{'A': [('Ali', '0001')], 'B': [('Ayşe', '0004')], 'C': [('Yasin', '0008')]}\n"
     ]
    }
   ],
   "source": [
    "#Boş bir sınıflar sözlüğü oluşturalım.\n",
    "siniflar = {}\n",
    "#Öğrenciler listesini izleyecek bir for döngüsü yazalım.\n",
    "#Listenin elemanı olan tuple verilerini de sinif, ogrenci ve numara olarak ayrıştıralım,\n",
    "for sinif, ogrenci, numara in ogrenciler:\n",
    "#Sınıflar sözlüğünde bu sınıfa ait bir anahtar yoksa yenisini oluştur.\n",
    "#Bu anahtara karşılık gelen değer boş bir liste olsun\n",
    "    if sinif not in siniflar:\n",
    "        siniflar[sinif] = []\n",
    "        #ogrenci ve numara verilerini tuple haline getir ve ilgili sonofon listesine ekle\n",
    "        siniflar[sinif].append((ogrenci, numara))\n",
    "        # Sınıfları ekrana basalım\n",
    "        print(siniflar)\n"
   ]
  },
  {
   "cell_type": "code",
   "execution_count": 21,
   "id": "7a66495d",
   "metadata": {},
   "outputs": [
    {
     "name": "stdout",
     "output_type": "stream",
     "text": [
      "defaultdict(<class 'list'>, {'A': [('Ali', '0001')]})\n",
      "defaultdict(<class 'list'>, {'A': [('Ali', '0001'), ('Rıza', '0002')]})\n",
      "defaultdict(<class 'list'>, {'A': [('Ali', '0001'), ('Rıza', '0002'), ('Alp', '0003')]})\n",
      "defaultdict(<class 'list'>, {'A': [('Ali', '0001'), ('Rıza', '0002'), ('Alp', '0003')], 'B': [('Ayşe', '0004')]})\n",
      "defaultdict(<class 'list'>, {'A': [('Ali', '0001'), ('Rıza', '0002'), ('Alp', '0003')], 'B': [('Ayşe', '0004'), ('Ceren', '0005')]})\n",
      "defaultdict(<class 'list'>, {'A': [('Ali', '0001'), ('Rıza', '0002'), ('Alp', '0003')], 'B': [('Ayşe', '0004'), ('Ceren', '0005'), ('Vuslat', '0006')]})\n",
      "defaultdict(<class 'list'>, {'A': [('Ali', '0001'), ('Rıza', '0002'), ('Alp', '0003')], 'B': [('Ayşe', '0004'), ('Ceren', '0005'), ('Vuslat', '0006'), ('Mustafa', '0007')]})\n",
      "defaultdict(<class 'list'>, {'A': [('Ali', '0001'), ('Rıza', '0002'), ('Alp', '0003')], 'B': [('Ayşe', '0004'), ('Ceren', '0005'), ('Vuslat', '0006'), ('Mustafa', '0007')], 'C': [('Yasin', '0008')]})\n",
      "defaultdict(<class 'list'>, {'A': [('Ali', '0001'), ('Rıza', '0002'), ('Alp', '0003')], 'B': [('Ayşe', '0004'), ('Ceren', '0005'), ('Vuslat', '0006'), ('Mustafa', '0007')], 'C': [('Yasin', '0008'), ('Ali', '0009')]})\n",
      "defaultdict(<class 'list'>, {'A': [('Ali', '0001'), ('Rıza', '0002'), ('Alp', '0003')], 'B': [('Ayşe', '0004'), ('Ceren', '0005'), ('Vuslat', '0006'), ('Mustafa', '0007')], 'C': [('Yasin', '0008'), ('Ali', '0009'), ('Asaf', '00010')]})\n"
     ]
    }
   ],
   "source": [
    "from collections import defaultdict\n",
    "\"\"\"\u000b",
    "Yine bir siniflar sözlüğü oluşturuyoruz ama bu kez defaultdict yapısında \u000b",
    "olduğunu ve değerlerin liste olduğunu belirtiyoruz.\u000b",
    "\"\"\"\n",
    "siniflar = defaultdict(list)\n",
    "#anahtarin yani sinifin sözlükte olup olmadığını kontrol etmemize gerek olamadan ogrenci, numara\n",
    "#ikilisini ilgili anahtarı kullanarak sözlüğe ekleyebiliyoruz.\n",
    "for sinif, ogrenci, numara in ogrenciler:\n",
    "    siniflar[sinif].append((ogrenci, numara))\n",
    "    print(siniflar)\n"
   ]
  },
  {
   "cell_type": "markdown",
   "id": "b941156a",
   "metadata": {},
   "source": [
    "# Iterators (Yineleyiciler)"
   ]
  },
  {
   "cell_type": "markdown",
   "id": "2253fb2f",
   "metadata": {},
   "source": [
    "Yineleyiciler (Iterators), Python'da üzerinde teker teker gezinebileceğimiz veri yapılarını temsil eder. Yineleyici bir nesne, ardışık verilerin üzerinde döngüyle işlem yapmamızı sağlayan bir mekanizmadır. Bu sayede her veri elemanını sırasıyla alabiliriz.\n",
    "\n",
    "Python'daki liste, tuple, string gibi yapılar iterable yani üzerinde gezilebilir nesnelerdir. Fakat yineleyiciler, bu iterable nesneler üzerinde gezintiyi sağlayan daha spesifik bir yapı sunar."
   ]
  },
  {
   "cell_type": "markdown",
   "id": "a55dd4f3",
   "metadata": {},
   "source": [
    "Örnek: Yineleyici Kullanımı"
   ]
  },
  {
   "cell_type": "code",
   "execution_count": 22,
   "id": "6467c311",
   "metadata": {},
   "outputs": [
    {
     "name": "stdout",
     "output_type": "stream",
     "text": [
      "1\n",
      "2\n",
      "3\n",
      "4\n"
     ]
    }
   ],
   "source": [
    "# Bir liste iterable'dir.\n",
    "my_list = [1, 2, 3, 4]\n",
    "\n",
    "# 'iter()' fonksiyonu ile bu listeyi bir yineleyiciye çevirebiliriz.\n",
    "my_iterator = iter(my_list)\n",
    "\n",
    "# 'next()' fonksiyonu ile her adımda bir eleman alabiliriz.\n",
    "print(next(my_iterator))  # 1\n",
    "print(next(my_iterator))  # 2\n",
    "print(next(my_iterator))  # 3\n",
    "print(next(my_iterator))  # 4\n",
    "\n",
    "# Eğer eleman kalmazsa 'StopIteration' hatası alırız.\n",
    "# print(next(my_iterator))  # Hata: StopIteration"
   ]
  },
  {
   "cell_type": "code",
   "execution_count": 33,
   "id": "eab0b4dc",
   "metadata": {},
   "outputs": [],
   "source": [
    "sehir=\"Gümüshane\"\n",
    "yineleyici=iter(sehir)"
   ]
  },
  {
   "cell_type": "code",
   "execution_count": 35,
   "id": "90b7e439",
   "metadata": {},
   "outputs": [
    {
     "name": "stdout",
     "output_type": "stream",
     "text": [
      "G\n"
     ]
    }
   ],
   "source": [
    "print(next(yineleyici))"
   ]
  },
  {
   "cell_type": "code",
   "execution_count": 36,
   "id": "33bb5884",
   "metadata": {},
   "outputs": [
    {
     "name": "stdout",
     "output_type": "stream",
     "text": [
      "ü\n"
     ]
    }
   ],
   "source": [
    "print(next(yineleyici))"
   ]
  },
  {
   "cell_type": "code",
   "execution_count": 37,
   "id": "46dbca80",
   "metadata": {},
   "outputs": [
    {
     "name": "stdout",
     "output_type": "stream",
     "text": [
      "m\n"
     ]
    }
   ],
   "source": [
    "print(next(yineleyici))"
   ]
  },
  {
   "cell_type": "code",
   "execution_count": 38,
   "id": "d3ac0ab0",
   "metadata": {},
   "outputs": [
    {
     "name": "stdout",
     "output_type": "stream",
     "text": [
      "ü\n"
     ]
    }
   ],
   "source": [
    "print(next(yineleyici))"
   ]
  },
  {
   "cell_type": "code",
   "execution_count": 39,
   "id": "e960a5a5",
   "metadata": {},
   "outputs": [
    {
     "name": "stdout",
     "output_type": "stream",
     "text": [
      "s\n"
     ]
    }
   ],
   "source": [
    "print(next(yineleyici))"
   ]
  },
  {
   "cell_type": "code",
   "execution_count": 40,
   "id": "85780029",
   "metadata": {},
   "outputs": [
    {
     "name": "stdout",
     "output_type": "stream",
     "text": [
      "h\n"
     ]
    }
   ],
   "source": [
    "print(next(yineleyici))"
   ]
  },
  {
   "cell_type": "code",
   "execution_count": 41,
   "id": "c9c6487f",
   "metadata": {},
   "outputs": [
    {
     "name": "stdout",
     "output_type": "stream",
     "text": [
      "a\n"
     ]
    }
   ],
   "source": [
    "print(next(yineleyici))"
   ]
  },
  {
   "cell_type": "code",
   "execution_count": 42,
   "id": "13f11290",
   "metadata": {},
   "outputs": [
    {
     "name": "stdout",
     "output_type": "stream",
     "text": [
      "n\n"
     ]
    }
   ],
   "source": [
    "print(next(yineleyici))"
   ]
  },
  {
   "cell_type": "code",
   "execution_count": 43,
   "id": "c2746534",
   "metadata": {},
   "outputs": [
    {
     "name": "stdout",
     "output_type": "stream",
     "text": [
      "e\n"
     ]
    }
   ],
   "source": [
    "print(next(yineleyici))"
   ]
  },
  {
   "cell_type": "code",
   "execution_count": 44,
   "id": "55ae48eb",
   "metadata": {},
   "outputs": [
    {
     "ename": "StopIteration",
     "evalue": "",
     "output_type": "error",
     "traceback": [
      "\u001b[1;31m---------------------------------------------------------------------------\u001b[0m",
      "\u001b[1;31mStopIteration\u001b[0m                             Traceback (most recent call last)",
      "\u001b[1;32m~\\AppData\\Local\\Temp\\ipykernel_11588\\113669755.py\u001b[0m in \u001b[0;36m<module>\u001b[1;34m\u001b[0m\n\u001b[1;32m----> 1\u001b[1;33m \u001b[0mprint\u001b[0m\u001b[1;33m(\u001b[0m\u001b[0mnext\u001b[0m\u001b[1;33m(\u001b[0m\u001b[0myineleyici\u001b[0m\u001b[1;33m)\u001b[0m\u001b[1;33m)\u001b[0m\u001b[1;33m\u001b[0m\u001b[1;33m\u001b[0m\u001b[0m\n\u001b[0m",
      "\u001b[1;31mStopIteration\u001b[0m: "
     ]
    }
   ],
   "source": [
    "print(next(yineleyici))"
   ]
  },
  {
   "cell_type": "markdown",
   "id": "6887ac8a",
   "metadata": {},
   "source": [
    "Artık veri kalmadığı için hata verdi."
   ]
  },
  {
   "cell_type": "code",
   "execution_count": 47,
   "id": "d79404f4",
   "metadata": {},
   "outputs": [
    {
     "name": "stdout",
     "output_type": "stream",
     "text": [
      "G ü m ü s h a n e\n"
     ]
    }
   ],
   "source": [
    "sehir=\"Gümüshane\"\n",
    "yineleyici=iter(sehir)\n",
    "print(*yineleyici)\n",
    "#Çıktı olarak yineleyici olarak tanımladığımız değişkeni verir"
   ]
  },
  {
   "cell_type": "markdown",
   "id": "4fc3e127",
   "metadata": {},
   "source": [
    "## Range Fonksiyonu"
   ]
  },
  {
   "cell_type": "markdown",
   "id": "de4d936d",
   "metadata": {},
   "source": [
    "range() fonksiyonu, Python'da belirli bir aralıktaki sayıları oluşturmak için kullanılan bir yerleşik fonksiyondur. Genellikle döngülerde, özellikle for döngüsü ile kullanılarak sayılar üzerinde işlem yapmak için tercih edilir."
   ]
  },
  {
   "cell_type": "raw",
   "id": "c7f79ce8",
   "metadata": {},
   "source": [
    "Söz Dizimi \n",
    "range(start, stop, step)"
   ]
  },
  {
   "cell_type": "markdown",
   "id": "55f0f1f7",
   "metadata": {},
   "source": [
    "### start: \n",
    "Sayıların başladığı değer. Varsayılan olarak 0'dır.\n",
    "### stop: \n",
    "Sayıların durduğu değer (Bu değer aralığa dahil edilmez).\n",
    "### step: \n",
    "Sayılar arasında atlanacak adım miktarı. Varsayılan olarak 1'dir."
   ]
  },
  {
   "cell_type": "code",
   "execution_count": 49,
   "id": "623d7045",
   "metadata": {},
   "outputs": [
    {
     "name": "stdout",
     "output_type": "stream",
     "text": [
      "0\n",
      "1\n",
      "2\n",
      "3\n",
      "4\n"
     ]
    }
   ],
   "source": [
    "for i in range(5):\n",
    "    print(i)"
   ]
  },
  {
   "cell_type": "code",
   "execution_count": 52,
   "id": "3ac3dc79",
   "metadata": {},
   "outputs": [
    {
     "name": "stdout",
     "output_type": "stream",
     "text": [
      "2\n",
      "3\n",
      "4\n",
      "5\n",
      "6\n",
      "7\n"
     ]
    }
   ],
   "source": [
    "for i in range(2,8):\n",
    "    print(i)\n",
    "#Başlangıç değeri 2 bitiş değeri 7'ye kadar"
   ]
  },
  {
   "cell_type": "code",
   "execution_count": 64,
   "id": "e6518ee8",
   "metadata": {},
   "outputs": [
    {
     "name": "stdout",
     "output_type": "stream",
     "text": [
      "1\n",
      "3\n",
      "5\n",
      "7\n",
      "9\n"
     ]
    }
   ],
   "source": [
    "for i in range(1, 10, 2):\n",
    "    print(i)"
   ]
  },
  {
   "cell_type": "code",
   "execution_count": 65,
   "id": "ddd18673",
   "metadata": {},
   "outputs": [
    {
     "name": "stdout",
     "output_type": "stream",
     "text": [
      "10\n",
      "8\n",
      "6\n",
      "4\n",
      "2\n"
     ]
    }
   ],
   "source": [
    "for i in range(10, 0, -2):\n",
    "    print(i)"
   ]
  },
  {
   "cell_type": "code",
   "execution_count": 59,
   "id": "fecaf9ac",
   "metadata": {},
   "outputs": [
    {
     "name": "stdout",
     "output_type": "stream",
     "text": [
      "range(2, 8)\n"
     ]
    }
   ],
   "source": [
    "rangeContent=range(2,8)\n",
    "print(rangeContent)\n",
    "#rangeContent'i bir değişken olarak görüp range(2,8) değerini ona atar"
   ]
  },
  {
   "cell_type": "code",
   "execution_count": 63,
   "id": "3f93169a",
   "metadata": {},
   "outputs": [
    {
     "name": "stdout",
     "output_type": "stream",
     "text": [
      "[2, 3, 4, 5, 6, 7]\n"
     ]
    }
   ],
   "source": [
    "rangeContent=range(2,8)\n",
    "foreachElementofRange=list(rangeContent)\n",
    "print(foreachElementofRange)"
   ]
  },
  {
   "cell_type": "code",
   "execution_count": 67,
   "id": "4f7bf8cd",
   "metadata": {},
   "outputs": [
    {
     "name": "stdout",
     "output_type": "stream",
     "text": [
      "<class 'range'>\n",
      "[0, 1, 2, 3, 4]\n"
     ]
    }
   ],
   "source": [
    "r = range(5)\n",
    "print(type(r)) \n",
    "print(list(r))  "
   ]
  },
  {
   "cell_type": "markdown",
   "id": "092cb5de",
   "metadata": {},
   "source": [
    "range() fonksiyonu, bir liste yerine bir yineleyici (iterator) döndürür. Bu, range() tarafından oluşturulan sayılar bellekte saklanmaz, sadece gerektiğinde birer birer üretilir. Bu da range() fonksiyonunu büyük sayı aralıklarıyla kullanırken bellek açısından verimli kılar."
   ]
  },
  {
   "cell_type": "markdown",
   "id": "39bcf637",
   "metadata": {},
   "source": [
    "### range() ile len(), sum(), min(), max() Gibi Fonksiyonlar\n"
   ]
  },
  {
   "cell_type": "code",
   "execution_count": 68,
   "id": "51fd51b5",
   "metadata": {},
   "outputs": [
    {
     "name": "stdout",
     "output_type": "stream",
     "text": [
      "45\n"
     ]
    }
   ],
   "source": [
    "print(sum(range(10)))"
   ]
  },
  {
   "cell_type": "code",
   "execution_count": 72,
   "id": "8ea80bab",
   "metadata": {},
   "outputs": [
    {
     "name": "stdout",
     "output_type": "stream",
     "text": [
      "3\n"
     ]
    }
   ],
   "source": [
    "print(min(range(3,10)))"
   ]
  },
  {
   "cell_type": "code",
   "execution_count": 73,
   "id": "30ade02e",
   "metadata": {},
   "outputs": [
    {
     "name": "stdout",
     "output_type": "stream",
     "text": [
      "8\n"
     ]
    }
   ],
   "source": [
    "print(max(range(3,9)))"
   ]
  },
  {
   "cell_type": "code",
   "execution_count": 76,
   "id": "df68b7e7",
   "metadata": {},
   "outputs": [
    {
     "name": "stdout",
     "output_type": "stream",
     "text": [
      "6\n"
     ]
    }
   ],
   "source": [
    "print(len(range(2,8)))"
   ]
  },
  {
   "cell_type": "markdown",
   "id": "4b6070f7",
   "metadata": {},
   "source": [
    "##  Zip() fonksiyonu"
   ]
  },
  {
   "cell_type": "markdown",
   "id": "9d1a84e0",
   "metadata": {},
   "source": [
    "Python'da zip() fonksiyonu bir birden fazla iteratör öğesini(örneğin liste, tuple gibi) birleştirir ve her bir iteratörden aynı konumda bulunan öğeleri bir araya getirmeye yarar.\n",
    "Sonuç olarak, her bir öğre bir tuple şeklinde olur ve bi tuple'lar bir zip nesnesi olarak döndürülür"
   ]
  },
  {
   "cell_type": "code",
   "execution_count": 78,
   "id": "06c7743f",
   "metadata": {},
   "outputs": [],
   "source": [
    "#zip(*iterables)\n",
    "#iterables: Birleştirilmek istenen iterable veri yapıları (listeler, tuple'lar, stringler vb.)."
   ]
  },
  {
   "cell_type": "code",
   "execution_count": 79,
   "id": "1f14dd18",
   "metadata": {},
   "outputs": [
    {
     "name": "stdout",
     "output_type": "stream",
     "text": [
      "[('Alice', 85), ('Bob', 90), ('Charlie', 95)]\n"
     ]
    }
   ],
   "source": [
    "names = ['Alice', 'Bob', 'Charlie']\n",
    "scores = [85, 90, 95]\n",
    "\n",
    "result = zip(names, scores)\n",
    "print(list(result))"
   ]
  },
  {
   "cell_type": "code",
   "execution_count": 80,
   "id": "2d78e6b8",
   "metadata": {},
   "outputs": [
    {
     "name": "stdout",
     "output_type": "stream",
     "text": [
      "[('Ali', 75), ('Ece', 90)]\n"
     ]
    }
   ],
   "source": [
    "isimler=[\"Ali\",\"Ece\"]\n",
    "puanlar=[75,90,64]\n",
    "result=zip(isimler,puanlar)\n",
    "print(list(result))"
   ]
  },
  {
   "cell_type": "code",
   "execution_count": 82,
   "id": "3670751c",
   "metadata": {},
   "outputs": [
    {
     "name": "stdout",
     "output_type": "stream",
     "text": [
      "[('Serhat', 75, 'B'), ('Hakan', 85, 'A'), ('Murat', 95, 'A')]\n"
     ]
    }
   ],
   "source": [
    "isimler=[\"Serhat\",\"Hakan\",\"Murat\"]\n",
    "puanlar=[75,85,95]\n",
    "dereceler=[\"B\",\"A\",\"A\"]\n",
    "result=zip(isimler,puanlar,dereceler)\n",
    "print(list(result))"
   ]
  },
  {
   "cell_type": "code",
   "execution_count": 83,
   "id": "c48b20ec",
   "metadata": {},
   "outputs": [
    {
     "name": "stdout",
     "output_type": "stream",
     "text": [
      "('Ali', 'Ayşe', 'Mehmet')\n",
      "(70, 80, 75)\n"
     ]
    }
   ],
   "source": [
    "zipped=[(\"Ali\",70),(\"Ayşe\",80),(\"Mehmet\",75)]\n",
    "names,scores=zip(*zipped)\n",
    "print(names)\n",
    "print(scores)"
   ]
  },
  {
   "cell_type": "code",
   "execution_count": 86,
   "id": "e621de5d",
   "metadata": {},
   "outputs": [
    {
     "name": "stdout",
     "output_type": "stream",
     "text": [
      "{'Name': 'Ayşe', 'Age': 25, 'Puan': 90}\n"
     ]
    }
   ],
   "source": [
    "keys=[\"Name\",\"Age\",\"Puan\"]\n",
    "degerler=[\"Ayşe\",25,90]\n",
    "dictionary=dict(zip(keys,degerler))\n",
    "print(dictionary)"
   ]
  },
  {
   "cell_type": "code",
   "execution_count": 87,
   "id": "746c6855",
   "metadata": {},
   "outputs": [
    {
     "name": "stdout",
     "output_type": "stream",
     "text": [
      "('Kayseri', 'Melikgazi') ('Malatya', 'Akçadağ') ('Ankara', 'Keçoören') ('Bayburt', 'Aydıntepe') ('Konya', 'Meram')\n"
     ]
    }
   ],
   "source": [
    "sehirler=[\"Kayseri\",\"Malatya\",\"Ankara\",\"Bayburt\",\"Konya\"]\n",
    "ilceler=[\"Melikgazi\",\"Akçadağ\",\"Keçoören\",\"Aydıntepe\",\"Meram\"]\n",
    "sehir_ilce=zip(sehirler,ilceler)\n",
    "print(*sehir_ilce)"
   ]
  },
  {
   "cell_type": "code",
   "execution_count": 88,
   "id": "67554b86",
   "metadata": {},
   "outputs": [
    {
     "name": "stdout",
     "output_type": "stream",
     "text": [
      "Kayseri Melikgazi\n",
      "Malatya Akçadağ\n",
      "Ankara Keçoören\n",
      "Bayburt Aydıntepe\n",
      "Konya Meram\n"
     ]
    }
   ],
   "source": [
    "for sehir,ilce in zip(sehirler,ilceler):\n",
    "    print(sehir,ilce)"
   ]
  },
  {
   "cell_type": "markdown",
   "id": "e6d49e6c",
   "metadata": {},
   "source": [
    "## Enumarate() Fonksiyonu "
   ]
  },
  {
   "cell_type": "markdown",
   "id": "b06d49c8",
   "metadata": {},
   "source": [
    "\n",
    "Python'daki enumerate() fonksiyonu, bir iterable (örneğin liste, tuple, string gibi veri yapıları) üzerinde gezinirken, her elemanın indeksini ve kendisini aynı anda almak için kullanılır. Yani bu fonksiyon, iterable'ın öğelerini saymaya başlar ve her öğeyi bir indeks-numarası çifti olarak döndürür."
   ]
  },
  {
   "cell_type": "code",
   "execution_count": 89,
   "id": "b8da7ea3",
   "metadata": {},
   "outputs": [],
   "source": [
    "#enumerate(iterable, start=0)"
   ]
  },
  {
   "cell_type": "markdown",
   "id": "00acaaa8",
   "metadata": {},
   "source": [
    "### iterable:\n",
    "Üzerinde gezinilecek olan veri yapısı.\n",
    "### start:\n",
    "Sayımın hangi değerden başlayacağını belirler (varsayılan 0'dır)."
   ]
  },
  {
   "cell_type": "code",
   "execution_count": 91,
   "id": "3c933b11",
   "metadata": {},
   "outputs": [
    {
     "name": "stdout",
     "output_type": "stream",
     "text": [
      "0 Elma\n",
      "1 Armut\n",
      "2 Ayva\n",
      "3 Muz\n"
     ]
    }
   ],
   "source": [
    "meyveler=[\"Elma\",\"Armut\",\"Ayva\",\"Muz\"]\n",
    "for index,meyveler in enumerate(meyveler):\n",
    "    print(index,meyveler)"
   ]
  },
  {
   "cell_type": "code",
   "execution_count": 93,
   "id": "cfc502da",
   "metadata": {},
   "outputs": [
    {
     "name": "stdout",
     "output_type": "stream",
     "text": [
      "1 Elma\n",
      "2 Armut\n",
      "3 Ayva\n",
      "4 Muz\n"
     ]
    }
   ],
   "source": [
    "meyveler=[\"Elma\",\"Armut\",\"Ayva\",\"Muz\"]\n",
    "for index,meyveler in enumerate(meyveler,start=1):\n",
    "    print(index,meyveler)\n",
    "#başlangıç değeri değiştirilebilir"
   ]
  },
  {
   "cell_type": "code",
   "execution_count": 94,
   "id": "ead110ea",
   "metadata": {},
   "outputs": [
    {
     "name": "stdout",
     "output_type": "stream",
     "text": [
      "[(0, 'Domates'), (1, 'Salatalık'), (2, 'Biber')]\n"
     ]
    }
   ],
   "source": [
    "sebzeler=[\"Domates\",\"Salatalık\",\"Biber\"]\n",
    "result=list(enumerate(sebzeler))\n",
    "print(result)"
   ]
  },
  {
   "cell_type": "code",
   "execution_count": 95,
   "id": "300090a6",
   "metadata": {},
   "outputs": [
    {
     "name": "stdout",
     "output_type": "stream",
     "text": [
      "0 M\n",
      "1 e\n",
      "2 r\n",
      "3 h\n",
      "4 a\n",
      "5 b\n",
      "6 a\n"
     ]
    }
   ],
   "source": [
    "kelime=\"Merhaba\"\n",
    "for index,char in enumerate(kelime):\n",
    "    print(index,char)"
   ]
  },
  {
   "cell_type": "code",
   "execution_count": 96,
   "id": "d29eae9b",
   "metadata": {},
   "outputs": [
    {
     "name": "stdout",
     "output_type": "stream",
     "text": [
      "<class 'enumerate'>\n",
      "(0, 'A') (1, 'B') (2, 'C') (3, 'D') (4, 'E')\n"
     ]
    }
   ],
   "source": [
    "Liste=[\"A\",\"B\",\"C\",\"D\",\"E\"]\n",
    "enum=enumerate(Liste)\n",
    "print(type(enum))\n",
    "icerikListe=list(enum)\n",
    "print(*icerikListe)"
   ]
  },
  {
   "cell_type": "code",
   "execution_count": 97,
   "id": "9200d83a",
   "metadata": {},
   "outputs": [
    {
     "name": "stdout",
     "output_type": "stream",
     "text": [
      "('Kayseri', 'Malatya', 'Ankara', 'Bayburt', 'Konya')\n",
      "('Melikgazi', 'Akçadağ', 'Keçoören', 'Aydıntepe', 'Meram')\n"
     ]
    }
   ],
   "source": [
    "sehirler=[\"Kayseri\",\"Malatya\",\"Ankara\",\"Bayburt\",\"Konya\"]\n",
    "ilceler=[\"Melikgazi\",\"Akçadağ\",\"Keçoören\",\"Aydıntepe\",\"Meram\"]\n",
    "sehir_ilce=zip(sehirler,ilceler)\n",
    "sehir,ilce=zip(*sehir_ilce)\n",
    "print(sehir)\n",
    "print(ilce)"
   ]
  },
  {
   "cell_type": "markdown",
   "id": "2f22a185",
   "metadata": {},
   "source": [
    "# Liste Comprehension (Liste Döngüleri)"
   ]
  },
  {
   "cell_type": "markdown",
   "id": "25c4ffef",
   "metadata": {},
   "source": [
    "Liste döngüleri, bir Python listesi üzerinde tekrarlayan bir işlem yapmak için kullanılan döngülerdir. "
   ]
  },
  {
   "cell_type": "code",
   "execution_count": 99,
   "id": "c995f985",
   "metadata": {},
   "outputs": [
    {
     "name": "stdout",
     "output_type": "stream",
     "text": [
      "[1, 4, 9, 16, 25, 36, 49, 64, 81, 100]\n"
     ]
    }
   ],
   "source": [
    "Kareler=[]\n",
    "for i in range(1,11):\n",
    "    Kareler.append(i**2)\n",
    "print(Kareler)"
   ]
  },
  {
   "cell_type": "code",
   "execution_count": 102,
   "id": "5951738b",
   "metadata": {},
   "outputs": [
    {
     "name": "stdout",
     "output_type": "stream",
     "text": [
      "[4, 6, 8, 10, 12, 14]\n"
     ]
    }
   ],
   "source": [
    "Liste1=[2,3,4,5,6,7]\n",
    "Liste2=[]\n",
    "for i in Liste1:\n",
    "    Liste2.append(i*2)\n",
    "print(Liste2)"
   ]
  },
  {
   "cell_type": "code",
   "execution_count": 105,
   "id": "1db072ca",
   "metadata": {},
   "outputs": [
    {
     "name": "stdout",
     "output_type": "stream",
     "text": [
      "[1, 4, 9, 16, 25, 36, 49, 64, 81, 100]\n"
     ]
    }
   ],
   "source": [
    "Kareler=[i**2 for i in range(1,11)]\n",
    "print(Kareler)\n",
    "#[Çıktı ifadesi for yineleyici değişken in yinelenen nesne]"
   ]
  },
  {
   "cell_type": "code",
   "execution_count": 106,
   "id": "bba725a1",
   "metadata": {},
   "outputs": [
    {
     "name": "stdout",
     "output_type": "stream",
     "text": [
      "['OCA', 'ŞUB', 'MAR', 'NİS', 'MAY', 'HAZ', 'TEM', 'AĞU', 'EYL', 'EKİ', 'KAS', 'ARA']\n"
     ]
    }
   ],
   "source": [
    "Aylar=[\"OCAK\",\"ŞUBAT\",\"MART\",\"NİSAN\",\"MAYIS\",\"HAZİRAN\",\"TEMMUZ\",\"AĞUSTOS\",\"EYLÜL\",\"EKİM\",\"KASIM\",\"ARALIK\"]\n",
    "Aylar_kısa=[ay[0:3] for ay in Aylar]\n",
    "print(Aylar_kısa)"
   ]
  },
  {
   "cell_type": "code",
   "execution_count": 107,
   "id": "95ad8b4d",
   "metadata": {},
   "outputs": [
    {
     "name": "stdout",
     "output_type": "stream",
     "text": [
      "['MAR', 'MAY']\n"
     ]
    }
   ],
   "source": [
    "#Aylar listesindeki elemanlardan \"M\" ile bağlayanlar ile kısa ay\n",
    "#İsimlerninin bulunduğu yeni bir listeyi tek satırda oluşturalım\n",
    "Aylar=[\"OCAK\",\"ŞUBAT\",\"MART\",\"NİSAN\",\"MAYIS\",\"HAZİRAN\",\"TEMMUZ\",\"AĞUSTOS\",\"EYLÜL\",\"EKİM\",\"KASIM\",\"ARALIK\"]\n",
    "Aylar_kısa=[ay[0:3] for ay in Aylar if ay[0]==\"M\"]\n",
    "print(Aylar_kısa)"
   ]
  },
  {
   "cell_type": "code",
   "execution_count": 108,
   "id": "4a29cc70",
   "metadata": {},
   "outputs": [],
   "source": [
    "#[Çıktı ifadesi for yineleyici değişken in yinelenen nesne if koşul]"
   ]
  },
  {
   "cell_type": "code",
   "execution_count": 110,
   "id": "d4660552",
   "metadata": {},
   "outputs": [
    {
     "name": "stdout",
     "output_type": "stream",
     "text": [
      "[1, 9, 25, 49, 81]\n"
     ]
    }
   ],
   "source": [
    "Kare_tek=[i**2 for i in range(0,11) if i%2==1]\n",
    "print(Kare_tek)\n",
    "#1 ile 11 arasında yer alan tek sayıların karesini alan kod"
   ]
  },
  {
   "cell_type": "code",
   "execution_count": 111,
   "id": "30c5e6c8",
   "metadata": {},
   "outputs": [],
   "source": [
    "#[çıktı ifadesi for yineleyici değişken in yinelenen nesne in koşul else koşul]"
   ]
  },
  {
   "cell_type": "code",
   "execution_count": 112,
   "id": "471ccf02",
   "metadata": {},
   "outputs": [
    {
     "name": "stdout",
     "output_type": "stream",
     "text": [
      "[0, 1, 8, 9, 64, 25, 216, 49, 512, 81, 1000]\n"
     ]
    }
   ],
   "source": [
    "#1'den 10'a kadar olan tek sayıların karesini alalım\n",
    "#çift sayıların ise küpünü alalım\n",
    "kare_tekkare_çiftküp=[i**2 if i%2==1 else i**3 for i in range(0,11)]\n",
    "print(kare_tekkare_çiftküp)"
   ]
  },
  {
   "cell_type": "code",
   "execution_count": 113,
   "id": "642fdb1b",
   "metadata": {},
   "outputs": [],
   "source": [
    "#[işlem if koşul else işlem for döngüsü ]"
   ]
  },
  {
   "cell_type": "markdown",
   "id": "8758af8e",
   "metadata": {},
   "source": [
    "### Sözlük Üreteçleri (Dict Comprehensions)"
   ]
  },
  {
   "cell_type": "markdown",
   "id": "06e12a07",
   "metadata": {},
   "source": [
    "sözlük üreteclerinde köşeli parantez yerin küme parantezi\n",
    "kullanılır ve anahtar, değer ikilisi iki nokta (:) ile ayrılır"
   ]
  },
  {
   "cell_type": "code",
   "execution_count": 116,
   "id": "d4677db1",
   "metadata": {},
   "outputs": [
    {
     "name": "stdout",
     "output_type": "stream",
     "text": [
      "{'Ankara': 6, 'İzmir': 5, 'Aydın': 5, 'Muğla': 5, 'Manisa': 6}\n"
     ]
    }
   ],
   "source": [
    "sehirler=['Ankara','İzmir','Aydın','Muğla','Manisa']\n",
    "sehir_sozluk={sehir :len(sehir) for sehir in sehirler}\n",
    "print(sehir_sozluk)"
   ]
  },
  {
   "cell_type": "code",
   "execution_count": null,
   "id": "38e33819",
   "metadata": {},
   "outputs": [],
   "source": []
  }
 ],
 "metadata": {
  "kernelspec": {
   "display_name": "Python 3 (ipykernel)",
   "language": "python",
   "name": "python3"
  },
  "language_info": {
   "codemirror_mode": {
    "name": "ipython",
    "version": 3
   },
   "file_extension": ".py",
   "mimetype": "text/x-python",
   "name": "python",
   "nbconvert_exporter": "python",
   "pygments_lexer": "ipython3",
   "version": "3.9.13"
  }
 },
 "nbformat": 4,
 "nbformat_minor": 5
}
