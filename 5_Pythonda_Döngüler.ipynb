{
 "cells": [
  {
   "cell_type": "markdown",
   "id": "3800df6b",
   "metadata": {},
   "source": [
    "Python'da döngüler, bir kod bloğunu belirli koşullar altında tekrar tekrar çalıştırmayı sağlar. Döngüler, belirli bir işlemi birden fazla kez yapmamız gerektiğinde kullanılır ve iki temel yapısı vardır: for döngüsü ve while döngüsü.\n",
    "\n"
   ]
  },
  {
   "cell_type": "markdown",
   "id": "334ce6d0",
   "metadata": {},
   "source": [
    "# 1. for Döngüsü:\n",
    "for döngüsü, bir koleksiyon (liste, tuple, set, dictionary veya string) üzerinde yinelemeler yapmak için kullanılır."
   ]
  },
  {
   "cell_type": "raw",
   "id": "cf864cb5",
   "metadata": {},
   "source": [
    "for öğe in koleksiyon:\n",
    "    #Yapılacak işlemler"
   ]
  },
  {
   "cell_type": "markdown",
   "id": "be7a2b7a",
   "metadata": {},
   "source": [
    "### A. Liste Üzerinde Döngü:"
   ]
  },
  {
   "cell_type": "code",
   "execution_count": 3,
   "id": "bc215ab0",
   "metadata": {},
   "outputs": [
    {
     "name": "stdout",
     "output_type": "stream",
     "text": [
      "elma\n",
      "armut\n",
      "muz\n"
     ]
    }
   ],
   "source": [
    "meyveler = [\"elma\", \"armut\", \"muz\"]\n",
    "for meyve in meyveler:\n",
    "    print(meyve)"
   ]
  },
  {
   "cell_type": "markdown",
   "id": "911ce11a",
   "metadata": {},
   "source": [
    "### B. String Üzerinde Döngü:"
   ]
  },
  {
   "cell_type": "code",
   "execution_count": 4,
   "id": "01dec0a4",
   "metadata": {},
   "outputs": [
    {
     "name": "stdout",
     "output_type": "stream",
     "text": [
      "P\n",
      "y\n",
      "t\n",
      "h\n",
      "o\n",
      "n\n"
     ]
    }
   ],
   "source": [
    "for harf in \"Python\":\n",
    "    print(harf)"
   ]
  },
  {
   "cell_type": "markdown",
   "id": "2d7e861a",
   "metadata": {},
   "source": [
    "### C. range() Fonksiyonu ile Döngü:"
   ]
  },
  {
   "cell_type": "code",
   "execution_count": 5,
   "id": "a6b39397",
   "metadata": {},
   "outputs": [
    {
     "name": "stdout",
     "output_type": "stream",
     "text": [
      "0\n",
      "1\n",
      "2\n",
      "3\n",
      "4\n"
     ]
    }
   ],
   "source": [
    "for i in range(5):\n",
    "    print(i)"
   ]
  },
  {
   "cell_type": "markdown",
   "id": "25f84226",
   "metadata": {},
   "source": [
    "# 2. while Döngüsü:"
   ]
  },
  {
   "cell_type": "markdown",
   "id": "b663d353",
   "metadata": {},
   "source": [
    "while döngüsü, belirli bir koşul doğru olduğu sürece kod bloğunu tekrar tekrar çalıştırır. Koşul yanlış hale geldiğinde döngü sona erer."
   ]
  },
  {
   "cell_type": "raw",
   "id": "a564eea7",
   "metadata": {},
   "source": [
    "while koşul:\n",
    "    # Yapılacak işlemler"
   ]
  },
  {
   "cell_type": "markdown",
   "id": "7f345935",
   "metadata": {},
   "source": [
    "### a. Basit while Döngüsü:"
   ]
  },
  {
   "cell_type": "code",
   "execution_count": 6,
   "id": "684a9dcd",
   "metadata": {},
   "outputs": [
    {
     "name": "stdout",
     "output_type": "stream",
     "text": [
      "0\n",
      "1\n",
      "2\n",
      "3\n",
      "4\n"
     ]
    }
   ],
   "source": [
    "x = 0\n",
    "while x < 5:\n",
    "    print(x)\n",
    "    x += 1  # x'i her seferinde 1 artır"
   ]
  },
  {
   "cell_type": "markdown",
   "id": "c22111b4",
   "metadata": {},
   "source": [
    "### b. Sonsuz Döngü:\n",
    "Eğer döngü koşulu hiçbir zaman False olmazsa sonsuz döngü oluşur."
   ]
  },
  {
   "cell_type": "code",
   "execution_count": 8,
   "id": "1d3fe7c8",
   "metadata": {},
   "outputs": [],
   "source": [
    "#while True:\n",
    "    #print(\"Bu sonsuz bir döngü!\")"
   ]
  },
  {
   "cell_type": "markdown",
   "id": "1580417b",
   "metadata": {},
   "source": [
    "# Döngülerde Kontrol İfadeleri:\n",
    "## 1. break:\n",
    "break ifadesi, döngüyü tamamen sonlandırır ve döngüden çıkar."
   ]
  },
  {
   "cell_type": "code",
   "execution_count": 9,
   "id": "386594d4",
   "metadata": {},
   "outputs": [
    {
     "name": "stdout",
     "output_type": "stream",
     "text": [
      "0\n",
      "1\n",
      "2\n",
      "3\n",
      "4\n"
     ]
    }
   ],
   "source": [
    "for i in range(10):\n",
    "    if i == 5:\n",
    "        break  # Döngü 5'e gelince sona erer\n",
    "    print(i)"
   ]
  },
  {
   "cell_type": "markdown",
   "id": "271f1a48",
   "metadata": {},
   "source": [
    "### 2. continue:\n",
    "continue ifadesi, döngüde o anki yinelemeyi atlar ve döngüye devam eder."
   ]
  },
  {
   "cell_type": "code",
   "execution_count": 10,
   "id": "51710001",
   "metadata": {},
   "outputs": [
    {
     "name": "stdout",
     "output_type": "stream",
     "text": [
      "0\n",
      "1\n",
      "2\n",
      "4\n"
     ]
    }
   ],
   "source": [
    "for i in range(5):\n",
    "    if i == 3:\n",
    "        continue  # 3'ü atla, geri kalanını yazdır\n",
    "    print(i)"
   ]
  },
  {
   "cell_type": "markdown",
   "id": "8aee4ca2",
   "metadata": {},
   "source": [
    "### 3. else:\n",
    "Döngü sorunsuz bir şekilde sona ererse (yani break kullanılmadan), döngünün else bloğu çalışır."
   ]
  },
  {
   "cell_type": "code",
   "execution_count": 11,
   "id": "7a2e39c1",
   "metadata": {},
   "outputs": [
    {
     "name": "stdout",
     "output_type": "stream",
     "text": [
      "0\n",
      "1\n",
      "2\n",
      "3\n",
      "4\n",
      "Döngü sona erdi.\n"
     ]
    }
   ],
   "source": [
    "for i in range(5):\n",
    "    print(i)\n",
    "else:\n",
    "    print(\"Döngü sona erdi.\")  # Döngü sorunsuz bittiğinde çalışır"
   ]
  },
  {
   "cell_type": "markdown",
   "id": "4b0be8f1",
   "metadata": {},
   "source": [
    "## Enumerate Fonksiyonu\n",
    "Python'da enumerate() fonksiyonu, for döngüsü ile kullanıldığında, bir iterable (liste, tuple, string gibi) üzerinde gezinirken her öğenin hem indeksini hem de değerini almayı sağlar. Bu, indeks bilgisine ihtiyaç duyduğunuz durumlarda çok kullanışlıdır."
   ]
  },
  {
   "cell_type": "raw",
   "id": "b75f9675",
   "metadata": {},
   "source": [
    "enumerate(iterable, start=0)\n",
    "\n",
    "iterable: Üzerinde döngü yapılacak liste, dizi, string vb.\n",
    "start: İndeksin başlama noktası (varsayılan olarak 0'dan başlar)."
   ]
  },
  {
   "cell_type": "code",
   "execution_count": 13,
   "id": "46cb40aa",
   "metadata": {},
   "outputs": [
    {
     "name": "stdout",
     "output_type": "stream",
     "text": [
      "İndeks: 0, Meyve: elma\n",
      "İndeks: 1, Meyve: armut\n",
      "İndeks: 2, Meyve: muz\n"
     ]
    }
   ],
   "source": [
    "# Örnek\n",
    "meyveler = [\"elma\", \"armut\", \"muz\"]\n",
    "\n",
    "for index, meyve in enumerate(meyveler):\n",
    "    print(f\"İndeks: {index}, Meyve: {meyve}\")"
   ]
  },
  {
   "cell_type": "markdown",
   "id": "226d7c62",
   "metadata": {},
   "source": [
    "### 2. İndeksin Farklı Bir Sayıdan Başlaması:\n",
    "enumerate() fonksiyonuna ikinci argüman olarak indeksin hangi sayıdan başlamasını istediğinizi belirtebilirsiniz."
   ]
  },
  {
   "cell_type": "code",
   "execution_count": 14,
   "id": "3266fff9",
   "metadata": {},
   "outputs": [
    {
     "name": "stdout",
     "output_type": "stream",
     "text": [
      "İndeks: 1, Meyve: elma\n",
      "İndeks: 2, Meyve: armut\n",
      "İndeks: 3, Meyve: muz\n"
     ]
    }
   ],
   "source": [
    "meyveler = [\"elma\", \"armut\", \"muz\"]\n",
    "\n",
    "for index, meyve in enumerate(meyveler, start=1):\n",
    "    print(f\"İndeks: {index}, Meyve: {meyve}\")"
   ]
  },
  {
   "cell_type": "markdown",
   "id": "98462504",
   "metadata": {},
   "source": [
    "## 3. String Üzerinde enumerate() Kullanımı:"
   ]
  },
  {
   "cell_type": "code",
   "execution_count": 15,
   "id": "b2f3e9d5",
   "metadata": {},
   "outputs": [
    {
     "name": "stdout",
     "output_type": "stream",
     "text": [
      "İndeks: 0, Harf: P\n",
      "İndeks: 1, Harf: y\n",
      "İndeks: 2, Harf: t\n",
      "İndeks: 3, Harf: h\n",
      "İndeks: 4, Harf: o\n",
      "İndeks: 5, Harf: n\n"
     ]
    }
   ],
   "source": [
    "\n",
    "for index, harf in enumerate(\"Python\"):\n",
    "    print(f\"İndeks: {index}, Harf: {harf}\")"
   ]
  },
  {
   "cell_type": "markdown",
   "id": "9bda799a",
   "metadata": {},
   "source": [
    "## 4. enumerate() ile Koşullu İfade Kullanımı:\n",
    "İndeks veya değer ile ilgili bir koşul belirleyerek enumerate() kullanabilirsiniz."
   ]
  },
  {
   "cell_type": "code",
   "execution_count": 16,
   "id": "84a3951e",
   "metadata": {},
   "outputs": [
    {
     "name": "stdout",
     "output_type": "stream",
     "text": [
      "Çift indeks: 0, Sayi: 10\n",
      "Çift indeks: 2, Sayi: 30\n",
      "Çift indeks: 4, Sayi: 50\n"
     ]
    }
   ],
   "source": [
    "sayilar = [10, 20, 30, 40, 50]\n",
    "\n",
    "for index, sayi in enumerate(sayilar):\n",
    "    if index % 2 == 0:  # İndeks çift sayıysa\n",
    "        print(f\"Çift indeks: {index}, Sayi: {sayi}\")"
   ]
  },
  {
   "cell_type": "markdown",
   "id": "5b5f54a6",
   "metadata": {},
   "source": [
    "# Örnekler"
   ]
  },
  {
   "cell_type": "code",
   "execution_count": 12,
   "id": "60bc61c4",
   "metadata": {},
   "outputs": [
    {
     "name": "stdout",
     "output_type": "stream",
     "text": [
      "0:Gumushane\n",
      "1:Bayburt\n",
      "2:Trabzon\n",
      "3:Erzincan\n",
      "4:Erzurum\n",
      "5:Elazığ\n"
     ]
    }
   ],
   "source": [
    "liste = [\"Gumushane\", \"Bayburt\",\"Trabzon\", \"Erzincan\",\"Erzurum\", \"Elazığ\"]\n",
    "for index, sehir in enumerate(liste):\n",
    "    print(str(index) + \":\" + str(sehir))\n"
   ]
  },
  {
   "cell_type": "code",
   "execution_count": 17,
   "id": "45262dc5",
   "metadata": {},
   "outputs": [
    {
     "name": "stdout",
     "output_type": "stream",
     "text": [
      "0:- Gumushane :--> Torul\n",
      "1:- Bayburt :--> Merkez\n",
      "2:- Trabzon :--> Of\n",
      "3:- Erzincan :--> Kemaliye\n",
      "4:- Erzurum :--> Palandöken\n",
      "5:- Elazığ :--> Sivrice\n"
     ]
    }
   ],
   "source": [
    "sehirler = [\"Gumushane\", \"Bayburt\",\"Trabzon\", \"Erzincan\",\"Erzurum\", \"Elazığ\"]\n",
    "ilceler = [\"Torul\",\"Merkez\",\"Of\",\"Kemaliye\",\"Palandöken\", \"Sivrice\"]\n",
    "sehir_ilce = zip(sehirler, ilceler)\n",
    "for index, veri in enumerate(sehir_ilce):\n",
    "    sehir, ilce = veri\n",
    "    print(f\"{index}:- {sehir} :--> {ilce}\")"
   ]
  },
  {
   "cell_type": "code",
   "execution_count": 18,
   "id": "b86e4569",
   "metadata": {},
   "outputs": [
    {
     "name": "stdout",
     "output_type": "stream",
     "text": [
      "Ali: 100\n",
      "Mehmet: 95\n",
      "Asya: 99\n",
      "Cemre: 100\n"
     ]
    }
   ],
   "source": [
    "notlar = [[\"Ali\", 100],\n",
    "          [\"Mehmet\", 95],\n",
    "          [\"Asya\", 99],\n",
    "          [\"Cemre\", 100]]\n",
    "for i in notlar:\n",
    "    print(str(i[0]) + \": \" + str(i[1]))\n"
   ]
  },
  {
   "cell_type": "code",
   "execution_count": 19,
   "id": "866eebaa",
   "metadata": {},
   "outputs": [
    {
     "name": "stdout",
     "output_type": "stream",
     "text": [
      "Sınıf:1\n",
      "1:Ali\n",
      "2:Rıza\n",
      "Sınıf:2\n",
      "1:Mustafa\n",
      "2:Salih\n",
      "3:Esila\n",
      "4:Mesut\n",
      "Sınıf:3\n",
      "1:Ilgaz\n",
      "2:Serdar\n",
      "3:Tekin\n"
     ]
    }
   ],
   "source": [
    "siniflar = [[\"Ali\", \"Rıza\"],\n",
    "            [\"Mustafa\",\"Salih\",\"Esila\",\"Mesut\"],\n",
    "            [\"Ilgaz\", \"Serdar\", \"Tekin\"]]\n",
    "for sinif, i in enumerate(siniflar):\n",
    "    print(\"Sınıf\" + \":\" + str(sinif+1))\n",
    "    for sira, ogrenci in enumerate(i):\n",
    "        print(str(str(sira+1) + \":\" + str(ogrenci)))"
   ]
  },
  {
   "cell_type": "code",
   "execution_count": 20,
   "id": "e0b8c0aa",
   "metadata": {},
   "outputs": [
    {
     "name": "stdout",
     "output_type": "stream",
     "text": [
      "Ali 75\n",
      "Veli 54\n",
      "Hazar 87\n",
      "Selim 23\n"
     ]
    }
   ],
   "source": [
    "grade_list = {\"Ali\":75, \"Veli\":54, \"Hazar\": 87, \"Selim\":23}\n",
    "for student in grade_list:\n",
    "    print(student, grade_list[student])\n"
   ]
  },
  {
   "cell_type": "code",
   "execution_count": 21,
   "id": "4f4da4f6",
   "metadata": {},
   "outputs": [],
   "source": [
    "ogrenciler=[('A','Ali','0001'),\n",
    "            ('A','Rıza','0002'),\n",
    "            ('A','Alp','0003'),\n",
    "            ('B','Ayşe','0004'),\n",
    "            ('B','Ceren','0005'),\n",
    "            ('B','Vuslat','0006'),\n",
    "            ('B','Mustafa','0007'),\n",
    "            ('C','Yasin','0008'),\n",
    "            ('C','Ali','0009'),\n",
    "            ('C','Asaf','00010')\n",
    "           ]"
   ]
  },
  {
   "cell_type": "code",
   "execution_count": 22,
   "id": "25b5231c",
   "metadata": {},
   "outputs": [
    {
     "name": "stdout",
     "output_type": "stream",
     "text": [
      "{'A': [('Ali', '0001')]}\n",
      "{'A': [('Ali', '0001')], 'B': [('Ayşe', '0004')]}\n",
      "{'A': [('Ali', '0001')], 'B': [('Ayşe', '0004')], 'C': [('Yasin', '0008')]}\n"
     ]
    }
   ],
   "source": [
    "#Boş bir sınıflar sözlüğü oluşturalım.\n",
    "siniflar = {}\n",
    "#Öğrenciler listesini izleyecek bir for döngüsü yazalım.\n",
    "#Listenin elemanı olan tuple verilerini de sinif, ogrenci ve numara olarak ayrıştıralım,\n",
    "for sinif, ogrenci, numara in ogrenciler:\n",
    "#Sınıflar sözlüğünde bu sınıfa ait bir anahtar yoksa yenisini oluştur.\n",
    "#Bu anahtara karşılık gelen değer boş bir liste olsun\n",
    "    if sinif not in siniflar:\n",
    "        siniflar[sinif] = []\n",
    "        #ogrenci ve numara verilerini tuple haline getir ve ilgili sonofon listesine ekle\n",
    "        siniflar[sinif].append((ogrenci, numara))\n",
    "        # Sınıfları ekrana basalım\n",
    "        print(siniflar)\n"
   ]
  },
  {
   "cell_type": "code",
   "execution_count": 23,
   "id": "7a66495d",
   "metadata": {},
   "outputs": [
    {
     "name": "stdout",
     "output_type": "stream",
     "text": [
      "defaultdict(<class 'list'>, {'A': [('Ali', '0001')]})\n",
      "defaultdict(<class 'list'>, {'A': [('Ali', '0001'), ('Rıza', '0002')]})\n",
      "defaultdict(<class 'list'>, {'A': [('Ali', '0001'), ('Rıza', '0002'), ('Alp', '0003')]})\n",
      "defaultdict(<class 'list'>, {'A': [('Ali', '0001'), ('Rıza', '0002'), ('Alp', '0003')], 'B': [('Ayşe', '0004')]})\n",
      "defaultdict(<class 'list'>, {'A': [('Ali', '0001'), ('Rıza', '0002'), ('Alp', '0003')], 'B': [('Ayşe', '0004'), ('Ceren', '0005')]})\n",
      "defaultdict(<class 'list'>, {'A': [('Ali', '0001'), ('Rıza', '0002'), ('Alp', '0003')], 'B': [('Ayşe', '0004'), ('Ceren', '0005'), ('Vuslat', '0006')]})\n",
      "defaultdict(<class 'list'>, {'A': [('Ali', '0001'), ('Rıza', '0002'), ('Alp', '0003')], 'B': [('Ayşe', '0004'), ('Ceren', '0005'), ('Vuslat', '0006'), ('Mustafa', '0007')]})\n",
      "defaultdict(<class 'list'>, {'A': [('Ali', '0001'), ('Rıza', '0002'), ('Alp', '0003')], 'B': [('Ayşe', '0004'), ('Ceren', '0005'), ('Vuslat', '0006'), ('Mustafa', '0007')], 'C': [('Yasin', '0008')]})\n",
      "defaultdict(<class 'list'>, {'A': [('Ali', '0001'), ('Rıza', '0002'), ('Alp', '0003')], 'B': [('Ayşe', '0004'), ('Ceren', '0005'), ('Vuslat', '0006'), ('Mustafa', '0007')], 'C': [('Yasin', '0008'), ('Ali', '0009')]})\n",
      "defaultdict(<class 'list'>, {'A': [('Ali', '0001'), ('Rıza', '0002'), ('Alp', '0003')], 'B': [('Ayşe', '0004'), ('Ceren', '0005'), ('Vuslat', '0006'), ('Mustafa', '0007')], 'C': [('Yasin', '0008'), ('Ali', '0009'), ('Asaf', '00010')]})\n"
     ]
    }
   ],
   "source": [
    "from collections import defaultdict\n",
    "\"\"\"\u000b",
    "Yine bir siniflar sözlüğü oluşturuyoruz ama bu kez defaultdict yapısında \u000b",
    "olduğunu ve değerlerin liste olduğunu belirtiyoruz.\u000b",
    "\"\"\"\n",
    "siniflar = defaultdict(list)\n",
    "#anahtarin yani sinifin sözlükte olup olmadığını kontrol etmemize gerek olamadan ogrenci, numara\n",
    "#ikilisini ilgili anahtarı kullanarak sözlüğe ekleyebiliyoruz.\n",
    "for sinif, ogrenci, numara in ogrenciler:\n",
    "    siniflar[sinif].append((ogrenci, numara))\n",
    "    print(siniflar)\n"
   ]
  },
  {
   "cell_type": "markdown",
   "id": "b941156a",
   "metadata": {},
   "source": [
    "# Iterators (Yineleyiciler)"
   ]
  },
  {
   "cell_type": "markdown",
   "id": "2253fb2f",
   "metadata": {},
   "source": [
    "Yineleyiciler (Iterators), Python'da üzerinde teker teker gezinebileceğimiz veri yapılarını temsil eder. Yineleyici bir nesne, ardışık verilerin üzerinde döngüyle işlem yapmamızı sağlayan bir mekanizmadır. Bu sayede her veri elemanını sırasıyla alabiliriz.\n",
    "\n",
    "Python'daki liste, tuple, string gibi yapılar iterable yani üzerinde gezilebilir nesnelerdir. Fakat yineleyiciler, bu iterable nesneler üzerinde gezintiyi sağlayan daha spesifik bir yapı sunar."
   ]
  },
  {
   "cell_type": "markdown",
   "id": "a55dd4f3",
   "metadata": {},
   "source": [
    "Örnek: Yineleyici Kullanımı"
   ]
  },
  {
   "cell_type": "code",
   "execution_count": 25,
   "id": "6467c311",
   "metadata": {},
   "outputs": [
    {
     "name": "stdout",
     "output_type": "stream",
     "text": [
      "1\n",
      "2\n",
      "3\n",
      "4\n"
     ]
    }
   ],
   "source": [
    "# Bir liste iterable'dir.\n",
    "my_list = [1, 2, 3, 4]\n",
    "\n",
    "# 'iter()' fonksiyonu ile bu listeyi bir yineleyiciye çevirebiliriz.\n",
    "my_iterator = iter(my_list)\n",
    "\n",
    "# 'next()' fonksiyonu ile her adımda bir eleman alabiliriz.\n",
    "print(next(my_iterator))  # 1\n",
    "print(next(my_iterator))  # 2\n",
    "print(next(my_iterator))  # 3\n",
    "print(next(my_iterator))  # 4\n",
    "\n",
    "# Eğer eleman kalmazsa 'StopIteration' hatası alırız.\n",
    "# print(next(my_iterator))  # Hata: StopIteration"
   ]
  },
  {
   "cell_type": "code",
   "execution_count": null,
   "id": "eab0b4dc",
   "metadata": {},
   "outputs": [],
   "source": []
  }
 ],
 "metadata": {
  "kernelspec": {
   "display_name": "Python 3 (ipykernel)",
   "language": "python",
   "name": "python3"
  },
  "language_info": {
   "codemirror_mode": {
    "name": "ipython",
    "version": 3
   },
   "file_extension": ".py",
   "mimetype": "text/x-python",
   "name": "python",
   "nbconvert_exporter": "python",
   "pygments_lexer": "ipython3",
   "version": "3.9.13"
  }
 },
 "nbformat": 4,
 "nbformat_minor": 5
}
