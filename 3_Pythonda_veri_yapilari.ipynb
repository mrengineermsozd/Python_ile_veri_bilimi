{
 "cells": [
  {
   "cell_type": "markdown",
   "id": "c3c96a8c",
   "metadata": {},
   "source": [
    "# Veri Yapıları\n",
    "Python'da veri yapıları, verileri organize etmek ve verimli bir şekilde işlemek için kullanılan yapılandırılmış veri tipleridir. Veri yapıları, veriyi depolamak, düzenlemek ve gerektiğinde üzerinde işlem yapmak için farklı yöntemler sunar. Python'da hem yerleşik veri yapıları hem de özel veri yapıları vardır."
   ]
  },
  {
   "cell_type": "markdown",
   "id": "aab548d2",
   "metadata": {},
   "source": [
    "## a. Liste (List)\n",
    "\n",
    "Python'da Liste (List) veri yapısı, en yaygın kullanılan veri yapılarından biridir. Liste, sıralı bir şekilde farklı veri türlerinden elemanlar içerebilen, değiştirilebilir (mutable) bir veri yapısıdır. Diğer programlama dillerindeki dizilere (array) benzer, ancak Python'daki listeler daha esnektir. Elemanlar, indekslenebilir ve bir listede yer alan veriler üzerinde farklı işlemler yapılabilir."
   ]
  },
  {
   "cell_type": "markdown",
   "id": "f6cf2859",
   "metadata": {},
   "source": [
    "## Liste (List) Özellikleri:"
   ]
  },
  {
   "cell_type": "markdown",
   "id": "bdb6a45f",
   "metadata": {},
   "source": [
    "Sıralı: Listelerdeki elemanlar sıralıdır ve indekslenebilir. Her elemanın bir indeksi vardır ve bu indeks ile erişim sağlanır."
   ]
  },
  {
   "cell_type": "markdown",
   "id": "15c99b3f",
   "metadata": {},
   "source": [
    "Değiştirilebilir (Mutable): Listelerdeki elemanlar değiştirilebilir, yani bir liste oluşturulduktan sonra elemanları ekleyebilir, silebilir veya değiştirebilirsiniz."
   ]
  },
  {
   "cell_type": "markdown",
   "id": "335ee177",
   "metadata": {},
   "source": [
    "Farklı Veri Türlerini Barındırabilir: Listeler içerisinde sayılar, stringler, başka listeler veya farklı veri türleri barındırabilir."
   ]
  },
  {
   "cell_type": "markdown",
   "id": "7a4455f7",
   "metadata": {},
   "source": [
    "Yinelenen Elemanlar: Listeler, aynı elemanı birden fazla kez içerebilir."
   ]
  },
  {
   "cell_type": "markdown",
   "id": "83a17c60",
   "metadata": {},
   "source": [
    "# Liste Tanımlama"
   ]
  },
  {
   "cell_type": "markdown",
   "id": "6cec8638",
   "metadata": {},
   "source": [
    "Python'da liste, köşeli parantez [] kullanılarak tanımlanır ve elemanlar virgülle ayrılır."
   ]
  },
  {
   "cell_type": "code",
   "execution_count": 1,
   "id": "b0053091",
   "metadata": {},
   "outputs": [],
   "source": [
    "my_list = []\n",
    "my_list = [1, 2, 3, \"Python\", 3.14, True]"
   ]
  },
  {
   "cell_type": "markdown",
   "id": "4900e706",
   "metadata": {},
   "source": [
    "## Liste Elemanlarına Erişim\n",
    "Liste elemanlarına indeksleme ve dilimleme (slicing) yöntemleri ile erişilebilir. Liste indeksleri sıfırdan başlar."
   ]
  },
  {
   "cell_type": "code",
   "execution_count": 2,
   "id": "d6eaf270",
   "metadata": {},
   "outputs": [
    {
     "name": "stdout",
     "output_type": "stream",
     "text": [
      "10\n",
      "50\n",
      "[20, 30, 40]\n"
     ]
    }
   ],
   "source": [
    "my_list = [10, 20, 30, 40, 50]\n",
    "\n",
    "# İlk elemana erişim\n",
    "print(my_list[0]) \n",
    "\n",
    "# Son elemana erişim\n",
    "print(my_list[-1])  \n",
    "\n",
    "# Belirli bir aralıktaki elemanlara erişim (slicing)\n",
    "print(my_list[1:4])  "
   ]
  },
  {
   "cell_type": "markdown",
   "id": "2e86093c",
   "metadata": {},
   "source": [
    "## Liste Metodları"
   ]
  },
  {
   "cell_type": "markdown",
   "id": "76589cb9",
   "metadata": {},
   "source": [
    "Listeler, üzerinde işlem yapmayı kolaylaştıran birçok yerleşik metoda sahiptir:"
   ]
  },
  {
   "cell_type": "markdown",
   "id": "813e744f",
   "metadata": {},
   "source": [
    "### append(x): \n",
    "Listenin sonuna eleman ekler."
   ]
  },
  {
   "cell_type": "code",
   "execution_count": 4,
   "id": "40c75ac2",
   "metadata": {},
   "outputs": [
    {
     "name": "stdout",
     "output_type": "stream",
     "text": [
      "[1, 2, 3, 4]\n"
     ]
    }
   ],
   "source": [
    "my_list = [1, 2, 3]\n",
    "my_list.append(4)\n",
    "print(my_list)  "
   ]
  },
  {
   "cell_type": "markdown",
   "id": "bba5347e",
   "metadata": {},
   "source": [
    "### extend(iterable): \n",
    "Listeye başka bir liste veya iterable ekler."
   ]
  },
  {
   "cell_type": "code",
   "execution_count": 6,
   "id": "4a4dcb92",
   "metadata": {},
   "outputs": [
    {
     "name": "stdout",
     "output_type": "stream",
     "text": [
      "[1, 2, 3, 4, 5, 6, 5, 6]\n"
     ]
    }
   ],
   "source": [
    "my_list.extend([5, 6])\n",
    "print(my_list)  "
   ]
  },
  {
   "cell_type": "markdown",
   "id": "0204e620",
   "metadata": {},
   "source": [
    "### insert(i, x): \n",
    "Belirli bir indekse eleman ekler."
   ]
  },
  {
   "cell_type": "code",
   "execution_count": 8,
   "id": "97463d36",
   "metadata": {},
   "outputs": [
    {
     "name": "stdout",
     "output_type": "stream",
     "text": [
      "[1, 2, 'Python', 'Python', 3, 4, 5, 6, 5, 6]\n"
     ]
    }
   ],
   "source": [
    "my_list.insert(2, \"Python\")\n",
    "print(my_list)  "
   ]
  },
  {
   "cell_type": "markdown",
   "id": "7e12f2e5",
   "metadata": {},
   "source": [
    "### remove(x): \n",
    "Verilen değeri listeden siler."
   ]
  },
  {
   "cell_type": "code",
   "execution_count": 9,
   "id": "955ef9df",
   "metadata": {},
   "outputs": [
    {
     "name": "stdout",
     "output_type": "stream",
     "text": [
      "[1, 2, 'Python', 'Python', 4, 5, 6, 5, 6]\n"
     ]
    }
   ],
   "source": [
    "my_list.remove(3)\n",
    "print(my_list)"
   ]
  },
  {
   "cell_type": "markdown",
   "id": "827f4779",
   "metadata": {},
   "source": [
    "### pop(i): \n",
    "Belirtilen indeksteki elemanı siler ve döndürür. İndeks verilmezse son elemanı çıkarır."
   ]
  },
  {
   "cell_type": "code",
   "execution_count": 10,
   "id": "6092e3b8",
   "metadata": {},
   "outputs": [
    {
     "name": "stdout",
     "output_type": "stream",
     "text": [
      "6\n"
     ]
    }
   ],
   "source": [
    "last_item = my_list.pop()\n",
    "print(last_item) "
   ]
  },
  {
   "cell_type": "markdown",
   "id": "76d1fdd4",
   "metadata": {},
   "source": [
    "### index(x):\n",
    "Belirtilen elemanın indeksini döner."
   ]
  },
  {
   "cell_type": "code",
   "execution_count": 11,
   "id": "0dbbed96",
   "metadata": {},
   "outputs": [
    {
     "name": "stdout",
     "output_type": "stream",
     "text": [
      "2\n"
     ]
    }
   ],
   "source": [
    "print(my_list.index('Python'))  "
   ]
  },
  {
   "cell_type": "markdown",
   "id": "d558bea7",
   "metadata": {},
   "source": [
    "### count(x):\n",
    "Bir elemanın listede kaç kez geçtiğini döner."
   ]
  },
  {
   "cell_type": "code",
   "execution_count": 12,
   "id": "93bd3e4a",
   "metadata": {},
   "outputs": [
    {
     "name": "stdout",
     "output_type": "stream",
     "text": [
      "1\n"
     ]
    }
   ],
   "source": [
    "print(my_list.count(2))  "
   ]
  },
  {
   "cell_type": "markdown",
   "id": "93660b22",
   "metadata": {},
   "source": [
    "### sort():\n",
    "Listeyi sıralar (varsayılan olarak artan sırada)."
   ]
  },
  {
   "cell_type": "code",
   "execution_count": 13,
   "id": "b3b53899",
   "metadata": {},
   "outputs": [
    {
     "name": "stdout",
     "output_type": "stream",
     "text": [
      "[2, 4, 5, 8]\n"
     ]
    }
   ],
   "source": [
    "numbers = [4, 2, 8, 5]\n",
    "numbers.sort()\n",
    "print(numbers)"
   ]
  },
  {
   "cell_type": "markdown",
   "id": "c945d4b0",
   "metadata": {},
   "source": [
    "### reverse(): \n",
    "Listenin elemanlarının sırasını tersine çevirir."
   ]
  },
  {
   "cell_type": "code",
   "execution_count": 14,
   "id": "654ad56c",
   "metadata": {},
   "outputs": [
    {
     "name": "stdout",
     "output_type": "stream",
     "text": [
      "[5, 6, 5, 4, 'Python', 'Python', 2, 1]\n"
     ]
    }
   ],
   "source": [
    "my_list.reverse()\n",
    "print(my_list)  "
   ]
  },
  {
   "cell_type": "markdown",
   "id": "9c967e4c",
   "metadata": {},
   "source": [
    "### copy(): \n",
    "Listenin bir kopyasını oluşturur."
   ]
  },
  {
   "cell_type": "code",
   "execution_count": 15,
   "id": "41176fac",
   "metadata": {},
   "outputs": [
    {
     "name": "stdout",
     "output_type": "stream",
     "text": [
      "[5, 6, 5, 4, 'Python', 'Python', 2, 1]\n"
     ]
    }
   ],
   "source": [
    "new_list = my_list.copy()\n",
    "print(new_list)  "
   ]
  },
  {
   "cell_type": "markdown",
   "id": "9a244492",
   "metadata": {},
   "source": [
    "### clear(): \n",
    "Listedeki tüm elemanları siler."
   ]
  },
  {
   "cell_type": "code",
   "execution_count": 16,
   "id": "8770bdaa",
   "metadata": {},
   "outputs": [
    {
     "name": "stdout",
     "output_type": "stream",
     "text": [
      "[]\n"
     ]
    }
   ],
   "source": [
    "my_list.clear()\n",
    "print(my_list)  "
   ]
  },
  {
   "cell_type": "markdown",
   "id": "3e7e894d",
   "metadata": {},
   "source": [
    "## Liste İçinde Liste\n",
    "Python'da listeler, başka listeleri eleman olarak barındırabilir. Bu durumda iç içe listeler oluşturulur."
   ]
  },
  {
   "cell_type": "code",
   "execution_count": 3,
   "id": "c8d3b719",
   "metadata": {},
   "outputs": [
    {
     "name": "stdout",
     "output_type": "stream",
     "text": [
      "6\n"
     ]
    }
   ],
   "source": [
    "nested_list = [[1, 2], [3, 4], [5, 6]]\n",
    "print(nested_list[2][1])  "
   ]
  },
  {
   "cell_type": "markdown",
   "id": "4c4908bc",
   "metadata": {},
   "source": [
    "# Tuple Veri Yapısı"
   ]
  },
  {
   "cell_type": "markdown",
   "id": "89bcd104",
   "metadata": {},
   "source": [
    "Python'da Tuple (Demet) veri yapısı, değiştirilemez (immutable) bir veri yapısıdır ve birden fazla öğeyi bir arada tutmak için kullanılır. Listelere benzese de, tuple'ların en büyük farkı değiştirilemez olmalarıdır. Tuple'lar bir kez oluşturulduktan sonra içerikleri değiştirilemez; yani eleman ekleme, çıkarma veya değiştirme işlemleri yapılamaz. Bu özellik, tuple'ları sabit veri koleksiyonları için ideal kılar."
   ]
  },
  {
   "cell_type": "markdown",
   "id": "1d1cfabf",
   "metadata": {},
   "source": [
    "# Tuple (Demet) Özellikleri:\n",
    "### Sıralı (Ordered): \n",
    "Tuple'daki elemanlar sıralıdır ve her elemanın bir indeksi vardır.\n",
    "### Değiştirilemez (Immutable):\n",
    "Tuple oluşturulduktan sonra içerdiği veriler değiştirilemez.\n",
    "### Farklı Veri Türlerini Barındırabilir: \n",
    "Tuple'lar birden fazla veri türünü aynı anda barındırabilir (sayılar, stringler, başka tuple'lar, vb.).\n",
    "### Daha Hızlı: \n",
    "Tuple'lar, listelere göre daha hızlıdır çünkü değiştirilemez olduklarından bellek yönetimi açısından daha verimlidirler."
   ]
  },
  {
   "cell_type": "markdown",
   "id": "9a26f6f5",
   "metadata": {},
   "source": [
    "## Tuple Tanımlama\n",
    "Tuple, parantez () kullanılarak tanımlanır ve elemanlar virgülle ayrılır. Ancak parantez kullanmadan da bir tuple tanımlamak mümkündür."
   ]
  },
  {
   "cell_type": "code",
   "execution_count": 4,
   "id": "041e052c",
   "metadata": {},
   "outputs": [],
   "source": [
    "my_tuple = ()\n",
    "\n",
    "my_tuple = (1, 2, 3, \"Python\", 3.14)\n",
    "\n",
    "my_tuple = 1, 2, 3"
   ]
  },
  {
   "cell_type": "code",
   "execution_count": 5,
   "id": "32982054",
   "metadata": {},
   "outputs": [],
   "source": [
    "single_element_tuple = (5,)  # Bu bir tuple'dır.\n",
    "not_a_tuple = (5)  # Bu sadece bir tam sayı ifadesidir, tuple değildir."
   ]
  },
  {
   "cell_type": "code",
   "execution_count": 6,
   "id": "23a2e3e0",
   "metadata": {},
   "outputs": [
    {
     "name": "stdout",
     "output_type": "stream",
     "text": [
      "10\n",
      "50\n",
      "(20, 30, 40)\n"
     ]
    }
   ],
   "source": [
    "my_tuple = (10, 20, 30, 40, 50)\n",
    "\n",
    "# İlk elemana erişim\n",
    "print(my_tuple[0])  \n",
    "\n",
    "# Son elemana erişim\n",
    "print(my_tuple[-1])  \n",
    "\n",
    "# Belirli bir aralıktaki elemanlara erişim (slicing)\n",
    "print(my_tuple[1:4])  "
   ]
  },
  {
   "cell_type": "markdown",
   "id": "ae670b2e",
   "metadata": {},
   "source": [
    "# Tuple'ın Değişmezliği\n",
    "Tuple'lar oluşturulduktan sonra içerikleri değiştirilemez. Örneğin, bir tuple'a eleman eklemek, silmek veya var olan bir elemanı değiştirmek mümkün değildir."
   ]
  },
  {
   "cell_type": "code",
   "execution_count": 9,
   "id": "359e9a47",
   "metadata": {},
   "outputs": [],
   "source": [
    "my_tuple = (1, 2, 3)\n",
    "\n",
    "# Aşağıdaki işlemler tuple'lar üzerinde yapılamaz\n",
    "# my_tuple[0] = 10  # Hata: TypeError: 'tuple' object does not support item assignment\n",
    "# my_tuple.append(4)  # Hata: AttributeError: 'tuple' object has no attribute 'append'"
   ]
  },
  {
   "cell_type": "markdown",
   "id": "0887467c",
   "metadata": {},
   "source": [
    "## Tuple Metodları"
   ]
  },
  {
   "cell_type": "markdown",
   "id": "62b4354d",
   "metadata": {},
   "source": [
    "## count(x): \n",
    "Verilen değerin tuple içinde kaç kez geçtiğini döner."
   ]
  },
  {
   "cell_type": "code",
   "execution_count": 10,
   "id": "47153937",
   "metadata": {},
   "outputs": [
    {
     "name": "stdout",
     "output_type": "stream",
     "text": [
      "3\n"
     ]
    }
   ],
   "source": [
    "my_tuple = (1, 2, 2, 3, 2)\n",
    "print(my_tuple.count(2))  # Çıktı: 3\n"
   ]
  },
  {
   "cell_type": "markdown",
   "id": "632ce348",
   "metadata": {},
   "source": [
    "## index(x): \n",
    "Verilen değerin tuple içindeki ilk konumunun indeksini döner."
   ]
  },
  {
   "cell_type": "code",
   "execution_count": 11,
   "id": "6e3a4162",
   "metadata": {},
   "outputs": [
    {
     "name": "stdout",
     "output_type": "stream",
     "text": [
      "3\n"
     ]
    }
   ],
   "source": [
    "print(my_tuple.index(3))  # Çıktı: 3"
   ]
  },
  {
   "cell_type": "markdown",
   "id": "f1e37f6e",
   "metadata": {},
   "source": [
    "# Tuple'ı Listeye ve Listeyi Tuple'a Çevirme\n",
    "Tuple'lar listelere, listeler de tuple'lara dönüştürülebilir. Ancak, bir tuple listeye çevrildiğinde değiştirilebilir hale gelir."
   ]
  },
  {
   "cell_type": "markdown",
   "id": "93bd80c4",
   "metadata": {},
   "source": [
    "### Tuple'dan Listeye Dönüştürme"
   ]
  },
  {
   "cell_type": "code",
   "execution_count": 13,
   "id": "89efc634",
   "metadata": {},
   "outputs": [
    {
     "name": "stdout",
     "output_type": "stream",
     "text": [
      "[1, 2, 3]\n"
     ]
    }
   ],
   "source": [
    "my_tuple = (1, 2, 3)\n",
    "my_list = list(my_tuple)\n",
    "print(my_list)  "
   ]
  },
  {
   "cell_type": "markdown",
   "id": "b491d6a2",
   "metadata": {},
   "source": [
    "### Listeden Tuple'a Dönüştürme"
   ]
  },
  {
   "cell_type": "code",
   "execution_count": 14,
   "id": "b91c700e",
   "metadata": {},
   "outputs": [
    {
     "name": "stdout",
     "output_type": "stream",
     "text": [
      "(1, 2, 3)\n"
     ]
    }
   ],
   "source": [
    "my_list = [1, 2, 3]\n",
    "my_tuple = tuple(my_list)\n",
    "print(my_tuple) "
   ]
  },
  {
   "cell_type": "markdown",
   "id": "c9e2dc77",
   "metadata": {},
   "source": [
    "## Tuple ve İsimlendirilmiş Tuple (NamedTuple)\n",
    "Python'da standart tuple'ların yanı sıra collections modülünde yer alan NamedTuple kullanarak her bir elemanı isimlendirebilirsiniz. Bu, tuple'ın belirli elemanlarına daha anlamlı bir şekilde erişmenizi sağlar:"
   ]
  },
  {
   "cell_type": "code",
   "execution_count": 15,
   "id": "e3b465f9",
   "metadata": {},
   "outputs": [
    {
     "name": "stdout",
     "output_type": "stream",
     "text": [
      "John\n",
      "25\n"
     ]
    }
   ],
   "source": [
    "from collections import namedtuple\n",
    "\n",
    "\n",
    "Person = namedtuple('Person', ['name', 'age'])\n",
    "p = Person(name=\"John\", age=25)\n",
    "\n",
    "print(p.name)  \n",
    "print(p.age)  "
   ]
  },
  {
   "cell_type": "markdown",
   "id": "db6049b1",
   "metadata": {},
   "source": [
    "### Özet\n",
    "Tuple (Demet), Python'da sıralı, değiştirilemez ve farklı türde veriler içerebilen bir veri yapısıdır.\n",
    "Tuple elemanları bir kez tanımlandıktan sonra değiştirilemez.\n",
    "Tuple'lar listelere göre daha az yer kaplar ve daha hızlı çalışır.\n",
    "Döngülerde kullanılabilir ve elemanlarına indeksleme ile erişilebilir."
   ]
  },
  {
   "cell_type": "markdown",
   "id": "2566ae53",
   "metadata": {},
   "source": [
    "# Set (Küme) Veri yapısı"
   ]
  },
  {
   "cell_type": "markdown",
   "id": "359867b6",
   "metadata": {},
   "source": [
    "Python'da Set (Küme) veri yapısı, benzersiz ve sırasız elemanlar koleksiyonudur. Setler, matematiksel kümelere benzer ve tekrarlı elemanlara izin vermez. Set veri yapısı, listeler ve tuple'ların aksine sırasız olduğu için indeksleme ve dilimleme yapılamaz."
   ]
  },
  {
   "cell_type": "markdown",
   "id": "4960fc93",
   "metadata": {},
   "source": [
    "# Set (Küme) Özellikleri:\n",
    "## Benzersiz Elemanlar:\n",
    "Set içerisindeki her eleman benzersizdir, yani aynı değeri iki kez ekleyemezsiniz.\n",
    "## Sırasız (Unordered):\n",
    "Set’ler sırasızdır, yani elemanların belirli bir sırası yoktur. Bu nedenle indeksleme ile elemanlara erişim mümkün değildir.\n",
    "## Değiştirilebilir (Mutable): \n",
    "Set'lere eleman ekleyip çıkarabilirsiniz, ancak set'in kendisi hashable'dır ve başka bir set'in içinde kullanılamaz.\n",
    "## Karmaşık Veri Türlerini Barındırmaz: \n",
    "Set’ler içinde yalnızca değiştirilemez (immutable) veri türleri kullanılabilir. Örneğin, bir set'in elemanı olarak listeler kullanılamazken, tuple'lar kullanılabilir."
   ]
  },
  {
   "cell_type": "markdown",
   "id": "7f8fdf93",
   "metadata": {},
   "source": [
    "# Set Tanımlama\n",
    "Set tanımlarken süslü parantezler {} kullanılır veya set() fonksiyonu ile bir set oluşturulur."
   ]
  },
  {
   "cell_type": "code",
   "execution_count": 16,
   "id": "16fcb1a9",
   "metadata": {},
   "outputs": [
    {
     "name": "stdout",
     "output_type": "stream",
     "text": [
      "{1, 2, 3, 4}\n"
     ]
    }
   ],
   "source": [
    "my_set = set()\n",
    "\n",
    "my_set = {1, 2, 3, 4}\n",
    "\n",
    "\n",
    "my_set = {1, 2, 2, 3, 4}\n",
    "print(my_set)  "
   ]
  },
  {
   "cell_type": "markdown",
   "id": "818b9f3b",
   "metadata": {},
   "source": [
    "## Set Elemanlarına Erişim\n",
    "Set’ler sırasız olduğundan elemanlara doğrudan indeksleme ile erişilemez. Ancak, set içindeki elemanları döngülerle gezebilirsiniz."
   ]
  },
  {
   "cell_type": "code",
   "execution_count": 17,
   "id": "22cb1780",
   "metadata": {},
   "outputs": [
    {
     "name": "stdout",
     "output_type": "stream",
     "text": [
      "1\n",
      "2\n",
      "3\n",
      "4\n"
     ]
    }
   ],
   "source": [
    "my_set = {1, 2, 3, 4}\n",
    "\n",
    "\n",
    "for item in my_set:\n",
    "    print(item)"
   ]
  },
  {
   "cell_type": "markdown",
   "id": "a023e6b2",
   "metadata": {},
   "source": [
    "# Set'e Eleman Ekleme ve Kaldırma"
   ]
  },
  {
   "cell_type": "raw",
   "id": "8ab7253d",
   "metadata": {},
   "source": [
    "Set'lere eleman eklemek için add() ve birden fazla eleman eklemek için update() metodları kullanılır.\n",
    "\n",
    "add(): Tek bir eleman ekler.\n",
    "update(): Birden fazla eleman eklemek için kullanılır."
   ]
  },
  {
   "cell_type": "code",
   "execution_count": 18,
   "id": "fa24b282",
   "metadata": {},
   "outputs": [
    {
     "name": "stdout",
     "output_type": "stream",
     "text": [
      "{1, 2, 3, 4}\n",
      "{1, 2, 3, 4, 5, 6, 7}\n"
     ]
    }
   ],
   "source": [
    "my_set = {1, 2, 3}\n",
    "\n",
    "my_set.add(4)\n",
    "print(my_set)  \n",
    "\n",
    "my_set.update([5, 6, 7])\n",
    "print(my_set) "
   ]
  },
  {
   "cell_type": "markdown",
   "id": "804ad8b0",
   "metadata": {},
   "source": [
    "Set'ten eleman çıkarmak için ise remove(), discard(), ve pop() metodları kullanılır."
   ]
  },
  {
   "cell_type": "raw",
   "id": "2393187d",
   "metadata": {},
   "source": [
    "remove(x): Belirtilen elemanı set’ten kaldırır, ancak eleman set'te yoksa hata verir.\n",
    "\n",
    "discard(x): Belirtilen elemanı set’ten kaldırır, eleman yoksa hata vermez.\n",
    "\n",
    "pop(): Set’ten rastgele bir eleman kaldırır ve döner."
   ]
  },
  {
   "cell_type": "code",
   "execution_count": 19,
   "id": "031afa2b",
   "metadata": {},
   "outputs": [
    {
     "name": "stdout",
     "output_type": "stream",
     "text": [
      "{1, 3, 4}\n"
     ]
    }
   ],
   "source": [
    "my_set = {1, 2, 3, 4}\n",
    "\n",
    "my_set.remove(2)  \n",
    "print(my_set) \n",
    "\n",
    "my_set.discard(10)  "
   ]
  },
  {
   "cell_type": "markdown",
   "id": "aa4629d3",
   "metadata": {},
   "source": [
    "# Set Metodları ve Operasyonları"
   ]
  },
  {
   "cell_type": "markdown",
   "id": "c5ff90fa",
   "metadata": {},
   "source": [
    "Set’ler, matematiksel kümelerdeki işlemler gibi çeşitli metodları destekler.\n",
    "\n",
    "## Birleştirme (Union): \n",
    "İki set'in birleşimi, her iki set'teki elemanların tamamını içerir. union() metodu kullanılır veya | operatörü ile yapılır.\n",
    "## Kesişim (Intersection): \n",
    "İki set'in kesişimi, her iki set'te de bulunan ortak elemanları içerir. intersection() metodu kullanılır veya & operatörü ile yapılır.\n",
    "## Fark (Difference): \n",
    "Bir set'te olup diğer set'te olmayan elemanları içerir. difference() metodu kullanılır veya - operatörü ile yapılır.\n",
    "## Simetrik Fark (Symmetric Difference): \n",
    "İki set'te bulunup, her iki set'te ortak olmayan elemanları içerir. symmetric_difference() metodu veya ^ operatörü ile yapılır."
   ]
  },
  {
   "cell_type": "code",
   "execution_count": 20,
   "id": "0924ad4c",
   "metadata": {},
   "outputs": [
    {
     "name": "stdout",
     "output_type": "stream",
     "text": [
      "{1, 2, 3, 4, 5}\n"
     ]
    }
   ],
   "source": [
    "set1 = {1, 2, 3}\n",
    "set2 = {3, 4, 5}\n",
    "\n",
    "union_set = set1.union(set2)\n",
    "print(union_set) "
   ]
  },
  {
   "cell_type": "code",
   "execution_count": 21,
   "id": "733064b5",
   "metadata": {},
   "outputs": [
    {
     "name": "stdout",
     "output_type": "stream",
     "text": [
      "{3}\n"
     ]
    }
   ],
   "source": [
    "intersection_set = set1.intersection(set2)\n",
    "print(intersection_set)  "
   ]
  },
  {
   "cell_type": "code",
   "execution_count": 22,
   "id": "363d8949",
   "metadata": {},
   "outputs": [
    {
     "name": "stdout",
     "output_type": "stream",
     "text": [
      "{1, 2}\n"
     ]
    }
   ],
   "source": [
    "difference_set = set1.difference(set2)\n",
    "print(difference_set)  "
   ]
  },
  {
   "cell_type": "code",
   "execution_count": 23,
   "id": "a9225669",
   "metadata": {},
   "outputs": [
    {
     "name": "stdout",
     "output_type": "stream",
     "text": [
      "{1, 2, 4, 5}\n"
     ]
    }
   ],
   "source": [
    "sym_diff_set = set1.symmetric_difference(set2)\n",
    "print(sym_diff_set)  "
   ]
  },
  {
   "cell_type": "markdown",
   "id": "b83e58f8",
   "metadata": {},
   "source": [
    "## Set İçerisinde Eleman Kontrolü\n",
    "Python set’lerinde in anahtar kelimesi ile bir elemanın set içinde olup olmadığını kontrol edebilirsiniz."
   ]
  },
  {
   "cell_type": "code",
   "execution_count": 24,
   "id": "d72eeaf5",
   "metadata": {},
   "outputs": [
    {
     "name": "stdout",
     "output_type": "stream",
     "text": [
      "True\n",
      "False\n"
     ]
    }
   ],
   "source": [
    "my_set = {1, 2, 3, 4}\n",
    "\n",
    "print(2 in my_set)  \n",
    "print(5 in my_set)  "
   ]
  },
  {
   "cell_type": "markdown",
   "id": "8cd27170",
   "metadata": {},
   "source": [
    "# Set'in Diğer Metodları:\n",
    "## clear(): \n",
    "Set'teki tüm elemanları kaldırır.\n",
    "## copy():\n",
    "Set'in bir kopyasını döner.\n",
    "## isdisjoint(other_set): \n",
    "İki set'in kesişimi boşsa True, değilse False döner.\n",
    "## issubset(other_set): \n",
    "Bir set’in diğer bir set’in alt kümesi olup olmadığını kontrol eder.\n",
    "## issuperset(other_set): \n",
    "Bir set’in diğer bir set’i kapsayıp kapsamadığını kontrol eder."
   ]
  },
  {
   "cell_type": "code",
   "execution_count": 25,
   "id": "e297f9c7",
   "metadata": {},
   "outputs": [
    {
     "name": "stdout",
     "output_type": "stream",
     "text": [
      "True\n",
      "True\n"
     ]
    }
   ],
   "source": [
    "set1 = {1, 2, 3}\n",
    "set2 = {1, 2}\n",
    "\n",
    "print(set2.issubset(set1)) \n",
    "\n",
    "print(set1.issuperset(set2)) "
   ]
  },
  {
   "cell_type": "markdown",
   "id": "696ab44e",
   "metadata": {},
   "source": [
    "# Dictionary Veri Yapısı"
   ]
  },
  {
   "cell_type": "markdown",
   "id": "778c1fcd",
   "metadata": {},
   "source": [
    "Python'da Dictionary (Sözlük) veri yapısı, anahtar-değer çiftlerinden oluşan bir veri yapısıdır. Her bir anahtar, ona karşılık gelen bir değerle eşleştirilir. Anahtarlar benzersizdir ve genellikle değiştirilemeyen veri türlerinden (örneğin, sayılar, stringler, tuple'lar) oluşur, ancak değerler herhangi bir veri türü olabilir."
   ]
  },
  {
   "cell_type": "markdown",
   "id": "8e8f6fdc",
   "metadata": {},
   "source": [
    "# Dictionary Özellikleri:\n",
    "### Anahtar-Değer Çiftleri (Key-Value Pairs):\n",
    "Her anahtar yalnızca bir değeri referans eder. Aynı anahtar tekrar kullanıldığında eski değer üzerine yazılır.\n",
    "### Değiştirilebilir (Mutable): \n",
    "Dictionary veri yapıları değiştirilebilir. Yani, dictionary'e yeni eleman eklenebilir veya mevcut elemanlar değiştirilebilir.\n",
    "### Sırasız (Unordered):\n",
    "Python 3.7 ve sonrası için dictionary'ler sıralı olarak elemanları saklasa da, Python 3.6 ve öncesi için sırasızdır.\n",
    "### Anahtarlar Benzersizdir: \n",
    "Aynı anahtar bir dictionary içinde yalnızca bir kez bulunabilir."
   ]
  },
  {
   "cell_type": "markdown",
   "id": "ca1f4b98",
   "metadata": {},
   "source": [
    "# Dictionary Tanımlama\n",
    "Dictionary tanımlamak için süslü parantezler {} kullanılır veya dict() fonksiyonu ile oluşturulabilir.\n",
    "\n"
   ]
  },
  {
   "cell_type": "code",
   "execution_count": 26,
   "id": "e9a5462f",
   "metadata": {},
   "outputs": [],
   "source": [
    "\n",
    "my_dict = {}\n",
    "\n",
    "my_dict = {\n",
    "    \"name\": \"Serhat\",\n",
    "    \"age\": 28,\n",
    "    \"city\": \"Konya\"\n",
    "}"
   ]
  },
  {
   "cell_type": "markdown",
   "id": "aa790997",
   "metadata": {},
   "source": [
    "### Dictionary'ye Eleman Ekleme ve Güncelleme\n",
    "Yeni bir anahtar-değer çifti eklemek veya mevcut bir anahtarın değerini güncellemek için dictionary'de anahtar adı belirtilerek değer atanabilir."
   ]
  },
  {
   "cell_type": "code",
   "execution_count": 27,
   "id": "6f07d02c",
   "metadata": {},
   "outputs": [
    {
     "name": "stdout",
     "output_type": "stream",
     "text": [
      "{'name': 'Serhat', 'age': 28, 'city': 'Konya'}\n",
      "{'name': 'Serhat', 'age': 29, 'city': 'Konya'}\n"
     ]
    }
   ],
   "source": [
    "my_dict = {\n",
    "    \"name\": \"Serhat\",\n",
    "    \"age\": 28\n",
    "}\n",
    "\n",
    "my_dict[\"city\"] = \"Konya\"\n",
    "print(my_dict)  \n",
    "\n",
    "my_dict[\"age\"] = 29\n",
    "print(my_dict) "
   ]
  },
  {
   "cell_type": "markdown",
   "id": "e976ea72",
   "metadata": {},
   "source": [
    "## Dictionary Elemanlarına Erişim\n",
    "Dictionary'deki elemanlara anahtarlar aracılığıyla erişilir. "
   ]
  },
  {
   "cell_type": "code",
   "execution_count": 28,
   "id": "30690e22",
   "metadata": {},
   "outputs": [
    {
     "name": "stdout",
     "output_type": "stream",
     "text": [
      "Serhat\n",
      "28\n"
     ]
    }
   ],
   "source": [
    "my_dict = {\n",
    "    \"name\": \"Serhat\",\n",
    "    \"age\": 28\n",
    "}\n",
    "\n",
    "print(my_dict[\"name\"])  \n",
    "print(my_dict[\"age\"])  "
   ]
  },
  {
   "cell_type": "raw",
   "id": "8a0fc075",
   "metadata": {},
   "source": [
    "Not: Eğer dictionary'de bulunmayan bir anahtara erişmeye çalışırsanız KeyError hatası alırsınız. Bunu önlemek için get() metodunu kullanabilirsiniz."
   ]
  },
  {
   "cell_type": "code",
   "execution_count": 29,
   "id": "9c0ee6b2",
   "metadata": {},
   "outputs": [
    {
     "name": "stdout",
     "output_type": "stream",
     "text": [
      "None\n"
     ]
    }
   ],
   "source": [
    "print(my_dict.get(\"city\"))  "
   ]
  },
  {
   "cell_type": "markdown",
   "id": "93019940",
   "metadata": {},
   "source": [
    "# Dictionary'den Eleman Kaldırma\n",
    "Elemanları kaldırmak için birkaç yöntem vardır:\n",
    "\n",
    "### pop(key): \n",
    "Belirtilen anahtarı ve ona karşılık gelen değeri dictionary'den kaldırır.\n",
    "### popitem(): \n",
    "Rastgele bir anahtar-değer çiftini kaldırır ve geri döner (Python 3.7 ve sonrası için son eklenen çifti kaldırır).\n",
    "### del: \n",
    "Belirli bir anahtarı dictionary'den siler.\n",
    "### clear(): \n",
    "Dictionary'deki tüm elemanları kaldırır."
   ]
  },
  {
   "cell_type": "code",
   "execution_count": 30,
   "id": "cee1a86f",
   "metadata": {},
   "outputs": [
    {
     "name": "stdout",
     "output_type": "stream",
     "text": [
      "{'name': 'Serhat', 'city': 'Konya'}\n",
      "{'name': 'Serhat'}\n",
      "{}\n",
      "{}\n"
     ]
    }
   ],
   "source": [
    "my_dict = {\n",
    "    \"name\": \"Serhat\",\n",
    "    \"age\": 28,\n",
    "    \"city\": \"Konya\"\n",
    "}\n",
    "\n",
    "my_dict.pop(\"age\")\n",
    "print(my_dict) \n",
    "\n",
    "my_dict.popitem()\n",
    "print(my_dict) \n",
    "\n",
    "del my_dict[\"name\"]\n",
    "print(my_dict)  \n",
    "\n",
    "my_dict.clear()\n",
    "print(my_dict) "
   ]
  },
  {
   "cell_type": "markdown",
   "id": "8cc0c065",
   "metadata": {},
   "source": [
    "## Dictionary Metodları:"
   ]
  },
  {
   "cell_type": "markdown",
   "id": "fb54a389",
   "metadata": {},
   "source": [
    "### keys(): \n",
    "Dictionary'deki tüm anahtarları döner.\n",
    "### values(): \n",
    "Dictionary'deki tüm değerleri döner.\n",
    "### items(): \n",
    "Dictionary'deki tüm anahtar-değer çiftlerini döner.\n",
    "### update(): \n",
    "Bir başka dictionary'yi mevcut dictionary'ye ekler veya günceller."
   ]
  },
  {
   "cell_type": "code",
   "execution_count": 31,
   "id": "62a8c62b",
   "metadata": {},
   "outputs": [
    {
     "name": "stdout",
     "output_type": "stream",
     "text": [
      "dict_keys(['name', 'age'])\n",
      "dict_values(['Serhat', 28])\n",
      "dict_items([('name', 'Serhat'), ('age', 28)])\n",
      "{'name': 'Serhat', 'age': 29, 'city': 'Konya'}\n"
     ]
    }
   ],
   "source": [
    "my_dict = {\"name\": \"Serhat\", \"age\": 28}\n",
    "\n",
    "print(my_dict.keys())\n",
    "\n",
    "print(my_dict.values())  \n",
    "\n",
    "print(my_dict.items())  \n",
    "\n",
    "my_dict.update({\"city\": \"Konya\", \"age\": 29})\n",
    "print(my_dict) "
   ]
  },
  {
   "cell_type": "code",
   "execution_count": null,
   "id": "375ef93b",
   "metadata": {},
   "outputs": [],
   "source": []
  }
 ],
 "metadata": {
  "kernelspec": {
   "display_name": "Python 3 (ipykernel)",
   "language": "python",
   "name": "python3"
  },
  "language_info": {
   "codemirror_mode": {
    "name": "ipython",
    "version": 3
   },
   "file_extension": ".py",
   "mimetype": "text/x-python",
   "name": "python",
   "nbconvert_exporter": "python",
   "pygments_lexer": "ipython3",
   "version": "3.9.13"
  }
 },
 "nbformat": 4,
 "nbformat_minor": 5
}
