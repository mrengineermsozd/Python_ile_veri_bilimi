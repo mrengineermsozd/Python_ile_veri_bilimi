{
 "cells": [
  {
   "cell_type": "markdown",
   "id": "d1e17802",
   "metadata": {},
   "source": [
    "NumPy, farklı boyutlardaki dizileri birleştirmek için çeşitli yöntemler sunar. Ancak, birleştirme işlemlerinde boyut uyumluluğu önemlidir. İşte farklı boyutlu dizileri birleştirme işlemleri ve kullanılan yöntemler:"
   ]
  },
  {
   "cell_type": "markdown",
   "id": "3ab1495e",
   "metadata": {},
   "source": [
    "### 1. numpy.concatenate() ile Birleştirme"
   ]
  },
  {
   "cell_type": "markdown",
   "id": "ca70fb7f",
   "metadata": {},
   "source": [
    "concatenate fonksiyonu, aynı boyuttaki eksenler boyunca dizileri birleştirir. Diziler, belirtilen eksen boyunca birleştirilebilir."
   ]
  },
  {
   "cell_type": "code",
   "execution_count": 2,
   "id": "f074b0da",
   "metadata": {},
   "outputs": [
    {
     "name": "stdout",
     "output_type": "stream",
     "text": [
      "[[1 2]\n",
      " [3 4]\n",
      " [5 6]]\n"
     ]
    }
   ],
   "source": [
    "import numpy as np\n",
    "a=np.array([[1,2],[3,4]])\n",
    "b=np.array([[5,6]])\n",
    "result=np.concatenate((a,b))\n",
    "print(result)"
   ]
  },
  {
   "cell_type": "code",
   "execution_count": 5,
   "id": "6c0d494d",
   "metadata": {},
   "outputs": [
    {
     "ename": "ValueError",
     "evalue": "all the input array dimensions for the concatenation axis must match exactly, but along dimension 0, the array at index 0 has size 2 and the array at index 1 has size 1",
     "output_type": "error",
     "traceback": [
      "\u001b[1;31m---------------------------------------------------------------------------\u001b[0m",
      "\u001b[1;31mValueError\u001b[0m                                Traceback (most recent call last)",
      "\u001b[1;32m~\\AppData\\Local\\Temp\\ipykernel_10496\\2065981761.py\u001b[0m in \u001b[0;36m<module>\u001b[1;34m\u001b[0m\n\u001b[1;32m----> 1\u001b[1;33m \u001b[0mresult1\u001b[0m\u001b[1;33m=\u001b[0m\u001b[0mnp\u001b[0m\u001b[1;33m.\u001b[0m\u001b[0mconcatenate\u001b[0m\u001b[1;33m(\u001b[0m\u001b[1;33m(\u001b[0m\u001b[0ma\u001b[0m\u001b[1;33m,\u001b[0m\u001b[0mb\u001b[0m\u001b[1;33m)\u001b[0m\u001b[1;33m,\u001b[0m\u001b[0maxis\u001b[0m\u001b[1;33m=\u001b[0m\u001b[1;36m1\u001b[0m\u001b[1;33m)\u001b[0m\u001b[1;33m\u001b[0m\u001b[1;33m\u001b[0m\u001b[0m\n\u001b[0m\u001b[0;32m      2\u001b[0m \u001b[1;31m#gördüğünüz gibi boyutları yanyana birleştirmek\u001b[0m\u001b[1;33m\u001b[0m\u001b[1;33m\u001b[0m\u001b[0m\n\u001b[0;32m      3\u001b[0m \u001b[1;31m#için uygun değil bu yüzden hata verdi bu tarz boyutların\u001b[0m\u001b[1;33m\u001b[0m\u001b[1;33m\u001b[0m\u001b[0m\n\u001b[0;32m      4\u001b[0m \u001b[1;31m#uygun olmadığı durumlar için vstack ve hstack gibi\u001b[0m\u001b[1;33m\u001b[0m\u001b[1;33m\u001b[0m\u001b[0m\n\u001b[0;32m      5\u001b[0m \u001b[1;31m#metodlar kullanılarak bu sorunun üstesinden gelinir\u001b[0m\u001b[1;33m\u001b[0m\u001b[1;33m\u001b[0m\u001b[0m\n",
      "\u001b[1;32m<__array_function__ internals>\u001b[0m in \u001b[0;36mconcatenate\u001b[1;34m(*args, **kwargs)\u001b[0m\n",
      "\u001b[1;31mValueError\u001b[0m: all the input array dimensions for the concatenation axis must match exactly, but along dimension 0, the array at index 0 has size 2 and the array at index 1 has size 1"
     ]
    }
   ],
   "source": [
    "result1=np.concatenate((a,b),axis=1)\n",
    "#gördüğünüz gibi boyutları yanyana birleştirmek \n",
    "#için uygun değil bu yüzden hata verdi bu tarz boyutların \n",
    "#uygun olmadığı durumlar için vstack ve hstack gibi \n",
    "#metodlar kullanılarak bu sorunun üstesinden gelinir"
   ]
  },
  {
   "cell_type": "markdown",
   "id": "e01876f2",
   "metadata": {},
   "source": [
    "### 2. numpy.vstack() ile Dikey Birleştirme\n",
    "vstack, farklı boyutlu dizileri dikey olarak birleştirir. Dizilerin sütun sayısı aynı olmalıdır."
   ]
  },
  {
   "cell_type": "code",
   "execution_count": 8,
   "id": "c9f6aa42",
   "metadata": {},
   "outputs": [
    {
     "name": "stdout",
     "output_type": "stream",
     "text": [
      "[[1 2]\n",
      " [3 4]\n",
      " [5 6]]\n"
     ]
    }
   ],
   "source": [
    "a = np.array([[1, 2], [3, 4]])\n",
    "b = np.array([5, 6])\n",
    "result = np.vstack((a, b))\n",
    "print(result)"
   ]
  },
  {
   "cell_type": "markdown",
   "id": "c4462f2a",
   "metadata": {},
   "source": [
    "### 3. numpy.hstack() ile Yatay Birleştirme\n",
    "hstack, farklı boyutlu dizileri yatay olarak birleştirir. Dizilerin satır sayısı aynı olmalıdır.\n"
   ]
  },
  {
   "cell_type": "code",
   "execution_count": 7,
   "id": "c1137db4",
   "metadata": {},
   "outputs": [
    {
     "name": "stdout",
     "output_type": "stream",
     "text": [
      "[[1 2]\n",
      " [3 4]]\n"
     ]
    }
   ],
   "source": [
    "a = np.array([[1], [3]])\n",
    "b = np.array([[2], [4]])\n",
    "result = np.hstack((a, b))  # Yatay birleştirme\n",
    "print(result)"
   ]
  },
  {
   "cell_type": "markdown",
   "id": "aacdc27a",
   "metadata": {},
   "source": [
    "### 4. numpy.expand_dims() ile Boyut Ekleyerek Birleştirme\n",
    "Farklı boyutlu dizileri birleştirmek için önce bir dizinin boyutunu genişletebilirsiniz. Bu, uyumsuz boyutlu dizileri uyumlu hale getirmek için kullanılır."
   ]
  },
  {
   "cell_type": "code",
   "execution_count": 9,
   "id": "26ede651",
   "metadata": {},
   "outputs": [
    {
     "name": "stdout",
     "output_type": "stream",
     "text": [
      "[[1 4]\n",
      " [2 5]\n",
      " [3 6]]\n"
     ]
    }
   ],
   "source": [
    "a = np.array([1, 2, 3])\n",
    "b = np.array([[4], [5], [6]])\n",
    "array1=np.expand_dims(a,axis=1)\n",
    "result=np.hstack((array1,b))\n",
    "print(result)"
   ]
  },
  {
   "cell_type": "markdown",
   "id": "e28444ca",
   "metadata": {},
   "source": [
    "### 5. numpy.stack() ile Yeni Bir Eksen Ekleyerek Birleştirme\n",
    "stack, dizileri yeni bir eksende birleştirir. Bu, dizilere ek boyut ekler."
   ]
  },
  {
   "cell_type": "code",
   "execution_count": 10,
   "id": "02ac475e",
   "metadata": {},
   "outputs": [
    {
     "name": "stdout",
     "output_type": "stream",
     "text": [
      "[[1 4]\n",
      " [2 5]\n",
      " [3 6]]\n"
     ]
    }
   ],
   "source": [
    "a=np.array([1,2,3])\n",
    "b=np.array([4,5,6])\n",
    "result=np.stack((a,b),axis=1)\n",
    "print(result)"
   ]
  },
  {
   "cell_type": "code",
   "execution_count": null,
   "id": "ddc034ae",
   "metadata": {},
   "outputs": [],
   "source": []
  }
 ],
 "metadata": {
  "kernelspec": {
   "display_name": "Python 3 (ipykernel)",
   "language": "python",
   "name": "python3"
  },
  "language_info": {
   "codemirror_mode": {
    "name": "ipython",
    "version": 3
   },
   "file_extension": ".py",
   "mimetype": "text/x-python",
   "name": "python",
   "nbconvert_exporter": "python",
   "pygments_lexer": "ipython3",
   "version": "3.9.13"
  }
 },
 "nbformat": 4,
 "nbformat_minor": 5
}
