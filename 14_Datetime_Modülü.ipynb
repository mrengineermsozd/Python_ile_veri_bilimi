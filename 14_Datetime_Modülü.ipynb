{
 "cells": [
  {
   "cell_type": "markdown",
   "id": "7b60150a",
   "metadata": {},
   "source": [
    "# Datetime Modülü"
   ]
  },
  {
   "cell_type": "markdown",
   "id": "544f35b2",
   "metadata": {},
   "source": [
    "Datetime modülü, Python'da tarih ve saat bilgilerini işlemeyi sağlayan önemli bir kütüphanedir. Tarih ve saatle ilgili çeşitli işlemleri yapabilmek için kullanılır. datetime, tarih ve saatleri oluşturmak, karşılaştırmak, biçimlendirmek ve hesaplamalar yapmak için birçok farklı sınıf sunar. "
   ]
  },
  {
   "cell_type": "markdown",
   "id": "f3bd68f1",
   "metadata": {},
   "source": [
    "Datetime modülü kullanarak metin formatındaki bir veriyi tarih-zaman nesnesine dönüştürebiliriz. Bunun için .strptimee() metodunu kullanabiliriz"
   ]
  },
  {
   "cell_type": "markdown",
   "id": "e37d3d97",
   "metadata": {},
   "source": [
    "#### Bazı yaygın strftime formatları:\n",
    "\n",
    "### %d:\n",
    "Gün (01-31)\n",
    "### %m: \n",
    "Ay (01-12)\n",
    "### %Y: \n",
    "Yıl (4 basamaklı)\n",
    "### %H:\n",
    "Saat (24 saatlik dilim)\n",
    "### %M:\n",
    "Dakika\n",
    "### %S:\n",
    "Saniye"
   ]
  },
  {
   "cell_type": "code",
   "execution_count": 8,
   "id": "409bc601",
   "metadata": {},
   "outputs": [
    {
     "name": "stdout",
     "output_type": "stream",
     "text": [
      "<class 'datetime.datetime'>\n"
     ]
    }
   ],
   "source": [
    "from datetime import datetime as dt\n",
    "tarih=\"05/10/2024 14:30:45\"\n",
    "\n",
    "#ilk paramete= dönüştürülecek metin\n",
    "#ikinci parametre=dönüştürülecek format\n",
    "tarih_dt=dt.strptime(tarih,\"%d/%m/%Y %H:%M:%S\")\n",
    "\n",
    "print(type(tarih_dt))"
   ]
  },
  {
   "cell_type": "code",
   "execution_count": 9,
   "id": "fdd1bf72",
   "metadata": {},
   "outputs": [
    {
     "name": "stdout",
     "output_type": "stream",
     "text": [
      "2024-10-05 14:30:45\n"
     ]
    }
   ],
   "source": [
    "print(tarih_dt)"
   ]
  },
  {
   "cell_type": "markdown",
   "id": "648933ac",
   "metadata": {},
   "source": [
    "strptime() ile Tarih ve Saati Dize’den (string) Tarih Nesnesine Dönüştürme"
   ]
  },
  {
   "cell_type": "markdown",
   "id": "43438ff6",
   "metadata": {},
   "source": [
    "###  strftime() ile Tarihi Biçimlendirme\n",
    "strftime() metodu, tarih ve saati belirli bir biçime dönüştürmek için kullanılır."
   ]
  },
  {
   "cell_type": "code",
   "execution_count": 16,
   "id": "54ac6788",
   "metadata": {},
   "outputs": [
    {
     "name": "stdout",
     "output_type": "stream",
     "text": [
      "13/11/2024 13:07:46\n",
      "<class 'str'>\n"
     ]
    }
   ],
   "source": [
    "import datetime\n",
    "simdi=datetime.datetime.now()\n",
    "formatli_tarih=simdi.strftime(\"%d/%m/%Y %H:%M:%S\")\n",
    "print(formatli_tarih)\n",
    "print(type(formatli_tarih))"
   ]
  },
  {
   "cell_type": "code",
   "execution_count": 18,
   "id": "405dea4d",
   "metadata": {},
   "outputs": [
    {
     "name": "stdout",
     "output_type": "stream",
     "text": [
      "2024-11-13 00:00:00\n",
      "2024-11-13 00:00:00\n",
      "2024-11-13 00:00:00\n"
     ]
    }
   ],
   "source": [
    "tarih_liste=['13.11.2024','13.11.2024','13.11.2024']\n",
    "from datetime import datetime as dt\n",
    "for tarih in tarih_liste:\n",
    "    tarih_dt=dt.strptime(tarih,'%d.%m.%Y')\n",
    "    print(tarih_dt)"
   ]
  },
  {
   "cell_type": "code",
   "execution_count": 20,
   "id": "15a9e445",
   "metadata": {},
   "outputs": [
    {
     "name": "stdout",
     "output_type": "stream",
     "text": [
      "[datetime.datetime(2024, 11, 13, 0, 0), datetime.datetime(2024, 11, 13, 0, 0), datetime.datetime(2024, 11, 13, 0, 0)]\n"
     ]
    }
   ],
   "source": [
    "tarih_dt=[]\n",
    "for tarih in tarih_liste:\n",
    "    tarih_dt.append(dt.strptime(tarih,'%d.%m.%Y'))\n",
    "print(tarih_dt)"
   ]
  },
  {
   "cell_type": "markdown",
   "id": "c0cb13eb",
   "metadata": {},
   "source": [
    "# .isoformat() metodu"
   ]
  },
  {
   "cell_type": "markdown",
   "id": "428c35ba",
   "metadata": {},
   "source": [
    "datetime ve date nesnelerini ISO 8601 formatında (uluslararası standart bir tarih ve zaman biçimi) bir dizeye dönüştürmek için kullanılır. ISO 8601, \"YYYY-MM-DD\" formatında tarihleri ve \"HH:MM\" formatında saatleri ifade eder."
   ]
  },
  {
   "cell_type": "markdown",
   "id": "cc957ec8",
   "metadata": {},
   "source": [
    "### Kullanım:\n",
    "#### date nesneleri için: \n",
    "\"YYYY-MM-DD\"\n",
    "#### datetime nesneleri için: \n",
    "\"YYYY-MM-DDTHH:MM"
   ]
  },
  {
   "cell_type": "code",
   "execution_count": 21,
   "id": "a4b03f4f",
   "metadata": {},
   "outputs": [
    {
     "name": "stdout",
     "output_type": "stream",
     "text": [
      "2024-11-13\n"
     ]
    }
   ],
   "source": [
    "import datetime\n",
    "bugun=datetime.date.today()\n",
    "iso_format=bugun.isoformat()\n",
    "print(iso_format)"
   ]
  },
  {
   "cell_type": "code",
   "execution_count": 22,
   "id": "84e40ac7",
   "metadata": {},
   "outputs": [
    {
     "name": "stdout",
     "output_type": "stream",
     "text": [
      "2024-11-13T13:16:18.963660\n"
     ]
    }
   ],
   "source": [
    "import datetime\n",
    "simdi=datetime.datetime.now()\n",
    "iso_format=simdi.isoformat()\n",
    "print(iso_format)"
   ]
  },
  {
   "cell_type": "markdown",
   "id": "67523b07",
   "metadata": {},
   "source": [
    "# .utcnow metodu"
   ]
  },
  {
   "cell_type": "markdown",
   "id": "5ba9c760",
   "metadata": {},
   "source": [
    "\n",
    ".utcnow() metodu, koordinatlı evrensel zaman (UTC) cinsinden şu anki tarih ve zamanı döndüren bir datetime metodudur. UTC, dünya genelinde zaman standartlarını ifade eden ve farklı saat dilimlerinden bağımsız olarak kullanılan bir zaman standardıdır.\n",
    "\n"
   ]
  },
  {
   "cell_type": "markdown",
   "id": "3bda5ee0",
   "metadata": {},
   "source": [
    ".utcnow() ile elde edilen sonuç, UTC'ye göre hesaplanmış ve bir datetime nesnesi olarak döner. Zaman dilimi bilgisi içermez (yani \"naive\" bir datetime nesnesidir)."
   ]
  },
  {
   "cell_type": "code",
   "execution_count": 23,
   "id": "d73d5bc6",
   "metadata": {},
   "outputs": [
    {
     "name": "stdout",
     "output_type": "stream",
     "text": [
      "2024-11-13 10:18:19.480783\n"
     ]
    }
   ],
   "source": [
    "import datetime\n",
    "utc_zamani = datetime.datetime.utcnow()\n",
    "print(utc_zamani)"
   ]
  },
  {
   "cell_type": "markdown",
   "id": "3ff3a7a6",
   "metadata": {},
   "source": [
    "# timedelta  modülü"
   ]
  },
  {
   "cell_type": "markdown",
   "id": "591e5ad1",
   "metadata": {},
   "source": [
    "timedelta modülü, Python'daki datetime kütüphanesinin bir parçasıdır ve iki tarih veya zaman arasındaki farkı temsil etmek için kullanılır. Ayrıca, belirli bir zaman dilimini ekleyebilir veya çıkarabilirsiniz. timedelta, gün, saniye, milisaniye gibi zaman birimlerini ifade eder ve zaman aralıklarını yönetmek için oldukça faydalıdır."
   ]
  },
  {
   "cell_type": "markdown",
   "id": "49fdca6a",
   "metadata": {},
   "source": [
    "# timedelta Parametreleri:\n",
    "timedelta nesnesini oluştururken şu parametreler kullanılabilir:\n",
    "\n",
    "### days: \n",
    "Gün cinsinden zaman farkı (varsayılan 0).\n",
    "### seconds: \n",
    "Saniye cinsinden zaman farkı (varsayılan 0).\n",
    "### microseconds: \n",
    "Mikro saniye cinsinden zaman farkı (varsayılan 0).\n",
    "### milliseconds: \n",
    "Milisaniye cinsinden zaman farkı (varsayılan 0).\n",
    "### minutes:\n",
    "Dakika cinsinden zaman farkı (varsayılan 0).\n",
    "### hours:\n",
    "Saat cinsinden zaman farkı (varsayılan 0).\n",
    "### weeks: \n",
    "Hafta cinsinden zaman farkı (varsayılan 0).\n",
    "Bu parametreler bir arada kullanılabilir ve toplam süreyi temsil eder."
   ]
  },
  {
   "cell_type": "markdown",
   "id": "48f6ed75",
   "metadata": {},
   "source": [
    "### 1. Zaman Farkı Hesaplama:"
   ]
  },
  {
   "cell_type": "code",
   "execution_count": 25,
   "id": "265d3880",
   "metadata": {},
   "outputs": [
    {
     "name": "stdout",
     "output_type": "stream",
     "text": [
      "Zaman Farkı: 4 days, 0:00:00\n"
     ]
    }
   ],
   "source": [
    "from datetime import datetime,timedelta\n",
    "ilk_tarih=datetime(2024,10,1)\n",
    "ikinci_tarih=datetime(2024,10,5)\n",
    "fark=ikinci_tarih-ilk_tarih\n",
    "print(f\"Zaman Farkı: {fark}\")"
   ]
  },
  {
   "cell_type": "markdown",
   "id": "52f64806",
   "metadata": {},
   "source": [
    "### 2. Zaman Ekleme ve Çıkarma:"
   ]
  },
  {
   "cell_type": "code",
   "execution_count": 26,
   "id": "54a9e6a3",
   "metadata": {},
   "outputs": [
    {
     "name": "stdout",
     "output_type": "stream",
     "text": [
      "5 gün sonra:2024-11-18 13:25:36.171450\n",
      "2 saat önce: 2024-11-13 11:25:36.171450\n"
     ]
    }
   ],
   "source": [
    "from datetime import datetime,timedelta\n",
    "simdi=datetime.now()\n",
    "gelecek_zaman=simdi+timedelta(days=5)\n",
    "print(f\"5 gün sonra:{gelecek_zaman}\")\n",
    "gecmis_zaman=simdi-timedelta(hours=2)\n",
    "print(f\"2 saat önce: {gecmis_zaman}\")"
   ]
  },
  {
   "cell_type": "code",
   "execution_count": 27,
   "id": "3b578293",
   "metadata": {},
   "outputs": [
    {
     "name": "stdout",
     "output_type": "stream",
     "text": [
      "Geçmiş:2024-08-05 13:27:37.491041\n",
      "Gelecek:2025-02-21 13:27:37.491041\n"
     ]
    }
   ],
   "source": [
    "from datetime import timedelta\n",
    "from datetime import datetime as dt\n",
    "bugun=dt.now()\n",
    "fark=timedelta(days=100)\n",
    "gecmis=bugun-fark\n",
    "gelecek=bugun+fark\n",
    "print('Geçmiş:'+str(gecmis)+'\\nGelecek:'+str(gelecek))\n"
   ]
  },
  {
   "cell_type": "code",
   "execution_count": 28,
   "id": "ca9c117b",
   "metadata": {},
   "outputs": [
    {
     "name": "stdout",
     "output_type": "stream",
     "text": [
      "200 days, 0:00:00\n"
     ]
    }
   ],
   "source": [
    "print(gelecek-gecmis)"
   ]
  },
  {
   "cell_type": "markdown",
   "id": "e272ba25",
   "metadata": {},
   "source": [
    "# pytz-timezone modülü"
   ]
  },
  {
   "cell_type": "markdown",
   "id": "de99d843",
   "metadata": {},
   "source": [
    "\n",
    "pytz modülü, Python'da zaman dilimlerini yönetmek ve tarihler ile saatler üzerinde doğru ve hassas işlemler yapabilmek için kullanılır. Python'un datetime kütüphanesi ile birlikte çalışır ve dünya genelindeki zaman dilimlerini ele almayı sağlar."
   ]
  },
  {
   "cell_type": "markdown",
   "id": "af46486d",
   "metadata": {},
   "source": [
    "pytz modülünün kullanımı:\n",
    "Zaman dilimlerini ayarlama ve değiştirme.\n",
    "Zaman dilimleri arasında dönüştürme.\n",
    "UTC zamanını yerel zaman dilimine çevirme.\n",
    "Yerel zaman dilimi ile birlikte tarih ve saat işlemleri yapma."
   ]
  },
  {
   "cell_type": "code",
   "execution_count": 29,
   "id": "7e1269cd",
   "metadata": {},
   "outputs": [
    {
     "name": "stdout",
     "output_type": "stream",
     "text": [
      "Requirement already satisfied: pytz in c:\\users\\asus\\anaconda3\\lib\\site-packages (2022.1)\n",
      "Note: you may need to restart the kernel to use updated packages.\n"
     ]
    }
   ],
   "source": [
    "pip install pytz"
   ]
  },
  {
   "cell_type": "markdown",
   "id": "2b0ad936",
   "metadata": {},
   "source": [
    "# Temel Kullanım Örnekleri:\n",
    "## 1. Belirli bir zaman dilimi ile saat almak:\n",
    "Bir zaman dilimine ait şu anki zamanı almak için pytz kullanabilirsiniz."
   ]
  },
  {
   "cell_type": "code",
   "execution_count": 30,
   "id": "cee10fea",
   "metadata": {},
   "outputs": [
    {
     "name": "stdout",
     "output_type": "stream",
     "text": [
      "Istanbul Zamanı: 2024-11-13 13:39:09.898690+03:00\n"
     ]
    }
   ],
   "source": [
    "from datetime import datetime\n",
    "import pytz\n",
    "\n",
    "istanbul = pytz.timezone('Europe/Istanbul')\n",
    "simdi = datetime.now(istanbul)\n",
    "\n",
    "print(f\"Istanbul Zamanı: {simdi}\")"
   ]
  },
  {
   "cell_type": "markdown",
   "id": "46e6b981",
   "metadata": {},
   "source": [
    "## 2. UTC zamanını yerel zaman dilimine çevirmek:\n",
    "Dünyanın farklı bölgelerindeki yerel zamanları UTC zamanına veya UTC zamanını yerel zamana çevirebilirsiniz. "
   ]
  },
  {
   "cell_type": "code",
   "execution_count": 31,
   "id": "fd6b375b",
   "metadata": {},
   "outputs": [
    {
     "name": "stdout",
     "output_type": "stream",
     "text": [
      "UTC Zamanı: 2024-11-13 10:39:47.316894+00:00\n",
      "New York Zamanı: 2024-11-13 05:39:47.316894-05:00\n"
     ]
    }
   ],
   "source": [
    "from datetime import datetime\n",
    "import pytz\n",
    "\n",
    "\n",
    "utc_simdi = datetime.now(pytz.utc)\n",
    "print(f\"UTC Zamanı: {utc_simdi}\")\n",
    "new_york = pytz.timezone('America/New_York')\n",
    "new_york_zamani = utc_simdi.astimezone(new_york)\n",
    "\n",
    "print(f\"New York Zamanı: {new_york_zamani}\")"
   ]
  },
  {
   "cell_type": "markdown",
   "id": "d3e8bc60",
   "metadata": {},
   "source": [
    "## 3. Zaman dilimi farkları:\n",
    "İki farklı zaman dilimi arasındaki farkı hesaplamak için pytz kullanılabilir."
   ]
  },
  {
   "cell_type": "code",
   "execution_count": 47,
   "id": "4ff41121",
   "metadata": {},
   "outputs": [
    {
     "name": "stdout",
     "output_type": "stream",
     "text": [
      "Londra zamanı:2024-11-13 10:47:58.389333+00:00\n",
      "İstanbul zamanı:2024-11-13 13:47:58.389333+03:00\n",
      "saat farkı:0.0\n"
     ]
    }
   ],
   "source": [
    "from datetime import datetime\n",
    "import pytz\n",
    "\n",
    "london=pytz.timezone('Europe/London')\n",
    "istanbul=pytz.timezone('Europe/Istanbul')\n",
    "\n",
    "london_time=datetime.now(london)\n",
    "istanbul_time=datetime.now(istanbul)\n",
    "fark=istanbul_time-london_time\n",
    "saat_farki = fark.total_seconds() / 3600\n",
    "\n",
    "print(f\"Londra zamanı:{london_time}\")\n",
    "print(f\"İstanbul zamanı:{istanbul_time}\")\n",
    "print(f\"saat farkı:{saat_farki}\")"
   ]
  },
  {
   "cell_type": "code",
   "execution_count": null,
   "id": "a2434def",
   "metadata": {},
   "outputs": [],
   "source": []
  }
 ],
 "metadata": {
  "kernelspec": {
   "display_name": "Python 3 (ipykernel)",
   "language": "python",
   "name": "python3"
  },
  "language_info": {
   "codemirror_mode": {
    "name": "ipython",
    "version": 3
   },
   "file_extension": ".py",
   "mimetype": "text/x-python",
   "name": "python",
   "nbconvert_exporter": "python",
   "pygments_lexer": "ipython3",
   "version": "3.9.13"
  }
 },
 "nbformat": 4,
 "nbformat_minor": 5
}
