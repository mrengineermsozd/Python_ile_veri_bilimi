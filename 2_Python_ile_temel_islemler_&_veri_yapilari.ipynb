{
 "cells": [
  {
   "cell_type": "markdown",
   "id": "530a814a",
   "metadata": {},
   "source": [
    "# Free Python ınterpreters"
   ]
  },
  {
   "cell_type": "markdown",
   "id": "c13cf26d",
   "metadata": {},
   "source": [
    "1) Google Colab: https://colab.research.google.com/?hl=tr"
   ]
  },
  {
   "cell_type": "markdown",
   "id": "496d1040",
   "metadata": {},
   "source": [
    "2) https://www.pythonanywhere.com/"
   ]
  },
  {
   "cell_type": "markdown",
   "id": "056df034",
   "metadata": {},
   "source": [
    "3) https://www.online-python.com/\n"
   ]
  },
  {
   "cell_type": "markdown",
   "id": "6caf4e74",
   "metadata": {},
   "source": [
    "4) https://www.programiz.com/python-programming/online-compiler/"
   ]
  },
  {
   "cell_type": "markdown",
   "id": "90a789e4",
   "metadata": {},
   "source": [
    "5)https://www.w3schools.com/Python/python_compiler.asp"
   ]
  },
  {
   "cell_type": "markdown",
   "id": "9416c293",
   "metadata": {},
   "source": [
    "# Free Python IDE's"
   ]
  },
  {
   "cell_type": "markdown",
   "id": "d9de422e",
   "metadata": {},
   "source": [
    "## 1) PyCharm (Community Edition)"
   ]
  },
  {
   "cell_type": "markdown",
   "id": "34f2881c",
   "metadata": {},
   "source": [
    "JetBrains tarafından sunulan PyCharm, Python geliştirme için popüler bir IDE'dir. Community Edition, ücretsiz ve açık kaynaklıdır. https://www.jetbrains.com/pycharm/download/?section=windows"
   ]
  },
  {
   "cell_type": "markdown",
   "id": "f5b4232f",
   "metadata": {},
   "source": [
    "## 2)Visual Studio Code (VS Code) "
   ]
  },
  {
   "cell_type": "markdown",
   "id": "cef33257",
   "metadata": {},
   "source": [
    "Microsoft tarafından geliştirilen VS Code, çok yönlü bir editördür ve Python eklentisi ile güçlü bir Python IDE'ye dönüşebilir.\n",
    "https://code.visualstudio.com/"
   ]
  },
  {
   "cell_type": "markdown",
   "id": "43344ea7",
   "metadata": {},
   "source": [
    "## 3)Spyder"
   ]
  },
  {
   "cell_type": "markdown",
   "id": "cc8a59ed",
   "metadata": {},
   "source": [
    "Spyder, özellikle veri bilimcileri ve mühendisler için optimize edilmiş, Python'a özel bir IDE'dir. NumPy, Pandas ve Matplotlib gibi kütüphanelerle entegre çalışır.\n",
    "https://www.spyder-ide.org/"
   ]
  },
  {
   "cell_type": "markdown",
   "id": "51aed643",
   "metadata": {},
   "source": [
    "## 4)Thonny"
   ]
  },
  {
   "cell_type": "markdown",
   "id": "f4a82577",
   "metadata": {},
   "source": [
    "Python öğrenmeye yeni başlayanlar için ideal olan Thonny, basit ve kullanımı kolay bir Python IDE'sidir.\n",
    "https://thonny.org/"
   ]
  },
  {
   "cell_type": "markdown",
   "id": "cc30ee52",
   "metadata": {},
   "source": [
    "## 5)Jupyter Notebook"
   ]
  },
  {
   "cell_type": "markdown",
   "id": "ff3747d0",
   "metadata": {},
   "source": [
    "Özellikle veri bilimi ve makine öğrenmesi projeleri için kullanılan Jupyter Notebook, kod ve metni aynı anda yürütmenizi sağlayan interaktif bir platformdur.\n",
    "https://jupyter.org/"
   ]
  },
  {
   "cell_type": "markdown",
   "id": "99cee720",
   "metadata": {},
   "source": [
    "Biz yapacağımız çalışmalarda genellikle Jupyter Notebook Ide'sini kullanacağız."
   ]
  },
  {
   "cell_type": "markdown",
   "id": "23c19450",
   "metadata": {},
   "source": [
    "# Temel İşlemler ve Değişkenler"
   ]
  },
  {
   "cell_type": "markdown",
   "id": "0eb043f5",
   "metadata": {},
   "source": [
    "### Python'da Açıklama Satırları # ve \"\"\" \"\"\" "
   ]
  },
  {
   "cell_type": "markdown",
   "id": "5af67b91",
   "metadata": {},
   "source": [
    "### Tek Satırlı Açıklamalar "
   ]
  },
  {
   "cell_type": "markdown",
   "id": "93b8a10a",
   "metadata": {},
   "source": [
    "Tek satırlık açıklamalar, # sembolü ile başlar ve satır sonuna kadar devam eder. Örneğin:"
   ]
  },
  {
   "cell_type": "code",
   "execution_count": 4,
   "id": "e02eef7a",
   "metadata": {},
   "outputs": [],
   "source": [
    "# Bu bir tek satırlık açıklamadır\n",
    "x = 5  # Bu satırdaki değeri açıklamak için de kullanılabilir"
   ]
  },
  {
   "cell_type": "markdown",
   "id": "ef9c10cf",
   "metadata": {},
   "source": [
    "### Çok Satırlı Açıklamalar"
   ]
  },
  {
   "cell_type": "markdown",
   "id": "36a87a57",
   "metadata": {},
   "source": [
    "Çok satırlı açıklamalar için Python'da resmi bir sembol olmasa da, yaygın yöntem, birden fazla # kullanmak veya birden fazla satırda docstring (\"\"\" veya ''') kullanmaktır."
   ]
  },
  {
   "cell_type": "code",
   "execution_count": 5,
   "id": "ed03872a",
   "metadata": {},
   "outputs": [],
   "source": [
    "# Bu birden fazla satır için\n",
    "# kullanılan açıklama şeklidir\n",
    "x = 10"
   ]
  },
  {
   "cell_type": "code",
   "execution_count": 6,
   "id": "ebbfcf0f",
   "metadata": {},
   "outputs": [],
   "source": [
    "\"\"\"\n",
    "Bu, çok satırlı bir açıklama olarak\n",
    "kullanılabilir. Herhangi bir kodda yer alabilir.\n",
    "\"\"\"\n",
    "y = 20"
   ]
  },
  {
   "cell_type": "code",
   "execution_count": 7,
   "id": "f7d1c5bb",
   "metadata": {},
   "outputs": [],
   "source": [
    "'''\n",
    "Bu, çok satırlı bir açıklama olarak\n",
    "kullanılabilir. Herhangi bir kodda yer alabilir.\n",
    "'''\n",
    "z=10"
   ]
  },
  {
   "cell_type": "markdown",
   "id": "be2a6884",
   "metadata": {},
   "source": [
    "### Print Fonksiyonu "
   ]
  },
  {
   "cell_type": "markdown",
   "id": "be081cca",
   "metadata": {},
   "source": [
    "Python'da print() fonksiyonu, ekrana çıktılar yazdırmak için kullanılır. Bu fonksiyon, bir veya daha fazla argümanı ekrana bastırabilir ve farklı türdeki verileri (sayılar, diziler, değişkenler, vb.) yazdırmak için oldukça esnektir."
   ]
  },
  {
   "cell_type": "markdown",
   "id": "f934343c",
   "metadata": {},
   "source": [
    "En basit haliyle, bir metni ekrana yazdırmak için print() fonksiyonunu şu şekilde kullanabilirsiniz:"
   ]
  },
  {
   "cell_type": "code",
   "execution_count": 8,
   "id": "4512a540",
   "metadata": {},
   "outputs": [
    {
     "name": "stdout",
     "output_type": "stream",
     "text": [
      "Merhaba Dünya\n"
     ]
    }
   ],
   "source": [
    "print(\"Merhaba Dünya\")"
   ]
  },
  {
   "cell_type": "markdown",
   "id": "61aac779",
   "metadata": {},
   "source": [
    "Değişkenlerin içindeki değerleri ekrana yazdırmak için de kullanılır."
   ]
  },
  {
   "cell_type": "code",
   "execution_count": 9,
   "id": "59507760",
   "metadata": {},
   "outputs": [
    {
     "name": "stdout",
     "output_type": "stream",
     "text": [
      "10 20\n"
     ]
    }
   ],
   "source": [
    "x = 10\n",
    "y = 20\n",
    "print(x, y)"
   ]
  },
  {
   "cell_type": "markdown",
   "id": "b5508962",
   "metadata": {},
   "source": [
    "Farklı veri türlerini yazdırabilirsiniz:"
   ]
  },
  {
   "cell_type": "code",
   "execution_count": 10,
   "id": "b80ac873",
   "metadata": {},
   "outputs": [
    {
     "name": "stdout",
     "output_type": "stream",
     "text": [
      "5\n",
      "3.14\n",
      "True\n",
      "[1, 2, 3]\n"
     ]
    }
   ],
   "source": [
    "print(5)              # Sayı\n",
    "print(3.14)           # Ondalık sayı\n",
    "print(True)           # Boolean\n",
    "print([1, 2, 3])      # Liste"
   ]
  },
  {
   "cell_type": "markdown",
   "id": "0a026d20",
   "metadata": {},
   "source": [
    "Birden fazla değeri virgülle ayırarak aynı print() fonksiyonunda yazdırabilirsiniz."
   ]
  },
  {
   "cell_type": "code",
   "execution_count": 11,
   "id": "a27c6c4c",
   "metadata": {},
   "outputs": [
    {
     "name": "stdout",
     "output_type": "stream",
     "text": [
      "İsim: Serhat Yaş: 25\n"
     ]
    }
   ],
   "source": [
    "isim = \"Serhat\"\n",
    "yas = 25\n",
    "print(\"İsim:\", isim, \"Yaş:\", yas)"
   ]
  },
  {
   "cell_type": "markdown",
   "id": "5524dabe",
   "metadata": {},
   "source": [
    "print(object(x),sep, end, file, flush)"
   ]
  },
  {
   "cell_type": "markdown",
   "id": "bd4d8747",
   "metadata": {},
   "source": [
    "####  Sep Parametresi"
   ]
  },
  {
   "cell_type": "markdown",
   "id": "b4246a95",
   "metadata": {},
   "source": [
    "print() fonksiyonunda 5 farklı parametre bulunur ilki object zaten her zaman kullanılan yazdırılacak metindir. İkincisi ise  Sep parametresidir. Birden fazla değerin arasına koyulacak ayırıcıyı sep parametresi ile belirleyebilirsiniz. Varsayılan olarak bir boşluk karakteri kullanılır."
   ]
  },
  {
   "cell_type": "code",
   "execution_count": 13,
   "id": "17148c4a",
   "metadata": {},
   "outputs": [
    {
     "name": "stdout",
     "output_type": "stream",
     "text": [
      "Python, Java, C++\n"
     ]
    }
   ],
   "source": [
    "print(\"Python\", \"Java\", \"C++\", sep=\", \")"
   ]
  },
  {
   "cell_type": "markdown",
   "id": "5173c6b5",
   "metadata": {},
   "source": [
    "Bu Örnektede görüldüğü üzere yazdırılan programlama dilleri sep parametresi olarak belirlenen virgül ile ayrılmıştır."
   ]
  },
  {
   "cell_type": "markdown",
   "id": "9975a5d9",
   "metadata": {},
   "source": [
    "#### End Parametresi "
   ]
  },
  {
   "cell_type": "markdown",
   "id": "6808b90e",
   "metadata": {},
   "source": [
    "Varsayılan olarak print() fonksiyonu her satırın sonunda bir yeni satır (\\n) ekler. Bu davranışı değiştirmek için end parametresi kullanılabilir."
   ]
  },
  {
   "cell_type": "code",
   "execution_count": 16,
   "id": "89be73f2",
   "metadata": {},
   "outputs": [
    {
     "name": "stdout",
     "output_type": "stream",
     "text": [
      "Merhaba Dünya\n"
     ]
    }
   ],
   "source": [
    "print(\"Merhaba\", end=\" \")\n",
    "print(\"Dünya\")"
   ]
  },
  {
   "cell_type": "markdown",
   "id": "db248211",
   "metadata": {},
   "source": [
    "#### File Parametresi  "
   ]
  },
  {
   "cell_type": "markdown",
   "id": "cc71c412",
   "metadata": {},
   "source": [
    "Normalde print() fonksiyonu çıktıyı ekrana verir, ancak file parametresi ile bir dosyaya yazdırma yapılabilir."
   ]
  },
  {
   "cell_type": "code",
   "execution_count": 18,
   "id": "e482a0a5",
   "metadata": {},
   "outputs": [],
   "source": [
    "with open(\"dosya.txt\", \"w\") as f:\n",
    "    print(\"Merhaba Dosya\", file=f)"
   ]
  },
  {
   "cell_type": "markdown",
   "id": "4f7a8830",
   "metadata": {},
   "source": [
    "#### Flush Parametresi "
   ]
  },
  {
   "cell_type": "markdown",
   "id": "4d6ec327",
   "metadata": {},
   "source": [
    "flush parametresi, Python'daki print() fonksiyonunda opsiyonel bir parametredir. Bu parametre, çıktının anında ekrana yazdırılması için kullanılır."
   ]
  },
  {
   "cell_type": "markdown",
   "id": "e624ed1b",
   "metadata": {},
   "source": [
    "Varsayılan olarak False'tur, yani buffer'da tutulur ve genellikle belirli aralıklarla ya da program tamamlandığında ekrana yazdırılır."
   ]
  },
  {
   "cell_type": "markdown",
   "id": "5f8b00c4",
   "metadata": {},
   "source": [
    "True: Çıktı hemen ekrana yazdırılır (buffer boşaltılır).\n",
    "False: Çıktı buffer'da tutulur ve gerektiğinde yazdırılır."
   ]
  },
  {
   "cell_type": "markdown",
   "id": "d0c47eb5",
   "metadata": {},
   "source": [
    "#### F-String ile Biçimlendirme "
   ]
  },
  {
   "cell_type": "markdown",
   "id": "15f16ce7",
   "metadata": {},
   "source": [
    "Python'da, f-string (formatlı string) kullanarak daha esnek yazdırma işlemleri yapabilirsiniz. F-string, değişkenleri doğrudan string içinde kullanmanızı sağlar."
   ]
  },
  {
   "cell_type": "code",
   "execution_count": 17,
   "id": "a8f688c5",
   "metadata": {},
   "outputs": [
    {
     "name": "stdout",
     "output_type": "stream",
     "text": [
      "İsim: Serhat, Yaş: 29\n"
     ]
    }
   ],
   "source": [
    "isim = \"Serhat\"\n",
    "yas = 29\n",
    "print(f\"İsim: {isim}, Yaş: {yas}\")"
   ]
  },
  {
   "cell_type": "markdown",
   "id": "d44216b0",
   "metadata": {},
   "source": [
    "### Pythonda main fonksiyonu tanımlamak gerekir mi?"
   ]
  },
  {
   "cell_type": "markdown",
   "id": "09506b16",
   "metadata": {},
   "source": [
    "Python'da main() fonksiyonu tanımlamak zorunlu değildir, ancak daha büyük ve modüler projelerde kodun düzenini ve okunabilirliğini artırmak için kullanılması yaygındır. Python, C veya Java gibi dillerdeki gibi zorunlu bir giriş noktası olan bir main() fonksiyonuna sahip değildir. Python'da bir dosya doğrudan çalıştırıldığında, üst düzeyde yazılan tüm kodlar çalıştırılır.\n",
    "\n",
    "Ancak, kodun belirli bir kısmının sadece dosya doğrudan çalıştırıldığında çalışmasını ve başka bir modülden içe aktarıldığında çalışmamasını sağlamak için genellikle aşağıdaki yapı kullanılır:\n",
    "\n",
    "if __name__ == \"__main__\":\n",
    "Python'da bir dosya çalıştırıldığında, o dosyanın __name__ değişkeni otomatik olarak \"__main__\" değerini alır. Bu koşul, dosyanın doğrudan çalıştırıldığını mı, yoksa başka bir dosya tarafından modül olarak mı kullanıldığını kontrol eder."
   ]
  },
  {
   "cell_type": "code",
   "execution_count": 19,
   "id": "e97d8230",
   "metadata": {},
   "outputs": [
    {
     "name": "stdout",
     "output_type": "stream",
     "text": [
      "Bu kod sadece doğrudan çalıştırıldığında çalışacak.\n"
     ]
    }
   ],
   "source": [
    "def main():\n",
    "    print(\"Bu kod sadece doğrudan çalıştırıldığında çalışacak.\")\n",
    "\n",
    "if __name__ == \"__main__\":\n",
    "    main()"
   ]
  },
  {
   "cell_type": "markdown",
   "id": "d5254945",
   "metadata": {},
   "source": [
    "Açıklama:\n",
    "main() fonksiyonu: Burada asıl kodun çalışacağı fonksiyon olarak tanımlanmıştır.\n",
    "if __name__ == \"__main__\":: Bu koşul, kodun yalnızca dosya doğrudan çalıştırıldığında çalışmasını sağlar. Eğer bu dosya başka bir modülde içe aktarılırsa, main() fonksiyonu çalıştırılmaz."
   ]
  },
  {
   "cell_type": "markdown",
   "id": "1a66c4a3",
   "metadata": {},
   "source": [
    "## Python'da aritmetik Operatörler "
   ]
  },
  {
   "cell_type": "markdown",
   "id": "6f880c78",
   "metadata": {},
   "source": [
    "Toplama (+)"
   ]
  },
  {
   "cell_type": "code",
   "execution_count": 20,
   "id": "2bae778d",
   "metadata": {},
   "outputs": [
    {
     "name": "stdout",
     "output_type": "stream",
     "text": [
      "8\n"
     ]
    }
   ],
   "source": [
    "a = 5\n",
    "b = 3\n",
    "sonuc = a + b\n",
    "print(sonuc) "
   ]
  },
  {
   "cell_type": "markdown",
   "id": "6fbe0542",
   "metadata": {},
   "source": [
    "Çıkarma (-)"
   ]
  },
  {
   "cell_type": "code",
   "execution_count": 21,
   "id": "80da08f5",
   "metadata": {},
   "outputs": [
    {
     "name": "stdout",
     "output_type": "stream",
     "text": [
      "6\n"
     ]
    }
   ],
   "source": [
    "a = 10\n",
    "b = 4\n",
    "sonuc = a - b\n",
    "print(sonuc)  # Çıktı: 6"
   ]
  },
  {
   "cell_type": "markdown",
   "id": "22e3ccce",
   "metadata": {},
   "source": [
    "Çarpma (*)"
   ]
  },
  {
   "cell_type": "code",
   "execution_count": 22,
   "id": "3bca0be6",
   "metadata": {},
   "outputs": [
    {
     "name": "stdout",
     "output_type": "stream",
     "text": [
      "42\n"
     ]
    }
   ],
   "source": [
    "a = 6\n",
    "b = 7\n",
    "sonuc = a * b\n",
    "print(sonuc)  # Çıktı: 42"
   ]
  },
  {
   "cell_type": "markdown",
   "id": "81519789",
   "metadata": {},
   "source": [
    "Bölme (/)\n",
    "Bir sayıyı diğerine böler. Sonuç daima bir float (ondalık sayı) olur."
   ]
  },
  {
   "cell_type": "code",
   "execution_count": 23,
   "id": "3f764b76",
   "metadata": {},
   "outputs": [
    {
     "name": "stdout",
     "output_type": "stream",
     "text": [
      "3.3333333333333335\n"
     ]
    }
   ],
   "source": [
    "a = 10\n",
    "b = 3\n",
    "sonuc = a / b\n",
    "print(sonuc)  # Çıktı: 3.3333333333333335"
   ]
  },
  {
   "cell_type": "markdown",
   "id": "25e29219",
   "metadata": {},
   "source": [
    "Tam Sayı Bölme (//)"
   ]
  },
  {
   "cell_type": "code",
   "execution_count": 24,
   "id": "03a1db1d",
   "metadata": {},
   "outputs": [
    {
     "name": "stdout",
     "output_type": "stream",
     "text": [
      "3\n"
     ]
    }
   ],
   "source": [
    "a = 10\n",
    "b = 3\n",
    "sonuc = a // b\n",
    "print(sonuc)  # Çıktı: 3"
   ]
  },
  {
   "cell_type": "markdown",
   "id": "b43f44ca",
   "metadata": {},
   "source": [
    "Modülüs (Kalan Bulma) (%)"
   ]
  },
  {
   "cell_type": "code",
   "execution_count": 25,
   "id": "8c861464",
   "metadata": {},
   "outputs": [
    {
     "name": "stdout",
     "output_type": "stream",
     "text": [
      "1\n"
     ]
    }
   ],
   "source": [
    "a = 10\n",
    "b = 3\n",
    "sonuc = a % b\n",
    "print(sonuc)  # Çıktı: 1"
   ]
  },
  {
   "cell_type": "markdown",
   "id": "f5ecda10",
   "metadata": {},
   "source": [
    "Üs Alma (**)"
   ]
  },
  {
   "cell_type": "code",
   "execution_count": 26,
   "id": "582c2f26",
   "metadata": {},
   "outputs": [
    {
     "name": "stdout",
     "output_type": "stream",
     "text": [
      "8\n"
     ]
    }
   ],
   "source": [
    "a = 2\n",
    "b = 3\n",
    "sonuc = a ** b\n",
    "print(sonuc)  # Çıktı: 8 (2^3)"
   ]
  },
  {
   "cell_type": "code",
   "execution_count": 27,
   "id": "584998e7",
   "metadata": {},
   "outputs": [
    {
     "name": "stdout",
     "output_type": "stream",
     "text": [
      "10 4 21 2.3333333333333335 2 1 343\n"
     ]
    }
   ],
   "source": [
    "a = 7\n",
    "b = 3\n",
    "\n",
    "toplama = a + b  \n",
    "cikarma = a - b  \n",
    "carpma = a * b   \n",
    "bolme = a / b    \n",
    "tam_bolme = a // b \n",
    "modulus = a % b  \n",
    "us_alma = a ** b \n",
    "\n",
    "print(toplama, cikarma, carpma, bolme, tam_bolme, modulus, us_alma)"
   ]
  },
  {
   "cell_type": "markdown",
   "id": "a7f00e85",
   "metadata": {},
   "source": [
    "## Python'da Karşılaştırma Operatörleri "
   ]
  },
  {
   "cell_type": "markdown",
   "id": "04d07d35",
   "metadata": {},
   "source": [
    "#### 1)Eşittir (==) "
   ]
  },
  {
   "cell_type": "code",
   "execution_count": 28,
   "id": "54621441",
   "metadata": {},
   "outputs": [
    {
     "name": "stdout",
     "output_type": "stream",
     "text": [
      "True\n"
     ]
    }
   ],
   "source": [
    "a=5\n",
    "b=5\n",
    "print(a==b)"
   ]
  },
  {
   "cell_type": "markdown",
   "id": "2270dcb1",
   "metadata": {},
   "source": [
    "#### 2)Eşit Değildir (!=) "
   ]
  },
  {
   "cell_type": "code",
   "execution_count": 29,
   "id": "25a070fc",
   "metadata": {},
   "outputs": [
    {
     "name": "stdout",
     "output_type": "stream",
     "text": [
      "True\n"
     ]
    }
   ],
   "source": [
    "a = 5\n",
    "b = 3\n",
    "print(a != b)  # Çıktı: True"
   ]
  },
  {
   "cell_type": "markdown",
   "id": "d5647b5c",
   "metadata": {},
   "source": [
    "#### 3) Büyüktür (>)"
   ]
  },
  {
   "cell_type": "code",
   "execution_count": 30,
   "id": "9c3ebd78",
   "metadata": {},
   "outputs": [
    {
     "name": "stdout",
     "output_type": "stream",
     "text": [
      "True\n"
     ]
    }
   ],
   "source": [
    "a = 7\n",
    "b = 5\n",
    "print(a > b)  # Çıktı: True"
   ]
  },
  {
   "cell_type": "markdown",
   "id": "36b2c403",
   "metadata": {},
   "source": [
    "#### 4)Küçüktür (<)  "
   ]
  },
  {
   "cell_type": "code",
   "execution_count": 31,
   "id": "ba5c6b87",
   "metadata": {},
   "outputs": [
    {
     "name": "stdout",
     "output_type": "stream",
     "text": [
      "True\n"
     ]
    }
   ],
   "source": [
    "a = 3\n",
    "b = 5\n",
    "print(a < b)  # Çıktı: True"
   ]
  },
  {
   "cell_type": "markdown",
   "id": "77e5dba0",
   "metadata": {},
   "source": [
    "#### 5)Büyük Eşittir (>=) "
   ]
  },
  {
   "cell_type": "code",
   "execution_count": 32,
   "id": "7cb3c1c6",
   "metadata": {},
   "outputs": [
    {
     "name": "stdout",
     "output_type": "stream",
     "text": [
      "True\n"
     ]
    }
   ],
   "source": [
    "a = 5\n",
    "b = 5\n",
    "print(a >= b)  # Çıktı: True"
   ]
  },
  {
   "cell_type": "markdown",
   "id": "2a83e0e2",
   "metadata": {},
   "source": [
    "#### 6)Küçük Eşittir (<=) "
   ]
  },
  {
   "cell_type": "code",
   "execution_count": 33,
   "id": "c1370b02",
   "metadata": {},
   "outputs": [
    {
     "name": "stdout",
     "output_type": "stream",
     "text": [
      "True\n"
     ]
    }
   ],
   "source": [
    "a = 3\n",
    "b = 5\n",
    "print(a <= b)  # Çıktı: True"
   ]
  },
  {
   "cell_type": "code",
   "execution_count": 34,
   "id": "a8ddc3fd",
   "metadata": {},
   "outputs": [
    {
     "name": "stdout",
     "output_type": "stream",
     "text": [
      "False\n",
      "True\n",
      "False\n",
      "True\n",
      "True\n",
      "True\n"
     ]
    }
   ],
   "source": [
    "a = 10\n",
    "b = 20\n",
    "\n",
    "print(a == b)  \n",
    "print(a != b)  \n",
    "print(a > b)   \n",
    "print(a < b)   \n",
    "print(a >= 10) \n",
    "print(b <= 30) "
   ]
  },
  {
   "cell_type": "markdown",
   "id": "82519083",
   "metadata": {},
   "source": [
    "# Mantıksal Operatörler"
   ]
  },
  {
   "cell_type": "markdown",
   "id": "f4c8a32a",
   "metadata": {},
   "source": [
    "Python'da mantıksal operatörler, ifadelerin doğruluk durumlarını (True veya False) kontrol etmek ve birden fazla koşulu birleştirmek için kullanılır. Bu operatörler, özellikle koşullu ifadelerde yaygın olarak kullanılır."
   ]
  },
  {
   "cell_type": "markdown",
   "id": "70448fe2",
   "metadata": {},
   "source": [
    "#### 1) and (ve) "
   ]
  },
  {
   "cell_type": "markdown",
   "id": "b7f88746",
   "metadata": {},
   "source": [
    "İki koşulun da True olması durumunda sonucu True döner, aksi takdirde False döner."
   ]
  },
  {
   "cell_type": "code",
   "execution_count": 37,
   "id": "e90acf86",
   "metadata": {},
   "outputs": [
    {
     "name": "stdout",
     "output_type": "stream",
     "text": [
      "True\n",
      "False\n"
     ]
    }
   ],
   "source": [
    "a = 5\n",
    "b = 10\n",
    "print(a > 3 and b > 8)  \n",
    "print(a > 3 and b < 8)  "
   ]
  },
  {
   "cell_type": "markdown",
   "id": "fb8217dc",
   "metadata": {},
   "source": [
    "#### 2) or (veya) "
   ]
  },
  {
   "cell_type": "markdown",
   "id": "3aa90580",
   "metadata": {},
   "source": [
    "Koşullardan biri True ise, sonuç True döner. Yalnızca her iki koşul da False ise False döner."
   ]
  },
  {
   "cell_type": "code",
   "execution_count": 38,
   "id": "1497c001",
   "metadata": {},
   "outputs": [
    {
     "name": "stdout",
     "output_type": "stream",
     "text": [
      "True\n",
      "False\n"
     ]
    }
   ],
   "source": [
    "a = 5\n",
    "b = 10\n",
    "print(a > 3 or b < 8) \n",
    "print(a < 3 or b < 8) "
   ]
  },
  {
   "cell_type": "markdown",
   "id": "e40699f6",
   "metadata": {},
   "source": [
    "#### 3) not (değil) "
   ]
  },
  {
   "cell_type": "markdown",
   "id": "8a71baed",
   "metadata": {},
   "source": [
    "Bir koşulun doğruluk değerini tersine çevirir. Yani, True olan bir koşulu False, False olanı ise True yapar."
   ]
  },
  {
   "cell_type": "code",
   "execution_count": 39,
   "id": "fd429af9",
   "metadata": {},
   "outputs": [
    {
     "name": "stdout",
     "output_type": "stream",
     "text": [
      "False\n",
      "True\n"
     ]
    }
   ],
   "source": [
    "a = 5\n",
    "print(not a > 3)  \n",
    "print(not a < 3)  "
   ]
  },
  {
   "cell_type": "code",
   "execution_count": 40,
   "id": "5106069c",
   "metadata": {},
   "outputs": [
    {
     "name": "stdout",
     "output_type": "stream",
     "text": [
      "True\n",
      "False\n",
      "True\n",
      "False\n",
      "True\n",
      "True\n"
     ]
    }
   ],
   "source": [
    "a = 5\n",
    "b = 10\n",
    "c = 3\n",
    "\n",
    "# 'and' operatörü\n",
    "print(a > 3 and b > 8)  \n",
    "print(a > 6 and b > 8)  \n",
    "\n",
    "# 'or' operatörü\n",
    "print(a > 6 or c < 4)   \n",
    "print(a > 6 or c > 4)  \n",
    "\n",
    "# 'not' operatörü\n",
    "print(not a > 6)     \n",
    "print(not b < 8)      "
   ]
  },
  {
   "cell_type": "markdown",
   "id": "376d940b",
   "metadata": {},
   "source": [
    "# Bitwise Operatörler"
   ]
  },
  {
   "cell_type": "markdown",
   "id": "fdc6817f",
   "metadata": {},
   "source": [
    "Python'da bitwise operatörler (bit düzeyinde operatörler), sayıların ikilik (binary) temsilleri üzerinde işlem yapar. Bu operatörler, bit düzeyinde işlemler yaparak her bir bitin ayrı ayrı işlenmesine olanak tanır. Bitwise operatörler genellikle düşük seviyeli programlama ve performans gerektiren durumlarda kullanılır."
   ]
  },
  {
   "cell_type": "markdown",
   "id": "9f033845",
   "metadata": {},
   "source": [
    "#### 1) AND (&)"
   ]
  },
  {
   "cell_type": "markdown",
   "id": "0ab8cf05",
   "metadata": {},
   "source": [
    "İki sayının bitlerini karşılaştırır. Her iki bit de 1 ise sonuç 1, aksi halde 0 olur"
   ]
  },
  {
   "cell_type": "raw",
   "id": "5f837151",
   "metadata": {},
   "source": [
    "A\tB\tA & B\n",
    "0\t0\t  0\n",
    "0\t1\t  0\n",
    "1\t0\t  0\n",
    "1\t1\t  1"
   ]
  },
  {
   "cell_type": "code",
   "execution_count": 41,
   "id": "9e0f8108",
   "metadata": {},
   "outputs": [
    {
     "name": "stdout",
     "output_type": "stream",
     "text": [
      "1\n"
     ]
    }
   ],
   "source": [
    "a = 5  # 101\n",
    "b = 3  # 011\n",
    "sonuc = a & b  # 001 -> 1\n",
    "print(sonuc)  # Çıktı: 1"
   ]
  },
  {
   "cell_type": "markdown",
   "id": "ae966872",
   "metadata": {},
   "source": [
    "#### 2) OR (|)"
   ]
  },
  {
   "cell_type": "markdown",
   "id": "c04f00bd",
   "metadata": {},
   "source": [
    "İki sayının bitlerini karşılaştırır. Herhangi bir bit 1 ise sonuç 1, her ikisi de 0 ise sonuç 0 olur."
   ]
  },
  {
   "cell_type": "raw",
   "id": "89d4dde3",
   "metadata": {},
   "source": [
    "A\tB\tA | B\n",
    "0\t0\t  0\n",
    "0\t1\t  1\n",
    "1\t0\t  1\n",
    "1\t1\t  1"
   ]
  },
  {
   "cell_type": "code",
   "execution_count": 42,
   "id": "5e8e6846",
   "metadata": {},
   "outputs": [
    {
     "name": "stdout",
     "output_type": "stream",
     "text": [
      "7\n"
     ]
    }
   ],
   "source": [
    "a = 5  # 101\n",
    "b = 3  # 011\n",
    "sonuc = a | b  # 111 -> 7\n",
    "print(sonuc)  # Çıktı: 7"
   ]
  },
  {
   "cell_type": "markdown",
   "id": "10010229",
   "metadata": {},
   "source": [
    "#### 3) XOR (^)"
   ]
  },
  {
   "cell_type": "markdown",
   "id": "b8486e52",
   "metadata": {},
   "source": [
    "İki sayının bitlerini karşılaştırır. Bitler farklı ise sonuç 1, aynı ise 0 olur.\n",
    "\n"
   ]
  },
  {
   "cell_type": "raw",
   "id": "0556c0f3",
   "metadata": {},
   "source": [
    "A\tB\tA ^ B\n",
    "0\t0\t  0\n",
    "0\t1\t  1\n",
    "1\t0\t  1\n",
    "1\t1\t  0"
   ]
  },
  {
   "cell_type": "code",
   "execution_count": 43,
   "id": "12dc37e0",
   "metadata": {},
   "outputs": [
    {
     "name": "stdout",
     "output_type": "stream",
     "text": [
      "6\n"
     ]
    }
   ],
   "source": [
    "a = 5  # 101\n",
    "b = 3  # 011\n",
    "sonuc = a ^ b  # 110 -> 6\n",
    "print(sonuc)  # Çıktı: 6"
   ]
  },
  {
   "cell_type": "markdown",
   "id": "ad19a6db",
   "metadata": {},
   "source": [
    "#### 4) NOT (~)"
   ]
  },
  {
   "cell_type": "markdown",
   "id": "baa6b3f6",
   "metadata": {},
   "source": [
    "Bir sayının tüm bitlerini tersine çevirir. 0 olan bitleri 1, 1 olan bitleri 0 yapar. Ayrıca bu operatör bir sayının işaretini de tersine çevirir (2'nin tümleyeni kullanılarak)."
   ]
  },
  {
   "cell_type": "code",
   "execution_count": 44,
   "id": "b9286b04",
   "metadata": {},
   "outputs": [
    {
     "name": "stdout",
     "output_type": "stream",
     "text": [
      "-6\n"
     ]
    }
   ],
   "source": [
    "a = 5  # 101\n",
    "sonuc = ~a  # -(5 + 1) -> -6\n",
    "print(sonuc)  # Çıktı: -6"
   ]
  },
  {
   "cell_type": "markdown",
   "id": "d24637d3",
   "metadata": {},
   "source": [
    "#### 5) Sol Kaydırma (<<)"
   ]
  },
  {
   "cell_type": "markdown",
   "id": "2161f78b",
   "metadata": {},
   "source": [
    "Bir sayının bitlerini sola kaydırır ve sağa sıfır ekler. Her kaydırma işlemi, sayıyı 2 ile çarpmak gibidir."
   ]
  },
  {
   "cell_type": "code",
   "execution_count": 45,
   "id": "82d2b019",
   "metadata": {},
   "outputs": [
    {
     "name": "stdout",
     "output_type": "stream",
     "text": [
      "10\n"
     ]
    }
   ],
   "source": [
    "a = 5  # 101\n",
    "sonuc = a << 1  # 1010 -> 10\n",
    "print(sonuc)  # Çıktı: 10"
   ]
  },
  {
   "cell_type": "markdown",
   "id": "ca32ef13",
   "metadata": {},
   "source": [
    "#### 6) Sağ Kaydırma (>>)"
   ]
  },
  {
   "cell_type": "markdown",
   "id": "17d56802",
   "metadata": {},
   "source": [
    "Bir sayının bitlerini sağa kaydırır ve boşalan bitlerin yerine işaret bitine (en soldaki bit) göre sıfır veya bir ekler. Her kaydırma işlemi, sayıyı 2'ye bölmek gibidir."
   ]
  },
  {
   "cell_type": "code",
   "execution_count": 46,
   "id": "dd4a9ede",
   "metadata": {},
   "outputs": [
    {
     "name": "stdout",
     "output_type": "stream",
     "text": [
      "2\n"
     ]
    }
   ],
   "source": [
    "a = 5  # 101\n",
    "sonuc = a >> 1  # 10 -> 2\n",
    "print(sonuc)  # Çıktı: 2"
   ]
  },
  {
   "cell_type": "code",
   "execution_count": 47,
   "id": "7c831a28",
   "metadata": {},
   "outputs": [
    {
     "name": "stdout",
     "output_type": "stream",
     "text": [
      "13\n",
      "31\n",
      "18\n",
      "-30\n",
      "116\n",
      "7\n"
     ]
    }
   ],
   "source": [
    "a = 29  # 11101\n",
    "b = 15  # 01111\n",
    "\n",
    "# AND operatörü\n",
    "print(a & b)  \n",
    "\n",
    "# OR operatörü\n",
    "print(a | b)  \n",
    "\n",
    "# XOR operatörü\n",
    "print(a ^ b)  \n",
    "\n",
    "# NOT operatörü\n",
    "print(~a)     \n",
    "\n",
    "# Sol kaydırma\n",
    "print(a << 2)  \n",
    "\n",
    "# Sağ kaydırma\n",
    "print(a >> 2)  "
   ]
  },
  {
   "cell_type": "markdown",
   "id": "6a4791e7",
   "metadata": {},
   "source": [
    "15.slaytta kaldık."
   ]
  },
  {
   "cell_type": "code",
   "execution_count": null,
   "id": "9e326946",
   "metadata": {},
   "outputs": [],
   "source": []
  }
 ],
 "metadata": {
  "kernelspec": {
   "display_name": "Python 3 (ipykernel)",
   "language": "python",
   "name": "python3"
  },
  "language_info": {
   "codemirror_mode": {
    "name": "ipython",
    "version": 3
   },
   "file_extension": ".py",
   "mimetype": "text/x-python",
   "name": "python",
   "nbconvert_exporter": "python",
   "pygments_lexer": "ipython3",
   "version": "3.9.13"
  }
 },
 "nbformat": 4,
 "nbformat_minor": 5
}
