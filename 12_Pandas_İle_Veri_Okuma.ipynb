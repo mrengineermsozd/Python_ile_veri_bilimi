{
 "cells": [
  {
   "cell_type": "markdown",
   "id": "65d3c478",
   "metadata": {},
   "source": [
    "# Pandas İle Veri Okuma"
   ]
  },
  {
   "cell_type": "markdown",
   "id": "ed963551",
   "metadata": {},
   "source": [
    "Python'da Pandas kütüphanesi ile çeşitli dosya formatlarından verileri kolayca okuyabilirsiniz. Pandas, özellikle CSV, Excel, JSON, SQL ve benzeri veri kaynaklarıyla çalışmak için çok uygun bir kütüphanedir. Pandas'ın en sık kullanılan fonksiyonlarından biri read_csv()'dir."
   ]
  },
  {
   "cell_type": "markdown",
   "id": "b696777d",
   "metadata": {},
   "source": [
    "# Pandas ile CSV Dosyası Okuma"
   ]
  },
  {
   "cell_type": "markdown",
   "id": "c8813e23",
   "metadata": {},
   "source": [
    "CSV (Comma Separated Values) dosyaları, verilerin virgülle ayrıldığı düz metin dosyalarıdır. Pandas'ın read_csv() fonksiyonu, CSV dosyalarını DataFrame'e dönüştürmek için kullanılır."
   ]
  },
  {
   "cell_type": "code",
   "execution_count": 1,
   "id": "aec203d5",
   "metadata": {},
   "outputs": [
    {
     "name": "stdout",
     "output_type": "stream",
     "text": [
      "   sepal.length  sepal.width  petal.length  petal.width variety\n",
      "0           5.1          3.5           1.4          0.2  Setosa\n",
      "1           4.9          3.0           1.4          0.2  Setosa\n",
      "2           4.7          3.2           1.3          0.2  Setosa\n",
      "3           4.6          3.1           1.5          0.2  Setosa\n",
      "4           5.0          3.6           1.4          0.2  Setosa\n"
     ]
    }
   ],
   "source": [
    "import pandas as pd\n",
    "\n",
    "# CSV dosyasını oku\n",
    "veri = pd.read_csv('iris.csv')\n",
    "\n",
    "# Verinin ilk 5 satırını göster\n",
    "print(veri.head())"
   ]
  },
  {
   "cell_type": "markdown",
   "id": "85ad5c2f",
   "metadata": {},
   "source": [
    "pd.read_csv('veri.csv') ile CSV dosyası okunur ve Pandas DataFrame formatında veri değişkenine atanır.\n",
    "veri.head() fonksiyonu, DataFrame'in ilk 5 satırını gösterir."
   ]
  },
  {
   "cell_type": "markdown",
   "id": "3eb6dcfe",
   "metadata": {},
   "source": [
    "pandas ile okuduğunuz bir veriyi .values özelliği kullanarakNumpy dizisine çevirebilirsiniz"
   ]
  },
  {
   "cell_type": "markdown",
   "id": "e5ed80c2",
   "metadata": {},
   "source": [
    "Kullanımı\n",
    "print(veri.values)"
   ]
  },
  {
   "cell_type": "markdown",
   "id": "d54b159e",
   "metadata": {},
   "source": [
    "### read_csv() Fonksiyonunun Önemli Parametreleri"
   ]
  },
  {
   "cell_type": "markdown",
   "id": "8ab41690",
   "metadata": {},
   "source": [
    "read_csv() fonksiyonu, veriyi okurken çeşitli parametrelerle daha detaylı işlemler yapmanıza olanak tanır. İşte en sık kullanılan parametrelerden bazıları:"
   ]
  },
  {
   "cell_type": "markdown",
   "id": "90c09c9d",
   "metadata": {},
   "source": [
    "# sep: \n",
    "Sütunları ayıran karakteri belirtir. Varsayılan olarak virgül (,) kullanılır."
   ]
  },
  {
   "cell_type": "code",
   "execution_count": 4,
   "id": "0b91c34b",
   "metadata": {},
   "outputs": [
    {
     "name": "stdout",
     "output_type": "stream",
     "text": [
      "  sepal.length,\"sepal.width\",\"petal.length\",\"petal.width\",\"variety\"\n",
      "0                            5.1,3.5,1.4,.2,\"Setosa\"               \n",
      "1                              4.9,3,1.4,.2,\"Setosa\"               \n",
      "2                            4.7,3.2,1.3,.2,\"Setosa\"               \n",
      "3                            4.6,3.1,1.5,.2,\"Setosa\"               \n",
      "4                              5,3.6,1.4,.2,\"Setosa\"               \n"
     ]
    }
   ],
   "source": [
    "veri = pd.read_csv('iris.csv', sep=';')  # Veriler noktalı virgülle ayrılmışsa\n",
    "print(veri.head())"
   ]
  },
  {
   "cell_type": "markdown",
   "id": "360c81ba",
   "metadata": {},
   "source": [
    "# header: \n",
    "Başlık satırını belirtir. Varsayılan olarak ilk satır başlık olarak kullanılır."
   ]
  },
  {
   "cell_type": "code",
   "execution_count": 19,
   "id": "ea305001",
   "metadata": {},
   "outputs": [
    {
     "name": "stdout",
     "output_type": "stream",
     "text": [
      "     sepal.length  sepal.width  petal.length  petal.width    variety\n",
      "0             5.1          3.5           1.4          0.2     Setosa\n",
      "1             4.9          3.0           1.4          0.2     Setosa\n",
      "2             4.7          3.2           1.3          0.2     Setosa\n",
      "3             4.6          3.1           1.5          0.2     Setosa\n",
      "4             5.0          3.6           1.4          0.2     Setosa\n",
      "..            ...          ...           ...          ...        ...\n",
      "145           6.7          3.0           5.2          2.3  Virginica\n",
      "146           6.3          2.5           5.0          1.9  Virginica\n",
      "147           6.5          3.0           5.2          2.0  Virginica\n",
      "148           6.2          3.4           5.4          2.3  Virginica\n",
      "149           5.9          3.0           5.1          1.8  Virginica\n",
      "\n",
      "[150 rows x 5 columns]\n"
     ]
    }
   ],
   "source": [
    "veri=pd.read_csv('iris.csv',header=0) # 0. satır başlık olarak alınır\n",
    "print(veri)"
   ]
  },
  {
   "cell_type": "markdown",
   "id": "f767677f",
   "metadata": {},
   "source": [
    "# index_col:\n",
    "Belirli bir sütunu indeks olarak ayarlamak için kullanılır."
   ]
  },
  {
   "cell_type": "code",
   "execution_count": 18,
   "id": "cfbdf712",
   "metadata": {},
   "outputs": [
    {
     "name": "stdout",
     "output_type": "stream",
     "text": [
      "           sepal.length  sepal.width  petal.length  petal.width\n",
      "variety                                                        \n",
      "Setosa              5.1          3.5           1.4          0.2\n",
      "Setosa              4.9          3.0           1.4          0.2\n",
      "Setosa              4.7          3.2           1.3          0.2\n",
      "Setosa              4.6          3.1           1.5          0.2\n",
      "Setosa              5.0          3.6           1.4          0.2\n",
      "...                 ...          ...           ...          ...\n",
      "Virginica           6.7          3.0           5.2          2.3\n",
      "Virginica           6.3          2.5           5.0          1.9\n",
      "Virginica           6.5          3.0           5.2          2.0\n",
      "Virginica           6.2          3.4           5.4          2.3\n",
      "Virginica           5.9          3.0           5.1          1.8\n",
      "\n",
      "[150 rows x 4 columns]\n"
     ]
    }
   ],
   "source": [
    "veri = pd.read_csv('iris.csv', index_col='variety')  # 'ID' sütunu indeks olur\n",
    "print(veri)"
   ]
  },
  {
   "cell_type": "markdown",
   "id": "9dba4cc7",
   "metadata": {},
   "source": [
    "# usecols: \n",
    "Belirli sütunları seçerek sadece bu sütunları yüklemek için kullanılır."
   ]
  },
  {
   "cell_type": "code",
   "execution_count": 17,
   "id": "afbd8a5e",
   "metadata": {},
   "outputs": [
    {
     "name": "stdout",
     "output_type": "stream",
     "text": [
      "     sepal.length  sepal.width\n",
      "0             5.1          3.5\n",
      "1             4.9          3.0\n",
      "2             4.7          3.2\n",
      "3             4.6          3.1\n",
      "4             5.0          3.6\n",
      "..            ...          ...\n",
      "145           6.7          3.0\n",
      "146           6.3          2.5\n",
      "147           6.5          3.0\n",
      "148           6.2          3.4\n",
      "149           5.9          3.0\n",
      "\n",
      "[150 rows x 2 columns]\n"
     ]
    }
   ],
   "source": [
    "veri = pd.read_csv('iris.csv', usecols=['sepal.length', 'sepal.width'])  # Sadece 'Ad' ve 'Soyad' sütunlarını oku\n",
    "print(veri)"
   ]
  },
  {
   "cell_type": "markdown",
   "id": "111af2be",
   "metadata": {},
   "source": [
    "# na_values: \n",
    "Eksik değerleri belirtmek için kullanılır."
   ]
  },
  {
   "cell_type": "code",
   "execution_count": 16,
   "id": "b4cc6de9",
   "metadata": {},
   "outputs": [
    {
     "name": "stdout",
     "output_type": "stream",
     "text": [
      "     sepal.length  sepal.width  petal.length  petal.width    variety\n",
      "0             5.1          3.5           1.4          0.2     Setosa\n",
      "1             4.9          3.0           1.4          0.2     Setosa\n",
      "2             4.7          3.2           1.3          0.2     Setosa\n",
      "3             4.6          3.1           1.5          0.2     Setosa\n",
      "4             5.0          3.6           1.4          0.2     Setosa\n",
      "..            ...          ...           ...          ...        ...\n",
      "145           6.7          3.0           5.2          2.3  Virginica\n",
      "146           6.3          2.5           5.0          1.9  Virginica\n",
      "147           6.5          3.0           5.2          2.0  Virginica\n",
      "148           6.2          3.4           5.4          2.3  Virginica\n",
      "149           5.9          3.0           5.1          1.8  Virginica\n",
      "\n",
      "[150 rows x 5 columns]\n"
     ]
    }
   ],
   "source": [
    "veri = pd.read_csv('iris.csv', na_values=['NaN', 'null'])  # 'NaN' ve 'null' değerlerini eksik olarak tanır\n",
    "print(veri)\n"
   ]
  },
  {
   "cell_type": "markdown",
   "id": "30173386",
   "metadata": {},
   "source": [
    "# skiprows:\n",
    "Belirli sayıda satırı atlamak için kullanılır."
   ]
  },
  {
   "cell_type": "code",
   "execution_count": 15,
   "id": "ff441cc0",
   "metadata": {},
   "outputs": [
    {
     "name": "stdout",
     "output_type": "stream",
     "text": [
      "     5.1  3.5  1.4   .2     Setosa\n",
      "0    4.9  3.0  1.4  0.2     Setosa\n",
      "1    4.7  3.2  1.3  0.2     Setosa\n",
      "2    4.6  3.1  1.5  0.2     Setosa\n",
      "3    5.0  3.6  1.4  0.2     Setosa\n",
      "4    5.4  3.9  1.7  0.4     Setosa\n",
      "..   ...  ...  ...  ...        ...\n",
      "144  6.7  3.0  5.2  2.3  Virginica\n",
      "145  6.3  2.5  5.0  1.9  Virginica\n",
      "146  6.5  3.0  5.2  2.0  Virginica\n",
      "147  6.2  3.4  5.4  2.3  Virginica\n",
      "148  5.9  3.0  5.1  1.8  Virginica\n",
      "\n",
      "[149 rows x 5 columns]\n"
     ]
    }
   ],
   "source": [
    "veri = pd.read_csv('iris.csv', skiprows=1)  # İlk satırı atla\n",
    "print(veri)"
   ]
  },
  {
   "cell_type": "markdown",
   "id": "35b61b56",
   "metadata": {},
   "source": [
    "# nrows:\n",
    "Yüklemek istediğiniz satır sayısını belirtir."
   ]
  },
  {
   "cell_type": "code",
   "execution_count": 14,
   "id": "0f28d807",
   "metadata": {},
   "outputs": [
    {
     "name": "stdout",
     "output_type": "stream",
     "text": [
      "   sepal.length  sepal.width  petal.length  petal.width variety\n",
      "0           5.1          3.5           1.4          0.2  Setosa\n",
      "1           4.9          3.0           1.4          0.2  Setosa\n",
      "2           4.7          3.2           1.3          0.2  Setosa\n",
      "3           4.6          3.1           1.5          0.2  Setosa\n",
      "4           5.0          3.6           1.4          0.2  Setosa\n",
      "5           5.4          3.9           1.7          0.4  Setosa\n",
      "6           4.6          3.4           1.4          0.3  Setosa\n",
      "7           5.0          3.4           1.5          0.2  Setosa\n",
      "8           4.4          2.9           1.4          0.2  Setosa\n",
      "9           4.9          3.1           1.5          0.1  Setosa\n"
     ]
    }
   ],
   "source": [
    "veri = pd.read_csv('iris.csv', nrows=10)  # Sadece ilk 10 satırı oku\n",
    "print(veri)"
   ]
  },
  {
   "cell_type": "markdown",
   "id": "de42e295",
   "metadata": {},
   "source": [
    "# Names Argümanı"
   ]
  },
  {
   "cell_type": "markdown",
   "id": "41efd9e7",
   "metadata": {},
   "source": [
    "Pandas'ın read_csv() fonksiyonunda kullanılan names argümanı, okunan CSV dosyasındaki sütunlara manuel olarak isim vermenizi sağlar. Normalde CSV dosyasındaki ilk satırda sütun isimleri varsa, Pandas bu satırdaki isimleri kullanır. Ancak eğer CSV dosyasında sütun isimleri yoksa veya farklı sütun isimleri vermek istiyorsanız, names argümanını kullanarak sütun isimlerini belirleyebilirsiniz."
   ]
  },
  {
   "cell_type": "markdown",
   "id": "48b5f5cc",
   "metadata": {},
   "source": [
    "Örnek 1: CSV Dosyasında Sütun İsimleri Olmayan Bir Dosyayı Okuma"
   ]
  },
  {
   "cell_type": "code",
   "execution_count": 25,
   "id": "85e75c85",
   "metadata": {},
   "outputs": [
    {
     "name": "stdout",
     "output_type": "stream",
     "text": [
      "                                                       Tür\n",
      "sepal.length sepal.width petal.length petal.width  variety\n",
      "5.1          3.5         1.4          .2            Setosa\n",
      "4.9          3           1.4          .2            Setosa\n",
      "4.7          3.2         1.3          .2            Setosa\n",
      "4.6          3.1         1.5          .2            Setosa\n"
     ]
    }
   ],
   "source": [
    "import pandas as pd\n",
    "\n",
    "# CSV dosyasını okurken sütun isimlerini manuel olarak belirtiyoruz\n",
    "veri = pd.read_csv('iris.csv', names=['Tür'])\n",
    "\n",
    "# İlk 5 satırı göster\n",
    "print(veri.head())"
   ]
  },
  {
   "cell_type": "markdown",
   "id": "facc8f4d",
   "metadata": {},
   "source": [
    "Örnek 2: İlk Satırı Sütun İsimleri Olarak Kullanmayıp Kendi İsimlerinizi Verme\n",
    "Eğer CSV dosyanızın ilk satırında zaten sütun isimleri varsa ancak siz farklı isimler vermek istiyorsanız, aynı zamanda header=None parametresini de ekleyebilirsiniz."
   ]
  },
  {
   "cell_type": "code",
   "execution_count": 29,
   "id": "8f369723",
   "metadata": {},
   "outputs": [
    {
     "name": "stdout",
     "output_type": "stream",
     "text": [
      "    Ad  Soyad  Yaş  Genislik Yükseklik\n",
      "0  5.1    3.5  1.4       0.2    Setosa\n",
      "1  4.9    3.0  1.4       0.2    Setosa\n",
      "2  4.7    3.2  1.3       0.2    Setosa\n",
      "3  4.6    3.1  1.5       0.2    Setosa\n",
      "4  5.0    3.6  1.4       0.2    Setosa\n"
     ]
    }
   ],
   "source": [
    "import pandas as pd\n",
    "\n",
    "# İlk satırı veri olarak kabul ediyoruz ve sütun isimlerini kendimiz belirliyoruz\n",
    "veri = pd.read_csv('iris.csv', names=['Ad', 'Soyad', 'Yaş','Genislik','Yükseklik'], header=0)\n",
    "# Burada header 0 verilir çünkü sıfırıncı satır headerlardan oluşur onun yerine kendimiz headerları tanımladık\n",
    "# İlk 5 satırı göster\n",
    "print(veri.head())"
   ]
  },
  {
   "cell_type": "markdown",
   "id": "3678cac2",
   "metadata": {},
   "source": [
    "# Pandas ile Excel Dosyalarını Okuma"
   ]
  },
  {
   "cell_type": "markdown",
   "id": "6af89300",
   "metadata": {},
   "source": [
    "Pandas, Excel dosyalarını kolayca okumak ve üzerinde veri analizi yapmak için kullanılan güçlü bir kütüphanedir. Excel dosyalarındaki verileri Pandas ile okumak için read_excel() fonksiyonunu kullanırız. Bu fonksiyon, Excel dosyasını bir DataFrame olarak döner ve üzerinde analiz yapmayı sağlar."
   ]
  },
  {
   "cell_type": "markdown",
   "id": "72237e5e",
   "metadata": {},
   "source": [
    "Pandas ile Excel dosyasını okumak için aşağıdaki adımları izleyebilirsiniz:"
   ]
  },
  {
   "cell_type": "markdown",
   "id": "69e8f090",
   "metadata": {},
   "source": [
    "### 1. Gerekli Kütüphaneleri Yükleyin"
   ]
  },
  {
   "cell_type": "markdown",
   "id": "cc5ed061",
   "metadata": {},
   "source": [
    "Excel dosyalarını okumak için Pandas'ın yanı sıra openpyxl gibi ek kütüphaneler de yüklemeniz gerekebilir. Genelde Pandas, Excel dosyalarını işlemek için bu kütüphaneyi kullanır."
   ]
  },
  {
   "cell_type": "code",
   "execution_count": 30,
   "id": "797c82c4",
   "metadata": {},
   "outputs": [
    {
     "name": "stdout",
     "output_type": "stream",
     "text": [
      "Requirement already satisfied: pandas in c:\\users\\asus\\anaconda3\\lib\\site-packages (1.4.4)\n",
      "Requirement already satisfied: openpyxl in c:\\users\\asus\\anaconda3\\lib\\site-packages (3.0.10)\n",
      "Requirement already satisfied: numpy>=1.18.5 in c:\\users\\asus\\anaconda3\\lib\\site-packages (from pandas) (1.21.5)\n",
      "Requirement already satisfied: python-dateutil>=2.8.1 in c:\\users\\asus\\anaconda3\\lib\\site-packages (from pandas) (2.8.2)\n",
      "Requirement already satisfied: pytz>=2020.1 in c:\\users\\asus\\anaconda3\\lib\\site-packages (from pandas) (2022.1)\n",
      "Requirement already satisfied: et_xmlfile in c:\\users\\asus\\anaconda3\\lib\\site-packages (from openpyxl) (1.1.0)\n",
      "Requirement already satisfied: six>=1.5 in c:\\users\\asus\\anaconda3\\lib\\site-packages (from python-dateutil>=2.8.1->pandas) (1.16.0)\n",
      "Note: you may need to restart the kernel to use updated packages.\n"
     ]
    }
   ],
   "source": [
    "pip install pandas openpyxl"
   ]
  },
  {
   "cell_type": "markdown",
   "id": "8931d9a7",
   "metadata": {},
   "source": [
    "### 2. Excel Dosyasını Okuma"
   ]
  },
  {
   "cell_type": "code",
   "execution_count": 31,
   "id": "eab02f46",
   "metadata": {},
   "outputs": [
    {
     "name": "stdout",
     "output_type": "stream",
     "text": [
      "   Unnamed: 0         Unnamed: 1        Unnamed: 2         Unnamed: 3  \\\n",
      "0         NaN  Sepal Length (cm)  Sepal Width (cm)  Petal Length (cm)   \n",
      "1         NaN                  7               3.2                4.7   \n",
      "2         NaN                6.4               3.2                4.5   \n",
      "3         NaN                6.9               3.1                4.9   \n",
      "4         NaN                5.5               2.3                  4   \n",
      "\n",
      "         Unnamed: 4       Unnamed: 5  Unnamed: 6  Unnamed: 7 Unnamed: 8  \\\n",
      "0  Petal Width (cm)            Class         NaN         NaN      alpha   \n",
      "1               1.4  Iris-versicolor         NaN         0.0          0   \n",
      "2               1.5  Iris-versicolor         NaN         0.0        NaN   \n",
      "3               1.5  Iris-versicolor         NaN         0.0        NaN   \n",
      "4               1.3  Iris-versicolor         NaN         0.0        NaN   \n",
      "\n",
      "  Unnamed: 9  Unnamed: 10  Unnamed: 11  \n",
      "0        obj          NaN          NaN  \n",
      "1          0          0.0          1.0  \n",
      "2        NaN          0.0          1.0  \n",
      "3        NaN          0.0          1.0  \n",
      "4        NaN          0.0          1.0  \n"
     ]
    }
   ],
   "source": [
    "import pandas as pd\n",
    "\n",
    "# Excel dosyasını oku\n",
    "veri = pd.read_excel('iris.xls')\n",
    "\n",
    "# İlk 5 satırı göster\n",
    "print(veri.head())"
   ]
  },
  {
   "cell_type": "markdown",
   "id": "cdce1013",
   "metadata": {},
   "source": [
    "### 3. Belirli Bir Sayfayı (Sheet) Okuma"
   ]
  },
  {
   "cell_type": "markdown",
   "id": "11617cbc",
   "metadata": {},
   "source": [
    "Excel dosyasında birden fazla sayfa olabilir. sheet_name parametresi ile hangi sayfanın okunacağını belirtebilirsiniz."
   ]
  },
  {
   "cell_type": "code",
   "execution_count": 34,
   "id": "b9bff73f",
   "metadata": {},
   "outputs": [
    {
     "name": "stdout",
     "output_type": "stream",
     "text": [
      "   Unnamed: 0         Unnamed: 1        Unnamed: 2         Unnamed: 3  \\\n",
      "0         NaN  Sepal Length (cm)  Sepal Width (cm)  Petal Length (cm)   \n",
      "1         NaN                  7               3.2                4.7   \n",
      "2         NaN                6.4               3.2                4.5   \n",
      "3         NaN                6.9               3.1                4.9   \n",
      "4         NaN                5.5               2.3                  4   \n",
      "\n",
      "         Unnamed: 4       Unnamed: 5  Unnamed: 6  Unnamed: 7 Unnamed: 8  \\\n",
      "0  Petal Width (cm)            Class         NaN         NaN      alpha   \n",
      "1               1.4  Iris-versicolor         NaN         0.0          0   \n",
      "2               1.5  Iris-versicolor         NaN         0.0        NaN   \n",
      "3               1.5  Iris-versicolor         NaN         0.0        NaN   \n",
      "4               1.3  Iris-versicolor         NaN         0.0        NaN   \n",
      "\n",
      "  Unnamed: 9  Unnamed: 10  Unnamed: 11  \n",
      "0        obj          NaN          NaN  \n",
      "1          0          0.0          1.0  \n",
      "2        NaN          0.0          1.0  \n",
      "3        NaN          0.0          1.0  \n",
      "4        NaN          0.0          1.0  \n"
     ]
    }
   ],
   "source": [
    "import pandas as pd\n",
    "\n",
    "# Belirli bir sayfayı okuma (örneğin, 'Sayfa1')\n",
    "veri = pd.read_excel('iris.xls', sheet_name='Sheet1')\n",
    "\n",
    "# İlk 5 satırı göster\n",
    "print(veri.head())"
   ]
  },
  {
   "cell_type": "markdown",
   "id": "678231be",
   "metadata": {},
   "source": [
    "### 4. Birden Fazla Sayfayı Aynı Anda Okuma"
   ]
  },
  {
   "cell_type": "markdown",
   "id": "66cb02a0",
   "metadata": {},
   "source": [
    "Bir Excel dosyasındaki tüm sayfaları veya birden fazla sayfayı aynı anda okumak mümkündür. Bunun için sheet_name parametresine bir liste ya da \"None\" değeri verebilirsiniz."
   ]
  },
  {
   "cell_type": "code",
   "execution_count": 36,
   "id": "e5a22ee8",
   "metadata": {},
   "outputs": [
    {
     "name": "stdout",
     "output_type": "stream",
     "text": [
      "   Unnamed: 0         Unnamed: 1        Unnamed: 2         Unnamed: 3  \\\n",
      "0         NaN  Sepal Length (cm)  Sepal Width (cm)  Petal Length (cm)   \n",
      "1         NaN                  7               3.2                4.7   \n",
      "2         NaN                6.4               3.2                4.5   \n",
      "3         NaN                6.9               3.1                4.9   \n",
      "4         NaN                5.5               2.3                  4   \n",
      "\n",
      "         Unnamed: 4       Unnamed: 5  Unnamed: 6  Unnamed: 7 Unnamed: 8  \\\n",
      "0  Petal Width (cm)            Class         NaN         NaN      alpha   \n",
      "1               1.4  Iris-versicolor         NaN         0.0          0   \n",
      "2               1.5  Iris-versicolor         NaN         0.0        NaN   \n",
      "3               1.5  Iris-versicolor         NaN         0.0        NaN   \n",
      "4               1.3  Iris-versicolor         NaN         0.0        NaN   \n",
      "\n",
      "  Unnamed: 9  Unnamed: 10  Unnamed: 11  \n",
      "0        obj          NaN          NaN  \n",
      "1          0          0.0          1.0  \n",
      "2        NaN          0.0          1.0  \n",
      "3        NaN          0.0          1.0  \n",
      "4        NaN          0.0          1.0  \n",
      "   Unnamed: 0         Unnamed: 1        Unnamed: 2         Unnamed: 3  \\\n",
      "0         NaN  Sepal Length (cm)  Sepal Width (cm)  Petal Length (cm)   \n",
      "1         NaN                  7               3.2                4.7   \n",
      "2         NaN                6.4               3.2                4.5   \n",
      "3         NaN                6.9               3.1                4.9   \n",
      "4         NaN                5.5               2.3                  4   \n",
      "\n",
      "         Unnamed: 4       Unnamed: 5  Unnamed: 6  Unnamed: 7 Unnamed: 8  \\\n",
      "0  Petal Width (cm)            Class         NaN         NaN      alpha   \n",
      "1               1.4  Iris-versicolor         NaN         0.0          0   \n",
      "2               1.5  Iris-versicolor         NaN         0.0        NaN   \n",
      "3               1.5  Iris-versicolor         NaN         0.0        NaN   \n",
      "4               1.3  Iris-versicolor         NaN         0.0        NaN   \n",
      "\n",
      "  Unnamed: 9  Unnamed: 10  Unnamed: 11  \n",
      "0        obj          NaN          NaN  \n",
      "1          0          0.0          1.0  \n",
      "2        NaN          0.0          1.0  \n",
      "3        NaN          0.0          1.0  \n",
      "4        NaN          0.0          1.0  \n"
     ]
    }
   ],
   "source": [
    "# Birden fazla sayfa okuma (örn: Sayfa1 ve Sayfa2)\n",
    "veriler = pd.read_excel('iris.xls', sheet_name=['Sheet1', 'Sheet1'])\n",
    "\n",
    "# Her sayfa için ayrı bir DataFrame oluşturulur\n",
    "print(veriler['Sheet1'].head())  # Sayfa1'in ilk 5 satırı\n",
    "print(veriler['Sheet1'].head())  # Sayfa2'nin ilk 5 satırı"
   ]
  },
  {
   "cell_type": "markdown",
   "id": "df217b04",
   "metadata": {},
   "source": [
    "### 5. Belirli Sütunları Okuma"
   ]
  },
  {
   "cell_type": "markdown",
   "id": "a6a64380",
   "metadata": {},
   "source": [
    "Eğer Excel dosyanızdaki belirli sütunları okumak istiyorsanız, usecols parametresi ile sütunları seçebilirsiniz."
   ]
  },
  {
   "cell_type": "code",
   "execution_count": 37,
   "id": "9073d95e",
   "metadata": {},
   "outputs": [
    {
     "name": "stdout",
     "output_type": "stream",
     "text": [
      "   Unnamed: 0         Unnamed: 1\n",
      "0         NaN  Sepal Length (cm)\n",
      "1         NaN                  7\n",
      "2         NaN                6.4\n",
      "3         NaN                6.9\n",
      "4         NaN                5.5\n"
     ]
    }
   ],
   "source": [
    "# Belirli sütunları okuma (örneğin, A ve B sütunları)\n",
    "veri = pd.read_excel('iris.xls', usecols=\"A:B\")\n",
    "\n",
    "# İlk 5 satırı göster\n",
    "print(veri.head())"
   ]
  },
  {
   "cell_type": "markdown",
   "id": "92445405",
   "metadata": {},
   "source": [
    "### 6. Belirli Satırları Atlamak"
   ]
  },
  {
   "cell_type": "markdown",
   "id": "5602a493",
   "metadata": {},
   "source": [
    "Eğer bazı satırları atlamak isterseniz, skiprows parametresi ile belirli sayıda satırı atlayabilirsiniz."
   ]
  },
  {
   "cell_type": "code",
   "execution_count": 38,
   "id": "e23a8834",
   "metadata": {},
   "outputs": [
    {
     "name": "stdout",
     "output_type": "stream",
     "text": [
      "   Unnamed: 0    7  3.2  4.7  1.4  Iris-versicolor  Unnamed: 6    0  0.1  0.2  \\\n",
      "0         NaN  6.4  3.2  4.5  1.5  Iris-versicolor         NaN  0.0  NaN  NaN   \n",
      "1         NaN  6.9  3.1  4.9  1.5  Iris-versicolor         NaN  0.0  NaN  NaN   \n",
      "2         NaN  5.5  2.3  4.0  1.3  Iris-versicolor         NaN  0.0  NaN  NaN   \n",
      "3         NaN  6.5  2.8  4.6  1.5  Iris-versicolor         NaN  NaN  NaN  NaN   \n",
      "4         NaN  5.7  2.8  4.5  1.3  Iris-versicolor         NaN  NaN  NaN  NaN   \n",
      "\n",
      "   0.3  1  \n",
      "0    0  1  \n",
      "1    0  1  \n",
      "2    0  1  \n",
      "3    0  1  \n",
      "4    0  1  \n"
     ]
    }
   ],
   "source": [
    "# İlk 2 satırı atla\n",
    "veri = pd.read_excel('iris.xls', skiprows=2)\n",
    "\n",
    "# İlk 5 satırı göster\n",
    "print(veri.head())"
   ]
  },
  {
   "cell_type": "markdown",
   "id": "0554edc0",
   "metadata": {},
   "source": [
    "### 7. Belirli Sayıda Satırı Okuma"
   ]
  },
  {
   "cell_type": "markdown",
   "id": "b7ad4289",
   "metadata": {},
   "source": [
    "Belirli sayıda satır okumak için nrows parametresini kullanabilirsiniz."
   ]
  },
  {
   "cell_type": "code",
   "execution_count": 39,
   "id": "13b9bf6d",
   "metadata": {},
   "outputs": [
    {
     "name": "stdout",
     "output_type": "stream",
     "text": [
      "   Unnamed: 0         Unnamed: 1        Unnamed: 2         Unnamed: 3  \\\n",
      "0         NaN  Sepal Length (cm)  Sepal Width (cm)  Petal Length (cm)   \n",
      "1         NaN                  7               3.2                4.7   \n",
      "2         NaN                6.4               3.2                4.5   \n",
      "3         NaN                6.9               3.1                4.9   \n",
      "4         NaN                5.5               2.3                  4   \n",
      "\n",
      "         Unnamed: 4       Unnamed: 5  Unnamed: 6  Unnamed: 7 Unnamed: 8  \\\n",
      "0  Petal Width (cm)            Class         NaN         NaN      alpha   \n",
      "1               1.4  Iris-versicolor         NaN         0.0          0   \n",
      "2               1.5  Iris-versicolor         NaN         0.0        NaN   \n",
      "3               1.5  Iris-versicolor         NaN         0.0        NaN   \n",
      "4               1.3  Iris-versicolor         NaN         0.0        NaN   \n",
      "\n",
      "  Unnamed: 9  Unnamed: 10  Unnamed: 11  \n",
      "0        obj          NaN          NaN  \n",
      "1          0          0.0          1.0  \n",
      "2        NaN          0.0          1.0  \n",
      "3        NaN          0.0          1.0  \n",
      "4        NaN          0.0          1.0  \n"
     ]
    }
   ],
   "source": [
    "# Sadece ilk 10 satırı oku\n",
    "veri = pd.read_excel('iris.xls', nrows=10)\n",
    "\n",
    "# İlk 5 satırı göster\n",
    "print(veri.head())"
   ]
  },
  {
   "cell_type": "markdown",
   "id": "d72223ac",
   "metadata": {},
   "source": [
    "# SAS Dosyalarını Okuma"
   ]
  },
  {
   "cell_type": "markdown",
   "id": "95f3382e",
   "metadata": {},
   "source": [
    "\n",
    "Pandas kütüphanesiyle SAS (Statistical Analysis System) dosyalarını da kolayca okuyabilirsiniz. SAS, genellikle veri analizi ve istatistiksel modelleme için kullanılan bir dosya formatıdır. Pandas, SAS dosyalarını okumak ve analiz etmek için read_sas() fonksiyonunu sağlar."
   ]
  },
  {
   "cell_type": "markdown",
   "id": "2ee16525",
   "metadata": {},
   "source": [
    "### 1. Gerekli Kütüphaneleri Yükleyin\n",
    "SAS dosyalarını okumak için Pandas'a ek olarak sas7bdat veya pyreadstat gibi ek kütüphanelere ihtiyacınız olabilir. Bu kütüphaneleri yüklemeniz gereklidir."
   ]
  },
  {
   "cell_type": "raw",
   "id": "e907737b",
   "metadata": {},
   "source": [
    "pip install pandas\n",
    "pip install sas7bdat"
   ]
  },
  {
   "cell_type": "markdown",
   "id": "a29b51c0",
   "metadata": {},
   "source": [
    "### 2. SAS Dosyasını Okuma\n",
    "Pandas'ın read_sas() fonksiyonu ile SAS dosyasını okuyabilirsiniz."
   ]
  },
  {
   "cell_type": "raw",
   "id": "2f2319b0",
   "metadata": {},
   "source": [
    "import pandas as pd\n",
    "\n",
    "# SAS dosyasını oku\n",
    "veri = pd.read_sas('dosya.sas7bdat')\n",
    "\n",
    "# İlk 5 satırı göster\n",
    "print(veri.head())"
   ]
  },
  {
   "cell_type": "markdown",
   "id": "40c3412b",
   "metadata": {},
   "source": [
    "Bu kodda:\n",
    "\n",
    "read_sas('dosya.sas7bdat') fonksiyonu ile belirtilen SAS dosyası bir DataFrame olarak okunur.\n",
    "veri.head() ile SAS dosyasındaki ilk 5 satır ekrana yazdırılır."
   ]
  },
  {
   "cell_type": "markdown",
   "id": "bf4e267c",
   "metadata": {},
   "source": [
    "## 3) STATA dosyasını Okuma"
   ]
  },
  {
   "cell_type": "markdown",
   "id": "a9b3ea35",
   "metadata": {},
   "source": [
    "Stata sosyal bilimler ve ekonomi alanında kullanılan bir analiz programıdır. \".dta\" uzantısı olan dosyaları mevcuttur. Pandas kütüphanesinin .read_stata() metodu ile okunur. "
   ]
  },
  {
   "cell_type": "raw",
   "id": "4f98d0aa",
   "metadata": {},
   "source": [
    "dosya='stata.dta'\n",
    "stata_tablosu=pd.read_stata(dosya)"
   ]
  },
  {
   "cell_type": "markdown",
   "id": "2692e533",
   "metadata": {},
   "source": [
    "### 4) HDF5 Dosyalarını Okuma"
   ]
  },
  {
   "cell_type": "markdown",
   "id": "a3835380",
   "metadata": {},
   "source": [
    "HDF5 dosyaları (Hierarchical Data Format version 5), büyük ve karmaşık veri kümelerini depolamak ve yönetmek için kullanılan, yaygın ve esnek bir dosya formatıdır. HDF5 dosyaları, özellikle bilimsel araştırmalar ve büyük veri analizleri için oldukça kullanışlıdır çünkü büyük veri setlerini sıkıştırarak saklama ve bu verilere hızlı erişim sağlama gibi avantajlar sunar."
   ]
  },
  {
   "cell_type": "markdown",
   "id": "37697149",
   "metadata": {},
   "source": [
    "Pandas ve h5py gibi Python kütüphaneleri ile HDF5 dosyalarını okuyabilir ve yazabilirsiniz."
   ]
  },
  {
   "cell_type": "markdown",
   "id": "4f3c8818",
   "metadata": {},
   "source": [
    "### Pandas ile HDF5 Dosyalarını Okuma ve Yazma\n"
   ]
  },
  {
   "cell_type": "markdown",
   "id": "79af6c8a",
   "metadata": {},
   "source": [
    "Pandas kütüphanesi, HDF5 dosyalarını kolayca okumanıza ve yazmanıza olanak sağlar. Bunun için read_hdf() ve to_hdf() fonksiyonlarını kullanabilirsiniz."
   ]
  },
  {
   "cell_type": "markdown",
   "id": "86edb5c7",
   "metadata": {},
   "source": [
    "Pandas ile HDF5 dosyasını okumak için şu adımları izleyebilirsiniz:"
   ]
  },
  {
   "cell_type": "raw",
   "id": "a18ca433",
   "metadata": {},
   "source": [
    "import pandas as pd\n",
    "df=pd.read_hdf('veri.h5')\n",
    "print(df.head())"
   ]
  },
  {
   "cell_type": "raw",
   "id": "b886dc2e",
   "metadata": {},
   "source": [
    "HDF5 dosyasındaki verileri görebilmek için .keys() ve .value() metodlarını kullanabiliriz\n",
    "for alt_veri in veri.keys()\n",
    "    print(alt_Veri)"
   ]
  },
  {
   "cell_type": "code",
   "execution_count": null,
   "id": "c5d4f3c5",
   "metadata": {},
   "outputs": [],
   "source": []
  }
 ],
 "metadata": {
  "kernelspec": {
   "display_name": "Python 3 (ipykernel)",
   "language": "python",
   "name": "python3"
  },
  "language_info": {
   "codemirror_mode": {
    "name": "ipython",
    "version": 3
   },
   "file_extension": ".py",
   "mimetype": "text/x-python",
   "name": "python",
   "nbconvert_exporter": "python",
   "pygments_lexer": "ipython3",
   "version": "3.9.13"
  }
 },
 "nbformat": 4,
 "nbformat_minor": 5
}
