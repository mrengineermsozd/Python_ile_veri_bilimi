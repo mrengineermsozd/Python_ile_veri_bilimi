{
 "cells": [
  {
   "cell_type": "markdown",
   "id": "2ba3f9c2",
   "metadata": {},
   "source": [
    "NumPy'de diziler ve matrisler üzerinde biçimlendirme işlemleri, veri düzenlemeyi ve sunmayı kolaylaştırır. Aşağıda NumPy'nin biçimlendirme işlemleriyle ilgili sık kullanılan yöntemleri ve örneklerini bulabilirsiniz."
   ]
  },
  {
   "cell_type": "markdown",
   "id": "a8b4fd0c",
   "metadata": {},
   "source": [
    "## 1. Şekillendirme (Reshaping)"
   ]
  },
  {
   "cell_type": "markdown",
   "id": "52bbbcce",
   "metadata": {},
   "source": [
    "### reshape()\n",
    "Bir dizinin boyutlarını değiştirir."
   ]
  },
  {
   "cell_type": "code",
   "execution_count": 2,
   "id": "6e5618f4",
   "metadata": {},
   "outputs": [
    {
     "name": "stdout",
     "output_type": "stream",
     "text": [
      "[1 2 3 4 5 6 7 8 9]\n",
      "[[1 2 3]\n",
      " [4 5 6]\n",
      " [7 8 9]]\n"
     ]
    }
   ],
   "source": [
    "import numpy as np\n",
    "array=np.arange(1,10)\n",
    "reshaped_array=array.reshape(3,3)\n",
    "print(array)\n",
    "print(reshaped_array)"
   ]
  },
  {
   "cell_type": "markdown",
   "id": "eeeb60f2",
   "metadata": {},
   "source": [
    "## 2. Düzleştirme (Flattening)"
   ]
  },
  {
   "cell_type": "markdown",
   "id": "f1807714",
   "metadata": {},
   "source": [
    "### ravel()\n",
    "Çok boyutlu bir diziyi tek boyutlu hale getirir."
   ]
  },
  {
   "cell_type": "code",
   "execution_count": 4,
   "id": "9e1b3004",
   "metadata": {},
   "outputs": [
    {
     "name": "stdout",
     "output_type": "stream",
     "text": [
      "[[1 2]\n",
      " [3 4]]\n",
      "[1 2 3 4]\n"
     ]
    }
   ],
   "source": [
    "matrix=np.array([[1,2],[3,4]])\n",
    "flattened=matrix.ravel()\n",
    "print(matrix)\n",
    "print(flattened)"
   ]
  },
  {
   "cell_type": "markdown",
   "id": "edb1b58d",
   "metadata": {},
   "source": [
    "### flatten()\n",
    "Benzer şekilde düzleştirme yapar, ancak bir kopya döndürür."
   ]
  },
  {
   "cell_type": "code",
   "execution_count": 5,
   "id": "fb4c7b10",
   "metadata": {},
   "outputs": [
    {
     "name": "stdout",
     "output_type": "stream",
     "text": [
      "[1 2 3 4]\n"
     ]
    }
   ],
   "source": [
    "flattened_copy=matrix.flatten()\n",
    "print(flattened_copy)"
   ]
  },
  {
   "cell_type": "markdown",
   "id": "96fdc7ae",
   "metadata": {},
   "source": [
    "## 3. Transpoze Alma\n",
    "### transpose()\n",
    "Dizinin eksenlerini değiştirir. "
   ]
  },
  {
   "cell_type": "code",
   "execution_count": 6,
   "id": "68580339",
   "metadata": {},
   "outputs": [
    {
     "name": "stdout",
     "output_type": "stream",
     "text": [
      "[[1 4]\n",
      " [2 5]\n",
      " [3 6]]\n"
     ]
    }
   ],
   "source": [
    "matrix=np.array([[1,2,3],[4,5,6]])\n",
    "transposed=matrix.transpose()\n",
    "print(transposed)"
   ]
  },
  {
   "cell_type": "markdown",
   "id": "e3d30a32",
   "metadata": {},
   "source": [
    "### T\n",
    "Kısa yol olarak kullanılır. "
   ]
  },
  {
   "cell_type": "code",
   "execution_count": 7,
   "id": "a251943d",
   "metadata": {},
   "outputs": [
    {
     "name": "stdout",
     "output_type": "stream",
     "text": [
      "[[1 4]\n",
      " [2 5]\n",
      " [3 6]]\n"
     ]
    }
   ],
   "source": [
    "print(matrix.T)"
   ]
  },
  {
   "cell_type": "markdown",
   "id": "aa0caf36",
   "metadata": {},
   "source": [
    "## 4. Boyut Ekleme veya Kaldırma\n",
    "### newaxis\n",
    "Bir dizinin boyutunu artırır. "
   ]
  },
  {
   "cell_type": "code",
   "execution_count": 8,
   "id": "0a6788d3",
   "metadata": {},
   "outputs": [
    {
     "name": "stdout",
     "output_type": "stream",
     "text": [
      "[[1]\n",
      " [2]\n",
      " [3]]\n"
     ]
    }
   ],
   "source": [
    "array=np.array([1,2,3])\n",
    "expanded=array[:,np.newaxis]\n",
    "print(expanded)"
   ]
  },
  {
   "cell_type": "markdown",
   "id": "01266b56",
   "metadata": {},
   "source": [
    "### squeeze()\n",
    "Tek boyutlu eksenleri kaldırır."
   ]
  },
  {
   "cell_type": "code",
   "execution_count": 9,
   "id": "6d9ada9c",
   "metadata": {},
   "outputs": [
    {
     "name": "stdout",
     "output_type": "stream",
     "text": [
      "[1 2 3]\n"
     ]
    }
   ],
   "source": [
    "expanded=np.array([[1],[2],[3]])\n",
    "squeezed=expanded.squeeze()\n",
    "print(squeezed)"
   ]
  },
  {
   "cell_type": "markdown",
   "id": "7cfbef7f",
   "metadata": {},
   "source": [
    "## 5. Eleman Seçimi ve Dilimleme\n",
    "### Index ile Seçim"
   ]
  },
  {
   "cell_type": "code",
   "execution_count": 10,
   "id": "55794ba2",
   "metadata": {},
   "outputs": [
    {
     "name": "stdout",
     "output_type": "stream",
     "text": [
      "20\n"
     ]
    }
   ],
   "source": [
    "array=np.array([10,20,30,40,50])\n",
    "print(array[1])"
   ]
  },
  {
   "cell_type": "markdown",
   "id": "f7725d6a",
   "metadata": {},
   "source": [
    "### Dilimleme"
   ]
  },
  {
   "cell_type": "code",
   "execution_count": 11,
   "id": "7e01642b",
   "metadata": {},
   "outputs": [
    {
     "name": "stdout",
     "output_type": "stream",
     "text": [
      "[20 30 40]\n"
     ]
    }
   ],
   "source": [
    "print(array[1:4])"
   ]
  },
  {
   "cell_type": "markdown",
   "id": "44b9b9f5",
   "metadata": {},
   "source": [
    "### Fancy Indexing\n",
    "Birden fazla indis ile eleman seçimi."
   ]
  },
  {
   "cell_type": "code",
   "execution_count": 13,
   "id": "8a2090b7",
   "metadata": {},
   "outputs": [
    {
     "name": "stdout",
     "output_type": "stream",
     "text": [
      "[10 30 50]\n"
     ]
    }
   ],
   "source": [
    "indices=[0,2,4]\n",
    "print(array[indices])"
   ]
  },
  {
   "cell_type": "markdown",
   "id": "b759ad61",
   "metadata": {},
   "source": [
    "## 6. Birleştirme ve Bölme\n",
    "### concatenate()\n",
    "Dizileri birleştirir."
   ]
  },
  {
   "cell_type": "code",
   "execution_count": 14,
   "id": "0efb90fa",
   "metadata": {},
   "outputs": [
    {
     "name": "stdout",
     "output_type": "stream",
     "text": [
      "[1 2 3 4 5 6]\n"
     ]
    }
   ],
   "source": [
    "x=np.array([1,2,3])\n",
    "y=np.array([4,5,6])\n",
    "merged=np.concatenate([x,y])\n",
    "print(merged)"
   ]
  },
  {
   "cell_type": "code",
   "execution_count": 32,
   "id": "20baa05e",
   "metadata": {},
   "outputs": [
    {
     "name": "stdout",
     "output_type": "stream",
     "text": [
      "[[ 1  2  3]\n",
      " [ 4  5  6]\n",
      " [ 7  8  9]\n",
      " [10 11 12]]\n"
     ]
    }
   ],
   "source": [
    "x=np.array([[1,2,3],[4,5,6]])\n",
    "y=np.array([[7,8,9],[10,11,12]])\n",
    "merged=np.concatenate([x,y])\n",
    "print(merged)"
   ]
  },
  {
   "cell_type": "code",
   "execution_count": 34,
   "id": "dd0e67d3",
   "metadata": {},
   "outputs": [
    {
     "name": "stdout",
     "output_type": "stream",
     "text": [
      "[[ 1  2  3  7  8  9]\n",
      " [ 4  5  6 10 11 12]]\n"
     ]
    }
   ],
   "source": [
    "x=np.array([[1,2,3],[4,5,6]])\n",
    "y=np.array([[7,8,9],[10,11,12]])\n",
    "merged=np.concatenate([x,y],axis=1)\n",
    "print(merged)\n",
    "#axis 1 olarak verilirse yan tarafa ekler ama vermezsek \n",
    "#otomatik olarak 0 alır ve altına ekler"
   ]
  },
  {
   "cell_type": "markdown",
   "id": "459a29e0",
   "metadata": {},
   "source": [
    "### split()\n",
    "Diziyi böler."
   ]
  },
  {
   "cell_type": "code",
   "execution_count": 15,
   "id": "2cf1d5b9",
   "metadata": {},
   "outputs": [
    {
     "name": "stdout",
     "output_type": "stream",
     "text": [
      "[array([1, 2]), array([3, 4]), array([5, 6])]\n"
     ]
    }
   ],
   "source": [
    "array=np.array([1,2,3,4,5,6])\n",
    "parts=np.split(array,3)\n",
    "print(parts)"
   ]
  },
  {
   "cell_type": "markdown",
   "id": "2a0653e5",
   "metadata": {},
   "source": [
    "## 7. Veri Türü Değiştirme\n",
    "### astype()\n",
    "Dizinin elemanlarının veri türünü değiştirir."
   ]
  },
  {
   "cell_type": "code",
   "execution_count": 17,
   "id": "b4e1aaa4",
   "metadata": {},
   "outputs": [
    {
     "name": "stdout",
     "output_type": "stream",
     "text": [
      "[1 2 3]\n"
     ]
    }
   ],
   "source": [
    "array=np.array([1.1,2.2,3.3])\n",
    "int_Array=array.astype(int)\n",
    "print(int_Array)"
   ]
  },
  {
   "cell_type": "markdown",
   "id": "d26e950e",
   "metadata": {},
   "source": [
    "## 8. Sıralama ve Düzenleme\n",
    "### sort()\n",
    "Bir diziyi sıralar. "
   ]
  },
  {
   "cell_type": "code",
   "execution_count": 19,
   "id": "025c7904",
   "metadata": {},
   "outputs": [
    {
     "name": "stdout",
     "output_type": "stream",
     "text": [
      "[ 2  3  4  4  6  6 78]\n"
     ]
    }
   ],
   "source": [
    "array=np.array([3,4,6,78,2,6,4])\n",
    "sorted_array=np.sort(array)\n",
    "print(sorted_array)"
   ]
  },
  {
   "cell_type": "markdown",
   "id": "b57aa0eb",
   "metadata": {},
   "source": [
    "### argsort()\n",
    "Sıralı dizinin indekslerini döndürür."
   ]
  },
  {
   "cell_type": "code",
   "execution_count": 20,
   "id": "216111e2",
   "metadata": {},
   "outputs": [
    {
     "name": "stdout",
     "output_type": "stream",
     "text": [
      "[4 0 1 6 2 5 3]\n"
     ]
    }
   ],
   "source": [
    "indices=array.argsort()\n",
    "print(indices)"
   ]
  },
  {
   "cell_type": "markdown",
   "id": "3f4c4582",
   "metadata": {},
   "source": [
    "## 9. Ekseni Değiştirme\n",
    "### swapaxes()\n",
    "İki ekseni değiştirir."
   ]
  },
  {
   "cell_type": "code",
   "execution_count": 21,
   "id": "6b260ab6",
   "metadata": {},
   "outputs": [
    {
     "name": "stdout",
     "output_type": "stream",
     "text": [
      "[[1 4]\n",
      " [2 5]\n",
      " [3 6]]\n"
     ]
    }
   ],
   "source": [
    "matrix=np.array([[1,2,3],[4,5,6]])\n",
    "swapped=matrix.swapaxes(0,1)\n",
    "print(swapped)"
   ]
  },
  {
   "cell_type": "markdown",
   "id": "8d561e3d",
   "metadata": {},
   "source": [
    "## 10. Yayılma (Broadcasting)\n",
    "### Farklı boyutlardaki dizilerle işlemler yapmayı sağlar."
   ]
  },
  {
   "cell_type": "code",
   "execution_count": 22,
   "id": "7e9d5066",
   "metadata": {},
   "outputs": [
    {
     "name": "stdout",
     "output_type": "stream",
     "text": [
      "[[11 12 13]\n",
      " [14 15 16]]\n"
     ]
    }
   ],
   "source": [
    "array=np.array([[1,2,3],[4,5,6]])\n",
    "scalar=10\n",
    "result=array+scalar\n",
    "print(result)"
   ]
  },
  {
   "cell_type": "markdown",
   "id": "2c433598",
   "metadata": {},
   "source": [
    "### 11. ndim (Boyut Sayısı)\n",
    "Bir NumPy dizisinin kaç boyutlu olduğunu verir."
   ]
  },
  {
   "cell_type": "code",
   "execution_count": 23,
   "id": "c4dc352b",
   "metadata": {},
   "outputs": [
    {
     "name": "stdout",
     "output_type": "stream",
     "text": [
      "2\n"
     ]
    }
   ],
   "source": [
    "array=np.array([[1,2,3],[4,5,6]])\n",
    "print(array.ndim)"
   ]
  },
  {
   "cell_type": "markdown",
   "id": "e2f3a129",
   "metadata": {},
   "source": [
    "### 12. shape (Şekil)\n",
    "Bir NumPy dizisinin her boyuttaki eleman sayısını verir."
   ]
  },
  {
   "cell_type": "markdown",
   "id": "738633c1",
   "metadata": {},
   "source": [
    "Bir tuple döner.\n",
    "İlk değer birinci boyuttaki, ikinci değer ikinci boyuttaki eleman sayısını belirtir."
   ]
  },
  {
   "cell_type": "code",
   "execution_count": 25,
   "id": "0861c3e2",
   "metadata": {},
   "outputs": [
    {
     "name": "stdout",
     "output_type": "stream",
     "text": [
      "(2, 3)\n"
     ]
    }
   ],
   "source": [
    "array=np.array([[1,2,3],[4,5,6]])\n",
    "print(array.shape)\n",
    "#2 satır 3 sütun 2,3 değerini döndürür"
   ]
  },
  {
   "cell_type": "markdown",
   "id": "92e929e0",
   "metadata": {},
   "source": [
    "### 13. size (Eleman Sayısı)\n",
    "Bir NumPy dizisindeki toplam eleman sayısını verir. Dizideki elemanların toplam sayısını bir tamsayı olarak döner."
   ]
  },
  {
   "cell_type": "code",
   "execution_count": 27,
   "id": "3d6f6cd2",
   "metadata": {},
   "outputs": [
    {
     "name": "stdout",
     "output_type": "stream",
     "text": [
      "6\n"
     ]
    }
   ],
   "source": [
    "array=np.array([[1,2,3],[4,5,6]])\n",
    "print(array.size)\n",
    "#2 satır 3 sütun 2x3 den 6 değerini döndürür"
   ]
  },
  {
   "cell_type": "markdown",
   "id": "d15fe579",
   "metadata": {},
   "source": [
    "### 14. dtype (Veri Türü)\n",
    "Bir NumPy dizisindeki elemanların veri tipini gösterir.\n",
    "Dizinin elemanlarının veri türünü (örneğin int32, float64) döner."
   ]
  },
  {
   "cell_type": "code",
   "execution_count": 28,
   "id": "a2d68974",
   "metadata": {},
   "outputs": [
    {
     "name": "stdout",
     "output_type": "stream",
     "text": [
      "float64\n"
     ]
    }
   ],
   "source": [
    "array=np.array([1,2,3],dtype=np.float64)\n",
    "print(array.dtype)"
   ]
  },
  {
   "cell_type": "code",
   "execution_count": null,
   "id": "41c5ce34",
   "metadata": {},
   "outputs": [],
   "source": []
  }
 ],
 "metadata": {
  "kernelspec": {
   "display_name": "Python 3 (ipykernel)",
   "language": "python",
   "name": "python3"
  },
  "language_info": {
   "codemirror_mode": {
    "name": "ipython",
    "version": 3
   },
   "file_extension": ".py",
   "mimetype": "text/x-python",
   "name": "python",
   "nbconvert_exporter": "python",
   "pygments_lexer": "ipython3",
   "version": "3.9.13"
  }
 },
 "nbformat": 4,
 "nbformat_minor": 5
}
